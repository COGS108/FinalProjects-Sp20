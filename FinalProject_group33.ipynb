{
 "cells": [
  {
   "cell_type": "markdown",
   "metadata": {},
   "source": [
    "# COGS 108 - Final Project Proposal"
   ]
  },
  {
   "cell_type": "markdown",
   "metadata": {},
   "source": [
    "# Overview"
   ]
  },
  {
   "cell_type": "markdown",
   "metadata": {},
   "source": [
    "This paper focuses on finding out some potential confounding variables that affect the rate of car collisions in San Diego, and throughout the report we analyzed datasets of Amazon Quarterly Revenue and Monthly rainfall in SD. After combining all of our data, and exhausting various tests for possible correlation, we ran several linear regression tests and a multivariate regression test, to ultimately find out that Amazon's Quarterly Revenue was the strongest predictor for car accidents in San Diego."
   ]
  },
  {
   "cell_type": "markdown",
   "metadata": {},
   "source": [
    "# Names\n",
    "\n",
    "- Jason Ho\n",
    "- Eric Ngo\n",
    "- Nathan Nguyen\n",
    "- Jeffrey Wu"
   ]
  },
  {
   "cell_type": "markdown",
   "metadata": {},
   "source": [
    "# Research Question"
   ]
  },
  {
   "cell_type": "markdown",
   "metadata": {},
   "source": [
    "Can the number of car accidents in San Diego be attributed to the rise of Amazon sales/revenue during the holiday season?"
   ]
  },
  {
   "cell_type": "markdown",
   "metadata": {},
   "source": [
    "## Background and Prior Work"
   ]
  },
  {
   "cell_type": "markdown",
   "metadata": {},
   "source": [
    "&emsp; This question interested us because we are all frequent Amazon customers and always know that the holiday season is the best time to shop for gifts. With that in mind, we considered the actual labor that goes into getting a product delivered to our doorstep and considered the question of whether or not a spike in sales for Amazon had any effect on the number of car accidents in that given time period. We were also curious if there were other cofounding factors that resulted in car crashes (4), so we also found a data set of annual rainfall within San Diego (3). Based on these factors, we hypothesized that there is a positive correlation between increased Amazon holiday season sales and the number of car accidents within San Diego. However, the number of car accidents is more so strongly attributed to drunk driving/rainfall.\n",
    "\n",
    "&emsp; We know that there will be a casual relationship between Amazon quarterly revenues and car collisions, but we find this interesting because we want to know how strongly/weakly each dataset affects each other. We also wanted to know how these results would change if they were within San Diego.\n",
    "\n",
    "&emsp; When looking at ycharts (1), we noticed that Amazon revenue peaked right before Christmas each year and for most of the other significant holidays. The importance of this is that there will be a significant increase in the number of deliveries from Amazon. We’re curious to see if the increase in deliveries will affect the number of car accidents during holidays.\n",
    "   \n",
    "&emsp; There is already a publication on estimates of motor vehicle traffic crash fatalities for the holiday periods of 2019 (2), by the National Highway Traffic Safety Administration that we can utilize for our analysis. We noticed in \"Traffic Accidents in Los Angeles EDA\" (4) that there were spikes of accidents during months where major holidays were celebrated .\n",
    "\n",
    "\n",
    "References: <br>\n",
    "(1) Amazon.com Quarterly Revenue <br>\n",
    "https://ycharts.com/companies/AMZN/revenues <br>\n",
    "(2) “Estimates of Motor Vehicle Traffic Crash Fatalities for the Holiday Periods of 2019” <br>\n",
    "https://crashstats.nhtsa.dot.gov/Api/Public/ViewPublication/812823 <br>\n",
    "(3) San Diego Annual Rain Fall <br>\n",
    "https://www.custompuzzlecraft.com/Weather/sandiegorain.html <br>\n",
    "(4) Traffic Accidents in Los Angeles EDA <br>\n",
    "https://www.kaggle.com/natevegh/traffic-accidents-in-los-angeles-eda"
   ]
  },
  {
   "cell_type": "markdown",
   "metadata": {},
   "source": [
    "# Hypothesis\n"
   ]
  },
  {
   "cell_type": "markdown",
   "metadata": {},
   "source": [
    "&emsp; There is a positive correlation between increased Amazon holiday season sales and the number of car accidents within San Diego. However, the number of car accidents is more so strongly attributed to drunk driving/rainfall because we think physical conditions will increase the likelihood of collisions.\n"
   ]
  },
  {
   "cell_type": "markdown",
   "metadata": {},
   "source": [
    "# Dataset(s)"
   ]
  },
  {
   "cell_type": "markdown",
   "metadata": {},
   "source": [
    "### Amazon Quarterly Revenue\n",
    "\n",
    "- Dataset Name: Amazon Quarterly Revenue\n",
    "- Link to the website containing dataset: https://ycharts.com/companies/AMZN/revenues Scraped data, code included in repo\n",
    "- Features: ['quarter', 'revenue']\n",
    "- Number of observations: 50\n",
    "\n",
    "This dataset contains the revenue from each business quarter in the year from March 2020 back to December 2007. The quarterly revenue is measured in billions."
   ]
  },
  {
   "cell_type": "markdown",
   "metadata": {},
   "source": [
    "### San Diego Traffic Collisions\n",
    "\n",
    "- Dataset Name: San Diego Traffic Collision\n",
    "- Link to the dataset: https://data.sandiego.gov/datasets/police-collisions/\n",
    "- Features: ['report_id', 'date_time', 'police_beat', 'address_number_primary', 'address_pd_primary', 'address_road_primary', 'address_sfx_primary', 'address_pd_intersecting', 'address_name_intersecting', 'address_sfx_intersecting', 'violation_section', 'violation_type', 'charge_desc', 'injured', 'killed', 'hit_run_lvl']\n",
    "- Number of observations: 22368\n",
    "\n",
    "This dataset is a list of traffic collision reports in San Diego from 2015-2020. It consists of the time, date, and description of the charge."
   ]
  },
  {
   "cell_type": "markdown",
   "metadata": {},
   "source": [
    "### San Diego Annual Rain Fall\n",
    "\n",
    "- Dataset Name: San Diego Annual Rain Fall\n",
    "- Link to the dataset: https://www.custompuzzlecraft.com/Weather/sandiegorain.html\n",
    "- Features: ['Year', 'Jan', 'Feb', 'Mar', 'Apr', 'May', 'Jun', 'Jul', 'Aug', 'Sep', 'Oct', 'Nov', 'Dec', 'YearTotal', 'NextJan', 'NextFeb', 'NextMar', 'NextApr', 'NextMay', 'NextJun', 'SeasonTotal']\n",
    "- Number of observations: 171\n",
    "\n",
    "This dataset contains a record of the annual rainfall in San Diego from 1850-2020, and the rainfall is recorded in inches. "
   ]
  },
  {
   "cell_type": "markdown",
   "metadata": {},
   "source": [
    "# Setup\n"
   ]
  },
  {
   "cell_type": "code",
   "execution_count": 1,
   "metadata": {},
   "outputs": [],
   "source": [
    "%matplotlib inline\n",
    "\n",
    "import pandas as pd\n",
    "import numpy as np\n",
    "import matplotlib.pyplot as plt\n",
    "\n",
    "import seaborn as sns\n",
    "sns.set()\n",
    "sns.set_context('talk')\n",
    "\n",
    "import warnings\n",
    "warnings.filterwarnings('ignore')\n",
    "\n",
    "import patsy\n",
    "import scipy.stats as stats\n",
    "from scipy.stats import ttest_ind, chisquare, normaltest\n",
    "import statsmodels.api as sm"
   ]
  },
  {
   "cell_type": "markdown",
   "metadata": {},
   "source": [
    "# Data Cleaning"
   ]
  },
  {
   "cell_type": "markdown",
   "metadata": {},
   "source": [
    "The functions below are used to standardize the datasets that we are working with."
   ]
  },
  {
   "cell_type": "code",
   "execution_count": 2,
   "metadata": {},
   "outputs": [],
   "source": [
    "# Categorizing months of collisions into corresponding quarters\n",
    "def identify_quarter_collisions(date):\n",
    "    month = date[5:6+1]\n",
    "    if (month=='04') or (month=='05') or (month=='06'):\n",
    "        return 2\n",
    "    elif (month=='07') or (month=='08') or (month=='09'):\n",
    "        return 3\n",
    "    elif (month=='10') or (month=='11') or (month=='12'):\n",
    "        return 4\n",
    "    elif (month=='01') or (month=='02') or (month=='03'):\n",
    "        return 1\n",
    "    else:\n",
    "        return month\n",
    "\n",
    "# Converts years into type integer\n",
    "def identify_year_collisions(date):\n",
    "    year = date[0:4]\n",
    "    if(year == '2018'):\n",
    "        return 2018\n",
    "    elif(year == '2019'):\n",
    "        return 2019\n",
    "    elif(year == '2020'):\n",
    "        return 2020\n",
    "    else:\n",
    "        return ''\n",
    "\n",
    "# Converts from months to quarter\n",
    "def convert_amazon(row):\n",
    "    if 'Mar' in row:\n",
    "        return 1\n",
    "    elif 'Dec' in row:\n",
    "        return 4\n",
    "    elif 'Sep' in row:\n",
    "        return 3\n",
    "    elif 'Jun' in row:\n",
    "        return 2\n",
    "\n",
    "# Extracts the year from the date given\n",
    "def extract_year_amazon(row):\n",
    "    return row[-4:]"
   ]
  },
  {
   "cell_type": "markdown",
   "metadata": {},
   "source": [
    "### Amazon Quarterly Revenue Data\n",
    "We then read in our csv file for Amazon quarterly revenue"
   ]
  },
  {
   "cell_type": "code",
   "execution_count": 3,
   "metadata": {},
   "outputs": [],
   "source": [
    "amazon_df = pd.read_csv('amazon_quarterly_revenue.csv')\n",
    "amazon_df = amazon_df.drop('Unnamed: 0', axis=1)"
   ]
  },
  {
   "cell_type": "code",
   "execution_count": 4,
   "metadata": {},
   "outputs": [
    {
     "data": {
      "text/html": [
       "<div>\n",
       "<style scoped>\n",
       "    .dataframe tbody tr th:only-of-type {\n",
       "        vertical-align: middle;\n",
       "    }\n",
       "\n",
       "    .dataframe tbody tr th {\n",
       "        vertical-align: top;\n",
       "    }\n",
       "\n",
       "    .dataframe thead th {\n",
       "        text-align: right;\n",
       "    }\n",
       "</style>\n",
       "<table border=\"1\" class=\"dataframe\">\n",
       "  <thead>\n",
       "    <tr style=\"text-align: right;\">\n",
       "      <th></th>\n",
       "      <th>quarter</th>\n",
       "      <th>revenue</th>\n",
       "    </tr>\n",
       "  </thead>\n",
       "  <tbody>\n",
       "    <tr>\n",
       "      <th>0</th>\n",
       "      <td>March 31, 2020</td>\n",
       "      <td>75.45B</td>\n",
       "    </tr>\n",
       "    <tr>\n",
       "      <th>1</th>\n",
       "      <td>Dec. 31, 2019</td>\n",
       "      <td>87.44B</td>\n",
       "    </tr>\n",
       "    <tr>\n",
       "      <th>2</th>\n",
       "      <td>Sept. 30, 2019</td>\n",
       "      <td>69.98B</td>\n",
       "    </tr>\n",
       "    <tr>\n",
       "      <th>3</th>\n",
       "      <td>June 30, 2019</td>\n",
       "      <td>63.40B</td>\n",
       "    </tr>\n",
       "    <tr>\n",
       "      <th>4</th>\n",
       "      <td>March 31, 2019</td>\n",
       "      <td>59.70B</td>\n",
       "    </tr>\n",
       "  </tbody>\n",
       "</table>\n",
       "</div>"
      ],
      "text/plain": [
       "          quarter revenue\n",
       "0  March 31, 2020  75.45B\n",
       "1   Dec. 31, 2019  87.44B\n",
       "2  Sept. 30, 2019  69.98B\n",
       "3   June 30, 2019  63.40B\n",
       "4  March 31, 2019  59.70B"
      ]
     },
     "execution_count": 4,
     "metadata": {},
     "output_type": "execute_result"
    }
   ],
   "source": [
    "amazon_df.head()"
   ]
  },
  {
   "cell_type": "code",
   "execution_count": 5,
   "metadata": {},
   "outputs": [
    {
     "data": {
      "text/plain": [
       "(50, 2)"
      ]
     },
     "execution_count": 5,
     "metadata": {},
     "output_type": "execute_result"
    }
   ],
   "source": [
    "amazon_df.shape"
   ]
  },
  {
   "cell_type": "code",
   "execution_count": 6,
   "metadata": {},
   "outputs": [
    {
     "data": {
      "text/plain": [
       "Index(['quarter', 'revenue'], dtype='object')"
      ]
     },
     "execution_count": 6,
     "metadata": {},
     "output_type": "execute_result"
    }
   ],
   "source": [
    "amazon_df.columns"
   ]
  },
  {
   "cell_type": "markdown",
   "metadata": {},
   "source": [
    "The 'quarter' column had both the month and year for each observation. We made a 'Quarter' column and standardized it. We also extracted the year for each observation and input them into a new 'Year' column."
   ]
  },
  {
   "cell_type": "code",
   "execution_count": 7,
   "metadata": {},
   "outputs": [
    {
     "data": {
      "text/html": [
       "<div>\n",
       "<style scoped>\n",
       "    .dataframe tbody tr th:only-of-type {\n",
       "        vertical-align: middle;\n",
       "    }\n",
       "\n",
       "    .dataframe tbody tr th {\n",
       "        vertical-align: top;\n",
       "    }\n",
       "\n",
       "    .dataframe thead th {\n",
       "        text-align: right;\n",
       "    }\n",
       "</style>\n",
       "<table border=\"1\" class=\"dataframe\">\n",
       "  <thead>\n",
       "    <tr style=\"text-align: right;\">\n",
       "      <th></th>\n",
       "      <th>quarter</th>\n",
       "      <th>year</th>\n",
       "      <th>revenue</th>\n",
       "    </tr>\n",
       "  </thead>\n",
       "  <tbody>\n",
       "    <tr>\n",
       "      <th>0</th>\n",
       "      <td>1</td>\n",
       "      <td>2020</td>\n",
       "      <td>75.45B</td>\n",
       "    </tr>\n",
       "    <tr>\n",
       "      <th>1</th>\n",
       "      <td>4</td>\n",
       "      <td>2019</td>\n",
       "      <td>87.44B</td>\n",
       "    </tr>\n",
       "    <tr>\n",
       "      <th>2</th>\n",
       "      <td>3</td>\n",
       "      <td>2019</td>\n",
       "      <td>69.98B</td>\n",
       "    </tr>\n",
       "    <tr>\n",
       "      <th>3</th>\n",
       "      <td>2</td>\n",
       "      <td>2019</td>\n",
       "      <td>63.40B</td>\n",
       "    </tr>\n",
       "    <tr>\n",
       "      <th>4</th>\n",
       "      <td>1</td>\n",
       "      <td>2019</td>\n",
       "      <td>59.70B</td>\n",
       "    </tr>\n",
       "  </tbody>\n",
       "</table>\n",
       "</div>"
      ],
      "text/plain": [
       "   quarter  year revenue\n",
       "0        1  2020  75.45B\n",
       "1        4  2019  87.44B\n",
       "2        3  2019  69.98B\n",
       "3        2  2019  63.40B\n",
       "4        1  2019  59.70B"
      ]
     },
     "execution_count": 7,
     "metadata": {},
     "output_type": "execute_result"
    }
   ],
   "source": [
    "amazon_df['Quarter'] = amazon_df['quarter'].apply(convert_amazon)\n",
    "amazon_df['Year'] = amazon_df['quarter'].apply(extract_year_amazon)\n",
    "amazon_df = amazon_df[(amazon_df['Year'] == str(2018)) | (amazon_df['Year'] == str(2019)) | (amazon_df['Year'] == str(2020))]\n",
    "amazon_df['Year'] = pd.to_numeric(amazon_df.Year, errors='coerce')\n",
    "amazon_df = amazon_df[['revenue', 'Quarter', 'Year']]\n",
    "amazon_df = amazon_df.rename({'Quarter': 'quarter', 'Year': 'year'}, axis='columns')\n",
    "amazon_df = amazon_df[['quarter', 'year', 'revenue']]\n",
    "amazon_df.head()"
   ]
  },
  {
   "cell_type": "markdown",
   "metadata": {},
   "source": [
    "### Vehicle Collisions Data\n",
    "Next, we read in the csv file for our collisions dataset."
   ]
  },
  {
   "cell_type": "code",
   "execution_count": 8,
   "metadata": {},
   "outputs": [],
   "source": [
    "collisions_df = pd.read_csv('pd_collisions_datasd_v1.csv')"
   ]
  },
  {
   "cell_type": "code",
   "execution_count": 10,
   "metadata": {},
   "outputs": [
    {
     "data": {
      "text/html": [
       "<div>\n",
       "<style scoped>\n",
       "    .dataframe tbody tr th:only-of-type {\n",
       "        vertical-align: middle;\n",
       "    }\n",
       "\n",
       "    .dataframe tbody tr th {\n",
       "        vertical-align: top;\n",
       "    }\n",
       "\n",
       "    .dataframe thead th {\n",
       "        text-align: right;\n",
       "    }\n",
       "</style>\n",
       "<table border=\"1\" class=\"dataframe\">\n",
       "  <thead>\n",
       "    <tr style=\"text-align: right;\">\n",
       "      <th></th>\n",
       "      <th>report_id</th>\n",
       "      <th>date_time</th>\n",
       "      <th>police_beat</th>\n",
       "      <th>address_number_primary</th>\n",
       "      <th>address_pd_primary</th>\n",
       "      <th>address_road_primary</th>\n",
       "      <th>address_sfx_primary</th>\n",
       "      <th>address_pd_intersecting</th>\n",
       "      <th>address_name_intersecting</th>\n",
       "      <th>address_sfx_intersecting</th>\n",
       "      <th>violation_section</th>\n",
       "      <th>violation_type</th>\n",
       "      <th>charge_desc</th>\n",
       "      <th>injured</th>\n",
       "      <th>killed</th>\n",
       "      <th>hit_run_lvl</th>\n",
       "    </tr>\n",
       "  </thead>\n",
       "  <tbody>\n",
       "    <tr>\n",
       "      <th>0</th>\n",
       "      <td>180282</td>\n",
       "      <td>2018-01-01 00:30:00</td>\n",
       "      <td>124</td>\n",
       "      <td>6500</td>\n",
       "      <td></td>\n",
       "      <td>EL CAMINO DE TEATRO</td>\n",
       "      <td></td>\n",
       "      <td></td>\n",
       "      <td></td>\n",
       "      <td></td>\n",
       "      <td>22350</td>\n",
       "      <td>VC</td>\n",
       "      <td>VIOLATION OF BASIC SPEED LAW SPEED UNSAFE FOR ...</td>\n",
       "      <td>0</td>\n",
       "      <td>0</td>\n",
       "      <td>NaN</td>\n",
       "    </tr>\n",
       "    <tr>\n",
       "      <th>1</th>\n",
       "      <td>180310</td>\n",
       "      <td>2018-01-01 01:00:00</td>\n",
       "      <td>616</td>\n",
       "      <td>500</td>\n",
       "      <td></td>\n",
       "      <td>ROSECRANS</td>\n",
       "      <td>STREET</td>\n",
       "      <td></td>\n",
       "      <td></td>\n",
       "      <td></td>\n",
       "      <td>22350</td>\n",
       "      <td>VC</td>\n",
       "      <td>VIOLATION OF BASIC SPEED LAW SPEED UNSAFE FOR ...</td>\n",
       "      <td>0</td>\n",
       "      <td>0</td>\n",
       "      <td>MISDEMEANOR</td>\n",
       "    </tr>\n",
       "    <tr>\n",
       "      <th>2</th>\n",
       "      <td>180573</td>\n",
       "      <td>2018-01-01 01:26:00</td>\n",
       "      <td>721</td>\n",
       "      <td>0</td>\n",
       "      <td></td>\n",
       "      <td>PALM</td>\n",
       "      <td>AVENUE</td>\n",
       "      <td></td>\n",
       "      <td>18TH</td>\n",
       "      <td>STREET</td>\n",
       "      <td>21954A</td>\n",
       "      <td>VC</td>\n",
       "      <td>PEDESTRIANS OUTSIDE CROSSWALKS</td>\n",
       "      <td>0</td>\n",
       "      <td>1</td>\n",
       "      <td>NaN</td>\n",
       "    </tr>\n",
       "    <tr>\n",
       "      <th>3</th>\n",
       "      <td>180317</td>\n",
       "      <td>2018-01-01 02:05:00</td>\n",
       "      <td>512</td>\n",
       "      <td>3100</td>\n",
       "      <td></td>\n",
       "      <td>LOGAN</td>\n",
       "      <td>AVENUE</td>\n",
       "      <td></td>\n",
       "      <td></td>\n",
       "      <td></td>\n",
       "      <td>22450(A)</td>\n",
       "      <td>VC</td>\n",
       "      <td>STOP REQUIREMENTS STATE STOP LINE</td>\n",
       "      <td>0</td>\n",
       "      <td>0</td>\n",
       "      <td>MISDEMEANOR</td>\n",
       "    </tr>\n",
       "    <tr>\n",
       "      <th>4</th>\n",
       "      <td>180319</td>\n",
       "      <td>2018-01-01 02:26:00</td>\n",
       "      <td>439</td>\n",
       "      <td>6200</td>\n",
       "      <td></td>\n",
       "      <td>DIVISION</td>\n",
       "      <td>STREET</td>\n",
       "      <td></td>\n",
       "      <td></td>\n",
       "      <td></td>\n",
       "      <td>22107</td>\n",
       "      <td>VC</td>\n",
       "      <td>TURNING MOVEMENTS AND REQUIRED SIGNALS</td>\n",
       "      <td>0</td>\n",
       "      <td>0</td>\n",
       "      <td>MISDEMEANOR</td>\n",
       "    </tr>\n",
       "  </tbody>\n",
       "</table>\n",
       "</div>"
      ],
      "text/plain": [
       "  report_id            date_time  police_beat  address_number_primary  \\\n",
       "0    180282  2018-01-01 00:30:00          124                    6500   \n",
       "1    180310  2018-01-01 01:00:00          616                     500   \n",
       "2    180573  2018-01-01 01:26:00          721                       0   \n",
       "3    180317  2018-01-01 02:05:00          512                    3100   \n",
       "4    180319  2018-01-01 02:26:00          439                    6200   \n",
       "\n",
       "  address_pd_primary address_road_primary address_sfx_primary  \\\n",
       "0                     EL CAMINO DE TEATRO                       \n",
       "1                               ROSECRANS              STREET   \n",
       "2                                    PALM              AVENUE   \n",
       "3                                   LOGAN              AVENUE   \n",
       "4                                DIVISION              STREET   \n",
       "\n",
       "  address_pd_intersecting address_name_intersecting address_sfx_intersecting  \\\n",
       "0                                                                              \n",
       "1                                                                              \n",
       "2                                              18TH                   STREET   \n",
       "3                                                                              \n",
       "4                                                                              \n",
       "\n",
       "  violation_section violation_type  \\\n",
       "0             22350             VC   \n",
       "1             22350             VC   \n",
       "2            21954A             VC   \n",
       "3          22450(A)             VC   \n",
       "4             22107             VC   \n",
       "\n",
       "                                         charge_desc  injured  killed  \\\n",
       "0  VIOLATION OF BASIC SPEED LAW SPEED UNSAFE FOR ...        0       0   \n",
       "1  VIOLATION OF BASIC SPEED LAW SPEED UNSAFE FOR ...        0       0   \n",
       "2                     PEDESTRIANS OUTSIDE CROSSWALKS        0       1   \n",
       "3                  STOP REQUIREMENTS STATE STOP LINE        0       0   \n",
       "4             TURNING MOVEMENTS AND REQUIRED SIGNALS        0       0   \n",
       "\n",
       "   hit_run_lvl  \n",
       "0          NaN  \n",
       "1  MISDEMEANOR  \n",
       "2          NaN  \n",
       "3  MISDEMEANOR  \n",
       "4  MISDEMEANOR  "
      ]
     },
     "execution_count": 10,
     "metadata": {},
     "output_type": "execute_result"
    }
   ],
   "source": [
    "collisions_df.head()"
   ]
  },
  {
   "cell_type": "markdown",
   "metadata": {},
   "source": [
    "Now that we can see our dataset, we want to observe the unique values of charge descriptions in order to see how many violations actually included drunk driving"
   ]
  },
  {
   "cell_type": "code",
   "execution_count": 12,
   "metadata": {
    "scrolled": true
   },
   "outputs": [
    {
     "data": {
      "text/plain": [
       "array(['VIOLATION OF BASIC SPEED LAW SPEED UNSAFE FOR CONDITIONS',\n",
       "       'PEDESTRIANS OUTSIDE CROSSWALKS',\n",
       "       'STOP REQUIREMENTS STATE STOP LINE',\n",
       "       'TURNING MOVEMENTS AND REQUIRED SIGNALS',\n",
       "       'RED OR STOPVEHICLES STOP AT LIMIT LINE',\n",
       "       'MISCELLANEOUS HAZARDOUS VIOLATIONS OF THE VEHICLE CODE',\n",
       "       'OBEDIENCE TO OFFICIAL TRAFFIC CONTROL',\n",
       "       'FAILURE TO DRIVE ON RIGHT SIDE OF ROADWAY', 'DUI DRUGS',\n",
       "       'RED ARROWDO NOT ENTER INTERSECTION', 'FOLLOWING TOO CLOSELY (I)',\n",
       "       'FOLLOWING TOO CLOSELY', 'PASS ON THE RIGHT SAFELY',\n",
       "       'YIELD RIGHT OF WAY TO PEDESTRIANS',\n",
       "       'YIELD RIGHT OF WAY TO EMERGENCY VEHICLE',\n",
       "       'STARTING PARKED VEHICLES OR BACKING',\n",
       "       'LEFT TURN YIELD UNTIL SAFE OR U-TURN',\n",
       "       'BICYCLE DRIVING ON WRONG SIDE OF ROAD',\n",
       "       'ENTERING HWY FROM PRIVATE ROAD OR DRIVEWAY',\n",
       "       'PARKING BRAKE SYSTEM', 'HIT AND RUN',\n",
       "       'USE OF CELL PHONE W/O HANDS FREE DEVICE WHILE DRIVING',\n",
       "       'ENTRANCE FROM STOP THROUGH HIGHWAYYIELD UNTIL REASONABLY SAFE',\n",
       "       'PROHIBITED STOPPING STANDING OR PARKING',\n",
       "       'CROSSING BETWEEN CONTROLLED INTERSECTIONS',\n",
       "       'DRIVER CARE ON ROADWAY', 'UNKNOWN/INVALID CHARGE', 'DUI ALCOHOL',\n",
       "       'LEFT TURNS AT INTERSECTIONS',\n",
       "       'PEDESTRIAN NOT TO SUDDENLY ENTER PATH ETC',\n",
       "       'RIGHT OF WAY ON SIDEWALK', 'DURATION OF SIGNAL',\n",
       "       'FAIL TO OBEY TRAFFIC CONTROL DEVICE', 'LEAVE VEHICLE UNATTENDED',\n",
       "       'DIVIDED HIGHWAYS DRIVING TO LEFT OF DIVIDING SECTION OR U-TURN',\n",
       "       'FOUR-WAY STOP YIELD RIGHT', 'SIGNAL WHEN STOPPING',\n",
       "       'LANED ROADWAYS - STRADDLING OR UNSAFE CHANGING',\n",
       "       'USING CAUTION APPROACHING A PEDESTRIAN WITHIN ANY MARKED OR UNMARKED CROSSWALK',\n",
       "       'DRIVING TO LEFT OF DOUBLE SOLID LINES',\n",
       "       'RIGHT TURNS AT INTERSECTIONS',\n",
       "       'UNCONTROLLED INTERSECTIONYIELD TO FIRST VEHICLE WITHIN',\n",
       "       'VEHICLE OBSTRUCTING CROSSWALK/STREET',\n",
       "       'OPENING AND CLOSING DOORS', 'TEXT MESSAGING WHILE DRIVING',\n",
       "       'UNSAFE SPEED (BASIC SPEED LAW) (I)', 'PEDESTRIAN ON FREEWAY',\n",
       "       \"PEDESTRIAN TRAFFIC 'WAIT' SIGN\", 'VEHICULAR TRAFFIC GREEN LIGHT',\n",
       "       'TURNING ON CURVE OR CREST OF GRADE',\n",
       "       'DISORDERLY CONDUCT: ALCOHOL', 'FLASHING RED FAILING TO STOP FOR',\n",
       "       'OVERTAKE AND PASS TO LEFT',\n",
       "       'DRIVE THE WRONG WAY ON A DIVIDED HIGHWAY',\n",
       "       'PEDESTRIAN TRAFFIC GREEN LIGHT OR VEH GREEN ARROW',\n",
       "       'BICYCLE RIDING HAZARDOUSLY W/O YIELDING TO PEDESTRIANS',\n",
       "       'OFF-CENTER LANES', 'U-TURN IN RESIDENCE DISTRICT',\n",
       "       'U-TURN IN BUSINESS DISTRICT',\n",
       "       'BICYCLIST MUST OBEY RULES OF THE ROAD (I)',\n",
       "       'TURNS:UNSAFE TURN AND/OR NO TURN SIGNAL (I)',\n",
       "       'TRANSFER OF OWNERSHIP ON VEHICLE',\n",
       "       'AFTER STOPPING YIELD TO PEDESTRIANS',\n",
       "       'DIVIDED HIGHWAYS - UNLAWFUL LEFT SEMICIRCLE OR U-TURN',\n",
       "       'DRIVE ACROSS DIVIDING SECTION', 'DRIVING ON SIDEWALKS',\n",
       "       'DUI ALCOHOL 0.08 PERCENT', 'STOP REQUIREMENTS',\n",
       "       'SPILLING LOAD OTHER THAN CLEAR WATER AND FEATHERS FROM BIRDS',\n",
       "       'APPROACHING INTERSECTION WITH INOPERATIVE SIGNALS.',\n",
       "       'BICYCLE RIDING SIDEWALK OF BUSINESS DISTRICT PROHIB',\n",
       "       'DRIVE W/O LICENSE', 'RECKLESS DRIVING',\n",
       "       'VEHICLE ON HWY STOLEN/EMBEZZLED',\n",
       "       'STOP UPON EMERGING FROM ALLEY/PRIVATE DRIVEWAY',\n",
       "       'OPERATE MOTORIZED SCOOTER WITHOUT ADEQUATE BRAKES',\n",
       "       'UNSAFE PASSING WITHIN THREE FEET OF BICYCLIST',\n",
       "       'MISCELLANEOUS REPORTS (TRAFFIC) - 153', 'LEFT TURN LANE',\n",
       "       'BICYCLISTPERMITTING PASSENGER ON NON-PERM SEAT OR NOT SEATED',\n",
       "       'RECKLESS DRIVING W/INJURY',\n",
       "       'SKATEBOARDING/SKATING/ON STREET/SIDEWALK/PLAZA/PARKADE PROHIB',\n",
       "       'PEDESTRIAN CROSS AT WALK SIGNAL MUST PROCEED TO SIDEWALK (I)',\n",
       "       'RUNNING OVER FIRE OR CHEMICAL HOSE',\n",
       "       'BICYCLIST TO USE BICYCLE LANE', 'PEDESTRIAN TRAFFIC RED LIGHT',\n",
       "       'CARRYING WHITE CANE BY OTHER THAN BLIND PERSON',\n",
       "       'DRIVE OVER MAXIMUM SPEED LIMIT',\n",
       "       'EFFECT OF NEGLIGENCE ON PASSENGERS',\n",
       "       'OBEDIENCE TO OFFICIAL TRAFFIC CONTROL DEVICE (PEDESTRIAN)',\n",
       "       'REMOVE/IMPOUNDING VEHICLE THAT IS OR CONTAINS EVIDENCE',\n",
       "       'LEAVE MOTORIZED SCOOTER ON SIDEWALK BLOCKING PEDESTRIAN TRAFFIC',\n",
       "       'OPERATE MOTORIZED SCOOTER UPON A SIDEWALK',\n",
       "       'BICYCLIST AT LEAST ONE FREE HAND',\n",
       "       'BICYCLIST FAILURE TO USE RIGHT EDGE ROAD',\n",
       "       'DUI ALCOHOL:  0.04% OR MORE WHILE DRIVING PASSENGER FOR HIRE',\n",
       "       'BLOCKING INTERSECTION', 'YIELD SIGNSYIELD UNTIL REASONABLY SAFE',\n",
       "       'OBEDIENCE TO SIGNAL DEVICE FLAGMAN ETC. AT RR CROSSING',\n",
       "       'FAILURE TO YIELDBY VEHICLE NOT A HAZARD',\n",
       "       'BLOCKING THE BICYCLE LANE',\n",
       "       'DUI ALCOHOL: 0.04% OR MORE WHILE DRIVING PASSENGER FOR HIRE',\n",
       "       'INTERFERENCE WITH FIRE DEPARTMENT VEHICLES',\n",
       "       'OPERATE MOTOR SCOOTER ON HGHWY W/POSTED SPEED > 25MPH',\n",
       "       'HIT AND RUN BY RUNAWAY VEHICLE:PROPERTY DAMAGE',\n",
       "       'OPERATE MOTORIZED SCOOTER WITHOUT PROPER/FASTENED HELMET',\n",
       "       'FAILURE TO YIELDTURNING VEHICLE HAVING YIELDED',\n",
       "       'STOP FOR INOPERATIVE TRAFFIC CONTROL SIGNALS',\n",
       "       'SIGNAL LIGHTS:CIRCULAR RED (I)', 'UNSAFE START ON HWY (I)',\n",
       "       'RIGHT-OF-WAY:FROM STOP INTERSECTION (I)',\n",
       "       'FAIL TO STOP FOR SIGNAL LOCATED AWAY FROM INTERSECTION',\n",
       "       'MAXIMUM HEIGHT VEHICLE', 'MINIMUM SPEED LAW',\n",
       "       'MOTOR VEHICLE NOT BE DRIVEN IN BICYCLE LANE',\n",
       "       \"DRVG WITHOUT VALID DRVR'S LIC (M)\",\n",
       "       'TURNS:FAIL TO OBEY TURN SIGNS (I)',\n",
       "       'LANE USAGE: SOLID/BROKEN DOUBLE YELLOW LINE VIOL (I)',\n",
       "       'RIGHT-OF-WAY:MAKING LEFT OR U-TURN (I)',\n",
       "       'PASSING:UNSAFE PASSING:SAME DIRECTION (I)',\n",
       "       'PERSON OPERATING A MOTORIZED SCOOTER UPON A HIGHWAY',\n",
       "       'ADDICT DRIVE VEHICLE', 'DUI ALCOHOL/DRUG (M)',\n",
       "       'EVADE PEACE OFFICER WITH WANTON DISREGARD FOR SAFETY',\n",
       "       'UNSAFE OPENING OF VEH DOOR (I)',\n",
       "       'ENTRANCE TO PUBLIC HIGHWAY FROM SERVICE ROAD',\n",
       "       'RIGHT-OF-WAY:DRVR YIELD TO PEDESTRIAN IN CROSSWALK (I)',\n",
       "       'UNCONTROLLED INTERSECTIONYIELD TO VEHICLE ON RIGHT',\n",
       "       'TRAFFIC CONTROL DEV:DRVR FAILURE TO OBEY (I)',\n",
       "       'LANE USAGE:UNSAFE LANE CHANGE (I)',\n",
       "       'OPERATE MOTOR SCOOTER UPON SIDEWALK (I)',\n",
       "       'HIT AND RUN:PROP DAMAGE (M)', 'RUBBISH VEHICLES TO COVER LOAD',\n",
       "       'LIGHTING DURING DARKNESS', 'OPER MOTOR SCOOTER W/O HELMET (I)',\n",
       "       'SIGNAL LIGHTS:CIRCULAR GREEN (I)',\n",
       "       'TOWED VEHICLEWHIPPING SWERVING ETC.',\n",
       "       'STOPPING DISTANCE REQUIREMENTS',\n",
       "       'LICENSED DRIVER OUT OF CLASSIFICATION',\n",
       "       'DRIVE OVER MAXIMUM SPEED LIMIT OF 65',\n",
       "       'RIGHT-OF-WAY: ENTERING OR CROSSING INTERSECTION (I)',\n",
       "       'EXCEED SPEED LIMIT AS SET IN VC 22349 OR VC 22356 (I)',\n",
       "       'STOP REQUIREMENTS STATE STOP LINE LOCAL ORDINANCES',\n",
       "       'SPEED LIMIT - MOTORIZED SCOOTERS',\n",
       "       'DRIVE THE WRONG WAY ON A DIVIDED HIGHWAY: CAUSE INJ OR DEATH',\n",
       "       'RIGHT-OF-WAY:INTERSECTION',\n",
       "       'OFF-HIGHWAY VEHICLE DISOBEYING SIGN SIGNAL TRAFFIC CONTROL',\n",
       "       'DRIVING TO LEFT OF SOLID-BROKEN LINES',\n",
       "       'OPERATE MOTOR SCOOTER IN BICYCLE LANE',\n",
       "       'EVADE PEACE OFCR WITH WANTON DISREGARD FOR SAFETY (F)',\n",
       "       'PEDESTRIAN ON ROADWAY', 'MISC CITY/COUNTY MISDEMEANOR ORDINANCES',\n",
       "       'DRIVING IN THE BICYCLE LANE', 'FOLLOW TOO CLOSELY',\n",
       "       'RIDING BICYCLE WHILE UNDER INFLUENCE OF ALCOHOL/DRUGS',\n",
       "       'LANE USAGE:DIV HWY:DRIVE ON DIV SECTION OR U-TURN (I)',\n",
       "       'POSSESSION OF NARCOTIC CONTROLLED SUBSTANCES (M)',\n",
       "       'FAIL TO SET BRAKE:UNATTENDED MOT VEH (I)',\n",
       "       'DUI ALCOHOL:CAUSING BODILY INJURY (M)',\n",
       "       'AID/ABET/ENGAGE IN MOTOR VEHICLE EXHIBITION OF SPEED',\n",
       "       'RIGHT-OF-WAY - CONTROLLED BY STOP SIGHNS - LEFT DRIVER YIELD (I)',\n",
       "       'SIGNAL LIGHTS:RIGHT TURN ON RED (I)',\n",
       "       'THREE FEET FOR SAFETY ACT (I)', 'DUI ALC/0.08 PERCENT (M)',\n",
       "       'LEAVING BRAKES OFF ON UNATTENDED AUTOMOBILE',\n",
       "       'PEDESTRIAN CROSS AGAINST NO WALK SIGN/SIGNAL (I)',\n",
       "       'LANE USAGE:FAIL TO DRIVE ON RIGHT HALF OF ROAD (I)',\n",
       "       'UNSAFE TURNING MOVEMENT (I)', 'SIGNAL LIGHTS:RED ARROW (I)',\n",
       "       \"TAKE VEHICLE W/O OWNER'S CONSENT/VEHICLE THEFT (F)\",\n",
       "       'DRIVER TO EXERCISE DUE CARE FOR THE SAFETY OF PEDS ON ROADWAY (I)',\n",
       "       'OPER MOTORCYCLE W/O PROPER LIC (I)',\n",
       "       'OBEDIENCE TO SIGNAL DEVICE FLAGMAN ETC.',\n",
       "       'FAILED TO STOP FOR STOP SIGN (I)',\n",
       "       'RIGHT-OF-WAY:TO EMERGENCY VEH (I)',\n",
       "       'LANE USAGE:OPERATING BICYCLE ON WRONG SIDE OF ROAD (I)',\n",
       "       'RIGHT-OF-WAY:PED NOT IN CROSSWALK YIELD TO VEHS (I)',\n",
       "       'RIGHT-OF-WAY:ENTERING HWY (I)', 'DUI ALCOHOL (M)',\n",
       "       'PASSING ON RIGHTWHEN UNLAWFUL', 'JAYWALKING (I)',\n",
       "       'HIT AND RUN:RUNAWAY VEH:PROP DAMAGE (M)',\n",
       "       'MOTORIZED SCOOTER SHALL RIDEIN BIKE LANE (I)',\n",
       "       'DRIVE OVER UPON OR ACROSS DIVIDING SECTION OF HIGHWAY (I)',\n",
       "       'LANE USAGE:2-WAY LEFT TURN LANE (I)',\n",
       "       'MISCELLANEOUS NON-HAZARDOUS VIOLATIONS OF THE VEHICLE CODE',\n",
       "       'FAIL TO RIDE BICYCLE:RIGHT EDGE OF ROADWAY (I)',\n",
       "       'LANE USAGE:VEH CROSS DOUBLE SOLID LINE (I)',\n",
       "       'HIT AND RUN RESULTING IN DEATH OR INJURY(IBR 90Z)',\n",
       "       'TURNS:IMPROPER LEFT HAND TURN (I)',\n",
       "       'RIGHT-OF-WAY:DRVR YIELD TO PEDESTRIAN ON SIDEWALK (I)',\n",
       "       'EVADING PEACE OFFICER (M)',\n",
       "       'PED IN CROSSWALK: STOP/DELAY VEHICLES OR SUDDENLY LEAVE PLACE OF SAFETY (I)',\n",
       "       'TURNS:ILLEGAL U-TURN IN A RES DISTRICT (I)',\n",
       "       'DUI ALCOHOL/DRUGS:CAUSING BODILY INJURY (M)',\n",
       "       'PASSING:UNSAFE PASSING ON RIGHT OR ON SHOULDER (I)',\n",
       "       'UNLAWFUL REMOVAL OF UNATTENDED VEHICLE',\n",
       "       'OPER MOTOR SCOOTER UNDER INFL OF ALC/DRUGS (M)',\n",
       "       'UNLAWFUL DRVG Mot Veh IN BICYCLE LANE (I)',\n",
       "       'DRVG ON SIDEWALK (I)',\n",
       "       'RIGHT-OF-WAY:INTERSECTION - LEFT DRIVER YIELD (I)',\n",
       "       'SIGNAL LIGHTS:FLASHING RED (I)',\n",
       "       'RIGHT-OF-WAY:FROM YIELD INTERSECTION (I)',\n",
       "       'LANE USAGE:DISOBEY DESIGNATED TRAFFIC DIRECTION Dev (I)',\n",
       "       'IMPOUND VEHICLE FOR HIT AND RUN INVESTIGATION',\n",
       "       'FAIL TO OBEY LOCAL TRAFFIC REGULATOR (I)',\n",
       "       'OPERATE MOTOR SCOOTER WITH PASSENGERS (I)',\n",
       "       'TRAFFIC CONTROL Dev:PEDESTRIAN FAILURE TO OBEY (I)',\n",
       "       'OPERATE UNSAFE OR NOT SAFELY LOADED VEHICLE; IMMEDIATE SAFETY HAZARD (I)',\n",
       "       'DUI ALCOHOL:CAUSING BODILY INJURY (F)',\n",
       "       'OPERATE MOTORIZED SCOOTER WITH ADDED PASSENGER(S)',\n",
       "       'USE CELL PHONE WHILE DRIVING WITHOUT HANDSFREE DEVICE (I)',\n",
       "       'NOT EQUIPPED WITH WORKING BRAKE SYSTEM (I)',\n",
       "       'PARKING BRAKE OPERATIONS (I)',\n",
       "       \"DRVG WITHOUT VALID DRVR'S LIC (I)\",\n",
       "       'TURNS:IMPROPER RIGHT HAND TURN (I)',\n",
       "       'VEHICLE OR LOAD EXCEED 14 FEET (I)',\n",
       "       'DRVG WHILE LIC SUSP OR REVOKED:OTHER REASONS (M)',\n",
       "       'BRAKE SYSTEM COND VIOL (I)',\n",
       "       'RIGHT-OF-WAY:INOPERATIVE SIGNAL:STOP/YIELD AT LIMIT LINE (I)',\n",
       "       'FAIL TO RIDE MOTOR SCOOTER:RIGHT EDGE OF ROADWAY (I)',\n",
       "       'DRIVE TOO SLOWLY/IMPEDING TRAFFIC (I)',\n",
       "       'DRVG WHILE LIC SUSP OR REVOKED:OTHER REASONS (I)',\n",
       "       'OPER VEH:VIOL OF LIC RESTRICTION (I)',\n",
       "       'CHANGE LANE FOR EMERGENCY VEHICLE (I)',\n",
       "       'SUDDEN STOP W/O SIGNALING (I)',\n",
       "       'SHALL NOT PROCEED THROUGH AROUND UNDER CLOSED CROSSING GATE (I)',\n",
       "       'DRVG WHILE LIC SUSP OR REVOKED (M)',\n",
       "       'DRIVING LEFT OF CENTERVIEW LIMITED BY CURVE OR HILL CREST',\n",
       "       'LANE USAGE:DIV HWY:DRIVE WRONG SIDE OF BARRIER (M)',\n",
       "       'IMPROP VEH:SPILL/ETC:HWY (M)',\n",
       "       'PASSING:PASS W/O ENOUGH CLEARANCE (I)',\n",
       "       'RIGHT-OF-WAY:PED NOT IN CROSSWALK YIELD TO VEHS (M)',\n",
       "       'OPERATING UNSAFE VEHICLE',\n",
       "       'MUST STOP NOT LESS THAN 15 FEET FROM NEAREST RAIL (I)',\n",
       "       'FAIL TO OBEY PEACE OFFICER:LAWFUL ORDER OR INSPECTION (M)',\n",
       "       'VEHICLE REGISTRATION EXPIRED OVER 6 MONTHS (I)',\n",
       "       'BICYCLE MUST STOP BEFORE INTERSECTION AT RED LIGHT (I)',\n",
       "       'PASSING: UNSAFE PASSING ON RIGHT OR ON SHOULDER (I)',\n",
       "       'BICYCLE PASSENGER NOT SEATED (I)', 'HIT AND RUN DEATH OR INJURY',\n",
       "       'PROHIBIT TEXT-BASED COMMUNICATION WHILE DRIVING (I)',\n",
       "       'BIKE LANE - UNSAFE MOVEMENT (I)', 'UNLAWFUL LEFT OR U-TURN (I)',\n",
       "       'BRAKES REQUIRED ON BICYCLE (I)', 'DUI DRUG (M)',\n",
       "       'HIT AND RUN RESULTING IN INJURY(IBR 13A)',\n",
       "       'OTHER AGENCY VEHICLE THEFT/RECOVERY (F)',\n",
       "       'OPER MOTOR SCOOTER:HWY:VIOL (I)',\n",
       "       'PARK STOP OR STAND IN RED ZONE (I)', 'RECKLESS DRVG:HWY (M)',\n",
       "       'DISREGARD SAFETY:EVADE POLICE (M)',\n",
       "       'LANE USAGE:DIV HWY:DRIVE WRONG SIDE OF BARRIER:INJ/DEATH (F)',\n",
       "       'HIT AND RUN INVESTIGATION (I)',\n",
       "       'FAIL TO SET BRAKE:UNATTENDED VEH (I)',\n",
       "       'DUI DRUG:CAUSING BODILY INJURY (F)',\n",
       "       'PARK UNLAWFULLY:DOUBLE PARKING (I)',\n",
       "       'TURNING OUT SLOW MOVING VEHICLES',\n",
       "       'EXCEED 15 MPH:MOTOR SCOOTER (I)',\n",
       "       'LANE USAGE:SPECIAL VEH IN WRONG LANE (I)',\n",
       "       'IMPOUND VEHICLE USED IN CRIME (CONTAINS EVIDENCE) (I)',\n",
       "       'PEDESTRIAN ON FREEWAY (I)',\n",
       "       'PEDESTRIAN WALK ON RIGHT EDGE OF ROAD (I)',\n",
       "       'DRIV W/LIC SUSP/REV W/PRIOR DUI CONV (M)',\n",
       "       'PARKING:PARALLEL PARK:RT SIDE WITHIN 18\" OF CURB (I)',\n",
       "       'EXCEED PRIMA FACIE SPEED (I)',\n",
       "       'TRAFFIC CONTROL SIGNAL:FAILURE TO OBEY (I)',\n",
       "       'USE CELL PHONE WHILE DRIVING:UNDER 18 YEARS OLD (I)',\n",
       "       'FAIL COVER RUBBISH VEH LOAD (I)',\n",
       "       'TURNS:ILLEGAL U-TURN IN A BUSINESS DISTRICT (I)',\n",
       "       'DUI W/PRIOR SPECIFIC CONVICTIONS (F)',\n",
       "       'SIGNAL LIGHTS:PEDESTRIAN CIRCULAR RED OR RED ARROW (I)',\n",
       "       'TUNNEL OR OVERHEAD CROSSING',\n",
       "       'PASSING:UNLAWFUL PASSING ON THE RIGHT (I)',\n",
       "       'BICYCLE HEADLIGHT/REFLECTOR VIOL (I)',\n",
       "       'VEHICLE ON PRIVATE PROPERTY - INVOLVED IN ACCIDENT (I)',\n",
       "       'SIGNAL LIGHTS:PEDESTRIAN CIRCULAR GREEN (I)',\n",
       "       'LANE USAGE:PASS ON RIGHT:OPPOSITE DIRECTION (I)',\n",
       "       'PEDESTRIAN WALK ON LEFT EDGE OF ROAD (I)',\n",
       "       'BICYCLIST SHALL OBEY SIGNAL AND YIELD TO LAWFUL TRAFFIC (I)',\n",
       "       'BLOCKING INTERSECTION (I)',\n",
       "       'FAIL TO STOP AT LIMIT LINE AT RR CROSSING (I)',\n",
       "       'OVERTAKEN VEHICLE SAFELY MOVE TO THE RIGHT (I)',\n",
       "       'DRIVER SHALL OBEY DIRECTIONS OF TRAFFIC DEVICE (I)',\n",
       "       'RIGHT-OF-WAY: TO TURNING VEHICLES THAT HAVE YIELDED (I)',\n",
       "       'RED REFLECTOR ON REAR OF BIKE REQUIRED (I)',\n",
       "       'RECKLESS DRVG:PARK LOT (M)',\n",
       "       'OFF HWY VEH:UNSAFE SPEED (BASIC SPEED LAW) (I)',\n",
       "       'LANE CONTROL SIGNAL:STEADY RED (I)',\n",
       "       'LANE USAGE:DRVG LEFT OF CENTER (I)',\n",
       "       'CROSS A TRAFFIC CONTROL CONE PATTERN/ELECTRONIC BEACON',\n",
       "       'FAILURE TO OBEY TRAFFIC SIGN (I)',\n",
       "       'PEDESTRIAN:CROSS IN CROSSWALK:PROHIB SIGN (I)',\n",
       "       'OPERATE MOTOR VEHICLE W/0.01% OR MORE BAC WHILE ON PROBATION FOR DUI (I)',\n",
       "       'TRESPASS WITH VEHICLE ETC:PUBLIC GROUNDS (I)',\n",
       "       'OPERATE VEH IN UNSAFE CONDITION; NOT EQUIPPED AS REQD; NOT SAFELY LOADED (I)',\n",
       "       'EXCEED 55 MPH STATUTORY SPEED:2-LANE ROADS (I)',\n",
       "       'LANE USAGE:SOLID/BROKEN DOUBLE LINE VIOL (I)',\n",
       "       'DUI ALCOHOL/DRUGS:CAUSING BODILY INJURY (F)',\n",
       "       'ENTERING RAILROAD OR RAIL TRANSIT CROSSING (I)',\n",
       "       'LANE USAGE:SPECIFIC VEH:USE WRONG PASS LANE (I)',\n",
       "       'RIGHT-OF-WAY:FAILED TO YIELD TO BLIND PEDESTRIAN (M)',\n",
       "       'MANDATORY SEAT BELTS - PRIVATE VEHICLE PASSENGER AND DRIVER (I)',\n",
       "       'LANE USAGE:BICYCLIST FAILURE TO RIDE IN BIKE LANE (I)',\n",
       "       'RECKLESS DRIVING W/INJURY (M)',\n",
       "       'FAIL TO SIGNAL AT LEAST 100 FEET BEFORE TURN (I)',\n",
       "       'FAILURE TO PROVIDE INFO:INJ ACCIDENT (M)',\n",
       "       'BICYCLE OPERATORS SHALL OBEY VEHICLE LAWS (I)',\n",
       "       'ALLOWING UNLAWFUL RIDING IN VEH (I)',\n",
       "       'GIVE FALSE INFO TO PEACE OFCR',\n",
       "       'WHEN TURN SIGNAL LAMPS INOP:USE ARM SIGNALS (I)'], dtype=object)"
      ]
     },
     "execution_count": 12,
     "metadata": {},
     "output_type": "execute_result"
    }
   ],
   "source": [
    "collisions_df['charge_desc'].unique()"
   ]
  },
  {
   "cell_type": "code",
   "execution_count": 13,
   "metadata": {},
   "outputs": [
    {
     "data": {
      "text/plain": [
       "(22368, 16)"
      ]
     },
     "execution_count": 13,
     "metadata": {},
     "output_type": "execute_result"
    }
   ],
   "source": [
    "collisions_df.shape"
   ]
  },
  {
   "cell_type": "code",
   "execution_count": 14,
   "metadata": {},
   "outputs": [
    {
     "data": {
      "text/plain": [
       "Index(['report_id', 'date_time', 'police_beat', 'address_number_primary',\n",
       "       'address_pd_primary', 'address_road_primary', 'address_sfx_primary',\n",
       "       'address_pd_intersecting', 'address_name_intersecting',\n",
       "       'address_sfx_intersecting', 'violation_section', 'violation_type',\n",
       "       'charge_desc', 'injured', 'killed', 'hit_run_lvl'],\n",
       "      dtype='object')"
      ]
     },
     "execution_count": 14,
     "metadata": {},
     "output_type": "execute_result"
    }
   ],
   "source": [
    "collisions_df.columns"
   ]
  },
  {
   "cell_type": "markdown",
   "metadata": {},
   "source": [
    "The month was taken from the 'date_time' column and standardized into quarters in a new column. The year was also extracted from 'date_time' and input into a new 'year' column. "
   ]
  },
  {
   "cell_type": "code",
   "execution_count": 15,
   "metadata": {},
   "outputs": [],
   "source": [
    "collisions_df['Quarter'] = collisions_df['date_time'].apply(identify_quarter_collisions)\n",
    "collisions_df['Year'] = collisions_df['date_time'].apply(identify_year_collisions)    "
   ]
  },
  {
   "cell_type": "code",
   "execution_count": 16,
   "metadata": {},
   "outputs": [
    {
     "data": {
      "text/html": [
       "<div>\n",
       "<style scoped>\n",
       "    .dataframe tbody tr th:only-of-type {\n",
       "        vertical-align: middle;\n",
       "    }\n",
       "\n",
       "    .dataframe tbody tr th {\n",
       "        vertical-align: top;\n",
       "    }\n",
       "\n",
       "    .dataframe thead th {\n",
       "        text-align: right;\n",
       "    }\n",
       "</style>\n",
       "<table border=\"1\" class=\"dataframe\">\n",
       "  <thead>\n",
       "    <tr style=\"text-align: right;\">\n",
       "      <th></th>\n",
       "      <th>date_time</th>\n",
       "      <th>charge_desc</th>\n",
       "      <th>Quarter</th>\n",
       "      <th>Year</th>\n",
       "    </tr>\n",
       "  </thead>\n",
       "  <tbody>\n",
       "    <tr>\n",
       "      <th>0</th>\n",
       "      <td>2018-01-01 00:30:00</td>\n",
       "      <td>VIOLATION OF BASIC SPEED LAW SPEED UNSAFE FOR ...</td>\n",
       "      <td>1</td>\n",
       "      <td>2018</td>\n",
       "    </tr>\n",
       "    <tr>\n",
       "      <th>1</th>\n",
       "      <td>2018-01-01 01:00:00</td>\n",
       "      <td>VIOLATION OF BASIC SPEED LAW SPEED UNSAFE FOR ...</td>\n",
       "      <td>1</td>\n",
       "      <td>2018</td>\n",
       "    </tr>\n",
       "    <tr>\n",
       "      <th>2</th>\n",
       "      <td>2018-01-01 01:26:00</td>\n",
       "      <td>PEDESTRIANS OUTSIDE CROSSWALKS</td>\n",
       "      <td>1</td>\n",
       "      <td>2018</td>\n",
       "    </tr>\n",
       "    <tr>\n",
       "      <th>3</th>\n",
       "      <td>2018-01-01 02:05:00</td>\n",
       "      <td>STOP REQUIREMENTS STATE STOP LINE</td>\n",
       "      <td>1</td>\n",
       "      <td>2018</td>\n",
       "    </tr>\n",
       "    <tr>\n",
       "      <th>4</th>\n",
       "      <td>2018-01-01 02:26:00</td>\n",
       "      <td>TURNING MOVEMENTS AND REQUIRED SIGNALS</td>\n",
       "      <td>1</td>\n",
       "      <td>2018</td>\n",
       "    </tr>\n",
       "  </tbody>\n",
       "</table>\n",
       "</div>"
      ],
      "text/plain": [
       "             date_time                                        charge_desc  \\\n",
       "0  2018-01-01 00:30:00  VIOLATION OF BASIC SPEED LAW SPEED UNSAFE FOR ...   \n",
       "1  2018-01-01 01:00:00  VIOLATION OF BASIC SPEED LAW SPEED UNSAFE FOR ...   \n",
       "2  2018-01-01 01:26:00                     PEDESTRIANS OUTSIDE CROSSWALKS   \n",
       "3  2018-01-01 02:05:00                  STOP REQUIREMENTS STATE STOP LINE   \n",
       "4  2018-01-01 02:26:00             TURNING MOVEMENTS AND REQUIRED SIGNALS   \n",
       "\n",
       "   Quarter  Year  \n",
       "0        1  2018  \n",
       "1        1  2018  \n",
       "2        1  2018  \n",
       "3        1  2018  \n",
       "4        1  2018  "
      ]
     },
     "execution_count": 16,
     "metadata": {},
     "output_type": "execute_result"
    }
   ],
   "source": [
    "collisions_df = collisions_df[['date_time', 'charge_desc']]\n",
    "collisions_df['Quarter'] = collisions_df['date_time'].apply(identify_quarter_collisions)\n",
    "collisions_df['Year'] =  collisions_df['date_time'].apply(identify_year_collisions)\n",
    "collisions_df.head()"
   ]
  },
  {
   "cell_type": "markdown",
   "metadata": {},
   "source": [
    "We created two functions to convert months to their corresponding numbers and vice versa so functions could sort by least to highest. The first method retrieves the month from the time stamp."
   ]
  },
  {
   "cell_type": "code",
   "execution_count": 17,
   "metadata": {},
   "outputs": [],
   "source": [
    "#Convert month number to name\n",
    "def standardize_date_time(date):\n",
    "    month = date[5:6+1]\n",
    "    if month == '01':\n",
    "        return 'Jan'\n",
    "    elif month == '02':\n",
    "        return 'Feb'\n",
    "    elif month == '03':\n",
    "        return 'Mar'\n",
    "    elif month == '04':\n",
    "        return 'Apr'\n",
    "    elif month == '05':\n",
    "        return 'May'\n",
    "    elif month == '06':\n",
    "        return 'Jun'\n",
    "    elif month == '07':\n",
    "        return 'Jul'\n",
    "    elif month == '08':\n",
    "        return 'Aug'\n",
    "    elif month == '09':\n",
    "        return 'Sep'\n",
    "    elif month == '10':\n",
    "        return 'Oct'\n",
    "    elif month == '11':\n",
    "        return 'Nov'\n",
    "    elif month == '12':\n",
    "        return 'Dec'\n",
    "    else:\n",
    "        return month\n",
    "\n",
    "#Convert month to corresponding number\n",
    "def month_to_num(month):\n",
    "    if month == 'Jan':\n",
    "        return 1\n",
    "    elif month == 'Feb':\n",
    "        return 2\n",
    "    elif month == 'Mar':\n",
    "        return 3\n",
    "    elif month == 'Apr':\n",
    "        return 4\n",
    "    elif month == 'May':\n",
    "        return 5\n",
    "    elif month == 'Jun':\n",
    "        return 6\n",
    "    elif month == 'Jul':\n",
    "        return 7\n",
    "    elif month == 'Aug':\n",
    "        return 8\n",
    "    elif month == 'Sep':\n",
    "        return 9\n",
    "    elif month == 'Oct':\n",
    "        return 10\n",
    "    elif month == 'Nov':\n",
    "        return 11\n",
    "    elif month == 'Dec':\n",
    "        return 12\n",
    "    else:\n",
    "        return 0\n",
    "#Convert number to corresponding month    \n",
    "def num_to_month(month):\n",
    "\n",
    "    if month == 1:\n",
    "        return 'Jan'\n",
    "    elif month == 2:\n",
    "        return 'Feb'\n",
    "    elif month == 3:\n",
    "        return 'Mar'\n",
    "    elif month == 4:\n",
    "        return 'Apr'\n",
    "    elif month == 5:\n",
    "        return 'May'\n",
    "    elif month == 6:\n",
    "        return 'Jun'\n",
    "    elif month == 7:\n",
    "        return 'Jul'\n",
    "    elif month == 8:\n",
    "        return 'Aug'\n",
    "    elif month == 9:\n",
    "        return 'Sep'\n",
    "    elif month == 10:\n",
    "        return 'Oct'\n",
    "    elif month == 11:\n",
    "        return 'Nov'\n",
    "    elif month == 12:\n",
    "        return 'Dec'\n",
    "    else:\n",
    "        return month    \n",
    "\n",
    "# Converts from months to quarter for rain data\n",
    "def month_to_year_rain(month):\n",
    "    if (month=='Jan') or (month=='Feb') or (month=='Mar'):\n",
    "        return 1\n",
    "    elif (month=='Apr') or (month=='May') or (month=='Jun'):\n",
    "        return 2\n",
    "    elif (month=='Jul') or (month=='Aug') or (month=='Sep'):\n",
    "        return 3\n",
    "    elif (month=='Oct') or (month=='Nov') or (month=='Dec'):\n",
    "        return 4\n"
   ]
  },
  {
   "cell_type": "markdown",
   "metadata": {},
   "source": [
    "Next we want to standardize the column names and the structure of the collision dataframe so that it shares similar columns as the amazon revenue dataframe and the rainfall dataframe (ex. 'quarter', 'year', etc. )"
   ]
  },
  {
   "cell_type": "code",
   "execution_count": 18,
   "metadata": {},
   "outputs": [],
   "source": [
    "std_collisions_df = collisions_df.rename({'date_time': 'month'}, axis='columns')\n",
    "std_collisions_df['month'] = std_collisions_df['month'].apply(standardize_date_time)\n",
    "std_collisions_df = std_collisions_df[['Quarter', 'Year', 'month', 'charge_desc']]\n",
    "std_collisions_df = std_collisions_df.rename(columns = {'Quarter': 'quarter', 'Year': 'year'})"
   ]
  },
  {
   "cell_type": "code",
   "execution_count": 19,
   "metadata": {},
   "outputs": [
    {
     "data": {
      "text/html": [
       "<div>\n",
       "<style scoped>\n",
       "    .dataframe tbody tr th:only-of-type {\n",
       "        vertical-align: middle;\n",
       "    }\n",
       "\n",
       "    .dataframe tbody tr th {\n",
       "        vertical-align: top;\n",
       "    }\n",
       "\n",
       "    .dataframe thead th {\n",
       "        text-align: right;\n",
       "    }\n",
       "</style>\n",
       "<table border=\"1\" class=\"dataframe\">\n",
       "  <thead>\n",
       "    <tr style=\"text-align: right;\">\n",
       "      <th></th>\n",
       "      <th>quarter</th>\n",
       "      <th>year</th>\n",
       "      <th>month</th>\n",
       "      <th>charge_desc</th>\n",
       "    </tr>\n",
       "  </thead>\n",
       "  <tbody>\n",
       "    <tr>\n",
       "      <th>0</th>\n",
       "      <td>1</td>\n",
       "      <td>2018</td>\n",
       "      <td>Jan</td>\n",
       "      <td>VIOLATION OF BASIC SPEED LAW SPEED UNSAFE FOR ...</td>\n",
       "    </tr>\n",
       "    <tr>\n",
       "      <th>1</th>\n",
       "      <td>1</td>\n",
       "      <td>2018</td>\n",
       "      <td>Jan</td>\n",
       "      <td>VIOLATION OF BASIC SPEED LAW SPEED UNSAFE FOR ...</td>\n",
       "    </tr>\n",
       "    <tr>\n",
       "      <th>2</th>\n",
       "      <td>1</td>\n",
       "      <td>2018</td>\n",
       "      <td>Jan</td>\n",
       "      <td>PEDESTRIANS OUTSIDE CROSSWALKS</td>\n",
       "    </tr>\n",
       "    <tr>\n",
       "      <th>3</th>\n",
       "      <td>1</td>\n",
       "      <td>2018</td>\n",
       "      <td>Jan</td>\n",
       "      <td>STOP REQUIREMENTS STATE STOP LINE</td>\n",
       "    </tr>\n",
       "    <tr>\n",
       "      <th>4</th>\n",
       "      <td>1</td>\n",
       "      <td>2018</td>\n",
       "      <td>Jan</td>\n",
       "      <td>TURNING MOVEMENTS AND REQUIRED SIGNALS</td>\n",
       "    </tr>\n",
       "    <tr>\n",
       "      <th>...</th>\n",
       "      <td>...</td>\n",
       "      <td>...</td>\n",
       "      <td>...</td>\n",
       "      <td>...</td>\n",
       "    </tr>\n",
       "    <tr>\n",
       "      <th>22363</th>\n",
       "      <td>2</td>\n",
       "      <td>2020</td>\n",
       "      <td>Apr</td>\n",
       "      <td>UNSAFE SPEED (BASIC SPEED LAW) (I)</td>\n",
       "    </tr>\n",
       "    <tr>\n",
       "      <th>22364</th>\n",
       "      <td>2</td>\n",
       "      <td>2020</td>\n",
       "      <td>Apr</td>\n",
       "      <td>JAYWALKING (I)</td>\n",
       "    </tr>\n",
       "    <tr>\n",
       "      <th>22365</th>\n",
       "      <td>2</td>\n",
       "      <td>2020</td>\n",
       "      <td>Apr</td>\n",
       "      <td>TURNS:UNSAFE TURN AND/OR NO TURN SIGNAL (I)</td>\n",
       "    </tr>\n",
       "    <tr>\n",
       "      <th>22366</th>\n",
       "      <td>2</td>\n",
       "      <td>2020</td>\n",
       "      <td>Apr</td>\n",
       "      <td>THREE FEET FOR SAFETY ACT (I)</td>\n",
       "    </tr>\n",
       "    <tr>\n",
       "      <th>22367</th>\n",
       "      <td>2</td>\n",
       "      <td>2020</td>\n",
       "      <td>Apr</td>\n",
       "      <td>UNSAFE SPEED (BASIC SPEED LAW) (I)</td>\n",
       "    </tr>\n",
       "  </tbody>\n",
       "</table>\n",
       "<p>22368 rows × 4 columns</p>\n",
       "</div>"
      ],
      "text/plain": [
       "       quarter  year month                                        charge_desc\n",
       "0            1  2018   Jan  VIOLATION OF BASIC SPEED LAW SPEED UNSAFE FOR ...\n",
       "1            1  2018   Jan  VIOLATION OF BASIC SPEED LAW SPEED UNSAFE FOR ...\n",
       "2            1  2018   Jan                     PEDESTRIANS OUTSIDE CROSSWALKS\n",
       "3            1  2018   Jan                  STOP REQUIREMENTS STATE STOP LINE\n",
       "4            1  2018   Jan             TURNING MOVEMENTS AND REQUIRED SIGNALS\n",
       "...        ...   ...   ...                                                ...\n",
       "22363        2  2020   Apr                 UNSAFE SPEED (BASIC SPEED LAW) (I)\n",
       "22364        2  2020   Apr                                     JAYWALKING (I)\n",
       "22365        2  2020   Apr        TURNS:UNSAFE TURN AND/OR NO TURN SIGNAL (I)\n",
       "22366        2  2020   Apr                      THREE FEET FOR SAFETY ACT (I)\n",
       "22367        2  2020   Apr                 UNSAFE SPEED (BASIC SPEED LAW) (I)\n",
       "\n",
       "[22368 rows x 4 columns]"
      ]
     },
     "execution_count": 19,
     "metadata": {},
     "output_type": "execute_result"
    }
   ],
   "source": [
    "std_collisions_df"
   ]
  },
  {
   "cell_type": "markdown",
   "metadata": {},
   "source": [
    "### Rainfall Data\n",
    "Now we read in our csv for rainfall"
   ]
  },
  {
   "cell_type": "code",
   "execution_count": 20,
   "metadata": {},
   "outputs": [],
   "source": [
    "rain_df = pd.read_csv('sd_rain_data.txt', header=None, index_col=0)"
   ]
  },
  {
   "cell_type": "code",
   "execution_count": 21,
   "metadata": {},
   "outputs": [
    {
     "data": {
      "text/html": [
       "<div>\n",
       "<style scoped>\n",
       "    .dataframe tbody tr th:only-of-type {\n",
       "        vertical-align: middle;\n",
       "    }\n",
       "\n",
       "    .dataframe tbody tr th {\n",
       "        vertical-align: top;\n",
       "    }\n",
       "\n",
       "    .dataframe thead th {\n",
       "        text-align: right;\n",
       "    }\n",
       "</style>\n",
       "<table border=\"1\" class=\"dataframe\">\n",
       "  <thead>\n",
       "    <tr style=\"text-align: right;\">\n",
       "      <th></th>\n",
       "      <th>1</th>\n",
       "      <th>2</th>\n",
       "      <th>3</th>\n",
       "      <th>4</th>\n",
       "      <th>5</th>\n",
       "      <th>6</th>\n",
       "      <th>7</th>\n",
       "      <th>8</th>\n",
       "      <th>9</th>\n",
       "      <th>10</th>\n",
       "      <th>11</th>\n",
       "      <th>12</th>\n",
       "      <th>13</th>\n",
       "      <th>14</th>\n",
       "      <th>15</th>\n",
       "      <th>16</th>\n",
       "      <th>17</th>\n",
       "      <th>18</th>\n",
       "      <th>19</th>\n",
       "      <th>20</th>\n",
       "    </tr>\n",
       "    <tr>\n",
       "      <th>0</th>\n",
       "      <th></th>\n",
       "      <th></th>\n",
       "      <th></th>\n",
       "      <th></th>\n",
       "      <th></th>\n",
       "      <th></th>\n",
       "      <th></th>\n",
       "      <th></th>\n",
       "      <th></th>\n",
       "      <th></th>\n",
       "      <th></th>\n",
       "      <th></th>\n",
       "      <th></th>\n",
       "      <th></th>\n",
       "      <th></th>\n",
       "      <th></th>\n",
       "      <th></th>\n",
       "      <th></th>\n",
       "      <th></th>\n",
       "      <th></th>\n",
       "    </tr>\n",
       "  </thead>\n",
       "  <tbody>\n",
       "    <tr>\n",
       "      <th>1850</th>\n",
       "      <td>0.00</td>\n",
       "      <td>1.13</td>\n",
       "      <td>1.00</td>\n",
       "      <td>0.09</td>\n",
       "      <td>0.00</td>\n",
       "      <td>0.68</td>\n",
       "      <td>0.00</td>\n",
       "      <td>0.00</td>\n",
       "      <td>0.00</td>\n",
       "      <td>0.19</td>\n",
       "      <td>2.82</td>\n",
       "      <td>1.93</td>\n",
       "      <td>7.84</td>\n",
       "      <td>0.03</td>\n",
       "      <td>1.51</td>\n",
       "      <td>0.34</td>\n",
       "      <td>0.87</td>\n",
       "      <td>0.71</td>\n",
       "      <td>0.01</td>\n",
       "      <td>8.41</td>\n",
       "    </tr>\n",
       "    <tr>\n",
       "      <th>1851</th>\n",
       "      <td>0.03</td>\n",
       "      <td>1.51</td>\n",
       "      <td>0.34</td>\n",
       "      <td>0.87</td>\n",
       "      <td>0.71</td>\n",
       "      <td>0.01</td>\n",
       "      <td>0.00</td>\n",
       "      <td>0.00</td>\n",
       "      <td>0.02</td>\n",
       "      <td>0.01</td>\n",
       "      <td>0.25</td>\n",
       "      <td>3.74</td>\n",
       "      <td>7.49</td>\n",
       "      <td>0.58</td>\n",
       "      <td>1.84</td>\n",
       "      <td>1.87</td>\n",
       "      <td>0.85</td>\n",
       "      <td>0.32</td>\n",
       "      <td>0.00</td>\n",
       "      <td>9.48</td>\n",
       "    </tr>\n",
       "    <tr>\n",
       "      <th>1852</th>\n",
       "      <td>0.58</td>\n",
       "      <td>1.84</td>\n",
       "      <td>1.87</td>\n",
       "      <td>0.85</td>\n",
       "      <td>0.32</td>\n",
       "      <td>0.00</td>\n",
       "      <td>0.00</td>\n",
       "      <td>0.40</td>\n",
       "      <td>0.00</td>\n",
       "      <td>0.06</td>\n",
       "      <td>1.45</td>\n",
       "      <td>4.50</td>\n",
       "      <td>11.87</td>\n",
       "      <td>0.50</td>\n",
       "      <td>0.20</td>\n",
       "      <td>1.52</td>\n",
       "      <td>0.25</td>\n",
       "      <td>2.10</td>\n",
       "      <td>0.05</td>\n",
       "      <td>11.03</td>\n",
       "    </tr>\n",
       "    <tr>\n",
       "      <th>1853</th>\n",
       "      <td>0.50</td>\n",
       "      <td>0.20</td>\n",
       "      <td>1.52</td>\n",
       "      <td>0.25</td>\n",
       "      <td>2.10</td>\n",
       "      <td>0.05</td>\n",
       "      <td>0.00</td>\n",
       "      <td>0.21</td>\n",
       "      <td>0.00</td>\n",
       "      <td>0.00</td>\n",
       "      <td>1.28</td>\n",
       "      <td>1.77</td>\n",
       "      <td>7.88</td>\n",
       "      <td>0.99</td>\n",
       "      <td>2.56</td>\n",
       "      <td>1.88</td>\n",
       "      <td>0.89</td>\n",
       "      <td>0.18</td>\n",
       "      <td>0.01</td>\n",
       "      <td>9.77</td>\n",
       "    </tr>\n",
       "    <tr>\n",
       "      <th>1854</th>\n",
       "      <td>0.99</td>\n",
       "      <td>2.56</td>\n",
       "      <td>1.88</td>\n",
       "      <td>0.89</td>\n",
       "      <td>0.18</td>\n",
       "      <td>0.01</td>\n",
       "      <td>0.07</td>\n",
       "      <td>1.36</td>\n",
       "      <td>0.09</td>\n",
       "      <td>0.27</td>\n",
       "      <td>0.04</td>\n",
       "      <td>3.29</td>\n",
       "      <td>11.63</td>\n",
       "      <td>1.97</td>\n",
       "      <td>3.59</td>\n",
       "      <td>1.30</td>\n",
       "      <td>1.52</td>\n",
       "      <td>0.06</td>\n",
       "      <td>0.00</td>\n",
       "      <td>13.56</td>\n",
       "    </tr>\n",
       "  </tbody>\n",
       "</table>\n",
       "</div>"
      ],
      "text/plain": [
       "        1     2     3     4     5     6     7     8     9     10    11    12  \\\n",
       "0                                                                              \n",
       "1850  0.00  1.13  1.00  0.09  0.00  0.68  0.00  0.00  0.00  0.19  2.82  1.93   \n",
       "1851  0.03  1.51  0.34  0.87  0.71  0.01  0.00  0.00  0.02  0.01  0.25  3.74   \n",
       "1852  0.58  1.84  1.87  0.85  0.32  0.00  0.00  0.40  0.00  0.06  1.45  4.50   \n",
       "1853  0.50  0.20  1.52  0.25  2.10  0.05  0.00  0.21  0.00  0.00  1.28  1.77   \n",
       "1854  0.99  2.56  1.88  0.89  0.18  0.01  0.07  1.36  0.09  0.27  0.04  3.29   \n",
       "\n",
       "         13    14    15    16    17    18    19     20  \n",
       "0                                                       \n",
       "1850   7.84  0.03  1.51  0.34  0.87  0.71  0.01   8.41  \n",
       "1851   7.49  0.58  1.84  1.87  0.85  0.32  0.00   9.48  \n",
       "1852  11.87  0.50  0.20  1.52  0.25  2.10  0.05  11.03  \n",
       "1853   7.88  0.99  2.56  1.88  0.89  0.18  0.01   9.77  \n",
       "1854  11.63  1.97  3.59  1.30  1.52  0.06  0.00  13.56  "
      ]
     },
     "execution_count": 21,
     "metadata": {},
     "output_type": "execute_result"
    }
   ],
   "source": [
    "rain_df.head()"
   ]
  },
  {
   "cell_type": "code",
   "execution_count": 22,
   "metadata": {},
   "outputs": [
    {
     "data": {
      "text/plain": [
       "(171, 20)"
      ]
     },
     "execution_count": 22,
     "metadata": {},
     "output_type": "execute_result"
    }
   ],
   "source": [
    "rain_df.shape"
   ]
  },
  {
   "cell_type": "code",
   "execution_count": 23,
   "metadata": {},
   "outputs": [],
   "source": [
    "rain_df.columns =  ['Jan', 'Feb', 'Mar', 'Apr', 'May', 'Jun', 'Jul', 'Aug', 'Sep', 'Oct', 'Nov', 'Dec', 'YearTotal', 'NextJan', 'NextFeb', 'NextMar', 'NextApr', 'NextMay', 'NextJun', 'SeasonTotal']"
   ]
  },
  {
   "cell_type": "code",
   "execution_count": 24,
   "metadata": {},
   "outputs": [
    {
     "data": {
      "text/html": [
       "<div>\n",
       "<style scoped>\n",
       "    .dataframe tbody tr th:only-of-type {\n",
       "        vertical-align: middle;\n",
       "    }\n",
       "\n",
       "    .dataframe tbody tr th {\n",
       "        vertical-align: top;\n",
       "    }\n",
       "\n",
       "    .dataframe thead th {\n",
       "        text-align: right;\n",
       "    }\n",
       "</style>\n",
       "<table border=\"1\" class=\"dataframe\">\n",
       "  <thead>\n",
       "    <tr style=\"text-align: right;\">\n",
       "      <th></th>\n",
       "      <th>Jan</th>\n",
       "      <th>Feb</th>\n",
       "      <th>Mar</th>\n",
       "      <th>Apr</th>\n",
       "      <th>May</th>\n",
       "      <th>Jun</th>\n",
       "      <th>Jul</th>\n",
       "      <th>Aug</th>\n",
       "      <th>Sep</th>\n",
       "      <th>Oct</th>\n",
       "      <th>Nov</th>\n",
       "      <th>Dec</th>\n",
       "      <th>YearTotal</th>\n",
       "      <th>NextJan</th>\n",
       "      <th>NextFeb</th>\n",
       "      <th>NextMar</th>\n",
       "      <th>NextApr</th>\n",
       "      <th>NextMay</th>\n",
       "      <th>NextJun</th>\n",
       "      <th>SeasonTotal</th>\n",
       "    </tr>\n",
       "    <tr>\n",
       "      <th>0</th>\n",
       "      <th></th>\n",
       "      <th></th>\n",
       "      <th></th>\n",
       "      <th></th>\n",
       "      <th></th>\n",
       "      <th></th>\n",
       "      <th></th>\n",
       "      <th></th>\n",
       "      <th></th>\n",
       "      <th></th>\n",
       "      <th></th>\n",
       "      <th></th>\n",
       "      <th></th>\n",
       "      <th></th>\n",
       "      <th></th>\n",
       "      <th></th>\n",
       "      <th></th>\n",
       "      <th></th>\n",
       "      <th></th>\n",
       "      <th></th>\n",
       "    </tr>\n",
       "  </thead>\n",
       "  <tbody>\n",
       "    <tr>\n",
       "      <th>1850</th>\n",
       "      <td>0.00</td>\n",
       "      <td>1.13</td>\n",
       "      <td>1.00</td>\n",
       "      <td>0.09</td>\n",
       "      <td>0.00</td>\n",
       "      <td>0.68</td>\n",
       "      <td>0.00</td>\n",
       "      <td>0.00</td>\n",
       "      <td>0.00</td>\n",
       "      <td>0.19</td>\n",
       "      <td>2.82</td>\n",
       "      <td>1.93</td>\n",
       "      <td>7.84</td>\n",
       "      <td>0.03</td>\n",
       "      <td>1.51</td>\n",
       "      <td>0.34</td>\n",
       "      <td>0.87</td>\n",
       "      <td>0.71</td>\n",
       "      <td>0.01</td>\n",
       "      <td>8.41</td>\n",
       "    </tr>\n",
       "    <tr>\n",
       "      <th>1851</th>\n",
       "      <td>0.03</td>\n",
       "      <td>1.51</td>\n",
       "      <td>0.34</td>\n",
       "      <td>0.87</td>\n",
       "      <td>0.71</td>\n",
       "      <td>0.01</td>\n",
       "      <td>0.00</td>\n",
       "      <td>0.00</td>\n",
       "      <td>0.02</td>\n",
       "      <td>0.01</td>\n",
       "      <td>0.25</td>\n",
       "      <td>3.74</td>\n",
       "      <td>7.49</td>\n",
       "      <td>0.58</td>\n",
       "      <td>1.84</td>\n",
       "      <td>1.87</td>\n",
       "      <td>0.85</td>\n",
       "      <td>0.32</td>\n",
       "      <td>0.00</td>\n",
       "      <td>9.48</td>\n",
       "    </tr>\n",
       "    <tr>\n",
       "      <th>1852</th>\n",
       "      <td>0.58</td>\n",
       "      <td>1.84</td>\n",
       "      <td>1.87</td>\n",
       "      <td>0.85</td>\n",
       "      <td>0.32</td>\n",
       "      <td>0.00</td>\n",
       "      <td>0.00</td>\n",
       "      <td>0.40</td>\n",
       "      <td>0.00</td>\n",
       "      <td>0.06</td>\n",
       "      <td>1.45</td>\n",
       "      <td>4.50</td>\n",
       "      <td>11.87</td>\n",
       "      <td>0.50</td>\n",
       "      <td>0.20</td>\n",
       "      <td>1.52</td>\n",
       "      <td>0.25</td>\n",
       "      <td>2.10</td>\n",
       "      <td>0.05</td>\n",
       "      <td>11.03</td>\n",
       "    </tr>\n",
       "    <tr>\n",
       "      <th>1853</th>\n",
       "      <td>0.50</td>\n",
       "      <td>0.20</td>\n",
       "      <td>1.52</td>\n",
       "      <td>0.25</td>\n",
       "      <td>2.10</td>\n",
       "      <td>0.05</td>\n",
       "      <td>0.00</td>\n",
       "      <td>0.21</td>\n",
       "      <td>0.00</td>\n",
       "      <td>0.00</td>\n",
       "      <td>1.28</td>\n",
       "      <td>1.77</td>\n",
       "      <td>7.88</td>\n",
       "      <td>0.99</td>\n",
       "      <td>2.56</td>\n",
       "      <td>1.88</td>\n",
       "      <td>0.89</td>\n",
       "      <td>0.18</td>\n",
       "      <td>0.01</td>\n",
       "      <td>9.77</td>\n",
       "    </tr>\n",
       "    <tr>\n",
       "      <th>1854</th>\n",
       "      <td>0.99</td>\n",
       "      <td>2.56</td>\n",
       "      <td>1.88</td>\n",
       "      <td>0.89</td>\n",
       "      <td>0.18</td>\n",
       "      <td>0.01</td>\n",
       "      <td>0.07</td>\n",
       "      <td>1.36</td>\n",
       "      <td>0.09</td>\n",
       "      <td>0.27</td>\n",
       "      <td>0.04</td>\n",
       "      <td>3.29</td>\n",
       "      <td>11.63</td>\n",
       "      <td>1.97</td>\n",
       "      <td>3.59</td>\n",
       "      <td>1.30</td>\n",
       "      <td>1.52</td>\n",
       "      <td>0.06</td>\n",
       "      <td>0.00</td>\n",
       "      <td>13.56</td>\n",
       "    </tr>\n",
       "  </tbody>\n",
       "</table>\n",
       "</div>"
      ],
      "text/plain": [
       "       Jan   Feb   Mar   Apr   May   Jun   Jul   Aug   Sep   Oct   Nov   Dec  \\\n",
       "0                                                                              \n",
       "1850  0.00  1.13  1.00  0.09  0.00  0.68  0.00  0.00  0.00  0.19  2.82  1.93   \n",
       "1851  0.03  1.51  0.34  0.87  0.71  0.01  0.00  0.00  0.02  0.01  0.25  3.74   \n",
       "1852  0.58  1.84  1.87  0.85  0.32  0.00  0.00  0.40  0.00  0.06  1.45  4.50   \n",
       "1853  0.50  0.20  1.52  0.25  2.10  0.05  0.00  0.21  0.00  0.00  1.28  1.77   \n",
       "1854  0.99  2.56  1.88  0.89  0.18  0.01  0.07  1.36  0.09  0.27  0.04  3.29   \n",
       "\n",
       "      YearTotal  NextJan  NextFeb  NextMar  NextApr  NextMay  NextJun  \\\n",
       "0                                                                       \n",
       "1850       7.84     0.03     1.51     0.34     0.87     0.71     0.01   \n",
       "1851       7.49     0.58     1.84     1.87     0.85     0.32     0.00   \n",
       "1852      11.87     0.50     0.20     1.52     0.25     2.10     0.05   \n",
       "1853       7.88     0.99     2.56     1.88     0.89     0.18     0.01   \n",
       "1854      11.63     1.97     3.59     1.30     1.52     0.06     0.00   \n",
       "\n",
       "      SeasonTotal  \n",
       "0                  \n",
       "1850         8.41  \n",
       "1851         9.48  \n",
       "1852        11.03  \n",
       "1853         9.77  \n",
       "1854        13.56  "
      ]
     },
     "execution_count": 24,
     "metadata": {},
     "output_type": "execute_result"
    }
   ],
   "source": [
    "rain_df.head()"
   ]
  },
  {
   "cell_type": "markdown",
   "metadata": {},
   "source": [
    "Just like the collisions dataframe above, we structure our rainfall dataframe so that the columns are similar to the amazon revenue dataframe and the collisions dataframe."
   ]
  },
  {
   "cell_type": "code",
   "execution_count": 25,
   "metadata": {},
   "outputs": [],
   "source": [
    "rain_df = rain_df[rain_df.index>=2018]\n",
    "rain_df = rain_df.iloc[:, 0:12]\n",
    "amount_rainfall = list(rain_df.iloc[0,:].values)+list(rain_df.iloc[1,:].values)+list(rain_df.iloc[2,:].values)\n",
    "year_rain = [2018]*12+[2019]*12+[2020]*12\n",
    "months_rain = list(rain_df.columns)*3\n",
    "new_rain_df = pd.DataFrame({'year':year_rain,'month':months_rain,'amount_rainfall':amount_rainfall})\n",
    "new_rain_df['quarter'] = new_rain_df['month'].apply(month_to_year_rain)\n",
    "new_rain_df = new_rain_df[['quarter','year','month','amount_rainfall']]"
   ]
  },
  {
   "cell_type": "code",
   "execution_count": 26,
   "metadata": {},
   "outputs": [
    {
     "data": {
      "text/html": [
       "<div>\n",
       "<style scoped>\n",
       "    .dataframe tbody tr th:only-of-type {\n",
       "        vertical-align: middle;\n",
       "    }\n",
       "\n",
       "    .dataframe tbody tr th {\n",
       "        vertical-align: top;\n",
       "    }\n",
       "\n",
       "    .dataframe thead th {\n",
       "        text-align: right;\n",
       "    }\n",
       "</style>\n",
       "<table border=\"1\" class=\"dataframe\">\n",
       "  <thead>\n",
       "    <tr style=\"text-align: right;\">\n",
       "      <th></th>\n",
       "      <th>quarter</th>\n",
       "      <th>year</th>\n",
       "      <th>month</th>\n",
       "      <th>amount_rainfall</th>\n",
       "    </tr>\n",
       "  </thead>\n",
       "  <tbody>\n",
       "    <tr>\n",
       "      <th>0</th>\n",
       "      <td>1</td>\n",
       "      <td>2018</td>\n",
       "      <td>Jan</td>\n",
       "      <td>1.78</td>\n",
       "    </tr>\n",
       "    <tr>\n",
       "      <th>1</th>\n",
       "      <td>1</td>\n",
       "      <td>2018</td>\n",
       "      <td>Feb</td>\n",
       "      <td>0.36</td>\n",
       "    </tr>\n",
       "    <tr>\n",
       "      <th>2</th>\n",
       "      <td>1</td>\n",
       "      <td>2018</td>\n",
       "      <td>Mar</td>\n",
       "      <td>0.95</td>\n",
       "    </tr>\n",
       "    <tr>\n",
       "      <th>3</th>\n",
       "      <td>2</td>\n",
       "      <td>2018</td>\n",
       "      <td>Apr</td>\n",
       "      <td>0.02</td>\n",
       "    </tr>\n",
       "    <tr>\n",
       "      <th>4</th>\n",
       "      <td>2</td>\n",
       "      <td>2018</td>\n",
       "      <td>May</td>\n",
       "      <td>0.12</td>\n",
       "    </tr>\n",
       "  </tbody>\n",
       "</table>\n",
       "</div>"
      ],
      "text/plain": [
       "   quarter  year month  amount_rainfall\n",
       "0        1  2018   Jan             1.78\n",
       "1        1  2018   Feb             0.36\n",
       "2        1  2018   Mar             0.95\n",
       "3        2  2018   Apr             0.02\n",
       "4        2  2018   May             0.12"
      ]
     },
     "execution_count": 26,
     "metadata": {},
     "output_type": "execute_result"
    }
   ],
   "source": [
    "new_rain_df.head()"
   ]
  },
  {
   "cell_type": "markdown",
   "metadata": {},
   "source": [
    "### Merging"
   ]
  },
  {
   "cell_type": "markdown",
   "metadata": {},
   "source": [
    "We created a method to retrieve revenue values based on quarter and year. We also checked for descriptions that were considered 'DUI' or 'Other Violation'"
   ]
  },
  {
   "cell_type": "code",
   "execution_count": 1,
   "metadata": {},
   "outputs": [],
   "source": [
    "def quarter_year_revenue(Quarter,Year):\n",
    "    if (Quarter==1) and (Year==2020):\n",
    "        return 75.45\n",
    "    elif (Quarter==4) and (Year==2019):\n",
    "        return 87.44\n",
    "    elif (Quarter==3) and (Year==2019):\n",
    "        return 69.98\n",
    "    elif (Quarter==2) and (Year==2019):\n",
    "        return 63.40\n",
    "    elif (Quarter==1) and (Year==2019):\n",
    "        return 59.70\n",
    "    elif (Quarter==4) and (Year==2018):\n",
    "        return 72.38\n",
    "    elif (Quarter==3) and (Year==2018):\n",
    "        return 56.58\n",
    "    elif (Quarter==2) and (Year==2018):\n",
    "        return 52.89\n",
    "    elif (Quarter==1) and (Year==2018):\n",
    "        return 51.04\n",
    "    else:\n",
    "        return 0\n",
    "\n",
    "#Look for descriptions involving DUI\n",
    "def is_dui(desc):\n",
    "    if 'DUI' in desc or 'ALC' in desc or 'DRUGS' in desc or 'DRUG' in desc or 'Narcotic' in desc:\n",
    "        return 'DUI'\n",
    "    else:\n",
    "        return 'Other Violation'"
   ]
  },
  {
   "cell_type": "markdown",
   "metadata": {},
   "source": [
    "Here we collect the number of collision counts per month in our dataset"
   ]
  },
  {
   "cell_type": "code",
   "execution_count": 28,
   "metadata": {},
   "outputs": [],
   "source": [
    "std_collisions_df['month'] = std_collisions_df['month'].apply(month_to_num)\n",
    "month_year_collisions = std_collisions_df.groupby(['month', 'year']).charge_desc.size().values"
   ]
  },
  {
   "cell_type": "markdown",
   "metadata": {},
   "source": [
    "Here we collect the number of DUI specific collisions per month in our dataset"
   ]
  },
  {
   "cell_type": "code",
   "execution_count": 29,
   "metadata": {},
   "outputs": [],
   "source": [
    "std_collisions_df['charge_desc'] = std_collisions_df['charge_desc'].apply(is_dui)\n",
    "month_year_dui = std_collisions_df[std_collisions_df['charge_desc'] == 'DUI'].groupby(['month', 'year']).charge_desc.size().values"
   ]
  },
  {
   "cell_type": "code",
   "execution_count": 30,
   "metadata": {},
   "outputs": [
    {
     "data": {
      "text/plain": [
       "array([761, 808, 769, 726, 756, 781, 851, 871, 544, 733, 816, 266, 801,\n",
       "       811, 866, 850, 865, 896, 823, 859, 840, 908, 882, 911, 871, 824,\n",
       "       887, 792])"
      ]
     },
     "execution_count": 30,
     "metadata": {},
     "output_type": "execute_result"
    }
   ],
   "source": [
    "month_year_collisions"
   ]
  },
  {
   "cell_type": "code",
   "execution_count": 31,
   "metadata": {},
   "outputs": [
    {
     "data": {
      "text/plain": [
       "array([ 6,  5, 44,  2,  7, 56,  7, 17, 31,  1, 27, 21,  5, 28, 12, 37,  6,\n",
       "       43,  2, 42,  8, 41,  3, 55,  3, 46, 11, 46])"
      ]
     },
     "execution_count": 31,
     "metadata": {},
     "output_type": "execute_result"
    }
   ],
   "source": [
    "month_year_dui"
   ]
  },
  {
   "cell_type": "code",
   "execution_count": 32,
   "metadata": {},
   "outputs": [],
   "source": [
    "std_collisions_df['month'] = std_collisions_df['month'].apply(num_to_month)"
   ]
  },
  {
   "cell_type": "markdown",
   "metadata": {},
   "source": [
    "These methods return the collision counts and DUI counts corresponding to the month and year."
   ]
  },
  {
   "cell_type": "code",
   "execution_count": 33,
   "metadata": {},
   "outputs": [],
   "source": [
    "def month_year_collisioncounts(Month, Year):\n",
    "\n",
    "    if (Month=='Jan'):\n",
    "        if (Year==2018):\n",
    "            return month_year_collisions[0]\n",
    "        elif (Year==2019):\n",
    "            return month_year_collisions[1]\n",
    "        else:\n",
    "            return month_year_collisions[2]\n",
    "    elif Month == 'Feb':\n",
    "        if (Year==2018):\n",
    "            return month_year_collisions[3]\n",
    "        elif (Year==2019):\n",
    "            return month_year_collisions[4]\n",
    "        else:\n",
    "            return month_year_collisions[5]\n",
    "    elif Month == 'Mar':\n",
    "        if (Year==2018):\n",
    "            return month_year_collisions[6]\n",
    "        elif (Year==2019):\n",
    "            return month_year_collisions[7]\n",
    "        else:\n",
    "            return month_year_collisions[8]\n",
    "    elif Month == 'Apr':\n",
    "        if (Year==2018):\n",
    "            return month_year_collisions[9]\n",
    "        elif (Year==2019):\n",
    "            return month_year_collisions[10]\n",
    "        else:\n",
    "            return month_year_collisions[11]\n",
    "    elif Month == 'May':\n",
    "        if (Year==2018):\n",
    "            return month_year_collisions[12]\n",
    "        elif (Year==2019):\n",
    "            return month_year_collisions[13]\n",
    "        else:\n",
    "            return 0\n",
    "    elif Month == 'Jun':\n",
    "        if (Year==2018):\n",
    "            return month_year_collisions[14]\n",
    "        elif (Year==2019):\n",
    "            return month_year_collisions[15]\n",
    "        else:\n",
    "            return 0\n",
    "    elif Month == 'Jul':\n",
    "        if (Year==2018):\n",
    "            return month_year_collisions[16]\n",
    "        elif (Year==2019):\n",
    "            return month_year_collisions[17]\n",
    "        else:\n",
    "            return 0\n",
    "    elif Month == 'Aug':\n",
    "        if (Year==2018):\n",
    "            return month_year_collisions[18]\n",
    "        elif (Year==2019):\n",
    "            return month_year_collisions[19]\n",
    "        else:\n",
    "            return 0\n",
    "    elif Month == 'Sep':\n",
    "        if (Year==2018):\n",
    "            return month_year_collisions[20]\n",
    "        elif (Year==2019):\n",
    "            return month_year_collisions[21]\n",
    "        else:\n",
    "            return 0\n",
    "    elif Month == 'Oct':\n",
    "        if (Year==2018):\n",
    "            return month_year_collisions[22]\n",
    "        elif (Year==2019):\n",
    "            return month_year_collisions[23]\n",
    "        else:\n",
    "            return 0\n",
    "    elif Month == 'Nov':\n",
    "        if (Year==2018):\n",
    "            return month_year_collisions[24]\n",
    "        elif (Year==2019):\n",
    "            return month_year_collisions[25]\n",
    "        else:\n",
    "            return 0\n",
    "    elif Month == 'Dec':\n",
    "        if (Year==2018):\n",
    "            return month_year_collisions[26]\n",
    "        elif (Year==2019):\n",
    "            return month_year_collisions[27]\n",
    "        else:\n",
    "            return 0\n",
    "    else:\n",
    "        return 0\n",
    "\n",
    "def month_year_duicounts(Month, Year):\n",
    "    if (Month=='Jan'):\n",
    "        if (Year==2018):\n",
    "            return month_year_dui[0]\n",
    "        elif (Year==2019):\n",
    "            return month_year_dui[1]\n",
    "        else:\n",
    "            return month_year_dui[2]\n",
    "    elif Month == 'Feb':\n",
    "        if (Year==2018):\n",
    "            return month_year_dui[3]\n",
    "        elif (Year==2019):\n",
    "            return month_year_dui[4]\n",
    "        else:\n",
    "            return month_year_dui[5]\n",
    "    elif Month == 'Mar':\n",
    "        if (Year==2018):\n",
    "            return month_year_dui[6]\n",
    "        elif (Year==2019):\n",
    "            return month_year_dui[7]\n",
    "        else:\n",
    "            return month_year_dui[8]\n",
    "    elif Month == 'Apr':\n",
    "        if (Year==2018):\n",
    "            return month_year_dui[9]\n",
    "        elif (Year==2019):\n",
    "            return month_year_dui[10]\n",
    "        else:\n",
    "            return month_year_dui[11]\n",
    "    elif Month == 'May':\n",
    "        if (Year==2018):\n",
    "            return month_year_dui[12]\n",
    "        elif (Year==2019):\n",
    "            return month_year_dui[13]\n",
    "        else:\n",
    "            return 0\n",
    "    elif Month == 'Jun':\n",
    "        if (Year==2018):\n",
    "            return month_year_dui[14]\n",
    "        elif (Year==2019):\n",
    "            return month_year_dui[15]\n",
    "        else:\n",
    "            return 0\n",
    "    elif Month == 'Jul':\n",
    "        if (Year==2018):\n",
    "            return month_year_dui[16]\n",
    "        elif (Year==2019):\n",
    "            return month_year_dui[17]\n",
    "        else:\n",
    "            return 0\n",
    "    elif Month == 'Aug':\n",
    "        if (Year==2018):\n",
    "            return month_year_dui[18]\n",
    "        elif (Year==2019):\n",
    "            return month_year_dui[19]\n",
    "        else:\n",
    "            return 0\n",
    "    elif Month == 'Sep':\n",
    "        if (Year==2018):\n",
    "            return month_year_dui[20]\n",
    "        elif (Year==2019):\n",
    "            return month_year_dui[21]\n",
    "        else:\n",
    "            return 0\n",
    "    elif Month == 'Oct':\n",
    "        if (Year==2018):\n",
    "            return month_year_dui[22]\n",
    "        elif (Year==2019):\n",
    "            return month_year_dui[23]\n",
    "        else:\n",
    "            return 0\n",
    "    elif Month == 'Nov':\n",
    "        if (Year==2018):\n",
    "            return month_year_dui[24]\n",
    "        elif (Year==2019):\n",
    "            return month_year_dui[25]\n",
    "        else:\n",
    "            return 0\n",
    "    elif Month == 'Dec':\n",
    "        if (Year==2018):\n",
    "            return month_year_dui[26]\n",
    "        elif (Year==2019):\n",
    "            return month_year_dui[27]\n",
    "        else:\n",
    "            return 0\n",
    "    else:\n",
    "        return 0\n"
   ]
  },
  {
   "cell_type": "code",
   "execution_count": 34,
   "metadata": {},
   "outputs": [],
   "source": [
    "std_collisions_df['collision_counts'] = std_collisions_df.apply(lambda x: month_year_collisioncounts(x['month'], x['year']), axis=1)\n",
    "std_collisions_df['dui_counts'] = std_collisions_df.apply(lambda x: month_year_duicounts(x['month'], x['year']), axis=1)"
   ]
  },
  {
   "cell_type": "code",
   "execution_count": 35,
   "metadata": {},
   "outputs": [
    {
     "data": {
      "text/html": [
       "<div>\n",
       "<style scoped>\n",
       "    .dataframe tbody tr th:only-of-type {\n",
       "        vertical-align: middle;\n",
       "    }\n",
       "\n",
       "    .dataframe tbody tr th {\n",
       "        vertical-align: top;\n",
       "    }\n",
       "\n",
       "    .dataframe thead th {\n",
       "        text-align: right;\n",
       "    }\n",
       "</style>\n",
       "<table border=\"1\" class=\"dataframe\">\n",
       "  <thead>\n",
       "    <tr style=\"text-align: right;\">\n",
       "      <th></th>\n",
       "      <th>quarter</th>\n",
       "      <th>year</th>\n",
       "      <th>month</th>\n",
       "      <th>charge_desc</th>\n",
       "      <th>collision_counts</th>\n",
       "      <th>dui_counts</th>\n",
       "    </tr>\n",
       "  </thead>\n",
       "  <tbody>\n",
       "    <tr>\n",
       "      <th>0</th>\n",
       "      <td>1</td>\n",
       "      <td>2018</td>\n",
       "      <td>Jan</td>\n",
       "      <td>Other Violation</td>\n",
       "      <td>761</td>\n",
       "      <td>6</td>\n",
       "    </tr>\n",
       "    <tr>\n",
       "      <th>1</th>\n",
       "      <td>1</td>\n",
       "      <td>2018</td>\n",
       "      <td>Jan</td>\n",
       "      <td>Other Violation</td>\n",
       "      <td>761</td>\n",
       "      <td>6</td>\n",
       "    </tr>\n",
       "    <tr>\n",
       "      <th>2</th>\n",
       "      <td>1</td>\n",
       "      <td>2018</td>\n",
       "      <td>Jan</td>\n",
       "      <td>Other Violation</td>\n",
       "      <td>761</td>\n",
       "      <td>6</td>\n",
       "    </tr>\n",
       "    <tr>\n",
       "      <th>3</th>\n",
       "      <td>1</td>\n",
       "      <td>2018</td>\n",
       "      <td>Jan</td>\n",
       "      <td>Other Violation</td>\n",
       "      <td>761</td>\n",
       "      <td>6</td>\n",
       "    </tr>\n",
       "    <tr>\n",
       "      <th>4</th>\n",
       "      <td>1</td>\n",
       "      <td>2018</td>\n",
       "      <td>Jan</td>\n",
       "      <td>Other Violation</td>\n",
       "      <td>761</td>\n",
       "      <td>6</td>\n",
       "    </tr>\n",
       "  </tbody>\n",
       "</table>\n",
       "</div>"
      ],
      "text/plain": [
       "   quarter  year month      charge_desc  collision_counts  dui_counts\n",
       "0        1  2018   Jan  Other Violation               761           6\n",
       "1        1  2018   Jan  Other Violation               761           6\n",
       "2        1  2018   Jan  Other Violation               761           6\n",
       "3        1  2018   Jan  Other Violation               761           6\n",
       "4        1  2018   Jan  Other Violation               761           6"
      ]
     },
     "execution_count": 35,
     "metadata": {},
     "output_type": "execute_result"
    }
   ],
   "source": [
    "std_collisions_df.head()"
   ]
  },
  {
   "cell_type": "markdown",
   "metadata": {},
   "source": [
    "We start merging by year and quarter"
   ]
  },
  {
   "cell_type": "code",
   "execution_count": 36,
   "metadata": {},
   "outputs": [],
   "source": [
    "amazon_df['g']=amazon_df.groupby(['year','quarter']).cumcount()\n",
    "std_collisions_df['g']=std_collisions_df.groupby(['year','quarter']).cumcount()\n",
    "new_df = std_collisions_df.merge(amazon_df,how='left').drop('g',1)\n",
    "new_df['revenue'] = new_df.apply(lambda x: quarter_year_revenue(x['quarter'], x['year']), axis=1)"
   ]
  },
  {
   "cell_type": "code",
   "execution_count": 37,
   "metadata": {},
   "outputs": [
    {
     "data": {
      "text/html": [
       "<div>\n",
       "<style scoped>\n",
       "    .dataframe tbody tr th:only-of-type {\n",
       "        vertical-align: middle;\n",
       "    }\n",
       "\n",
       "    .dataframe tbody tr th {\n",
       "        vertical-align: top;\n",
       "    }\n",
       "\n",
       "    .dataframe thead th {\n",
       "        text-align: right;\n",
       "    }\n",
       "</style>\n",
       "<table border=\"1\" class=\"dataframe\">\n",
       "  <thead>\n",
       "    <tr style=\"text-align: right;\">\n",
       "      <th></th>\n",
       "      <th>quarter</th>\n",
       "      <th>year</th>\n",
       "      <th>month</th>\n",
       "      <th>charge_desc</th>\n",
       "      <th>collision_counts</th>\n",
       "      <th>dui_counts</th>\n",
       "      <th>revenue</th>\n",
       "    </tr>\n",
       "  </thead>\n",
       "  <tbody>\n",
       "    <tr>\n",
       "      <th>0</th>\n",
       "      <td>1</td>\n",
       "      <td>2018</td>\n",
       "      <td>Jan</td>\n",
       "      <td>Other Violation</td>\n",
       "      <td>761</td>\n",
       "      <td>6</td>\n",
       "      <td>51.04</td>\n",
       "    </tr>\n",
       "    <tr>\n",
       "      <th>1</th>\n",
       "      <td>1</td>\n",
       "      <td>2018</td>\n",
       "      <td>Jan</td>\n",
       "      <td>Other Violation</td>\n",
       "      <td>761</td>\n",
       "      <td>6</td>\n",
       "      <td>51.04</td>\n",
       "    </tr>\n",
       "    <tr>\n",
       "      <th>2</th>\n",
       "      <td>1</td>\n",
       "      <td>2018</td>\n",
       "      <td>Jan</td>\n",
       "      <td>Other Violation</td>\n",
       "      <td>761</td>\n",
       "      <td>6</td>\n",
       "      <td>51.04</td>\n",
       "    </tr>\n",
       "    <tr>\n",
       "      <th>3</th>\n",
       "      <td>1</td>\n",
       "      <td>2018</td>\n",
       "      <td>Jan</td>\n",
       "      <td>Other Violation</td>\n",
       "      <td>761</td>\n",
       "      <td>6</td>\n",
       "      <td>51.04</td>\n",
       "    </tr>\n",
       "    <tr>\n",
       "      <th>4</th>\n",
       "      <td>1</td>\n",
       "      <td>2018</td>\n",
       "      <td>Jan</td>\n",
       "      <td>Other Violation</td>\n",
       "      <td>761</td>\n",
       "      <td>6</td>\n",
       "      <td>51.04</td>\n",
       "    </tr>\n",
       "  </tbody>\n",
       "</table>\n",
       "</div>"
      ],
      "text/plain": [
       "   quarter  year month      charge_desc  collision_counts  dui_counts  revenue\n",
       "0        1  2018   Jan  Other Violation               761           6    51.04\n",
       "1        1  2018   Jan  Other Violation               761           6    51.04\n",
       "2        1  2018   Jan  Other Violation               761           6    51.04\n",
       "3        1  2018   Jan  Other Violation               761           6    51.04\n",
       "4        1  2018   Jan  Other Violation               761           6    51.04"
      ]
     },
     "execution_count": 37,
     "metadata": {},
     "output_type": "execute_result"
    }
   ],
   "source": [
    "new_df.head()"
   ]
  },
  {
   "cell_type": "markdown",
   "metadata": {},
   "source": [
    "Merge current set with our rain dataframe based on month, year, and quarter."
   ]
  },
  {
   "cell_type": "code",
   "execution_count": 38,
   "metadata": {},
   "outputs": [],
   "source": [
    "new_df = pd.merge(new_df, new_rain_df, on=['month', 'year', 'quarter'])"
   ]
  },
  {
   "cell_type": "code",
   "execution_count": 39,
   "metadata": {},
   "outputs": [
    {
     "data": {
      "text/html": [
       "<div>\n",
       "<style scoped>\n",
       "    .dataframe tbody tr th:only-of-type {\n",
       "        vertical-align: middle;\n",
       "    }\n",
       "\n",
       "    .dataframe tbody tr th {\n",
       "        vertical-align: top;\n",
       "    }\n",
       "\n",
       "    .dataframe thead th {\n",
       "        text-align: right;\n",
       "    }\n",
       "</style>\n",
       "<table border=\"1\" class=\"dataframe\">\n",
       "  <thead>\n",
       "    <tr style=\"text-align: right;\">\n",
       "      <th></th>\n",
       "      <th>quarter</th>\n",
       "      <th>year</th>\n",
       "      <th>month</th>\n",
       "      <th>charge_desc</th>\n",
       "      <th>collision_counts</th>\n",
       "      <th>dui_counts</th>\n",
       "      <th>revenue</th>\n",
       "      <th>amount_rainfall</th>\n",
       "    </tr>\n",
       "  </thead>\n",
       "  <tbody>\n",
       "    <tr>\n",
       "      <th>0</th>\n",
       "      <td>1</td>\n",
       "      <td>2018</td>\n",
       "      <td>Jan</td>\n",
       "      <td>Other Violation</td>\n",
       "      <td>761</td>\n",
       "      <td>6</td>\n",
       "      <td>51.04</td>\n",
       "      <td>1.78</td>\n",
       "    </tr>\n",
       "    <tr>\n",
       "      <th>1</th>\n",
       "      <td>1</td>\n",
       "      <td>2018</td>\n",
       "      <td>Jan</td>\n",
       "      <td>Other Violation</td>\n",
       "      <td>761</td>\n",
       "      <td>6</td>\n",
       "      <td>51.04</td>\n",
       "      <td>1.78</td>\n",
       "    </tr>\n",
       "    <tr>\n",
       "      <th>2</th>\n",
       "      <td>1</td>\n",
       "      <td>2018</td>\n",
       "      <td>Jan</td>\n",
       "      <td>Other Violation</td>\n",
       "      <td>761</td>\n",
       "      <td>6</td>\n",
       "      <td>51.04</td>\n",
       "      <td>1.78</td>\n",
       "    </tr>\n",
       "    <tr>\n",
       "      <th>3</th>\n",
       "      <td>1</td>\n",
       "      <td>2018</td>\n",
       "      <td>Jan</td>\n",
       "      <td>Other Violation</td>\n",
       "      <td>761</td>\n",
       "      <td>6</td>\n",
       "      <td>51.04</td>\n",
       "      <td>1.78</td>\n",
       "    </tr>\n",
       "    <tr>\n",
       "      <th>4</th>\n",
       "      <td>1</td>\n",
       "      <td>2018</td>\n",
       "      <td>Jan</td>\n",
       "      <td>Other Violation</td>\n",
       "      <td>761</td>\n",
       "      <td>6</td>\n",
       "      <td>51.04</td>\n",
       "      <td>1.78</td>\n",
       "    </tr>\n",
       "  </tbody>\n",
       "</table>\n",
       "</div>"
      ],
      "text/plain": [
       "   quarter  year month      charge_desc  collision_counts  dui_counts  \\\n",
       "0        1  2018   Jan  Other Violation               761           6   \n",
       "1        1  2018   Jan  Other Violation               761           6   \n",
       "2        1  2018   Jan  Other Violation               761           6   \n",
       "3        1  2018   Jan  Other Violation               761           6   \n",
       "4        1  2018   Jan  Other Violation               761           6   \n",
       "\n",
       "   revenue  amount_rainfall  \n",
       "0    51.04             1.78  \n",
       "1    51.04             1.78  \n",
       "2    51.04             1.78  \n",
       "3    51.04             1.78  \n",
       "4    51.04             1.78  "
      ]
     },
     "execution_count": 39,
     "metadata": {},
     "output_type": "execute_result"
    }
   ],
   "source": [
    "new_df.head()"
   ]
  },
  {
   "cell_type": "markdown",
   "metadata": {},
   "source": [
    "Now that all dataframes are merged together, we can check to see how one variable can potentially affect the other"
   ]
  },
  {
   "cell_type": "markdown",
   "metadata": {},
   "source": [
    "# Data Analysis & Results"
   ]
  },
  {
   "cell_type": "code",
   "execution_count": 40,
   "metadata": {},
   "outputs": [
    {
     "data": {
      "text/html": [
       "<div>\n",
       "<style scoped>\n",
       "    .dataframe tbody tr th:only-of-type {\n",
       "        vertical-align: middle;\n",
       "    }\n",
       "\n",
       "    .dataframe tbody tr th {\n",
       "        vertical-align: top;\n",
       "    }\n",
       "\n",
       "    .dataframe thead th {\n",
       "        text-align: right;\n",
       "    }\n",
       "</style>\n",
       "<table border=\"1\" class=\"dataframe\">\n",
       "  <thead>\n",
       "    <tr style=\"text-align: right;\">\n",
       "      <th></th>\n",
       "      <th>quarter</th>\n",
       "      <th>year</th>\n",
       "      <th>collision_counts</th>\n",
       "      <th>dui_counts</th>\n",
       "      <th>revenue</th>\n",
       "      <th>amount_rainfall</th>\n",
       "    </tr>\n",
       "  </thead>\n",
       "  <tbody>\n",
       "    <tr>\n",
       "      <th>count</th>\n",
       "      <td>22368.000000</td>\n",
       "      <td>22368.000000</td>\n",
       "      <td>22368.000000</td>\n",
       "      <td>22368.000000</td>\n",
       "      <td>22368.000000</td>\n",
       "      <td>22368.000000</td>\n",
       "    </tr>\n",
       "    <tr>\n",
       "      <th>mean</th>\n",
       "      <td>2.387071</td>\n",
       "      <td>2018.662643</td>\n",
       "      <td>818.677843</td>\n",
       "      <td>22.009254</td>\n",
       "      <td>64.740083</td>\n",
       "      <td>0.959164</td>\n",
       "    </tr>\n",
       "    <tr>\n",
       "      <th>std</th>\n",
       "      <td>1.145996</td>\n",
       "      <td>0.659229</td>\n",
       "      <td>90.582666</td>\n",
       "      <td>18.612492</td>\n",
       "      <td>13.196031</td>\n",
       "      <td>1.233496</td>\n",
       "    </tr>\n",
       "    <tr>\n",
       "      <th>min</th>\n",
       "      <td>1.000000</td>\n",
       "      <td>2018.000000</td>\n",
       "      <td>266.000000</td>\n",
       "      <td>1.000000</td>\n",
       "      <td>0.000000</td>\n",
       "      <td>0.000000</td>\n",
       "    </tr>\n",
       "    <tr>\n",
       "      <th>25%</th>\n",
       "      <td>1.000000</td>\n",
       "      <td>2018.000000</td>\n",
       "      <td>792.000000</td>\n",
       "      <td>5.000000</td>\n",
       "      <td>56.580000</td>\n",
       "      <td>0.010000</td>\n",
       "    </tr>\n",
       "    <tr>\n",
       "      <th>50%</th>\n",
       "      <td>2.000000</td>\n",
       "      <td>2019.000000</td>\n",
       "      <td>840.000000</td>\n",
       "      <td>12.000000</td>\n",
       "      <td>63.400000</td>\n",
       "      <td>0.380000</td>\n",
       "    </tr>\n",
       "    <tr>\n",
       "      <th>75%</th>\n",
       "      <td>3.000000</td>\n",
       "      <td>2019.000000</td>\n",
       "      <td>871.000000</td>\n",
       "      <td>42.000000</td>\n",
       "      <td>72.380000</td>\n",
       "      <td>1.780000</td>\n",
       "    </tr>\n",
       "    <tr>\n",
       "      <th>max</th>\n",
       "      <td>4.000000</td>\n",
       "      <td>2020.000000</td>\n",
       "      <td>911.000000</td>\n",
       "      <td>56.000000</td>\n",
       "      <td>87.440000</td>\n",
       "      <td>4.030000</td>\n",
       "    </tr>\n",
       "  </tbody>\n",
       "</table>\n",
       "</div>"
      ],
      "text/plain": [
       "            quarter          year  collision_counts    dui_counts  \\\n",
       "count  22368.000000  22368.000000      22368.000000  22368.000000   \n",
       "mean       2.387071   2018.662643        818.677843     22.009254   \n",
       "std        1.145996      0.659229         90.582666     18.612492   \n",
       "min        1.000000   2018.000000        266.000000      1.000000   \n",
       "25%        1.000000   2018.000000        792.000000      5.000000   \n",
       "50%        2.000000   2019.000000        840.000000     12.000000   \n",
       "75%        3.000000   2019.000000        871.000000     42.000000   \n",
       "max        4.000000   2020.000000        911.000000     56.000000   \n",
       "\n",
       "            revenue  amount_rainfall  \n",
       "count  22368.000000     22368.000000  \n",
       "mean      64.740083         0.959164  \n",
       "std       13.196031         1.233496  \n",
       "min        0.000000         0.000000  \n",
       "25%       56.580000         0.010000  \n",
       "50%       63.400000         0.380000  \n",
       "75%       72.380000         1.780000  \n",
       "max       87.440000         4.030000  "
      ]
     },
     "execution_count": 40,
     "metadata": {},
     "output_type": "execute_result"
    }
   ],
   "source": [
    "new_df.describe() #General Overview Stats"
   ]
  },
  {
   "cell_type": "markdown",
   "metadata": {},
   "source": [
    "### Correlation Of Features"
   ]
  },
  {
   "cell_type": "markdown",
   "metadata": {},
   "source": [
    "From this correlation matrix, we observed that no two features are highly correlated with each other. Revenue has a 0.12 correlation value with amount_rainfall and a 0.64 correlation value with dui_counts. dui_counts has a -0.025 correlation value with amount_rainfall. This means that our data is not multicollinear."
   ]
  },
  {
   "cell_type": "code",
   "execution_count": 41,
   "metadata": {},
   "outputs": [
    {
     "data": {
      "text/plain": [
       "(4.0, 0.0)"
      ]
     },
     "execution_count": 41,
     "metadata": {},
     "output_type": "execute_result"
    },
    {
     "data": {
      "image/png": "[encoded data removed]",
      "text/plain": [
       "<Figure size 1080x504 with 2 Axes>"
      ]
     },
     "metadata": {
      "needs_background": "light"
     },
     "output_type": "display_data"
    }
   ],
   "source": [
    "fig, ax = plt.subplots(figsize=(15,7))\n",
    "ax.set_title('Correlation of Features')\n",
    "ax = sns.heatmap(new_df.drop(['quarter', 'year', 'month'], axis=1).corr(), cmap=\"YlGnBu\", annot=True)\n",
    "bottom, top = ax.get_ylim()\n",
    "ax.set_ylim(bottom + 0.5, top - 0.5)"
   ]
  },
  {
   "cell_type": "markdown",
   "metadata": {},
   "source": [
    "### Pairplot Between Features"
   ]
  },
  {
   "cell_type": "markdown",
   "metadata": {},
   "source": [
    "This pairplot helps us visualize linear relationships between features. The highest correlation is between revenue and dui_counts which has a clear linear relationship within the pairplot. Revenue and rainfall also has a clear linear relationship. "
   ]
  },
  {
   "cell_type": "code",
   "execution_count": 42,
   "metadata": {},
   "outputs": [
    {
     "data": {
      "text/plain": [
       "Text(0.5, 1.08, 'Pairplot of Features')"
      ]
     },
     "execution_count": 42,
     "metadata": {},
     "output_type": "execute_result"
    },
    {
     "data": {
      "image/png": "[encoded data removed]",
      "text/plain": [
       "<Figure size 720x720 with 20 Axes>"
      ]
     },
     "metadata": {},
     "output_type": "display_data"
    }
   ],
   "source": [
    "sns.set_style(\"whitegrid\", {'axes.grid' : False})\n",
    "g = sns.pairplot(new_df.drop(['quarter', 'year', 'month'], axis=1))\n",
    "g.fig.suptitle(\"Pairplot of Features\", y=1.08, fontsize='xx-large')"
   ]
  },
  {
   "cell_type": "markdown",
   "metadata": {},
   "source": [
    "### Amazon Revenue and Collisions Count Plot / Analysis"
   ]
  },
  {
   "cell_type": "code",
   "execution_count": 43,
   "metadata": {},
   "outputs": [
    {
     "data": {
      "text/html": [
       "<div>\n",
       "<style scoped>\n",
       "    .dataframe tbody tr th:only-of-type {\n",
       "        vertical-align: middle;\n",
       "    }\n",
       "\n",
       "    .dataframe tbody tr th {\n",
       "        vertical-align: top;\n",
       "    }\n",
       "\n",
       "    .dataframe thead th {\n",
       "        text-align: right;\n",
       "    }\n",
       "</style>\n",
       "<table border=\"1\" class=\"dataframe\">\n",
       "  <thead>\n",
       "    <tr style=\"text-align: right;\">\n",
       "      <th></th>\n",
       "      <th></th>\n",
       "      <th>count</th>\n",
       "      <th>mean</th>\n",
       "      <th>std</th>\n",
       "      <th>min</th>\n",
       "      <th>25%</th>\n",
       "      <th>50%</th>\n",
       "      <th>75%</th>\n",
       "      <th>max</th>\n",
       "    </tr>\n",
       "    <tr>\n",
       "      <th>month</th>\n",
       "      <th>year</th>\n",
       "      <th></th>\n",
       "      <th></th>\n",
       "      <th></th>\n",
       "      <th></th>\n",
       "      <th></th>\n",
       "      <th></th>\n",
       "      <th></th>\n",
       "      <th></th>\n",
       "    </tr>\n",
       "  </thead>\n",
       "  <tbody>\n",
       "    <tr>\n",
       "      <th rowspan=\"3\" valign=\"top\">Apr</th>\n",
       "      <th>2018</th>\n",
       "      <td>733.0</td>\n",
       "      <td>52.89</td>\n",
       "      <td>7.110279e-15</td>\n",
       "      <td>52.89</td>\n",
       "      <td>52.89</td>\n",
       "      <td>52.89</td>\n",
       "      <td>52.89</td>\n",
       "      <td>52.89</td>\n",
       "    </tr>\n",
       "    <tr>\n",
       "      <th>2019</th>\n",
       "      <td>816.0</td>\n",
       "      <td>63.40</td>\n",
       "      <td>1.421957e-14</td>\n",
       "      <td>63.40</td>\n",
       "      <td>63.40</td>\n",
       "      <td>63.40</td>\n",
       "      <td>63.40</td>\n",
       "      <td>63.40</td>\n",
       "    </tr>\n",
       "    <tr>\n",
       "      <th>2020</th>\n",
       "      <td>266.0</td>\n",
       "      <td>0.00</td>\n",
       "      <td>0.000000e+00</td>\n",
       "      <td>0.00</td>\n",
       "      <td>0.00</td>\n",
       "      <td>0.00</td>\n",
       "      <td>0.00</td>\n",
       "      <td>0.00</td>\n",
       "    </tr>\n",
       "    <tr>\n",
       "      <th rowspan=\"2\" valign=\"top\">Aug</th>\n",
       "      <th>2018</th>\n",
       "      <td>823.0</td>\n",
       "      <td>56.58</td>\n",
       "      <td>0.000000e+00</td>\n",
       "      <td>56.58</td>\n",
       "      <td>56.58</td>\n",
       "      <td>56.58</td>\n",
       "      <td>56.58</td>\n",
       "      <td>56.58</td>\n",
       "    </tr>\n",
       "    <tr>\n",
       "      <th>2019</th>\n",
       "      <td>859.0</td>\n",
       "      <td>69.98</td>\n",
       "      <td>0.000000e+00</td>\n",
       "      <td>69.98</td>\n",
       "      <td>69.98</td>\n",
       "      <td>69.98</td>\n",
       "      <td>69.98</td>\n",
       "      <td>69.98</td>\n",
       "    </tr>\n",
       "    <tr>\n",
       "      <th rowspan=\"2\" valign=\"top\">Dec</th>\n",
       "      <th>2018</th>\n",
       "      <td>887.0</td>\n",
       "      <td>72.38</td>\n",
       "      <td>0.000000e+00</td>\n",
       "      <td>72.38</td>\n",
       "      <td>72.38</td>\n",
       "      <td>72.38</td>\n",
       "      <td>72.38</td>\n",
       "      <td>72.38</td>\n",
       "    </tr>\n",
       "    <tr>\n",
       "      <th>2019</th>\n",
       "      <td>792.0</td>\n",
       "      <td>87.44</td>\n",
       "      <td>1.421983e-14</td>\n",
       "      <td>87.44</td>\n",
       "      <td>87.44</td>\n",
       "      <td>87.44</td>\n",
       "      <td>87.44</td>\n",
       "      <td>87.44</td>\n",
       "    </tr>\n",
       "    <tr>\n",
       "      <th rowspan=\"3\" valign=\"top\">Feb</th>\n",
       "      <th>2018</th>\n",
       "      <td>726.0</td>\n",
       "      <td>51.04</td>\n",
       "      <td>0.000000e+00</td>\n",
       "      <td>51.04</td>\n",
       "      <td>51.04</td>\n",
       "      <td>51.04</td>\n",
       "      <td>51.04</td>\n",
       "      <td>51.04</td>\n",
       "    </tr>\n",
       "    <tr>\n",
       "      <th>2019</th>\n",
       "      <td>756.0</td>\n",
       "      <td>59.70</td>\n",
       "      <td>0.000000e+00</td>\n",
       "      <td>59.70</td>\n",
       "      <td>59.70</td>\n",
       "      <td>59.70</td>\n",
       "      <td>59.70</td>\n",
       "      <td>59.70</td>\n",
       "    </tr>\n",
       "    <tr>\n",
       "      <th>2020</th>\n",
       "      <td>781.0</td>\n",
       "      <td>75.45</td>\n",
       "      <td>1.421996e-14</td>\n",
       "      <td>75.45</td>\n",
       "      <td>75.45</td>\n",
       "      <td>75.45</td>\n",
       "      <td>75.45</td>\n",
       "      <td>75.45</td>\n",
       "    </tr>\n",
       "    <tr>\n",
       "      <th rowspan=\"3\" valign=\"top\">Jan</th>\n",
       "      <th>2018</th>\n",
       "      <td>761.0</td>\n",
       "      <td>51.04</td>\n",
       "      <td>7.110100e-15</td>\n",
       "      <td>51.04</td>\n",
       "      <td>51.04</td>\n",
       "      <td>51.04</td>\n",
       "      <td>51.04</td>\n",
       "      <td>51.04</td>\n",
       "    </tr>\n",
       "    <tr>\n",
       "      <th>2019</th>\n",
       "      <td>808.0</td>\n",
       "      <td>59.70</td>\n",
       "      <td>7.109828e-15</td>\n",
       "      <td>59.70</td>\n",
       "      <td>59.70</td>\n",
       "      <td>59.70</td>\n",
       "      <td>59.70</td>\n",
       "      <td>59.70</td>\n",
       "    </tr>\n",
       "    <tr>\n",
       "      <th>2020</th>\n",
       "      <td>769.0</td>\n",
       "      <td>75.45</td>\n",
       "      <td>1.422010e-14</td>\n",
       "      <td>75.45</td>\n",
       "      <td>75.45</td>\n",
       "      <td>75.45</td>\n",
       "      <td>75.45</td>\n",
       "      <td>75.45</td>\n",
       "    </tr>\n",
       "    <tr>\n",
       "      <th rowspan=\"2\" valign=\"top\">Jul</th>\n",
       "      <th>2018</th>\n",
       "      <td>865.0</td>\n",
       "      <td>56.58</td>\n",
       "      <td>1.421908e-14</td>\n",
       "      <td>56.58</td>\n",
       "      <td>56.58</td>\n",
       "      <td>56.58</td>\n",
       "      <td>56.58</td>\n",
       "      <td>56.58</td>\n",
       "    </tr>\n",
       "    <tr>\n",
       "      <th>2019</th>\n",
       "      <td>896.0</td>\n",
       "      <td>69.98</td>\n",
       "      <td>0.000000e+00</td>\n",
       "      <td>69.98</td>\n",
       "      <td>69.98</td>\n",
       "      <td>69.98</td>\n",
       "      <td>69.98</td>\n",
       "      <td>69.98</td>\n",
       "    </tr>\n",
       "    <tr>\n",
       "      <th rowspan=\"2\" valign=\"top\">Jun</th>\n",
       "      <th>2018</th>\n",
       "      <td>866.0</td>\n",
       "      <td>52.89</td>\n",
       "      <td>1.421907e-14</td>\n",
       "      <td>52.89</td>\n",
       "      <td>52.89</td>\n",
       "      <td>52.89</td>\n",
       "      <td>52.89</td>\n",
       "      <td>52.89</td>\n",
       "    </tr>\n",
       "    <tr>\n",
       "      <th>2019</th>\n",
       "      <td>850.0</td>\n",
       "      <td>63.40</td>\n",
       "      <td>1.421922e-14</td>\n",
       "      <td>63.40</td>\n",
       "      <td>63.40</td>\n",
       "      <td>63.40</td>\n",
       "      <td>63.40</td>\n",
       "      <td>63.40</td>\n",
       "    </tr>\n",
       "    <tr>\n",
       "      <th rowspan=\"3\" valign=\"top\">Mar</th>\n",
       "      <th>2018</th>\n",
       "      <td>851.0</td>\n",
       "      <td>51.04</td>\n",
       "      <td>7.109606e-15</td>\n",
       "      <td>51.04</td>\n",
       "      <td>51.04</td>\n",
       "      <td>51.04</td>\n",
       "      <td>51.04</td>\n",
       "      <td>51.04</td>\n",
       "    </tr>\n",
       "    <tr>\n",
       "      <th>2019</th>\n",
       "      <td>871.0</td>\n",
       "      <td>59.70</td>\n",
       "      <td>7.109510e-15</td>\n",
       "      <td>59.70</td>\n",
       "      <td>59.70</td>\n",
       "      <td>59.70</td>\n",
       "      <td>59.70</td>\n",
       "      <td>59.70</td>\n",
       "    </tr>\n",
       "    <tr>\n",
       "      <th>2020</th>\n",
       "      <td>544.0</td>\n",
       "      <td>75.45</td>\n",
       "      <td>0.000000e+00</td>\n",
       "      <td>75.45</td>\n",
       "      <td>75.45</td>\n",
       "      <td>75.45</td>\n",
       "      <td>75.45</td>\n",
       "      <td>75.45</td>\n",
       "    </tr>\n",
       "    <tr>\n",
       "      <th rowspan=\"2\" valign=\"top\">May</th>\n",
       "      <th>2018</th>\n",
       "      <td>801.0</td>\n",
       "      <td>52.89</td>\n",
       "      <td>0.000000e+00</td>\n",
       "      <td>52.89</td>\n",
       "      <td>52.89</td>\n",
       "      <td>52.89</td>\n",
       "      <td>52.89</td>\n",
       "      <td>52.89</td>\n",
       "    </tr>\n",
       "    <tr>\n",
       "      <th>2019</th>\n",
       "      <td>811.0</td>\n",
       "      <td>63.40</td>\n",
       "      <td>1.421962e-14</td>\n",
       "      <td>63.40</td>\n",
       "      <td>63.40</td>\n",
       "      <td>63.40</td>\n",
       "      <td>63.40</td>\n",
       "      <td>63.40</td>\n",
       "    </tr>\n",
       "    <tr>\n",
       "      <th rowspan=\"2\" valign=\"top\">Nov</th>\n",
       "      <th>2018</th>\n",
       "      <td>871.0</td>\n",
       "      <td>72.38</td>\n",
       "      <td>1.421902e-14</td>\n",
       "      <td>72.38</td>\n",
       "      <td>72.38</td>\n",
       "      <td>72.38</td>\n",
       "      <td>72.38</td>\n",
       "      <td>72.38</td>\n",
       "    </tr>\n",
       "    <tr>\n",
       "      <th>2019</th>\n",
       "      <td>824.0</td>\n",
       "      <td>87.44</td>\n",
       "      <td>1.421949e-14</td>\n",
       "      <td>87.44</td>\n",
       "      <td>87.44</td>\n",
       "      <td>87.44</td>\n",
       "      <td>87.44</td>\n",
       "      <td>87.44</td>\n",
       "    </tr>\n",
       "    <tr>\n",
       "      <th rowspan=\"2\" valign=\"top\">Oct</th>\n",
       "      <th>2018</th>\n",
       "      <td>882.0</td>\n",
       "      <td>72.38</td>\n",
       "      <td>0.000000e+00</td>\n",
       "      <td>72.38</td>\n",
       "      <td>72.38</td>\n",
       "      <td>72.38</td>\n",
       "      <td>72.38</td>\n",
       "      <td>72.38</td>\n",
       "    </tr>\n",
       "    <tr>\n",
       "      <th>2019</th>\n",
       "      <td>911.0</td>\n",
       "      <td>87.44</td>\n",
       "      <td>2.843732e-14</td>\n",
       "      <td>87.44</td>\n",
       "      <td>87.44</td>\n",
       "      <td>87.44</td>\n",
       "      <td>87.44</td>\n",
       "      <td>87.44</td>\n",
       "    </tr>\n",
       "    <tr>\n",
       "      <th rowspan=\"2\" valign=\"top\">Sep</th>\n",
       "      <th>2018</th>\n",
       "      <td>840.0</td>\n",
       "      <td>56.58</td>\n",
       "      <td>1.421932e-14</td>\n",
       "      <td>56.58</td>\n",
       "      <td>56.58</td>\n",
       "      <td>56.58</td>\n",
       "      <td>56.58</td>\n",
       "      <td>56.58</td>\n",
       "    </tr>\n",
       "    <tr>\n",
       "      <th>2019</th>\n",
       "      <td>908.0</td>\n",
       "      <td>69.98</td>\n",
       "      <td>1.421869e-14</td>\n",
       "      <td>69.98</td>\n",
       "      <td>69.98</td>\n",
       "      <td>69.98</td>\n",
       "      <td>69.98</td>\n",
       "      <td>69.98</td>\n",
       "    </tr>\n",
       "  </tbody>\n",
       "</table>\n",
       "</div>"
      ],
      "text/plain": [
       "            count   mean           std    min    25%    50%    75%    max\n",
       "month year                                                               \n",
       "Apr   2018  733.0  52.89  7.110279e-15  52.89  52.89  52.89  52.89  52.89\n",
       "      2019  816.0  63.40  1.421957e-14  63.40  63.40  63.40  63.40  63.40\n",
       "      2020  266.0   0.00  0.000000e+00   0.00   0.00   0.00   0.00   0.00\n",
       "Aug   2018  823.0  56.58  0.000000e+00  56.58  56.58  56.58  56.58  56.58\n",
       "      2019  859.0  69.98  0.000000e+00  69.98  69.98  69.98  69.98  69.98\n",
       "Dec   2018  887.0  72.38  0.000000e+00  72.38  72.38  72.38  72.38  72.38\n",
       "      2019  792.0  87.44  1.421983e-14  87.44  87.44  87.44  87.44  87.44\n",
       "Feb   2018  726.0  51.04  0.000000e+00  51.04  51.04  51.04  51.04  51.04\n",
       "      2019  756.0  59.70  0.000000e+00  59.70  59.70  59.70  59.70  59.70\n",
       "      2020  781.0  75.45  1.421996e-14  75.45  75.45  75.45  75.45  75.45\n",
       "Jan   2018  761.0  51.04  7.110100e-15  51.04  51.04  51.04  51.04  51.04\n",
       "      2019  808.0  59.70  7.109828e-15  59.70  59.70  59.70  59.70  59.70\n",
       "      2020  769.0  75.45  1.422010e-14  75.45  75.45  75.45  75.45  75.45\n",
       "Jul   2018  865.0  56.58  1.421908e-14  56.58  56.58  56.58  56.58  56.58\n",
       "      2019  896.0  69.98  0.000000e+00  69.98  69.98  69.98  69.98  69.98\n",
       "Jun   2018  866.0  52.89  1.421907e-14  52.89  52.89  52.89  52.89  52.89\n",
       "      2019  850.0  63.40  1.421922e-14  63.40  63.40  63.40  63.40  63.40\n",
       "Mar   2018  851.0  51.04  7.109606e-15  51.04  51.04  51.04  51.04  51.04\n",
       "      2019  871.0  59.70  7.109510e-15  59.70  59.70  59.70  59.70  59.70\n",
       "      2020  544.0  75.45  0.000000e+00  75.45  75.45  75.45  75.45  75.45\n",
       "May   2018  801.0  52.89  0.000000e+00  52.89  52.89  52.89  52.89  52.89\n",
       "      2019  811.0  63.40  1.421962e-14  63.40  63.40  63.40  63.40  63.40\n",
       "Nov   2018  871.0  72.38  1.421902e-14  72.38  72.38  72.38  72.38  72.38\n",
       "      2019  824.0  87.44  1.421949e-14  87.44  87.44  87.44  87.44  87.44\n",
       "Oct   2018  882.0  72.38  0.000000e+00  72.38  72.38  72.38  72.38  72.38\n",
       "      2019  911.0  87.44  2.843732e-14  87.44  87.44  87.44  87.44  87.44\n",
       "Sep   2018  840.0  56.58  1.421932e-14  56.58  56.58  56.58  56.58  56.58\n",
       "      2019  908.0  69.98  1.421869e-14  69.98  69.98  69.98  69.98  69.98"
      ]
     },
     "execution_count": 43,
     "metadata": {},
     "output_type": "execute_result"
    }
   ],
   "source": [
    "new_df.groupby(['month', 'year']).revenue.describe() #Overview of Stats over Month and Year"
   ]
  },
  {
   "cell_type": "code",
   "execution_count": 44,
   "metadata": {},
   "outputs": [
    {
     "data": {
      "text/plain": [
       "month  year\n",
       "Apr    2018    733\n",
       "       2019    816\n",
       "       2020    266\n",
       "Aug    2018    823\n",
       "       2019    859\n",
       "Dec    2018    887\n",
       "       2019    792\n",
       "Feb    2018    726\n",
       "       2019    756\n",
       "       2020    781\n",
       "Jan    2018    761\n",
       "       2019    808\n",
       "       2020    769\n",
       "Jul    2018    865\n",
       "       2019    896\n",
       "Jun    2018    866\n",
       "       2019    850\n",
       "Mar    2018    851\n",
       "       2019    871\n",
       "       2020    544\n",
       "May    2018    801\n",
       "       2019    811\n",
       "Nov    2018    871\n",
       "       2019    824\n",
       "Oct    2018    882\n",
       "       2019    911\n",
       "Sep    2018    840\n",
       "       2019    908\n",
       "Name: charge_desc, dtype: int64"
      ]
     },
     "execution_count": 44,
     "metadata": {},
     "output_type": "execute_result"
    }
   ],
   "source": [
    "new_df.groupby(['month', 'year']).charge_desc.size() #Collision Counts for Month and Years"
   ]
  },
  {
   "cell_type": "code",
   "execution_count": 45,
   "metadata": {},
   "outputs": [],
   "source": [
    "new_df['month'] = new_df['month'].apply(month_to_num)"
   ]
  },
  {
   "cell_type": "markdown",
   "metadata": {},
   "source": [
    "We plot revenue and collisions on the same graph where the x-axis is based on year and month and the y-axis is their own output (collision count and revenue in billions)."
   ]
  },
  {
   "cell_type": "code",
   "execution_count": 46,
   "metadata": {},
   "outputs": [
    {
     "data": {
      "text/plain": [
       "<matplotlib.legend.Legend at 0x7f82021ad0b8>"
      ]
     },
     "execution_count": 46,
     "metadata": {},
     "output_type": "execute_result"
    },
    {
     "data": {
      "image/png": "[encoded data removed]",
      "text/plain": [
       "<Figure size 1080x504 with 2 Axes>"
      ]
     },
     "metadata": {},
     "output_type": "display_data"
    }
   ],
   "source": [
    "fig, ax = plt.subplots(figsize=(15,7))\n",
    "ax.set_ylabel('Collision Count')\n",
    "new_df.groupby(['year','month']).charge_desc.size().plot(ax=ax, label='Collision Counts', color='r')\n",
    "ax.set_xlabel('(Year, Month)')\n",
    "ax.set_title('Amazon Revenue vs Collision Counts Per Month')\n",
    "ax.grid(False)\n",
    "\n",
    "ax2 = ax.twinx()\n",
    "new_df.groupby(['year','month']).revenue.agg(min).plot(ax=ax2, color='g', label='Amazon Revenue')\n",
    "ax2.set_ylabel('Revenue (In Billions)')\n",
    "ax2.grid(False)\n",
    "\n",
    "ax.legend()\n",
    "ax2.legend(loc='lower center')"
   ]
  },
  {
   "cell_type": "markdown",
   "metadata": {},
   "source": [
    "This plot shows that both Amazon Revenue and Collision Counts tend to rise and fall similarly. The trends show that both Amazon Revenue and Collision Counts peak around the holiday seasons. This further solidifies our assumption that Amazon Revenue and Collision Counts are positively correlated."
   ]
  },
  {
   "cell_type": "markdown",
   "metadata": {},
   "source": [
    "#### Verifying Multivariate Normality"
   ]
  },
  {
   "cell_type": "code",
   "execution_count": 47,
   "metadata": {},
   "outputs": [
    {
     "data": {
      "text/plain": [
       "(5064.603619520098, 0.0)"
      ]
     },
     "execution_count": 47,
     "metadata": {},
     "output_type": "execute_result"
    }
   ],
   "source": [
    "st, p = stats.normaltest(new_df['revenue'].values)\n",
    "st, p #With alpha value 0.01, we reject the null hypothesis that Amazon revenue is a normal distribution"
   ]
  },
  {
   "cell_type": "code",
   "execution_count": 48,
   "metadata": {},
   "outputs": [
    {
     "data": {
      "text/plain": [
       "(24.79025924348713, 4.1386967194883885e-06)"
      ]
     },
     "execution_count": 48,
     "metadata": {},
     "output_type": "execute_result"
    }
   ],
   "source": [
    "st, p = stats.normaltest(new_df.groupby(['year','quarter']).charge_desc.size().values)\n",
    "st, p #With alpha value 0.01, we fail to reject the null hypothesis, collisions count follows a normal distribution"
   ]
  },
  {
   "cell_type": "code",
   "execution_count": 49,
   "metadata": {},
   "outputs": [
    {
     "data": {
      "text/plain": [
       "(2.4653398376090196, 0.29151322110364913)"
      ]
     },
     "execution_count": 49,
     "metadata": {},
     "output_type": "execute_result"
    }
   ],
   "source": [
    "st, p = stats.normaltest(new_df.groupby(['year','quarter']).dui_counts.agg(min).values)\n",
    "st, p #With alpha value 0.01, we fail to reject the null hypothesis, DUI collisions count follows a normal distribution"
   ]
  },
  {
   "cell_type": "code",
   "execution_count": 50,
   "metadata": {},
   "outputs": [
    {
     "data": {
      "text/plain": [
       "(20.395358013676017, 3.7256690935550084e-05)"
      ]
     },
     "execution_count": 50,
     "metadata": {},
     "output_type": "execute_result"
    }
   ],
   "source": [
    "st, p = stats.normaltest(new_df.groupby(['year','quarter']).amount_rainfall.agg(min).values)\n",
    "st, p #With alpha value 0.01, we fail to reject the null hypothesis, rainfall follows a normal distribution"
   ]
  },
  {
   "cell_type": "markdown",
   "metadata": {},
   "source": [
    "These four normal tests show that all of our features are normal except for Amazon revenue. This means not all five conditions for linear regression are fulfilled therefore our results from OLS Regression is not the best representation of the relationship between dui_counts, amount_rainfall, revenue with collision_counts."
   ]
  },
  {
   "cell_type": "markdown",
   "metadata": {},
   "source": [
    "Now we check for OLS Regression for collision counts against the other variables"
   ]
  },
  {
   "cell_type": "code",
   "execution_count": 51,
   "metadata": {},
   "outputs": [
    {
     "name": "stdout",
     "output_type": "stream",
     "text": [
      "                            OLS Regression Results                            \n",
      "==============================================================================\n",
      "Dep. Variable:       collision_counts   R-squared:                       0.202\n",
      "Model:                            OLS   Adj. R-squared:                  0.202\n",
      "Method:                 Least Squares   F-statistic:                     5676.\n",
      "Date:                Sun, 07 Jun 2020   Prob (F-statistic):               0.00\n",
      "Time:                        13:04:22   Log-Likelihood:            -1.3001e+05\n",
      "No. Observations:               22368   AIC:                         2.600e+05\n",
      "Df Residuals:                   22366   BIC:                         2.600e+05\n",
      "Df Model:                           1                                         \n",
      "Covariance Type:            nonrobust                                         \n",
      "==============================================================================\n",
      "                 coef    std err          t      P>|t|      [0.025      0.975]\n",
      "------------------------------------------------------------------------------\n",
      "Intercept    618.7476      2.708    228.455      0.000     613.439     624.056\n",
      "revenue        3.0882      0.041     75.336      0.000       3.008       3.169\n",
      "==============================================================================\n",
      "Omnibus:                    10700.589   Durbin-Watson:                   0.001\n",
      "Prob(Omnibus):                  0.000   Jarque-Bera (JB):            61637.824\n",
      "Skew:                          -2.289   Prob(JB):                         0.00\n",
      "Kurtosis:                       9.721   Cond. No.                         331.\n",
      "==============================================================================\n",
      "\n",
      "Warnings:\n",
      "[1] Standard Errors assume that the covariance matrix of the errors is correctly specified.\n"
     ]
    }
   ],
   "source": [
    "outcome_1, predictors_1 = patsy.dmatrices('collision_counts ~ revenue', new_df)\n",
    "mod_1 = sm.OLS(outcome_1, predictors_1)\n",
    "res_1 = mod_1.fit()\n",
    "print(res_1.summary())"
   ]
  },
  {
   "cell_type": "markdown",
   "metadata": {},
   "source": [
    "The R-squared is 0.202 meaning that there is little variance represented by this model."
   ]
  },
  {
   "cell_type": "markdown",
   "metadata": {},
   "source": [
    "Here, we set xs to 1 through 12 for each month. The ys are based on the coefficient and intercepts from the results of OLS regression."
   ]
  },
  {
   "cell_type": "code",
   "execution_count": 52,
   "metadata": {},
   "outputs": [],
   "source": [
    "xs = np.arange(1, 13)\n",
    "ys = 3.0882*xs + 618.7476"
   ]
  },
  {
   "cell_type": "markdown",
   "metadata": {},
   "source": [
    "The line is not the true best fit because of the outliers. That makes the intercept lower than it should be."
   ]
  },
  {
   "cell_type": "code",
   "execution_count": 53,
   "metadata": {},
   "outputs": [
    {
     "data": {
      "text/plain": [
       "Text(0.5, 1.0, 'Linear Regression of Revenue on Collision Counts')"
      ]
     },
     "execution_count": 53,
     "metadata": {},
     "output_type": "execute_result"
    },
    {
     "data": {
      "image/png": "[encoded data removed]",
      "text/plain": [
       "<Figure size 432x288 with 1 Axes>"
      ]
     },
     "metadata": {},
     "output_type": "display_data"
    }
   ],
   "source": [
    "sns.scatterplot(x='month', y='collision_counts', alpha=0.3, data=new_df, s=100)\n",
    "plt.plot(xs, ys, '--k', linewidth=4, label='Model')\n",
    "plt.title('Linear Regression of Revenue on Collision Counts')\n"
   ]
  },
  {
   "cell_type": "markdown",
   "metadata": {},
   "source": [
    "### Are there other factors that affect the number of collisions?"
   ]
  },
  {
   "cell_type": "markdown",
   "metadata": {},
   "source": [
    "We plot the number of DUI collisions with non-DUI collisions. This shows to us that DUIs make up a small portion of total collisions."
   ]
  },
  {
   "cell_type": "code",
   "execution_count": 54,
   "metadata": {},
   "outputs": [
    {
     "data": {
      "text/plain": [
       "<matplotlib.axes._subplots.AxesSubplot at 0x7f8202085cf8>"
      ]
     },
     "execution_count": 54,
     "metadata": {},
     "output_type": "execute_result"
    },
    {
     "data": {
      "image/png": "[encoded data removed]",
      "text/plain": [
       "<Figure size 1080x504 with 1 Axes>"
      ]
     },
     "metadata": {},
     "output_type": "display_data"
    }
   ],
   "source": [
    "fig, ax = plt.subplots(figsize=(15,7))\n",
    "ax.set_ylabel('Violation Count')\n",
    "ax.set_xlabel('Other violation or DUI')\n",
    "ax.set_title('Number of DUI collisions vs Non-DUI')\n",
    "new_df['charge_desc'].value_counts().plot(kind='bar', color=['b', 'r'], grid=False)"
   ]
  },
  {
   "cell_type": "markdown",
   "metadata": {},
   "source": [
    "We found out that only about 3% of charge descriptions involved DUIs"
   ]
  },
  {
   "cell_type": "code",
   "execution_count": 55,
   "metadata": {},
   "outputs": [
    {
     "data": {
      "text/plain": [
       "0.02736051502145923"
      ]
     },
     "execution_count": 55,
     "metadata": {},
     "output_type": "execute_result"
    }
   ],
   "source": [
    "number_of_dui = len(new_df[new_df['charge_desc'] == 'DUI'])\n",
    "total_collisions = len(new_df['charge_desc'])\n",
    "number_of_dui / total_collisions #Percent of Collisions that are DUI"
   ]
  },
  {
   "cell_type": "markdown",
   "metadata": {},
   "source": [
    "We graph the number of DUI counts against collision counts based on year and month. This graph shows that they do not share similarities for 2018, but start to resemble similar shapes in the second half of 2019."
   ]
  },
  {
   "cell_type": "code",
   "execution_count": 56,
   "metadata": {},
   "outputs": [
    {
     "data": {
      "text/plain": [
       "<matplotlib.legend.Legend at 0x7f8201fd3d68>"
      ]
     },
     "execution_count": 56,
     "metadata": {},
     "output_type": "execute_result"
    },
    {
     "data": {
      "image/png": "[encoded data removed]",
      "text/plain": [
       "<Figure size 1080x504 with 2 Axes>"
      ]
     },
     "metadata": {},
     "output_type": "display_data"
    }
   ],
   "source": [
    "fig3, ax3 = plt.subplots(figsize=(15,7))\n",
    "ax3.set_ylabel('Collision Count')\n",
    "new_df.groupby(['year','month']).charge_desc.size().plot(ax=ax3, label='Collision Counts', color='r')\n",
    "ax3.set_xlabel('(Year, Month)')\n",
    "ax3.set_title('DUI Counts vs Collision Counts Per Month')\n",
    "ax3.grid(False)\n",
    "\n",
    "ax4 = ax3.twinx()\n",
    "new_df.groupby(['year','month']).dui_counts.agg(min).plot(ax=ax4, label='DUI Counts', color='y')\n",
    "ax4.set_ylabel('Number of DUI Collisions')\n",
    "ax4.grid(False)\n",
    "\n",
    "ax3.legend()\n",
    "ax4.legend(loc='lower center')"
   ]
  },
  {
   "cell_type": "code",
   "execution_count": 57,
   "metadata": {},
   "outputs": [
    {
     "name": "stdout",
     "output_type": "stream",
     "text": [
      "                            OLS Regression Results                            \n",
      "==============================================================================\n",
      "Dep. Variable:       collision_counts   R-squared:                       0.007\n",
      "Model:                            OLS   Adj. R-squared:                  0.007\n",
      "Method:                 Least Squares   F-statistic:                     165.6\n",
      "Date:                Sun, 07 Jun 2020   Prob (F-statistic):           9.34e-38\n",
      "Time:                        13:04:25   Log-Likelihood:            -1.3245e+05\n",
      "No. Observations:               22368   AIC:                         2.649e+05\n",
      "Df Residuals:                   22366   BIC:                         2.649e+05\n",
      "Df Model:                           1                                         \n",
      "Covariance Type:            nonrobust                                         \n",
      "==============================================================================\n",
      "                 coef    std err          t      P>|t|      [0.025      0.975]\n",
      "------------------------------------------------------------------------------\n",
      "Intercept    809.4957      0.935    866.198      0.000     807.664     811.327\n",
      "dui_counts     0.4172      0.032     12.867      0.000       0.354       0.481\n",
      "==============================================================================\n",
      "Omnibus:                    16166.410   Durbin-Watson:                   0.001\n",
      "Prob(Omnibus):                  0.000   Jarque-Bera (JB):           282558.881\n",
      "Skew:                          -3.363   Prob(JB):                         0.00\n",
      "Kurtosis:                      19.061   Cond. No.                         44.7\n",
      "==============================================================================\n",
      "\n",
      "Warnings:\n",
      "[1] Standard Errors assume that the covariance matrix of the errors is correctly specified.\n"
     ]
    }
   ],
   "source": [
    "outcome_1, predictors_1 = patsy.dmatrices('collision_counts ~ dui_counts', new_df)\n",
    "mod_1 = sm.OLS(outcome_1, predictors_1)\n",
    "res_1 = mod_1.fit()\n",
    "print(res_1.summary())"
   ]
  },
  {
   "cell_type": "markdown",
   "metadata": {},
   "source": [
    "R-squared is 0.007 meaning there is very little variance represented by this model."
   ]
  },
  {
   "cell_type": "code",
   "execution_count": 58,
   "metadata": {},
   "outputs": [],
   "source": [
    "xs = np.arange(1, 13)\n",
    "ys = 0.4172*xs + 809.4957"
   ]
  },
  {
   "cell_type": "markdown",
   "metadata": {},
   "source": [
    "The lineplot confirms there is little variance by showing a line that fits well with the scattered points."
   ]
  },
  {
   "cell_type": "code",
   "execution_count": 59,
   "metadata": {},
   "outputs": [
    {
     "data": {
      "text/plain": [
       "Text(0.5, 1.0, 'Linear Regression of DUI on Collision Counts')"
      ]
     },
     "execution_count": 59,
     "metadata": {},
     "output_type": "execute_result"
    },
    {
     "data": {
      "image/png": "[encoded data removed]",
      "text/plain": [
       "<Figure size 432x288 with 1 Axes>"
      ]
     },
     "metadata": {},
     "output_type": "display_data"
    }
   ],
   "source": [
    "sns.scatterplot(x='month', y='collision_counts', alpha=0.3, data=new_df, s=100)\n",
    "plt.plot(xs, ys, '--k', linewidth=4, label='Model')\n",
    "plt.title('Linear Regression of DUI on Collision Counts')\n"
   ]
  },
  {
   "cell_type": "markdown",
   "metadata": {},
   "source": [
    "### Collision Counts and Rainfall (In Inches) Plot"
   ]
  },
  {
   "cell_type": "markdown",
   "metadata": {},
   "source": [
    "We graph rainfall against collision counts based on year and month. This graph shows that there is little to no similarities between the two."
   ]
  },
  {
   "cell_type": "code",
   "execution_count": 60,
   "metadata": {},
   "outputs": [
    {
     "data": {
      "text/plain": [
       "<matplotlib.legend.Legend at 0x7f8201e718d0>"
      ]
     },
     "execution_count": 60,
     "metadata": {},
     "output_type": "execute_result"
    },
    {
     "data": {
      "image/png": "[encoded data removed]",
      "text/plain": [
       "<Figure size 1080x504 with 2 Axes>"
      ]
     },
     "metadata": {},
     "output_type": "display_data"
    }
   ],
   "source": [
    "fig5, ax5 = plt.subplots(figsize=(15,7))\n",
    "ax5.set_ylabel('Collision Count')\n",
    "new_df.groupby(['year','month']).charge_desc.size().plot(ax=ax5, label='Collision Counts', color='r')\n",
    "ax5.set_xlabel('(Year, Month)')\n",
    "ax5.set_title('Rainfall vs Collision Counts Per Month')\n",
    "ax5.grid(False)\n",
    "\n",
    "ax6 = ax5.twinx()\n",
    "new_df.groupby(['year','month']).amount_rainfall.agg(min).plot(ax=ax6, label='Rainfall (In Inches)', color='b')\n",
    "ax6.set_ylabel('Rainfall (In Inches)')\n",
    "ax6.grid(False)\n",
    "\n",
    "ax5.legend()\n",
    "ax6.legend(loc='lower center')"
   ]
  },
  {
   "cell_type": "code",
   "execution_count": 61,
   "metadata": {},
   "outputs": [
    {
     "name": "stdout",
     "output_type": "stream",
     "text": [
      "                            OLS Regression Results                            \n",
      "==============================================================================\n",
      "Dep. Variable:       collision_counts   R-squared:                       0.135\n",
      "Model:                            OLS   Adj. R-squared:                  0.135\n",
      "Method:                 Least Squares   F-statistic:                     3477.\n",
      "Date:                Sun, 07 Jun 2020   Prob (F-statistic):               0.00\n",
      "Time:                        13:04:27   Log-Likelihood:            -1.3092e+05\n",
      "No. Observations:               22368   AIC:                         2.618e+05\n",
      "Df Residuals:                   22366   BIC:                         2.619e+05\n",
      "Df Model:                           1                                         \n",
      "Covariance Type:            nonrobust                                         \n",
      "===================================================================================\n",
      "                      coef    std err          t      P>|t|      [0.025      0.975]\n",
      "-----------------------------------------------------------------------------------\n",
      "Intercept         844.5156      0.714   1183.185      0.000     843.117     845.915\n",
      "amount_rainfall   -26.9378      0.457    -58.970      0.000     -27.833     -26.042\n",
      "==============================================================================\n",
      "Omnibus:                    13355.953   Durbin-Watson:                   0.001\n",
      "Prob(Omnibus):                  0.000   Jarque-Bera (JB):           152725.797\n",
      "Skew:                          -2.714   Prob(JB):                         0.00\n",
      "Kurtosis:                      14.593   Cond. No.                         2.37\n",
      "==============================================================================\n",
      "\n",
      "Warnings:\n",
      "[1] Standard Errors assume that the covariance matrix of the errors is correctly specified.\n"
     ]
    }
   ],
   "source": [
    "outcome_1, predictors_1 = patsy.dmatrices('collision_counts ~ amount_rainfall', new_df)\n",
    "mod_1 = sm.OLS(outcome_1, predictors_1)\n",
    "res_1 = mod_1.fit()\n",
    "print(res_1.summary())"
   ]
  },
  {
   "cell_type": "markdown",
   "metadata": {},
   "source": [
    "R-squared is 0.135 meaning there is little variance represented by this model."
   ]
  },
  {
   "cell_type": "code",
   "execution_count": 62,
   "metadata": {},
   "outputs": [],
   "source": [
    "xs = np.arange(1, 13)\n",
    "ys = -26.9378*xs + 844.5156"
   ]
  },
  {
   "cell_type": "markdown",
   "metadata": {},
   "source": [
    "The slope of this graph is inaccurate because the outliers are off by hundreds. Based on assumptions, if we remove the two outliers, the slope should be somewhat positive but the plot shows that its negative."
   ]
  },
  {
   "cell_type": "code",
   "execution_count": 63,
   "metadata": {},
   "outputs": [
    {
     "data": {
      "text/plain": [
       "Text(0.5, 1.0, 'Linear Regression of Rainfall on Collision Counts')"
      ]
     },
     "execution_count": 63,
     "metadata": {},
     "output_type": "execute_result"
    },
    {
     "data": {
      "image/png": "[encoded data removed]",
      "text/plain": [
       "<Figure size 432x288 with 1 Axes>"
      ]
     },
     "metadata": {},
     "output_type": "display_data"
    }
   ],
   "source": [
    "sns.scatterplot(x='month', y='collision_counts', alpha=0.3, data=new_df, s=100)\n",
    "plt.plot(xs, ys, '--k', linewidth=4, label='Model')\n",
    "plt.title('Linear Regression of Rainfall on Collision Counts')\n"
   ]
  },
  {
   "cell_type": "markdown",
   "metadata": {},
   "source": [
    "Now we check for OLS Regression for collision counts against dui counts, rainfall, and revenue."
   ]
  },
  {
   "cell_type": "code",
   "execution_count": 64,
   "metadata": {},
   "outputs": [
    {
     "name": "stdout",
     "output_type": "stream",
     "text": [
      "                            OLS Regression Results                            \n",
      "==============================================================================\n",
      "Dep. Variable:       collision_counts   R-squared:                       0.484\n",
      "Model:                            OLS   Adj. R-squared:                  0.484\n",
      "Method:                 Least Squares   F-statistic:                     6997.\n",
      "Date:                Sun, 07 Jun 2020   Prob (F-statistic):               0.00\n",
      "Time:                        13:04:29   Log-Likelihood:            -1.2513e+05\n",
      "No. Observations:               22368   AIC:                         2.503e+05\n",
      "Df Residuals:                   22364   BIC:                         2.503e+05\n",
      "Df Model:                           3                                         \n",
      "Covariance Type:            nonrobust                                         \n",
      "===================================================================================\n",
      "                      coef    std err          t      P>|t|      [0.025      0.975]\n",
      "-----------------------------------------------------------------------------------\n",
      "Intercept         553.2584      2.439    226.864      0.000     548.478     558.038\n",
      "dui_counts         -2.0325      0.031    -66.469      0.000      -2.092      -1.973\n",
      "amount_rainfall   -34.5284      0.358    -96.334      0.000     -35.231     -33.826\n",
      "revenue             5.3023      0.043    122.079      0.000       5.217       5.387\n",
      "==============================================================================\n",
      "Omnibus:                     8356.057   Durbin-Watson:                   0.002\n",
      "Prob(Omnibus):                  0.000   Jarque-Bera (JB):            37655.483\n",
      "Skew:                          -1.793   Prob(JB):                         0.00\n",
      "Kurtosis:                       8.249   Cond. No.                         395.\n",
      "==============================================================================\n",
      "\n",
      "Warnings:\n",
      "[1] Standard Errors assume that the covariance matrix of the errors is correctly specified.\n"
     ]
    }
   ],
   "source": [
    "outcome_1, predictors_1 = patsy.dmatrices('collision_counts ~ dui_counts + amount_rainfall + revenue', new_df)\n",
    "mod_1 = sm.OLS(outcome_1, predictors_1)\n",
    "res_1 = mod_1.fit()\n",
    "print(res_1.summary())"
   ]
  },
  {
   "cell_type": "markdown",
   "metadata": {},
   "source": [
    "R-squared is 0.484 meaning that there is some variance represented in this model."
   ]
  },
  {
   "cell_type": "code",
   "execution_count": 65,
   "metadata": {},
   "outputs": [],
   "source": [
    "xs = np.arange(1, 13)\n",
    "ys = 553.2584 + -2.0325*xs + -34.5284*xs + 5.3023*xs"
   ]
  },
  {
   "cell_type": "markdown",
   "metadata": {},
   "source": [
    "Because of the outliers and larger variance, the slope of this graph is very off."
   ]
  },
  {
   "cell_type": "code",
   "execution_count": 66,
   "metadata": {},
   "outputs": [
    {
     "data": {
      "text/plain": [
       "Text(0.5, 1.0, 'Multivariate Regression on Collision Counts')"
      ]
     },
     "execution_count": 66,
     "metadata": {},
     "output_type": "execute_result"
    },
    {
     "data": {
      "image/png": "[encoded data removed]",
      "text/plain": [
       "<Figure size 432x288 with 1 Axes>"
      ]
     },
     "metadata": {},
     "output_type": "display_data"
    }
   ],
   "source": [
    "sns.scatterplot(x='month', y='collision_counts', alpha=0.3, data=new_df, s=100)\n",
    "plt.plot(xs, ys, '--k', linewidth=4, label='Model')\n",
    "plt.title('Multivariate Regression on Collision Counts')\n"
   ]
  },
  {
   "cell_type": "markdown",
   "metadata": {},
   "source": [
    "# Ethics & Privacy"
   ]
  },
  {
   "cell_type": "markdown",
   "metadata": {},
   "source": [
    "&emsp; All of the datasets we used are free and open to the public, with no additional information on restriction of use. All of the data concerning Amazon sales and car accidents do not contain any Personally Identifiable Information (PII) as we are specifically focusing on the rate of car accidents in a given period, and not necessarily the individual behind the accident. <br>\n",
    "\n",
    "&emsp; A potential bias in the car accident data is that minor car accidents that do not involve any injuries or fatalities could have not been reported, so it may be more likely that the car accidents reported will be those that have reached a certain degree of severity. Thus, the number of reported car accidents will be less than the number of car accidents that actually occurred. We acknowledge this bias and ensure that our conclusion takes into account that our results are based on our given datasets and don't generalize all accidents. <br>\n",
    "\n",
    "&emsp; There will be bias in the Amazon revenue dataset because it includes quarterly results, meaning that the monthly intervals will be unknown. We will interpret our analysis differently due to the quarterly format and acknowledge how any missing information could affect our results.<br>\n",
    "\n",
    "&emsp; Amazon does not publicly release its sales data, therefore we fixed this issue by tracking their quarterly revenue through third party companies. If we can track their quarterly revenue, then we can draw out a trend in their sales and identify any correlations to their sales and the rate of car accidents in San Diego. Our results may make Amazon seem responsible for negative factors, but in no way do we mean to misrepresent them.\n"
   ]
  },
  {
   "cell_type": "markdown",
   "metadata": {},
   "source": [
    "# Conclusion & Discussion"
   ]
  },
  {
   "cell_type": "markdown",
   "metadata": {},
   "source": [
    "&emsp; Based on our analysis, there is a positive correlation between Amazon sales and the number of car accidents within San Diego. However, based on linear regression, collision count is not affected by drunk driving or rainfall. We originally thought these two were strong attributes to the number of car accidents, but the opposite is the case. Graphing collisions against DUI had little resemblance until the latter of the graph, while collisions against rainfall had almost no resemblence at all. Although Amazon revenue and collision counts share very similar patterns, we do not think an increase in Amazon sales causes more car accidents. There is positive correlation between the two because they both change depending on the time of the year. For example, holidays and car collisions tend to be at their highest during major holidays such as Christmas. This shows that this relationship is correlation, not causation. We predicted this would be the case, but are surprised their outcomes are more similar than we thought. <br>\n",
    "\n",
    "&emsp; Our data analysis was limited by data available from Amazon. Revenue was presented in quarters meaning that we were unable to compare revenue with others by each month. We also wanted to see how many car collisions were from Amazon vehicles or employees, but those datasets are not published to the public. Also, some car accidents in our collisions dataset may have involved DUI, but were not specifically stated in its charge description (i.e. 'misc' or 'etc'). We recognize this but do not think it will be an issue since DUI's only consist of less than 3% of charge descriptions so there will be little to no difference.\n"
   ]
  },
  {
   "cell_type": "markdown",
   "metadata": {},
   "source": [
    "# Team Contributions"
   ]
  },
  {
   "cell_type": "markdown",
   "metadata": {},
   "source": [
    "We tried to contribute equally by having full group pair programming sessions where the driver would share his screen via Discord and the others would provide their code attempts in the chat.\n",
    "\n",
    "Nathan and Eric were assigned creating the DataFrames and Data cleaning. Jason and Jeffrey were assigned graph construction and Data Analysis."
   ]
  }
 ],
 "metadata": {
  "kernelspec": {
   "display_name": "Python 3",
   "language": "python",
   "name": "python3"
  },
  "language_info": {
   "codemirror_mode": {
    "name": "ipython",
    "version": 3
   },
   "file_extension": ".py",
   "mimetype": "text/x-python",
   "name": "python",
   "nbconvert_exporter": "python",
   "pygments_lexer": "ipython3",
   "version": "3.7.0"
  },
  "varInspector": {
   "cols": {
    "lenName": 16,
    "lenType": 16,
    "lenVar": 40
   },
   "kernels_config": {
    "python": {
     "delete_cmd_postfix": "",
     "delete_cmd_prefix": "del ",
     "library": "var_list.py",
     "varRefreshCmd": "print(var_dic_list())"
    },
    "r": {
     "delete_cmd_postfix": ") ",
     "delete_cmd_prefix": "rm(",
     "library": "var_list.r",
     "varRefreshCmd": "cat(var_dic_list()) "
    }
   },
   "types_to_exclude": [
    "module",
    "function",
    "builtin_function_or_method",
    "instance",
    "_Feature"
   ],
   "window_display": false
  }
 },
 "nbformat": 4,
 "nbformat_minor": 2
}
