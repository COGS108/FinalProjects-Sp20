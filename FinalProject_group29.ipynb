{
 "cells": [
  {
   "cell_type": "markdown",
   "metadata": {},
   "source": [
    "# Cogs 108 - Final Project: What factors are most critical to Airbnb ratings?"
   ]
  },
  {
   "cell_type": "markdown",
   "metadata": {},
   "source": [
    "## OVERVIEW\n",
    "In this project, we explored what are the key factors keeping an Airbnb listing in Manhattan, New York City from achieving a perfect customer review score from 1000 observations. It turns out that people pay more attention to their experience on customer services such as check-in process, home cleanliness, and accuracy of the unit's description. Failure in these aspects would very likely lead to the final review score going downhill."
   ]
  },
  {
   "cell_type": "markdown",
   "metadata": {},
   "source": [
    "## NAMES\n",
    "- Huaming Chen\n",
    "- Haojia Li\n",
    "- Yue Xia\n",
    "- Minghe Yang"
   ]
  },
  {
   "cell_type": "markdown",
   "metadata": {},
   "source": [
    "## RESEARCH QUESTION\n",
    "What shall Airbnb hosts in Manhattan, New York improve to their properties or services in order to receive higher customer review ratings?"
   ]
  },
  {
   "cell_type": "markdown",
   "metadata": {},
   "source": [
    "## BACKGROUND & PRIOR WORK\n",
    "Ever since August 2008 when Airbnb has launched, it has become one of the most popular platforms for people to choose where to stay when traveling to different places. Unlike hotels that have rigorous and standardized procedures to ensure living experience, the customer rating of Airbnb homes depends on various aspects an Airbnb host can provide to their customer, whether they have necessary amenities, relatively good value, good service attitude, etc. Airbnb reviews are essential to hosts and Airbnb investors in the way that they help increase the occupancy rates, which would “generate traffic and increase their rental property’s rank on the site”, and thus will allow them to “leverage to charge higher rent to make more rental income”. (Reference 1). \n",
    "\n",
    "Previously, Dr.Tarik Dogru and Dr.Osman Pekin have conducted a data science research project focusing on, \"what do guests value most in Airbnb accommodations?\" And their finding at the end is that, \"the results of our study showed that Airbnb guests place more value on space, cleanliness, number of photos, handicap accessibility, family friendliness, free breakfast, location, and unique experiences.\" (Reference 2) which gives us a good hint of what to expect from our results.\n",
    "\n",
    "References:\n",
    "    \n",
    "    1.The link that explains why Airbnb reviews are important \n",
    "    https://www.mashvisor.com/blog/airbnb-reviews-of-guests-important/\n",
    "    2. Data Science research project conducted by Dr.Tarik Dogru and Dr.Osman Pekin\n",
    "    https://www.bu.edu/bhr/2017/06/07/airbnb-guest-pricing-value/"
   ]
  },
  {
   "cell_type": "markdown",
   "metadata": {},
   "source": [
    "## HYPOTHESIS\n",
    "Instead of customer services, Airbnb hosts in Manhattan, NY should emphasize particularly on their in-unit amenities to improve their customer rating to a perfect score because we think better amenities can very easily improve customers' overall impression and living experience."
   ]
  },
  {
   "cell_type": "markdown",
   "metadata": {},
   "source": [
    "## DATASET\n",
    "- Variables:  Host Response Rate, Host Response Time, Amenities,  Number of Reviews, Review Scores Rating, Review Score of Accuracy, Review Score of Cleanliness, Review Scores Checkin, Cancellation Policy \n",
    "- Observation:  Randomly selected 1000 Airbnb listings in Manhattan, NYC from 10530 total observations valid\n",
    "- Who/what/how: The data are the open listing data of Airbnb, the dataset includes all the information about the listing, but we only keep the variables that matter the most to the customer rating, eliminating the minor factors such as accommodate and the time since the property started doing Airbnb. We also get rid of the personal information about the host, making sure that the hosts have their privacy secured.\n",
    " \n",
    "- Data stored: Data collected would be stored in CSV format.\n",
    "- Original dataset: https://public.opendatasoft.com/explore/dataset/airbnb-listings/table/?disjunctive.host_verifications&disjunctive.amenities&disjunctive.features&refine.city=New+York\n",
    "\n",
    "### Setup\n",
    "Initial setup for essential packages."
   ]
  },
  {
   "cell_type": "code",
   "execution_count": 1,
   "metadata": {},
   "outputs": [],
   "source": [
    "%matplotlib inline\n",
    "\n",
    "import numpy as np\n",
    "import pandas as pd\n",
    "import patsy\n",
    "import statsmodels.api as sm\n",
    "import seaborn as sns; sns.set(style=\"white\", font_scale=2)\n",
    "import matplotlib.pyplot as plt\n",
    "\n",
    "# scikit-learn imports\n",
    "#   SVM (Support Vector Machine) classifer \n",
    "from sklearn.svm import SVC\n",
    "from sklearn.metrics import classification_report, precision_recall_fscore_support"
   ]
  },
  {
   "cell_type": "markdown",
   "metadata": {},
   "source": [
    "Read in the dataset and only keep the seemingly relevant features."
   ]
  },
  {
   "cell_type": "code",
   "execution_count": 2,
   "metadata": {},
   "outputs": [],
   "source": [
    "df = pd.read_csv(\"Project_Data/airbnb-listings.csv\", sep = ';', low_memory=False)"
   ]
  },
  {
   "cell_type": "code",
   "execution_count": 3,
   "metadata": {},
   "outputs": [],
   "source": [
    "df = df[['Neighbourhood Group Cleansed',\n",
    "    'Host Response Rate',\n",
    "    'Host Response Time',\n",
    "    'Amenities',\n",
    "   'Number of Reviews',\n",
    "   'Review Scores Rating',\n",
    "   'Review Scores Accuracy',\n",
    "   'Review Scores Cleanliness',\n",
    "   'Review Scores Checkin',\n",
    "   'Cancellation Policy']]"
   ]
  },
  {
   "cell_type": "markdown",
   "metadata": {},
   "source": [
    "## DATA CLEANING\n",
    "\n",
    "Remove out all rows with missing values."
   ]
  },
  {
   "cell_type": "code",
   "execution_count": 4,
   "metadata": {},
   "outputs": [],
   "source": [
    "df = df.dropna(axis='rows')"
   ]
  },
  {
   "cell_type": "markdown",
   "metadata": {},
   "source": [
    "Now we don't have any missing values in the dataframe."
   ]
  },
  {
   "cell_type": "code",
   "execution_count": 5,
   "metadata": {},
   "outputs": [
    {
     "data": {
      "text/plain": [
       "0"
      ]
     },
     "execution_count": 5,
     "metadata": {},
     "output_type": "execute_result"
    }
   ],
   "source": [
    "df.isnull().any().sum()"
   ]
  },
  {
   "cell_type": "markdown",
   "metadata": {},
   "source": [
    "We only want to focus on listings in Manhattan, so remove all listing records which are not located in Manhattan."
   ]
  },
  {
   "cell_type": "code",
   "execution_count": 6,
   "metadata": {},
   "outputs": [],
   "source": [
    "indexNames = df[df['Neighbourhood Group Cleansed'] != 'Manhattan'].index\n",
    "df.drop(indexNames, inplace = True)"
   ]
  },
  {
   "cell_type": "markdown",
   "metadata": {},
   "source": [
    "Delete the Neighbourhood column since we only have listings in Manhattan now."
   ]
  },
  {
   "cell_type": "code",
   "execution_count": 7,
   "metadata": {},
   "outputs": [],
   "source": [
    "df = df.drop(['Neighbourhood Group Cleansed'], axis=1) "
   ]
  },
  {
   "cell_type": "markdown",
   "metadata": {},
   "source": [
    "Use a displot to visually check the distribution of the remaining listings."
   ]
  },
  {
   "cell_type": "code",
   "execution_count": 8,
   "metadata": {
    "scrolled": false
   },
   "outputs": [
    {
     "name": "stderr",
     "output_type": "stream",
     "text": [
      "/opt/conda/lib/python3.6/site-packages/scipy/stats/stats.py:1713: FutureWarning: Using a non-tuple sequence for multidimensional indexing is deprecated; use `arr[tuple(seq)]` instead of `arr[seq]`. In the future this will be interpreted as an array index, `arr[np.array(seq)]`, which will result either in an error or a different result.\n",
      "  return np.add.reduce(sorted[indexer] * weights, axis=axis) / sumval\n"
     ]
    },
    {
     "data": {
      "text/plain": [
       "<matplotlib.axes._subplots.AxesSubplot at 0x7f788b32def0>"
      ]
     },
     "execution_count": 8,
     "metadata": {},
     "output_type": "execute_result"
    },
    {
     "data": {
      "image/png": "[encoded data removed]",
      "text/plain": [
       "<Figure size 432x288 with 1 Axes>"
      ]
     },
     "metadata": {
      "needs_background": "light"
     },
     "output_type": "display_data"
    }
   ],
   "source": [
    "sns.distplot(df[\"Review Scores Rating\"], bins = 20, color = \"blue\")"
   ]
  },
  {
   "cell_type": "markdown",
   "metadata": {},
   "source": [
    "Save the dataframe as ML_df for later use to check the correctness of our findings."
   ]
  },
  {
   "cell_type": "code",
   "execution_count": 9,
   "metadata": {},
   "outputs": [],
   "source": [
    "ML_df = df"
   ]
  },
  {
   "cell_type": "markdown",
   "metadata": {},
   "source": [
    "Transform cancellation flexibility levels into their numeric representations. The greater the number, the flexible for cancellation: \n",
    "- 33.3: strict\n",
    "- 66.6: moderate\n",
    "- 100.0: flexible\n",
    "\n",
    "Note: this transformation might result in potential bias of the data to be analyzed."
   ]
  },
  {
   "cell_type": "code",
   "execution_count": 10,
   "metadata": {},
   "outputs": [],
   "source": [
    "def parseCancel(string):\n",
    "    string = str(string)\n",
    "    if 'strict' in string:\n",
    "        return 33.3\n",
    "    if 'moderate' in string:\n",
    "        return 66.6\n",
    "    if 'flexible' in string:\n",
    "        return 100.0\n"
   ]
  },
  {
   "cell_type": "markdown",
   "metadata": {},
   "source": [
    "Apply the parseCancel function to the existing dataframe."
   ]
  },
  {
   "cell_type": "code",
   "execution_count": 11,
   "metadata": {},
   "outputs": [],
   "source": [
    "df['Cancellation Flexibility'] = df['Cancellation Policy'].apply(parseCancel)"
   ]
  },
  {
   "cell_type": "markdown",
   "metadata": {},
   "source": [
    "Transform host response time levels into their numeric representations. The greater the number, the faster the respond time.\n",
    "- 100.0: within an hour\n",
    "- 75.0: within a few hours\n",
    "- 50.0: a day\n",
    "- 25.0: few days\n",
    "\n",
    "Note: this transformation might result in potential bias of the data to be analyzed."
   ]
  },
  {
   "cell_type": "code",
   "execution_count": 12,
   "metadata": {},
   "outputs": [],
   "source": [
    "def parseTime(string):\n",
    "    if 'within an hour' in string:\n",
    "        return 100.0\n",
    "    if 'within a few hours' in string:\n",
    "        return 75.0\n",
    "    if 'a day' in string:\n",
    "        return 50.0\n",
    "    if 'few days' in string:\n",
    "        return 25.0"
   ]
  },
  {
   "cell_type": "markdown",
   "metadata": {},
   "source": [
    "Apply the parseTime function to the existing dataframe."
   ]
  },
  {
   "cell_type": "code",
   "execution_count": 13,
   "metadata": {},
   "outputs": [],
   "source": [
    "df['Res_Level'] = df['Host Response Time'].apply(parseTime)"
   ]
  },
  {
   "cell_type": "markdown",
   "metadata": {},
   "source": [
    "Scale up accuracy, cleanliness, and checkin values into floating numbers in 100 basis."
   ]
  },
  {
   "cell_type": "code",
   "execution_count": 14,
   "metadata": {},
   "outputs": [],
   "source": [
    "df['Review Scores Accuracy']  = df['Review Scores Accuracy']  * 10\n",
    "df['Review Scores Cleanliness']  = df['Review Scores Cleanliness']  * 10\n",
    "df['Review Scores Checkin']  = df['Review Scores Checkin']  * 10"
   ]
  },
  {
   "cell_type": "markdown",
   "metadata": {},
   "source": [
    "To ensure sample varaibility, randomly select 1000 observations from the remaining 10530 listings."
   ]
  },
  {
   "cell_type": "code",
   "execution_count": 15,
   "metadata": {},
   "outputs": [],
   "source": [
    "df = df.sample(n = 1000)"
   ]
  },
  {
   "cell_type": "markdown",
   "metadata": {},
   "source": [
    "Rename some of the columns to make the dataframe looks cleaner and erase the blank space."
   ]
  },
  {
   "cell_type": "code",
   "execution_count": 16,
   "metadata": {
    "scrolled": true
   },
   "outputs": [
    {
     "data": {
      "text/html": [
       "<div>\n",
       "<style scoped>\n",
       "    .dataframe tbody tr th:only-of-type {\n",
       "        vertical-align: middle;\n",
       "    }\n",
       "\n",
       "    .dataframe tbody tr th {\n",
       "        vertical-align: top;\n",
       "    }\n",
       "\n",
       "    .dataframe thead th {\n",
       "        text-align: right;\n",
       "    }\n",
       "</style>\n",
       "<table border=\"1\" class=\"dataframe\">\n",
       "  <thead>\n",
       "    <tr style=\"text-align: right;\">\n",
       "      <th></th>\n",
       "      <th>Response_Rate</th>\n",
       "      <th>Response Time</th>\n",
       "      <th>Amenities</th>\n",
       "      <th>Reviews</th>\n",
       "      <th>Rating</th>\n",
       "      <th>Accuracy</th>\n",
       "      <th>Cleanliness</th>\n",
       "      <th>Checkin</th>\n",
       "      <th>Cancellation Policy</th>\n",
       "      <th>Cancellation_Flexibility</th>\n",
       "      <th>Res_Level</th>\n",
       "    </tr>\n",
       "  </thead>\n",
       "  <tbody>\n",
       "    <tr>\n",
       "      <th>0</th>\n",
       "      <td>98.0</td>\n",
       "      <td>within a few hours</td>\n",
       "      <td>Wireless Internet,Kitchen,Heating,Washer,Dryer...</td>\n",
       "      <td>12</td>\n",
       "      <td>87.0</td>\n",
       "      <td>90.0</td>\n",
       "      <td>90.0</td>\n",
       "      <td>100.0</td>\n",
       "      <td>strict</td>\n",
       "      <td>33.3</td>\n",
       "      <td>75.0</td>\n",
       "    </tr>\n",
       "    <tr>\n",
       "      <th>1</th>\n",
       "      <td>100.0</td>\n",
       "      <td>within a few hours</td>\n",
       "      <td>TV,Internet,Wireless Internet,Air conditioning...</td>\n",
       "      <td>14</td>\n",
       "      <td>93.0</td>\n",
       "      <td>90.0</td>\n",
       "      <td>90.0</td>\n",
       "      <td>90.0</td>\n",
       "      <td>strict</td>\n",
       "      <td>33.3</td>\n",
       "      <td>75.0</td>\n",
       "    </tr>\n",
       "    <tr>\n",
       "      <th>2</th>\n",
       "      <td>100.0</td>\n",
       "      <td>within an hour</td>\n",
       "      <td>TV,Cable TV,Internet,Wireless Internet,Air con...</td>\n",
       "      <td>8</td>\n",
       "      <td>98.0</td>\n",
       "      <td>100.0</td>\n",
       "      <td>100.0</td>\n",
       "      <td>100.0</td>\n",
       "      <td>moderate</td>\n",
       "      <td>66.6</td>\n",
       "      <td>100.0</td>\n",
       "    </tr>\n",
       "    <tr>\n",
       "      <th>3</th>\n",
       "      <td>100.0</td>\n",
       "      <td>within an hour</td>\n",
       "      <td>Internet,Wireless Internet,Air conditioning,Ki...</td>\n",
       "      <td>84</td>\n",
       "      <td>85.0</td>\n",
       "      <td>90.0</td>\n",
       "      <td>80.0</td>\n",
       "      <td>90.0</td>\n",
       "      <td>strict</td>\n",
       "      <td>33.3</td>\n",
       "      <td>100.0</td>\n",
       "    </tr>\n",
       "    <tr>\n",
       "      <th>4</th>\n",
       "      <td>88.0</td>\n",
       "      <td>within an hour</td>\n",
       "      <td>TV,Cable TV,Wireless Internet,Air conditioning...</td>\n",
       "      <td>9</td>\n",
       "      <td>90.0</td>\n",
       "      <td>100.0</td>\n",
       "      <td>80.0</td>\n",
       "      <td>100.0</td>\n",
       "      <td>flexible</td>\n",
       "      <td>100.0</td>\n",
       "      <td>100.0</td>\n",
       "    </tr>\n",
       "  </tbody>\n",
       "</table>\n",
       "</div>"
      ],
      "text/plain": [
       "   Response_Rate       Response Time  \\\n",
       "0           98.0  within a few hours   \n",
       "1          100.0  within a few hours   \n",
       "2          100.0      within an hour   \n",
       "3          100.0      within an hour   \n",
       "4           88.0      within an hour   \n",
       "\n",
       "                                           Amenities  Reviews  Rating  \\\n",
       "0  Wireless Internet,Kitchen,Heating,Washer,Dryer...       12    87.0   \n",
       "1  TV,Internet,Wireless Internet,Air conditioning...       14    93.0   \n",
       "2  TV,Cable TV,Internet,Wireless Internet,Air con...        8    98.0   \n",
       "3  Internet,Wireless Internet,Air conditioning,Ki...       84    85.0   \n",
       "4  TV,Cable TV,Wireless Internet,Air conditioning...        9    90.0   \n",
       "\n",
       "   Accuracy  Cleanliness  Checkin Cancellation Policy  \\\n",
       "0      90.0         90.0    100.0              strict   \n",
       "1      90.0         90.0     90.0              strict   \n",
       "2     100.0        100.0    100.0            moderate   \n",
       "3      90.0         80.0     90.0              strict   \n",
       "4     100.0         80.0    100.0            flexible   \n",
       "\n",
       "   Cancellation_Flexibility  Res_Level  \n",
       "0                      33.3       75.0  \n",
       "1                      33.3       75.0  \n",
       "2                      66.6      100.0  \n",
       "3                      33.3      100.0  \n",
       "4                     100.0      100.0  "
      ]
     },
     "execution_count": 16,
     "metadata": {},
     "output_type": "execute_result"
    }
   ],
   "source": [
    "df = df.rename(columns={\"Host Response Rate\": \"Response_Rate\",\n",
    "                   \"Host Response Time\": \"Response Time\",\n",
    "                  \"Number of Reviews\" : \"Reviews\",\n",
    "                  \"Review Scores Rating\" : \"Rating\",\n",
    "                  \"Review Scores Accuracy\" : \"Accuracy\",\n",
    "                  \"Review Scores Cleanliness\" : \"Cleanliness\",\n",
    "                  \"Review Scores Checkin\" : \"Checkin\",\n",
    "                  \"Cancellation Flexibility\": \"Cancellation_Flexibility\"})\n",
    "\n",
    "#reset index\n",
    "df =df.reset_index(drop=True)\n",
    "df.head()"
   ]
  },
  {
   "cell_type": "code",
   "execution_count": 17,
   "metadata": {},
   "outputs": [],
   "source": [
    "#Drop 'Response Rate' and 'Cancellation Policy' because they already have new corresponding columns as their numerical representations.\n",
    "#Drop 'Reviews' column for data cleanliness.\n",
    "df = df.drop(['Response Time', 'Reviews', 'Cancellation Policy'], axis=1) "
   ]
  },
  {
   "cell_type": "markdown",
   "metadata": {},
   "source": [
    "\n",
    "Note: since our observations were chosen randomly, some listings might have significantly less number of reviews than others. We didn't take this into account in our final data analysis step. <br/>\n",
    "\n",
    "\n",
    "\n"
   ]
  },
  {
   "cell_type": "markdown",
   "metadata": {},
   "source": [
    "Since there are too many unique items in Amenities column, we chose to parse these values from string to numerical floating numbers. We splitted potential amenities into three common categories as `*necessity, safety, and entertainment.*` For each subcategory, we checked if there was a missing essential item and we deducted its corresponding score if there was.\n",
    "\n",
    "Note: we might have potential bias when doing this transformation because we have manually defined which items are supposedly common. The formula we used to calculate how much scores to deduct is: `40 / (# of common items) * (# of missing items)`. Due to enormous varieties of unique amenities combinations, it is not feasible to deduct all score if missing all of our predefined \"common items.\" So, we chose to let the listing have at least 60 points in each subcategory."
   ]
  },
  {
   "cell_type": "code",
   "execution_count": 18,
   "metadata": {},
   "outputs": [],
   "source": [
    "def parseNecessity(string):\n",
    "    score = 100.0\n",
    "    if \"Essential\" not in string:\n",
    "        score -= 8.0\n",
    "    if \"Air conditioning\" not in string:\n",
    "        score -= 8.0\n",
    "    if \"Kitchen\" not in string:\n",
    "        score -= 8.0\n",
    "    if \"Washer\" or \"Dryer\" not in string:\n",
    "        score -= 8.0\n",
    "    if \"Heating\" not in string:\n",
    "        score -= 8.0\n",
    "    return score\n",
    "        \n",
    "def parseSafety(string):\n",
    "    score = 100.0\n",
    "    if \"Smoke detector\" not in string:\n",
    "        score -= 10.0\n",
    "    if \"Carbon monoxide\" not in string:\n",
    "        score -= 10.0\n",
    "    if \"Fire extinguisher\" not in string:\n",
    "        score -= 10.0\n",
    "    if \"First aid kit\" not in string:\n",
    "        score -= 10.0\n",
    "    return score\n",
    "\n",
    "def parseEntertainment(string):\n",
    "    score = 100.0\n",
    "    if \"TV\" not in string:\n",
    "        score -= 20.0\n",
    "    if \"Internet\" not in string:\n",
    "        score -= 20.0\n",
    "    return score"
   ]
  },
  {
   "cell_type": "markdown",
   "metadata": {},
   "source": [
    "Apply our functions to transform the Amenities column into three different columns in numbers."
   ]
  },
  {
   "cell_type": "code",
   "execution_count": 19,
   "metadata": {},
   "outputs": [],
   "source": [
    "df['Necessities'] = df['Amenities'].apply(parseNecessity)\n",
    "df['Safety'] = df['Amenities'].apply(parseSafety)\n",
    "df['Entertainment'] = df['Amenities'].apply(parseEntertainment)"
   ]
  },
  {
   "cell_type": "markdown",
   "metadata": {},
   "source": [
    "\"Amenities\" column is no longer needed, drop it from the dataframe. To cope with common human habits when reading dataframes, we moved the \"Rating\" column to the right and renamed as \"Ratings.\""
   ]
  },
  {
   "cell_type": "code",
   "execution_count": 20,
   "metadata": {},
   "outputs": [],
   "source": [
    "df = ((df.drop(['Amenities'], axis=1)).assign(Ratings = df['Rating'])).drop(['Rating'], axis=1)"
   ]
  },
  {
   "cell_type": "markdown",
   "metadata": {},
   "source": [
    "Data cleaning finished.\n",
    "\n",
    "Display the dataframe."
   ]
  },
  {
   "cell_type": "code",
   "execution_count": 21,
   "metadata": {
    "scrolled": true
   },
   "outputs": [
    {
     "data": {
      "text/html": [
       "<div>\n",
       "<style scoped>\n",
       "    .dataframe tbody tr th:only-of-type {\n",
       "        vertical-align: middle;\n",
       "    }\n",
       "\n",
       "    .dataframe tbody tr th {\n",
       "        vertical-align: top;\n",
       "    }\n",
       "\n",
       "    .dataframe thead th {\n",
       "        text-align: right;\n",
       "    }\n",
       "</style>\n",
       "<table border=\"1\" class=\"dataframe\">\n",
       "  <thead>\n",
       "    <tr style=\"text-align: right;\">\n",
       "      <th></th>\n",
       "      <th>Response_Rate</th>\n",
       "      <th>Accuracy</th>\n",
       "      <th>Cleanliness</th>\n",
       "      <th>Checkin</th>\n",
       "      <th>Cancellation_Flexibility</th>\n",
       "      <th>Res_Level</th>\n",
       "      <th>Necessities</th>\n",
       "      <th>Safety</th>\n",
       "      <th>Entertainment</th>\n",
       "      <th>Ratings</th>\n",
       "    </tr>\n",
       "  </thead>\n",
       "  <tbody>\n",
       "    <tr>\n",
       "      <th>0</th>\n",
       "      <td>98.0</td>\n",
       "      <td>90.0</td>\n",
       "      <td>90.0</td>\n",
       "      <td>100.0</td>\n",
       "      <td>33.3</td>\n",
       "      <td>75.0</td>\n",
       "      <td>84.0</td>\n",
       "      <td>80.0</td>\n",
       "      <td>80.0</td>\n",
       "      <td>87.0</td>\n",
       "    </tr>\n",
       "    <tr>\n",
       "      <th>1</th>\n",
       "      <td>100.0</td>\n",
       "      <td>90.0</td>\n",
       "      <td>90.0</td>\n",
       "      <td>90.0</td>\n",
       "      <td>33.3</td>\n",
       "      <td>75.0</td>\n",
       "      <td>92.0</td>\n",
       "      <td>60.0</td>\n",
       "      <td>100.0</td>\n",
       "      <td>93.0</td>\n",
       "    </tr>\n",
       "    <tr>\n",
       "      <th>2</th>\n",
       "      <td>100.0</td>\n",
       "      <td>100.0</td>\n",
       "      <td>100.0</td>\n",
       "      <td>100.0</td>\n",
       "      <td>66.6</td>\n",
       "      <td>100.0</td>\n",
       "      <td>92.0</td>\n",
       "      <td>90.0</td>\n",
       "      <td>100.0</td>\n",
       "      <td>98.0</td>\n",
       "    </tr>\n",
       "    <tr>\n",
       "      <th>3</th>\n",
       "      <td>100.0</td>\n",
       "      <td>90.0</td>\n",
       "      <td>80.0</td>\n",
       "      <td>90.0</td>\n",
       "      <td>33.3</td>\n",
       "      <td>100.0</td>\n",
       "      <td>92.0</td>\n",
       "      <td>100.0</td>\n",
       "      <td>80.0</td>\n",
       "      <td>85.0</td>\n",
       "    </tr>\n",
       "    <tr>\n",
       "      <th>4</th>\n",
       "      <td>88.0</td>\n",
       "      <td>100.0</td>\n",
       "      <td>80.0</td>\n",
       "      <td>100.0</td>\n",
       "      <td>100.0</td>\n",
       "      <td>100.0</td>\n",
       "      <td>84.0</td>\n",
       "      <td>80.0</td>\n",
       "      <td>100.0</td>\n",
       "      <td>90.0</td>\n",
       "    </tr>\n",
       "  </tbody>\n",
       "</table>\n",
       "</div>"
      ],
      "text/plain": [
       "   Response_Rate  Accuracy  Cleanliness  Checkin  Cancellation_Flexibility  \\\n",
       "0           98.0      90.0         90.0    100.0                      33.3   \n",
       "1          100.0      90.0         90.0     90.0                      33.3   \n",
       "2          100.0     100.0        100.0    100.0                      66.6   \n",
       "3          100.0      90.0         80.0     90.0                      33.3   \n",
       "4           88.0     100.0         80.0    100.0                     100.0   \n",
       "\n",
       "   Res_Level  Necessities  Safety  Entertainment  Ratings  \n",
       "0       75.0         84.0    80.0           80.0     87.0  \n",
       "1       75.0         92.0    60.0          100.0     93.0  \n",
       "2      100.0         92.0    90.0          100.0     98.0  \n",
       "3      100.0         92.0   100.0           80.0     85.0  \n",
       "4      100.0         84.0    80.0          100.0     90.0  "
      ]
     },
     "execution_count": 21,
     "metadata": {},
     "output_type": "execute_result"
    }
   ],
   "source": [
    "df.head()"
   ]
  },
  {
   "cell_type": "markdown",
   "metadata": {},
   "source": [
    "## DATA VISUALIZATION"
   ]
  },
  {
   "cell_type": "code",
   "execution_count": 22,
   "metadata": {
    "scrolled": true
   },
   "outputs": [
    {
     "data": {
      "image/png": "[encoded data removed]",
      "text/plain": [
       "<Figure size 432x288 with 1 Axes>"
      ]
     },
     "metadata": {
      "needs_background": "light"
     },
     "output_type": "display_data"
    }
   ],
   "source": [
    "ax = sns.boxplot(x='Accuracy', y = 'Ratings', data = df)\n",
    "ax.set_xticklabels(ax.get_xticklabels(), rotation = 30, fontsize = 15);"
   ]
  },
  {
   "cell_type": "markdown",
   "metadata": {},
   "source": [
    "This graph shows that there is a strong correlation between the description accuracy and the customer review rating with some acceptible amount of outlier observations."
   ]
  },
  {
   "cell_type": "code",
   "execution_count": 23,
   "metadata": {},
   "outputs": [
    {
     "data": {
      "image/png": "[encoded data removed]",
      "text/plain": [
       "<Figure size 432x288 with 1 Axes>"
      ]
     },
     "metadata": {
      "needs_background": "light"
     },
     "output_type": "display_data"
    }
   ],
   "source": [
    "ax = sns.boxplot(x='Cleanliness', y = 'Ratings', data = df)\n",
    "ax.set_xticklabels(ax.get_xticklabels(), rotation = 30, fontsize = 15);"
   ]
  },
  {
   "cell_type": "markdown",
   "metadata": {},
   "source": [
    "This graph shows that there is a strong correlation between the cleanliness and the customer review rating with some acceptible amount of outlier observations."
   ]
  },
  {
   "cell_type": "code",
   "execution_count": 24,
   "metadata": {},
   "outputs": [
    {
     "data": {
      "image/png": "[encoded data removed]",
      "text/plain": [
       "<Figure size 432x288 with 1 Axes>"
      ]
     },
     "metadata": {
      "needs_background": "light"
     },
     "output_type": "display_data"
    }
   ],
   "source": [
    "ax = sns.boxplot(x='Checkin', y = 'Ratings', data = df)\n",
    "ax.set_xticklabels(ax.get_xticklabels(), rotation = 30, fontsize = 15);"
   ]
  },
  {
   "cell_type": "markdown",
   "metadata": {},
   "source": [
    "This graph shows that there is a relatively weaker correlation between the check-in convenience and safety and the customer review rating with some acceptible amount of outlier observations, but there is still an obvious correlation."
   ]
  },
  {
   "cell_type": "code",
   "execution_count": 25,
   "metadata": {},
   "outputs": [
    {
     "data": {
      "text/plain": [
       "<matplotlib.axes._subplots.AxesSubplot at 0x7f788a9f9fd0>"
      ]
     },
     "execution_count": 25,
     "metadata": {},
     "output_type": "execute_result"
    },
    {
     "data": {
      "image/png": "[encoded data removed]",
      "text/plain": [
       "<Figure size 432x288 with 1 Axes>"
      ]
     },
     "metadata": {
      "needs_background": "light"
     },
     "output_type": "display_data"
    }
   ],
   "source": [
    "sns.boxplot(x='Cancellation_Flexibility', y = 'Ratings', data = df)"
   ]
  },
  {
   "cell_type": "markdown",
   "metadata": {},
   "source": [
    "This graph shows that there is a week correlation between the cancellation_Flexibility and the customer review rating with some acceptible amount of outlier observations, we can tell from the graph that the IQR and mean value for the customer ratings from the three cancellation_flexibility values are nearly the same."
   ]
  },
  {
   "cell_type": "code",
   "execution_count": 26,
   "metadata": {},
   "outputs": [
    {
     "data": {
      "text/plain": [
       "<matplotlib.axes._subplots.AxesSubplot at 0x7f788a986668>"
      ]
     },
     "execution_count": 26,
     "metadata": {},
     "output_type": "execute_result"
    },
    {
     "data": {
      "image/png": "[encoded data removed]",
      "text/plain": [
       "<Figure size 432x288 with 1 Axes>"
      ]
     },
     "metadata": {
      "needs_background": "light"
     },
     "output_type": "display_data"
    }
   ],
   "source": [
    "sns.boxplot(x='Res_Level', y = 'Ratings', data = df)"
   ]
  },
  {
   "cell_type": "markdown",
   "metadata": {},
   "source": [
    "Similar to the relationship between rating and cancellation_Flexibility, this boxplot above shows that there is a week correlation between the host response time (Res_Level) and the customer review rating, with some acceptible amount of outlier observations, the final rating has very similar IQR and mean at different response time."
   ]
  },
  {
   "cell_type": "code",
   "execution_count": 27,
   "metadata": {},
   "outputs": [
    {
     "data": {
      "text/plain": [
       "<matplotlib.axes._subplots.AxesSubplot at 0x7f788a8a8940>"
      ]
     },
     "execution_count": 27,
     "metadata": {},
     "output_type": "execute_result"
    },
    {
     "data": {
      "image/png": "[encoded data removed]",
      "text/plain": [
       "<Figure size 432x288 with 1 Axes>"
      ]
     },
     "metadata": {
      "needs_background": "light"
     },
     "output_type": "display_data"
    }
   ],
   "source": [
    "sns.boxplot(x='Necessities', y = 'Ratings', data = df)"
   ]
  },
  {
   "cell_type": "code",
   "execution_count": 28,
   "metadata": {},
   "outputs": [
    {
     "data": {
      "text/plain": [
       "<matplotlib.axes._subplots.AxesSubplot at 0x7f788a7db438>"
      ]
     },
     "execution_count": 28,
     "metadata": {},
     "output_type": "execute_result"
    },
    {
     "data": {
      "image/png": "[encoded data removed]",
      "text/plain": [
       "<Figure size 432x288 with 1 Axes>"
      ]
     },
     "metadata": {
      "needs_background": "light"
     },
     "output_type": "display_data"
    }
   ],
   "source": [
    "sns.boxplot(x='Safety', y = 'Ratings', data = df)"
   ]
  },
  {
   "cell_type": "code",
   "execution_count": 29,
   "metadata": {},
   "outputs": [
    {
     "data": {
      "text/plain": [
       "<matplotlib.axes._subplots.AxesSubplot at 0x7f788a783048>"
      ]
     },
     "execution_count": 29,
     "metadata": {},
     "output_type": "execute_result"
    },
    {
     "data": {
      "image/png": "[encoded data removed]",
      "text/plain": [
       "<Figure size 432x288 with 1 Axes>"
      ]
     },
     "metadata": {
      "needs_background": "light"
     },
     "output_type": "display_data"
    }
   ],
   "source": [
    "sns.boxplot(x='Entertainment', y = 'Ratings', data = df)"
   ]
  },
  {
   "cell_type": "code",
   "execution_count": 30,
   "metadata": {},
   "outputs": [
    {
     "data": {
      "text/plain": [
       "<matplotlib.axes._subplots.AxesSubplot at 0x7f788a7072b0>"
      ]
     },
     "execution_count": 30,
     "metadata": {},
     "output_type": "execute_result"
    },
    {
     "data": {
      "image/png": "[encoded data removed]",
      "text/plain": [
       "<Figure size 432x288 with 1 Axes>"
      ]
     },
     "metadata": {
      "needs_background": "light"
     },
     "output_type": "display_data"
    }
   ],
   "source": [
    "sns.scatterplot(x = df['Response_Rate'], y = df['Ratings'])"
   ]
  },
  {
   "cell_type": "markdown",
   "metadata": {},
   "source": [
    "Given the massive and variate data for the reponse_rate variable, scatterplot helps us better to visualize the distribution of the data compared to boxplot."
   ]
  },
  {
   "cell_type": "markdown",
   "metadata": {},
   "source": [
    "For the same reasonings as above, these three graphs concerning about the relationship between amenities and customer rating show that the correlation between those factors and the final rating result is weak."
   ]
  },
  {
   "cell_type": "markdown",
   "metadata": {},
   "source": [
    "## DATA ANALYSIS & RESULTS"
   ]
  },
  {
   "cell_type": "code",
   "execution_count": 31,
   "metadata": {},
   "outputs": [
    {
     "name": "stdout",
     "output_type": "stream",
     "text": [
      "                            OLS Regression Results                            \n",
      "==============================================================================\n",
      "Dep. Variable:                Ratings   R-squared:                       0.725\n",
      "Model:                            OLS   Adj. R-squared:                  0.722\n",
      "Method:                 Least Squares   F-statistic:                     289.9\n",
      "Date:                Wed, 10 Jun 2020   Prob (F-statistic):          2.44e-270\n",
      "Time:                        09:47:45   Log-Likelihood:                -2886.2\n",
      "No. Observations:                1000   AIC:                             5792.\n",
      "Df Residuals:                     990   BIC:                             5841.\n",
      "Df Model:                           9                                         \n",
      "Covariance Type:            nonrobust                                         \n",
      "============================================================================================\n",
      "                               coef    std err          t      P>|t|      [0.025      0.975]\n",
      "--------------------------------------------------------------------------------------------\n",
      "Intercept                   -1.0631      3.200     -0.332      0.740      -7.342       5.216\n",
      "Response_Rate                0.0134      0.010      1.344      0.179      -0.006       0.033\n",
      "Accuracy                     0.4023      0.022     18.278      0.000       0.359       0.445\n",
      "Cleanliness                  0.2552      0.018     14.205      0.000       0.220       0.290\n",
      "Checkin                      0.2903      0.023     12.750      0.000       0.246       0.335\n",
      "Cancellation_Flexibility     0.0183      0.006      3.272      0.001       0.007       0.029\n",
      "Res_Level                   -0.0178      0.008     -2.257      0.024      -0.033      -0.002\n",
      "Necessities                  0.0167      0.030      0.556      0.578      -0.042       0.076\n",
      "Safety                      -0.0049      0.011     -0.436      0.663      -0.027       0.017\n",
      "Entertainment                0.0247      0.015      1.656      0.098      -0.005       0.054\n",
      "==============================================================================\n",
      "Omnibus:                      284.879   Durbin-Watson:                   1.980\n",
      "Prob(Omnibus):                  0.000   Jarque-Bera (JB):             3258.127\n",
      "Skew:                          -0.963   Prob(JB):                         0.00\n",
      "Kurtosis:                      11.630   Cond. No.                     6.04e+03\n",
      "==============================================================================\n",
      "\n",
      "Warnings:\n",
      "[1] Standard Errors assume that the covariance matrix of the errors is correctly specified.\n",
      "[2] The condition number is large, 6.04e+03. This might indicate that there are\n",
      "strong multicollinearity or other numerical problems.\n"
     ]
    }
   ],
   "source": [
    "# Create a multi-linear model to predict customer ratings from all the factors. \n",
    "# Use patsy.dmatrices to create the design matrices, calling the outputs outcome, predictors\n",
    "outcome, predictors = patsy.dmatrices('Ratings ~ Response_Rate + Accuracy  + Cleanliness + Checkin + Cancellation_Flexibility + Res_Level + Necessities + Safety + Entertainment', df)\n",
    "\n",
    "# Create an OLS model using 'outcome' and 'predictors'\n",
    "mod = sm.OLS(outcome, predictors)\n",
    "\n",
    "# Use the data we have to fit the newly-created model, assigning it to `res_2`.\n",
    "res = mod.fit()\n",
    "print(res.summary())"
   ]
  },
  {
   "cell_type": "markdown",
   "metadata": {},
   "source": [
    "From the multi-linear regression model above, we can see that among all the explainatory variables, the coefficient for 'Accuracy', 'Cleanliness', and 'Checkin' are much greater than the other factors, and their p-value is small, which means that they are statistically significant to the customer rating result."
   ]
  },
  {
   "cell_type": "code",
   "execution_count": 32,
   "metadata": {},
   "outputs": [
    {
     "data": {
      "text/html": [
       "<div>\n",
       "<style scoped>\n",
       "    .dataframe tbody tr th:only-of-type {\n",
       "        vertical-align: middle;\n",
       "    }\n",
       "\n",
       "    .dataframe tbody tr th {\n",
       "        vertical-align: top;\n",
       "    }\n",
       "\n",
       "    .dataframe thead th {\n",
       "        text-align: right;\n",
       "    }\n",
       "</style>\n",
       "<table border=\"1\" class=\"dataframe\">\n",
       "  <thead>\n",
       "    <tr style=\"text-align: right;\">\n",
       "      <th></th>\n",
       "      <th>Ratings</th>\n",
       "    </tr>\n",
       "  </thead>\n",
       "  <tbody>\n",
       "    <tr>\n",
       "      <th>Accuracy</th>\n",
       "      <td>0.765501</td>\n",
       "    </tr>\n",
       "    <tr>\n",
       "      <th>Cleanliness</th>\n",
       "      <td>0.714985</td>\n",
       "    </tr>\n",
       "    <tr>\n",
       "      <th>Checkin</th>\n",
       "      <td>0.631537</td>\n",
       "    </tr>\n",
       "    <tr>\n",
       "      <th>Response_Rate</th>\n",
       "      <td>0.121104</td>\n",
       "    </tr>\n",
       "    <tr>\n",
       "      <th>Entertainment</th>\n",
       "      <td>0.100432</td>\n",
       "    </tr>\n",
       "    <tr>\n",
       "      <th>Necessities</th>\n",
       "      <td>0.099782</td>\n",
       "    </tr>\n",
       "    <tr>\n",
       "      <th>Safety</th>\n",
       "      <td>0.094928</td>\n",
       "    </tr>\n",
       "    <tr>\n",
       "      <th>Cancellation_Flexibility</th>\n",
       "      <td>0.087958</td>\n",
       "    </tr>\n",
       "    <tr>\n",
       "      <th>Res_Level</th>\n",
       "      <td>0.020673</td>\n",
       "    </tr>\n",
       "  </tbody>\n",
       "</table>\n",
       "</div>"
      ],
      "text/plain": [
       "                           Ratings\n",
       "Accuracy                  0.765501\n",
       "Cleanliness               0.714985\n",
       "Checkin                   0.631537\n",
       "Response_Rate             0.121104\n",
       "Entertainment             0.100432\n",
       "Necessities               0.099782\n",
       "Safety                    0.094928\n",
       "Cancellation_Flexibility  0.087958\n",
       "Res_Level                 0.020673"
      ]
     },
     "execution_count": 32,
     "metadata": {},
     "output_type": "execute_result"
    }
   ],
   "source": [
    "# Create a correlation matrix, only keep the column which contains the correlation coefficient of the explainatory \n",
    "# variables and the ratings, then remove the row that calculates the correlation coefficient of rating and itself.\n",
    "corrs = df.corr()['Ratings'].to_frame().drop(['Ratings'], axis = 0)\n",
    "\n",
    "# Rearrange the values in descending order to check out which explainatory variables are most related to ratings\n",
    "corrs.sort_values(\"Ratings\", inplace = True, ascending = False) \n",
    "corrs"
   ]
  },
  {
   "cell_type": "markdown",
   "metadata": {},
   "source": [
    "From the boxplots we did last part and the correlation coefficient we determined above, we can see that `'Cleanliness'`, `'Accuracy'`, and `'Checkin'` are the comparatively significant factors that contribute to final ratings."
   ]
  },
  {
   "cell_type": "markdown",
   "metadata": {},
   "source": [
    "In the data cleaning part, we define the original Manhattan dataset as ML_df, now we use it to do machine learning that will help us to predict the final ratings with `'Cleanliness'`, `'Accuracy'`, and `'Checkin'` levels."
   ]
  },
  {
   "cell_type": "code",
   "execution_count": 33,
   "metadata": {},
   "outputs": [
    {
     "data": {
      "text/html": [
       "<div>\n",
       "<style scoped>\n",
       "    .dataframe tbody tr th:only-of-type {\n",
       "        vertical-align: middle;\n",
       "    }\n",
       "\n",
       "    .dataframe tbody tr th {\n",
       "        vertical-align: top;\n",
       "    }\n",
       "\n",
       "    .dataframe thead th {\n",
       "        text-align: right;\n",
       "    }\n",
       "</style>\n",
       "<table border=\"1\" class=\"dataframe\">\n",
       "  <thead>\n",
       "    <tr style=\"text-align: right;\">\n",
       "      <th></th>\n",
       "      <th>Ratings</th>\n",
       "      <th>Accuracy</th>\n",
       "      <th>Cleanliness</th>\n",
       "      <th>Checkin</th>\n",
       "    </tr>\n",
       "  </thead>\n",
       "  <tbody>\n",
       "    <tr>\n",
       "      <th>0</th>\n",
       "      <td>86.0</td>\n",
       "      <td>90.0</td>\n",
       "      <td>80.0</td>\n",
       "      <td>90.0</td>\n",
       "    </tr>\n",
       "    <tr>\n",
       "      <th>1</th>\n",
       "      <td>96.0</td>\n",
       "      <td>100.0</td>\n",
       "      <td>90.0</td>\n",
       "      <td>100.0</td>\n",
       "    </tr>\n",
       "    <tr>\n",
       "      <th>2</th>\n",
       "      <td>88.0</td>\n",
       "      <td>90.0</td>\n",
       "      <td>90.0</td>\n",
       "      <td>100.0</td>\n",
       "    </tr>\n",
       "    <tr>\n",
       "      <th>3</th>\n",
       "      <td>80.0</td>\n",
       "      <td>100.0</td>\n",
       "      <td>60.0</td>\n",
       "      <td>100.0</td>\n",
       "    </tr>\n",
       "    <tr>\n",
       "      <th>4</th>\n",
       "      <td>100.0</td>\n",
       "      <td>100.0</td>\n",
       "      <td>100.0</td>\n",
       "      <td>100.0</td>\n",
       "    </tr>\n",
       "    <tr>\n",
       "      <th>...</th>\n",
       "      <td>...</td>\n",
       "      <td>...</td>\n",
       "      <td>...</td>\n",
       "      <td>...</td>\n",
       "    </tr>\n",
       "    <tr>\n",
       "      <th>19518</th>\n",
       "      <td>95.0</td>\n",
       "      <td>100.0</td>\n",
       "      <td>90.0</td>\n",
       "      <td>100.0</td>\n",
       "    </tr>\n",
       "    <tr>\n",
       "      <th>19519</th>\n",
       "      <td>94.0</td>\n",
       "      <td>100.0</td>\n",
       "      <td>90.0</td>\n",
       "      <td>90.0</td>\n",
       "    </tr>\n",
       "    <tr>\n",
       "      <th>19521</th>\n",
       "      <td>96.0</td>\n",
       "      <td>100.0</td>\n",
       "      <td>90.0</td>\n",
       "      <td>100.0</td>\n",
       "    </tr>\n",
       "    <tr>\n",
       "      <th>19523</th>\n",
       "      <td>100.0</td>\n",
       "      <td>100.0</td>\n",
       "      <td>100.0</td>\n",
       "      <td>100.0</td>\n",
       "    </tr>\n",
       "    <tr>\n",
       "      <th>19527</th>\n",
       "      <td>98.0</td>\n",
       "      <td>100.0</td>\n",
       "      <td>90.0</td>\n",
       "      <td>100.0</td>\n",
       "    </tr>\n",
       "  </tbody>\n",
       "</table>\n",
       "<p>10939 rows × 4 columns</p>\n",
       "</div>"
      ],
      "text/plain": [
       "       Ratings  Accuracy  Cleanliness  Checkin\n",
       "0         86.0      90.0         80.0     90.0\n",
       "1         96.0     100.0         90.0    100.0\n",
       "2         88.0      90.0         90.0    100.0\n",
       "3         80.0     100.0         60.0    100.0\n",
       "4        100.0     100.0        100.0    100.0\n",
       "...        ...       ...          ...      ...\n",
       "19518     95.0     100.0         90.0    100.0\n",
       "19519     94.0     100.0         90.0     90.0\n",
       "19521     96.0     100.0         90.0    100.0\n",
       "19523    100.0     100.0        100.0    100.0\n",
       "19527     98.0     100.0         90.0    100.0\n",
       "\n",
       "[10939 rows x 4 columns]"
      ]
     },
     "execution_count": 33,
     "metadata": {},
     "output_type": "execute_result"
    }
   ],
   "source": [
    "ML_df = ML_df.rename(columns={\"Review Scores Accuracy\" : \"Accuracy\",\n",
    "                  \"Review Scores Cleanliness\" : \"Cleanliness\",\n",
    "                  \"Review Scores Checkin\" : \"Checkin\",\n",
    "                  \"Review Scores Rating\" : \"Ratings\"}).drop([\"Host Response Rate\", \n",
    "                                                              \"Host Response Time\", \n",
    "                                                              \"Amenities\", \n",
    "                                                              \"Number of Reviews\", \n",
    "                                                              \"Cancellation Policy\",\n",
    "                                                              \"Cancellation Flexibility\",\n",
    "                                                              \"Res_Level\"], axis = 1)\n",
    "ML_df"
   ]
  },
  {
   "cell_type": "markdown",
   "metadata": {},
   "source": [
    "### Training"
   ]
  },
  {
   "cell_type": "code",
   "execution_count": 34,
   "metadata": {},
   "outputs": [],
   "source": [
    "#if rating is equal to or greater than 90,  replace rating w/ 1.0, if less, replace w/ 0.0\n",
    "\n",
    "ML_df.loc[(ML_df['Ratings'] < 90.0),'Ratings']= 0.0\n",
    "ML_df.loc[(ML_df['Ratings'] >= 90.0),'Ratings']= 1.0\n",
    "\n",
    "# Convert the 'Ratings' column in the dataframe into a numpy array\n",
    "ratings_y = ML_df[\"Ratings\"].to_numpy()\n",
    "\n",
    "# Select 80% of the data as training data and 20% of the data as testing data\n",
    "num_training = int(len(ratings_y) * 0.8)\n",
    "num_testing = int(len(ratings_y) - num_training)"
   ]
  },
  {
   "cell_type": "code",
   "execution_count": 35,
   "metadata": {},
   "outputs": [
    {
     "name": "stderr",
     "output_type": "stream",
     "text": [
      "/opt/conda/lib/python3.6/site-packages/ipykernel_launcher.py:2: FutureWarning: Method .as_matrix will be removed in a future version. Use .values instead.\n",
      "  \n",
      "/opt/conda/lib/python3.6/site-packages/ipykernel_launcher.py:3: FutureWarning: Method .as_matrix will be removed in a future version. Use .values instead.\n",
      "  This is separate from the ipykernel package so we can avoid doing imports until\n"
     ]
    }
   ],
   "source": [
    "# Pull out the training dataset from ML_df, drop the row of rating, and convert it to a matrix\n",
    "train_df = ML_df[:num_training].drop('Ratings', axis = 1).as_matrix()\n",
    "test_df = ML_df[num_training:].drop('Ratings', axis = 1).as_matrix()\n",
    "\n",
    "train_y = ratings_y[:num_training]\n",
    "test_y = ratings_y[num_training:]"
   ]
  },
  {
   "cell_type": "code",
   "execution_count": 36,
   "metadata": {},
   "outputs": [],
   "source": [
    "# Define the supprot vector machine\n",
    "def train_SVM(X, y, kernel='linear'):\n",
    "    clf = SVC(kernel=kernel)\n",
    "    clf.fit(X, y)\n",
    "    return clf"
   ]
  },
  {
   "cell_type": "code",
   "execution_count": 37,
   "metadata": {},
   "outputs": [],
   "source": [
    "clf = train_SVM(train_df, train_y)"
   ]
  },
  {
   "cell_type": "markdown",
   "metadata": {},
   "source": [
    "### Prediction"
   ]
  },
  {
   "cell_type": "code",
   "execution_count": 38,
   "metadata": {},
   "outputs": [],
   "source": [
    "#Predict the labels for both the training and test samples (the 'X' data).\n",
    "predicted_train_y = clf.predict(train_df)\n",
    "predicted_test_y = clf.predict(test_df)"
   ]
  },
  {
   "cell_type": "code",
   "execution_count": 39,
   "metadata": {},
   "outputs": [
    {
     "name": "stdout",
     "output_type": "stream",
     "text": [
      "              precision    recall  f1-score   support\n",
      "\n",
      "         0.0       0.86      0.50      0.63      1949\n",
      "         1.0       0.87      0.98      0.92      6802\n",
      "\n",
      "    accuracy                           0.87      8751\n",
      "   macro avg       0.86      0.74      0.78      8751\n",
      "weighted avg       0.87      0.87      0.86      8751\n",
      "\n"
     ]
    }
   ],
   "source": [
    "# Print prediction report\n",
    "print(classification_report(train_y,predicted_train_y))"
   ]
  },
  {
   "cell_type": "code",
   "execution_count": 40,
   "metadata": {},
   "outputs": [
    {
     "name": "stdout",
     "output_type": "stream",
     "text": [
      "              precision    recall  f1-score   support\n",
      "\n",
      "         0.0       0.84      0.49      0.62       485\n",
      "         1.0       0.87      0.97      0.92      1703\n",
      "\n",
      "    accuracy                           0.87      2188\n",
      "   macro avg       0.85      0.73      0.77      2188\n",
      "weighted avg       0.86      0.87      0.85      2188\n",
      "\n"
     ]
    }
   ],
   "source": [
    "# Print prediction report\n",
    "print(classification_report(test_y,predicted_test_y))"
   ]
  },
  {
   "cell_type": "markdown",
   "metadata": {},
   "source": [
    "The precision percentage are all above 70%, which make our predictions valid. However, the result shows that the machine is better at predicting the houses/apartments that receive ratings higher than 90, rather than the ones that have ratings lower than 90."
   ]
  },
  {
   "cell_type": "markdown",
   "metadata": {},
   "source": [
    "## ETHICS & PRIVACY\n",
    "\n",
    "###### Data Bias:  \n",
    "We have only pick 1000 sample observations out of 10000\n",
    " \n",
    "###### Consent:  \n",
    "We collected data from the open listing of Airbnb hosts, so no sign for consent needed.\n",
    " \n",
    "###### Data Privacy/Ownership: \n",
    "Datas are cited from those websites. We will get rid of the personal information of the host and the property when we are doing the data cleaning part of our project.\n",
    " \n",
    "###### Transparency: \n",
    "Our dataset and algorithm are public.\n",
    " \n",
    "###### Implications: \n",
    "The information gained and the tool we are building would not be co-opted for nefarious purposes since we are not using any private data. If our research leads to any unintended consequences, we would erase all the data collected.\n",
    " \n",
    "###### Evaluation: \n",
    "Our project shall be considered successful if the most of the results aline with our hypothesis.\n",
    " \n",
    "###### Continuous monitoring: \n",
    "We would be tracking for any changes related to our data and assumptions."
   ]
  },
  {
   "cell_type": "markdown",
   "metadata": {},
   "source": [
    "## CONCLUSION & DISCUSSION\n",
    "\n",
    "Our result shows that 'Cleanliness', 'Accuracy', and 'CheckIn' are the most significant factors that affect the customer ratings for the Airbnb hosts in Manhattan, New York. Out of the three factors, two of them ('cleanliness' and 'check-in') are associated with customer service, and the remaining one 'Accuracy' is associated with the hardware facilities, thus, our research result tells us that Airbnb hosts should improve both their customer service and in-unit facilities,"
   ]
  },
  {
   "cell_type": "markdown",
   "metadata": {},
   "source": [
    "## TEAM CONTRIBUTIONS / TIMELINE"
   ]
  },
  {
   "cell_type": "markdown",
   "metadata": {},
   "source": [
    "| Meeting Date  | Meeting Time| Completed Before Meeting  | Discuss at Meeting |\n",
    "|---|---|---|---|\n",
    "| 4/17  |  1 PM | Brainstorm possible topics and discuss details about the research problem.  | Discuss and debate on final project topic; discuss hypothesis; begin background research | \n",
    "| 4/20  |  12 PM |  Narrowing research topic. Do background research to be more accurate in analyzing when conducting the research. | Looking at details of the topic and deciding which aspects are the most critical ones. | \n",
    "| 2/1  | 10 AM  | Edit, finalize, and submit proposal; Search for datasets  | Discuss Wrangling and possible analytical approaches; Assign group members to lead each specific part   |\n",
    "| 4/20  | 12 PM  | Narrowing research topic. Do background research to be more accurate in analyzing when conducting the research. | Looking at details of the topic and deciding which aspects are the most critical ones.  |\n",
    "| 4/22  | 3 PM  | Deciding which elements to be included in the research question. | Discuss on whose data are we collecting and how to construct our data graphs based on the elements that we pick(Variables, observations,.. etc) |\n",
    "| 4/23  | 6 PM  | Deciding the final project.| Finalize project proposal with details.|\n",
    "| 5/7  | 12 PM  | Edit, finalize, and submit proposal; Search for datasets | Looking for substantial and credible datasets.  |\n",
    "| 5/14  | 12 PM  | Done researching for needed datasets. | Combine data sets and organize them into tidy data forms. Collect new data if needed. Import and wrangle data. |\n",
    "| 5/21  | 12 PM  | Import & Wrangle Data | Continue to wrangle and organize data, and discuss how to use data visualization possible analytical approaches.|\n",
    "| 5/28  | 7 PM  |Import & Wrangle Data (Minghe $ Haojia); Data Visualization (Huaming & Yue)| Review/Edit wrangling; Use data visualization to discuss Analysis Plan |\n",
    "| 6/3  | 12 PM  | Finalize wrangling; Begin Analysis| Discuss/edit Analysis; Complete project check-in;Complete analysis; Draft results/conclusion/discussion |\n",
    "| 6/10  | Before 11:59 PM  | NA | Turn in Final Project & Group Project Surveys |\n",
    "\n"
   ]
  }
 ],
 "metadata": {
  "kernelspec": {
   "display_name": "Python 3",
   "language": "python",
   "name": "python3"
  },
  "language_info": {
   "codemirror_mode": {
    "name": "ipython",
    "version": 3
   },
   "file_extension": ".py",
   "mimetype": "text/x-python",
   "name": "python",
   "nbconvert_exporter": "python",
   "pygments_lexer": "ipython3",
   "version": "3.7.0"
  }
 },
 "nbformat": 4,
 "nbformat_minor": 2
}
