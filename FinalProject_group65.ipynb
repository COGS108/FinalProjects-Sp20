{
 "cells": [
  {
   "cell_type": "markdown",
   "metadata": {
    "colab_type": "text",
    "id": "DW4UNHW5u-nk"
   },
   "source": [
    "# COGS 108 - Final Project "
   ]
  },
  {
   "cell_type": "markdown",
   "metadata": {
    "colab_type": "text",
    "id": "epWlMyUpu-nl"
   },
   "source": [
    "## Permissions"
   ]
  },
  {
   "cell_type": "markdown",
   "metadata": {
    "colab_type": "text",
    "id": "rN4Ujm1Hu-nm"
   },
   "source": [
    "Place an `X` in the appropriate bracket below to specify if you would like your group's project to be made available to the public. (Note that PIDs will be scraped from the public submission, but student names will be included.)\n",
    "\n",
    "* [ X ] YES - make available\n",
    "* [  ] NO - keep private"
   ]
  },
  {
   "cell_type": "markdown",
   "metadata": {
    "colab_type": "text",
    "id": "mMQeZ5U8u-nm"
   },
   "source": [
    "# Overview"
   ]
  },
  {
   "cell_type": "markdown",
   "metadata": {
    "colab_type": "text",
    "id": "TdgA8amPu-nn"
   },
   "source": [
    "Everyone has an idea of what makes a restaurant upscale: we associate factors like expensive food, special cuisine, and a fancy name to mean a place has higher ratings. In this project, we are using data from the Michelin Star Restaurant Guide to find out if these factors really do make a restaurant more likely to gain stars. We then compare this to data from Yelp to see if these factors correlate to those of restaurants on Yelp’s site. We used visualizations and predictive models to determine if there is any significance in cuisine, price, or name and higher ratings. "
   ]
  },
  {
   "cell_type": "markdown",
   "metadata": {
    "colab_type": "text",
    "id": "ucPk6vXpu-no"
   },
   "source": [
    "# Names\n",
    "\n",
    "- Marcus Choy-Arioli\n",
    "- Kassandra Johnson\n",
    "- Howard Kim\n",
    "- Janae Zhang"
   ]
  },
  {
   "cell_type": "markdown",
   "metadata": {
    "colab_type": "text",
    "id": "A_AnxWI3u-np"
   },
   "source": [
    "# Group Members IDs\n",
    "\n",
    "- A15752688\n",
    "- A14922596\n",
    "- A16178162\n",
    "- A15008235"
   ]
  },
  {
   "cell_type": "markdown",
   "metadata": {
    "colab_type": "text",
    "id": "hpV6KC6Au-np"
   },
   "source": [
    "# Research Question"
   ]
  },
  {
   "cell_type": "markdown",
   "metadata": {
    "colab_type": "text",
    "id": "aao06wqiu-nq"
   },
   "source": [
    "*Of the Michelin Star Restaurants in the United States, do factors such as price, cuisine, and/or name contribute to a higher chance of getting more Michelin Stars? Do these factors also contribute to the ratings of non-Michelin star restaurants?*"
   ]
  },
  {
   "cell_type": "markdown",
   "metadata": {
    "colab_type": "text",
    "id": "0xnZgZ01u-nr"
   },
   "source": [
    "## Background and Prior Work"
   ]
  },
  {
   "cell_type": "markdown",
   "metadata": {
    "colab_type": "text",
    "id": "RAIbm2cWu-ns"
   },
   "source": [
    "When the Michelin Guide was started, its original goal was to promote travel, which in turn would theoretically increase tire sales as more people drove to visit the locations in the guide. By 1920, the guide itself cost 7 francs, and in 1936 the criteria for star rankings was published (\"About the Michelin Guide\"). Over time, the idea of particular restaurants being worth traveling to has turned the Michelin star into the symbol of prestige as we know it today. As of March 2020, Japan hosts the most Michelin-starred restaurants, with France coming in a close second (Boland). However, while Michelin stars are awarded worldwide, the official guides are broken down by region -- in some cases each country is a region, but in places like China and the US, regions are broken down by city (Boland).\n",
    "\n",
    "Michelin claims that five factors go into determining which restaurants get awarded stars -- three are based around food quality, with the other two considering the chef's personality and financial value of the experience (Bennett, 2017). However, the heavy connotations of a Michelin star have prompted some restaurants to ask the company to remove their star (Bennett, 2017) (Heighton-Ginns, 2018). It's clear from these anecdotes that the average layperson has a specific idea in their mind about what a Michelin-star restaurant is like, and as such there is a possibility of bias among Michelin's own restaurant inspectors. While food critics are quick to point to examples of casual eateries that have earned three stars, whether this particular standard is evenly applied remains to be seen.\n",
    "\n",
    "To help mitigate the number of confounding factors, we've also opted to compare any findings from the Michelin star data to Yelp data. Since Yelp is based on crowdsourced reviews (McCoy, 2020), and used most often for restaurants, it provides a good metric for understanding if any results from the Michelin data are truly statistically significant when compared to an overall population. \n",
    "\n",
    "We will also be limiting our analysis to restaurants in the United States, as cultural norms and tastes may affect how Michelin stars are awarded in other countries. The factors we will be considering in our analysis are the restaurant's name, cuisine, location, and price. \n",
    "\n",
    "\n",
    "References (include links):\n",
    "- 1) About the MICHELIN Guide. Retrieved April 24, 2020, from https://guide.michelin.com/en/about-us\n",
    "\n",
    "- 2) Boland, K. (2020, March 9). Countries That Have The Most Michelin Restaurants. Retrieved from https://www.worldatlas.com/articles/countries-that-have-the-most-michelin-restaurants.html\n",
    "\n",
    "- 3) Bennett, M. (2017, October 3). Star quality: What does it take to win the Michelin award? Retrieved from https://www.bbc.com/news/uk-scotland-scotland-business-41449529\n",
    "\n",
    "- 4) Heighton-Ginns, L. (2018, October 12). The Business Behind Michelin Stars. Retrieved from https://www.bbc.com/news/business-45733941\n",
    "\n",
    "- 5) McCoy, J. (2020, April 26). 15 Things You May Not Know About Yelp. Retrived from https://www.searchenginejournal.com/yelp-facts/355044/\n"
   ]
  },
  {
   "cell_type": "markdown",
   "metadata": {
    "colab_type": "text",
    "id": "MwJuQnzZu-ns"
   },
   "source": [
    "# Hypothesis\n"
   ]
  },
  {
   "cell_type": "markdown",
   "metadata": {
    "colab_type": "text",
    "id": "mHJMaUNTu-nt"
   },
   "source": [
    " \n",
    "We hypothesize that the listed factors will contribute to a restaurant's ability to obtain Michelin stars. We also believe that the type cuisine will be the most contributing factor.\n",
    "\n",
    "Null Hypothesis: There will be no effect. A restaurant's price, cuisine, or name will not matter in the likelihood of higher ratings.\n",
    "\n",
    "Alternative Hypothesis: There will be an change in ratings dependant on at least one of the factors. \n"
   ]
  },
  {
   "cell_type": "markdown",
   "metadata": {
    "colab_type": "text",
    "id": "e0qy91R9u-nu"
   },
   "source": [
    "# Datasets"
   ]
  },
  {
   "cell_type": "markdown",
   "metadata": {
    "colab_type": "text",
    "id": "5nhoY3FYu-nv"
   },
   "source": [
    "The following three datasets will be the main dataset for our study. Because the data format on these three datasets are uniform, we will be combining these datasets into a single dataframe. Then, we use the combined data to clean and wrangle our necessary data for our model. Additionally, since this dataset is set to update automatically with new information, the data here was retrieved in June 2020.\n",
    "\n",
    "**Dataset #1**\n",
    "*   **Name:** one-star-michelin-restaurants\n",
    "*   **Link to the dataset:** https://www.kaggle.com/jackywang529/michelin-restaurants\n",
    "*   **Number of observations:** 544\n",
    "*   **Description:** This is a dataset containing all the one-star Michelin Star Restaurants as of 2019, in most of the regions that have Michelin Star Restaurants. Each restaurant has its name, the year it was awarded stars, location information, cuisine, price, and a url to the restaurant.\n",
    "\n",
    "**Dataset #2**\n",
    "- **Name:** two-star-michelin-restaurants\n",
    "- **Link to the dataset:** https://www.kaggle.com/jackywang529/michelin-restaurants\n",
    "- **Number of observations:** 110\n",
    "- **Description:** This is a dataset containing all the two-star Michelin Star Restaurants as of 2019, in most of the regions that have Michelin Star Restaurants. Each restaurant has its name, the year it was awarded stars, location information, cuisine, price, and a url to the restaurant. \n",
    " \n",
    "**Dataset #3**\n",
    "- **Name:**  three-star-michelin-restaurants\n",
    "- **Link to the dataset:** https://www.kaggle.com/jackywang529/michelin-restaurants\n",
    "- **Number of observations:** 36\n",
    "- **Description:** This is a dataset containing all the three-star Michelin Star Restaurants as of 2019, in most of the regions that have Michelin Star Restaurants. Each restaurant has its name, the year it was awarded stars, location information, cuisine, price, and a url to the restaurant. \n"
   ]
  },
  {
   "cell_type": "markdown",
   "metadata": {
    "colab_type": "text",
    "id": "BCUqfPalC0an"
   },
   "source": [
    "The Yelp Dataset will be our supporting dataset to test against our model. We will be comparing Michelin star values against these Yelp Businesses, and use these values to see how they closely match to the rating system of Yelp Stars by standardizing the Michelin Stars and Yelp Stars.\n",
    " \n",
    "**Dataset #4**\n",
    "- **Name:**  Yelp Dataset\n",
    "- **Link to the dataset:** https://www.kaggle.com/yelp-dataset/yelp-dataset\n",
    "- **Number of observations:** 209390\n",
    "- **Description:** This is the yelp dataset that has all the information available from yelp. It includes the name of the place, location information, reviews, stars, and categories of the type of place it is. "
   ]
  },
  {
   "cell_type": "code",
   "execution_count": null,
   "metadata": {
    "colab": {
     "base_uri": "https://localhost:8080/",
     "height": 425
    },
    "colab_type": "code",
    "id": "Ux6TuiEpIltG",
    "outputId": "d08fabf2-6e5f-481c-8e50-067a880721d5"
   },
   "outputs": [],
   "source": [
    "!pip install --user geopandas\n",
    "!pip install --user descartes\n",
    "!pip install --user nltk\n",
    "import nltk\n"
   ]
  },
  {
   "cell_type": "markdown",
   "metadata": {
    "colab_type": "text",
    "id": "0Ce52da8u-nw"
   },
   "source": [
    "# Setup"
   ]
  },
  {
   "cell_type": "code",
   "execution_count": null,
   "metadata": {
    "colab": {
     "base_uri": "https://localhost:8080/",
     "height": 139
    },
    "colab_type": "code",
    "id": "15bgOI3cu-nw",
    "outputId": "1dca4cbb-96d4-4f3f-d480-a35e8f36ffa2"
   },
   "outputs": [],
   "source": [
    "# Import libraries\n",
    "import numpy as np\n",
    "import pandas as pd\n",
    "import matplotlib.pyplot as plt\n",
    "import seaborn as sns\n",
    "import geopandas as gpd\n",
    "\n",
    "from shapely.geometry import Point, Polygon\n",
    "\n",
    "import matplotlib.colors as colors\n",
    "import matplotlib.cm as cmap\n",
    "from matplotlib.font_manager import FontProperties\n",
    "%matplotlib inline\n",
    "\n",
    "import warnings\n",
    "warnings.filterwarnings('ignore')\n",
    "\n",
    "import patsy\n",
    "import statsmodels.api as sm\n",
    "from pandas.io.json import json_normalize\n",
    "import json\n",
    "\n",
    "\n",
    "nltk.download('punkt')\n",
    "nltk.download('stopwords')\n",
    "\n",
    "# Display options\n",
    "# pd.set_option('display.max_rows', None)\n",
    "pd.set_option('display.max_columns', None)\n",
    "pd.set_option('display.width', None)\n",
    "pd.set_option('display.max_colwidth', None)\n",
    "\n",
    "np.set_printoptions(threshold=np.inf)"
   ]
  },
  {
   "cell_type": "markdown",
   "metadata": {
    "colab_type": "text",
    "id": "NiDJuk2DYOvt"
   },
   "source": [
    "# Data Imports"
   ]
  },
  {
   "cell_type": "markdown",
   "metadata": {
    "colab_type": "text",
    "id": "wFTVDsXrgh7X"
   },
   "source": [
    "Import Michelin Star Restaurant data (.csv) and Yelp's Public Business Data (.json). Note that the Yelp's data required an initial data cleaning and wrangling due to file size limitations on the GitHub. The method/code used to clean and wrangle the initial raw data is posted on the data cleaning section."
   ]
  },
  {
   "cell_type": "code",
   "execution_count": null,
   "metadata": {
    "colab": {
     "base_uri": "https://localhost:8080/",
     "height": 34
    },
    "colab_type": "code",
    "id": "PxLFAG07yjYj",
    "outputId": "a61dbf15-c1e1-46da-df86-84014ac192b8"
   },
   "outputs": [],
   "source": [
    "one_star_path = 'Datasets/datasets_279628_577823_one-star-michelin-restaurants.csv'\n",
    "one_df = pd.read_csv(one_star_path)\n",
    "one_df.shape"
   ]
  },
  {
   "cell_type": "code",
   "execution_count": null,
   "metadata": {
    "colab": {
     "base_uri": "https://localhost:8080/",
     "height": 34
    },
    "colab_type": "code",
    "id": "S-m1Xyxzjv0f",
    "outputId": "f5e369e4-07cd-4076-9543-97c1fc974e48"
   },
   "outputs": [],
   "source": [
    "two_star_path = 'Datasets/datasets_279628_577823_three-stars-michelin-restaurants.csv'\n",
    "two_df = pd.read_csv(two_star_path)\n",
    "two_df.head()\n",
    "two_df.shape"
   ]
  },
  {
   "cell_type": "code",
   "execution_count": null,
   "metadata": {
    "colab": {
     "base_uri": "https://localhost:8080/",
     "height": 34
    },
    "colab_type": "code",
    "id": "3NUHokWujwO9",
    "outputId": "1dd44c09-dafd-4fa9-92b8-7dddeea62cf7"
   },
   "outputs": [],
   "source": [
    "three_star_path = 'Datasets/datasets_279628_577823_two-stars-michelin-restaurants.csv'\n",
    "three_df = pd.read_csv(three_star_path)\n",
    "three_df.shape"
   ]
  },
  {
   "cell_type": "code",
   "execution_count": null,
   "metadata": {
    "colab": {
     "base_uri": "https://localhost:8080/",
     "height": 34
    },
    "colab_type": "code",
    "id": "6V5D3ouhjwU9",
    "outputId": "cc7ce743-045b-4f54-973d-82943a818faa"
   },
   "outputs": [],
   "source": [
    "yelp_path = 'Datasets/yelp.json'\n",
    "yelp_df = pd.read_json(yelp_path)\n",
    "yelp_df.shape"
   ]
  },
  {
   "cell_type": "markdown",
   "metadata": {
    "colab_type": "text",
    "id": "zbY9k8cyu-n0"
   },
   "source": [
    "# Data Cleaning"
   ]
  },
  {
   "cell_type": "markdown",
   "metadata": {
    "colab_type": "text",
    "id": "ATIksu9yu-n0"
   },
   "source": [
    "Because the data that we acquired for our Michelin Starred Restaurant data was fairly clean, we decided to implement the format that Michelin Starred Restaurant used, and work around that format to organize and clean Yelp's raw Business data."
   ]
  },
  {
   "cell_type": "markdown",
   "metadata": {
    "colab_type": "text",
    "id": "a9VXM0Avl2zH"
   },
   "source": [
    "For the following, these are the methods/codes used to do an initial cleaning and wrangling for our raw Yelp Business data due to file size constraints on GitHub. These were performed externally on University of California, San Diego (UCSD) DataHub Servers, which can handle bigger file sizes compared to GitHub. We initially found that Yelp's Business data included businesses that were not restaurants, so we filtered our data down to businesses that included the 'restaurant' tag in the 'categories' column of our data. However, the raw data had few incomplete data in 'categories' column, and we determined that those incomplete data are not viable in our study upon initial inspection. Therefore, we dropped all businesses that had empty categories and those without 'restaurant' in the 'categories' column of our dataframe."
   ]
  },
  {
   "cell_type": "code",
   "execution_count": null,
   "metadata": {
    "colab": {},
    "colab_type": "code",
    "id": "3QxaGL5QfP9m"
   },
   "outputs": [],
   "source": [
    "# Initial Data Wrangling done before being added to the repo\n",
    "# Reason: Due to file size constraints for GitHub\n",
    "\n",
    "\n",
    "# raw_df = pd.read_json('yelp_academic_dataset_business.json', lines = True)\n",
    "  # read in raw data\n",
    "# raw_df = raw_df.drop(columns=['business_id', 'address', 'hours'])\n",
    "  # drop initial unnecessary data columns\n",
    "# raw_df = raw_df.dropna(subset=['categories'])\n",
    "  # drop data with missing categories\n",
    "# raw_df = raw_df[new_df['categories'].str.contains(\"Restaurant\")]\n",
    "  # create a new dataframe with categories that contains 'Restaurant'"
   ]
  },
  {
   "cell_type": "markdown",
   "metadata": {
    "colab_type": "text",
    "id": "h7MIj3ps4atn"
   },
   "source": [
    "We realized that our raw Yelp Business data also included businesses from Canada, and we could see from the postal code values that they differ by Canada postal values containing letters."
   ]
  },
  {
   "cell_type": "code",
   "execution_count": null,
   "metadata": {
    "colab": {},
    "colab_type": "code",
    "id": "dJ3qjdzh4Z_m"
   },
   "outputs": [],
   "source": [
    "# new_df = new_df[new_df['postal_code'].str.isdigit()]\n",
    "  # remove any none digit postal code businesses"
   ]
  },
  {
   "cell_type": "markdown",
   "metadata": {
    "colab_type": "text",
    "id": "82BsuNOjr0Md"
   },
   "source": [
    "Furthermore, our raw Yelp Business data contained an 'attributes' column, which contained our price range data; however, the data values in the 'attributes' column was in a nested json format. To clean this data, we exported our initially cleaned dataframe back into a .json file. Then, we used json_normalize from json and pandas.io.json library to format our 'attributes' column into another set of dataframe; this new dataframe included the tags inside 'attributes' as a stand alone column. Finally, we cleaned out our unnecessary columns by creating a new dataframe to include the columns that we want for our study."
   ]
  },
  {
   "cell_type": "code",
   "execution_count": null,
   "metadata": {
    "colab": {},
    "colab_type": "code",
    "id": "xacARFz1rtWo"
   },
   "outputs": [],
   "source": [
    "# new_df = raw_df.to_json(orient='records')\n",
    "  # export back to json\n",
    "# finaldf = json_normalize(json.loads(new_df), meta=['name']) \n",
    "  # normalize the exported json to include 'attribute' stand alone columns\n",
    "# list(finaldf.columns)\n",
    "# finaldf = finaldf[['name', 'city', 'state', 'postal_code', 'latitude', 'longitude', 'stars', 'review_count', 'categories', 'attributes.RestaurantsPriceRange2']]\n",
    "  # new dataframe to drop unnecessary columns\n",
    "# finaldf.to_json('yelp.json')\n",
    "  # export back out to json file to be included in our datasets on GitHub\n",
    "\n",
    "\n",
    "# Specs after initial clean and wrangle\n",
    "# Size = ~8mb\n",
    "# Rows = 38216 rows\n",
    "# Columns = 10 Columns"
   ]
  },
  {
   "cell_type": "markdown",
   "metadata": {
    "colab_type": "text",
    "id": "jNKTLHOSvII8"
   },
   "source": [
    "Our next following is the data cleaning that we did for our Michelin Starred Restaurants. We included a 'stars' column to signify how many stars that each of those imported dataframe signified. Then, we concatenated all three dataframes (one star, two star, three star) into one single dataframe labeled under mich_df (Michelin Dataframe). \n",
    "\n",
    "From there, we did an initial inspection of our region column to see what regions of Michelin starred restaurants were included. Because we would like to focus only on United States, we filtered our data to include only regions from United States, which were California, New York City, Washington DC, and Chicago. We then dropped any unnecessary or redundant data columns for our study."
   ]
  },
  {
   "cell_type": "code",
   "execution_count": null,
   "metadata": {
    "colab": {
     "base_uri": "https://localhost:8080/",
     "height": 419
    },
    "colab_type": "code",
    "id": "F_mwQHjBu-n1",
    "outputId": "a8d64066-ddbd-464b-b13d-c7ae09a601ab"
   },
   "outputs": [],
   "source": [
    "one_df['stars'] = 1\n",
    "  # label our one starred restaurants\n",
    "two_df['stars'] = 2\n",
    "  # label our two starred restaurants\n",
    "three_df['stars'] = 3\n",
    "  # label our three starred restaurants\n",
    "concatList = [one_df,two_df,three_df]\n",
    "mich_df = pd.concat(concatList)\n",
    "  # combine our three dataframes into a single dataframe for Michelin restaurants\n",
    "\n",
    "mich_df['region'].value_counts()\n",
    "  # see all our regions inside Michelin regions column\n",
    "main_df = mich_df[(mich_df.region == 'California') | (mich_df.region == 'New York City') | (mich_df.region == 'Washington DC') | (mich_df.region == 'Chicago')]\n",
    "  # include only regions from United States\n",
    "main_df = main_df.drop(columns=['year', 'zipCode', 'url', 'region'])\n",
    "  # drop columns that are unnecessary or redundant\n",
    "main_df.reset_index(inplace=True, drop=True)\n",
    "  # reset index\n",
    "main_df\n"
   ]
  },
  {
   "cell_type": "markdown",
   "metadata": {
    "colab_type": "text",
    "id": "HR0bSL2Idlrj"
   },
   "source": [
    "We then needed to clean up the price column to have it represented on a numerical scale, as the original Michelin price ranges were indicated by a certain number of \"$\"."
   ]
  },
  {
   "cell_type": "code",
   "execution_count": null,
   "metadata": {
    "colab": {},
    "colab_type": "code",
    "id": "lfG3-yfAdjpe"
   },
   "outputs": [],
   "source": [
    "def standardize_price(price):\n",
    "    if '$' in price:\n",
    "        return len(price)\n",
    "    else:\n",
    "        return np.nan\n",
    "    \n",
    "main_df['price'] = main_df['price'].apply(standardize_price)"
   ]
  },
  {
   "cell_type": "markdown",
   "metadata": {
    "colab_type": "text",
    "id": "qQ5XSrb_FspF"
   },
   "source": [
    "Going back to our Yelp Dataset, we needed more data cleaning and wrangling to be fit for our suitable needs. This involved renaming few columns and cleaning our cuisine column data. Through careful inspection of our data, we were able to conclude that in the Yelp data, the '(NEW)' value in the cuisine category refers to 'Contempory' cuisine. "
   ]
  },
  {
   "cell_type": "code",
   "execution_count": null,
   "metadata": {
    "colab": {
     "base_uri": "https://localhost:8080/",
     "height": 419
    },
    "colab_type": "code",
    "id": "zV-847NHikDN",
    "outputId": "2633a9a7-c728-4b72-aa0c-64a18f5b31c5"
   },
   "outputs": [],
   "source": [
    "yelp_df = yelp_df.rename(columns={'attributes.RestaurantsPriceRange2': 'price', 'categories': 'cuisine'})\n",
    "yelp_df = yelp_df.dropna()\n",
    "yelp_df = yelp_df[['name', 'latitude', 'longitude', 'city', 'cuisine', 'price', 'stars']]\n",
    "yelp_df\n",
    "\n",
    "                  "
   ]
  },
  {
   "cell_type": "code",
   "execution_count": null,
   "metadata": {
    "colab": {
     "base_uri": "https://localhost:8080/",
     "height": 221
    },
    "colab_type": "code",
    "id": "_gnSczLhvUbm",
    "outputId": "fec51423-9f7c-4ba8-c97e-1eacd41ac37c"
   },
   "outputs": [],
   "source": [
    "new = yelp_df[yelp_df['cuisine'].str.contains('New', na=False)]\n",
    "cont = new[~new['cuisine'].str.contains('Fast Food', na=False)]\n",
    "contemporary = cont[~cont['cuisine'].str.contains('Traditional', na=False)]\n",
    "contemporary['cuisine'] = 'Contemporary'\n",
    "yelp_df.update(contemporary)\n",
    "yelp_df.cuisine.value_counts()\n",
    "\n",
    "\n",
    "\n"
   ]
  },
  {
   "cell_type": "code",
   "execution_count": null,
   "metadata": {
    "colab": {},
    "colab_type": "code",
    "id": "NpSHrk2ebQJd"
   },
   "outputs": [],
   "source": [
    "def standardize_category(string):\n",
    "    \n",
    "    string = str(string)\n",
    "    string = string.lower()\n",
    "    string = string.strip()\n",
    "    string = string.replace(' ', '')\n",
    "    \n",
    "    if 'chinese' in string:\n",
    "        output = 'Chinese'\n",
    "    elif 'american' in string:\n",
    "        output = 'American'\n",
    "    elif 'contemporary' in string:\n",
    "        output = 'Contemporary'\n",
    "    elif 'seafood' in string:\n",
    "        output = 'Seafood'\n",
    "    elif 'mexican' in string:\n",
    "        output = 'Mexican'\n",
    "    elif 'italian' in string:\n",
    "        output = 'Italian'\n",
    "    elif 'pizza' in string:\n",
    "        output = 'Italian'\n",
    "    elif 'japanese' in string:\n",
    "        output = 'Japanese'\n",
    "    elif 'sushi' in string:\n",
    "        output = 'Japanese'\n",
    "    elif 'greek' in string:\n",
    "        output = 'Greek'\n",
    "    elif 'french' in string:\n",
    "        output = 'French'\n",
    "    elif 'thai' in string:\n",
    "        output = 'Thai'\n",
    "    elif 'spanish' in string:\n",
    "        output = 'Spanish'\n",
    "    elif 'indian' in string:\n",
    "        output = 'Indian'\n",
    "    elif 'middleeastern' in string:\n",
    "        output = 'Middle Eastern'\n",
    "    elif 'spanish' in string:\n",
    "        output = 'Spanish'\n",
    "    elif 'hawaiian' in string:\n",
    "        output = 'Hawaiian'\n",
    "    elif 'southern' in string:\n",
    "        output = 'Southern'\n",
    "    elif 'mediterranean' in string:\n",
    "        output = 'Mediterranean'\n",
    "    elif 'korean' in string:\n",
    "        output = 'Korean'\n",
    "    elif 'vietnamese' in string:\n",
    "        output = 'Vietnamese'\n",
    "    elif 'steakhouse' in string:\n",
    "        output = 'Steakhouse'\n",
    "    # Otherwise, if uncaught - keep as is\n",
    "    else:\n",
    "        return np.NaN\n",
    "    return output     "
   ]
  },
  {
   "cell_type": "code",
   "execution_count": null,
   "metadata": {
    "colab": {
     "base_uri": "https://localhost:8080/",
     "height": 357
    },
    "colab_type": "code",
    "id": "e30N9FqtyLhA",
    "outputId": "7047bed2-9114-4141-a061-d0c0ba4e93c0"
   },
   "outputs": [],
   "source": [
    "yelp_df['cuisine'] = yelp_df['cuisine'].apply(standardize_category)\n",
    "yelp_df['cuisine'].value_counts().loc[lambda x : x>25] \n"
   ]
  },
  {
   "cell_type": "markdown",
   "metadata": {
    "colab_type": "text",
    "id": "YG5WBdUGeHNH"
   },
   "source": [
    "To fix the prices in the Yelp data, we just needed to convert any \"None\" values to NaNs."
   ]
  },
  {
   "cell_type": "code",
   "execution_count": null,
   "metadata": {
    "colab": {},
    "colab_type": "code",
    "id": "-WDymD31eDl9"
   },
   "outputs": [],
   "source": [
    "def fix_yelp_prices(price):\n",
    "    if price == \"None\":\n",
    "        return np.nan\n",
    "    else:\n",
    "        return float(price)\n",
    "    \n",
    "yelp_df['price'] = yelp_df['price'].apply(fix_yelp_prices)\n",
    "yelp_df = yelp_df.dropna()\n",
    "yelp_df.reset_index(inplace=True, drop=True)"
   ]
  },
  {
   "cell_type": "markdown",
   "metadata": {
    "colab_type": "text",
    "id": "BKjmoNPru-n4"
   },
   "source": [
    "# Data Analysis & Results"
   ]
  },
  {
   "cell_type": "markdown",
   "metadata": {
    "colab_type": "text",
    "id": "xuMKpE4pu-n4"
   },
   "source": [
    "We started with EDA and Visualizations then moved on to more structured analysis. This section is broken down by each factor we were analyzing."
   ]
  },
  {
   "cell_type": "markdown",
   "metadata": {
    "colab_type": "text",
    "id": "crA5lg_JrZPF"
   },
   "source": [
    "# Cuisine"
   ]
  },
  {
   "cell_type": "markdown",
   "metadata": {
    "colab_type": "text",
    "id": "QHMnrg9z8pBC"
   },
   "source": [
    "We want to see how the type of cuisine contributes to Michelin star ratings. We are looking at the visualization of each type of cuisine compared to the number of star ratings it received (1, 2, or 3). We will then do the same process for the Yelp Data. In order to do this we used grouped countplots from seaborn. "
   ]
  },
  {
   "cell_type": "code",
   "execution_count": null,
   "metadata": {
    "colab": {
     "base_uri": "https://localhost:8080/",
     "height": 1000
    },
    "colab_type": "code",
    "id": "TbGlEno0VYo1",
    "outputId": "a29c7f54-98a4-40f4-c4ab-60f0b894c70b"
   },
   "outputs": [],
   "source": [
    "#we want compare the number and types of stars earned to the type of cuisine for the Michelin data we will make a group barplot\n",
    "\n",
    "#Set the parameters for the graph\n",
    "plt.rcParams['figure.figsize'] = (12, 17)\n",
    "sns.set(font_scale=2.0, style=\"white\")\n",
    "\n",
    "#Enter the data the graph will show\n",
    "#make graph horizantal so it is easier to view\n",
    "mich_cus = sns.countplot(y = 'cuisine', hue = 'stars', \n",
    "              data = main_df, order = main_df['cuisine'].value_counts().index  )\n",
    "\n",
    "#Label the graph\n",
    "mich_cus.set_title('Michelin Star Amount by Type of Cuisine', loc='left')\n",
    "mich_cus.set_ylabel('Cuisine')\n",
    "mich_cus.set_xlabel('Count')"
   ]
  },
  {
   "cell_type": "markdown",
   "metadata": {
    "colab_type": "text",
    "id": "MblE-lw3QHKR"
   },
   "source": [
    "We can see from this graph that there are mostly one star rated Michelin restaurants. We also can tell that the more restaurants in a particular category the more Michelin 3 star ratings they have. However this does not show if contemporary cuisine, for example, is more likely to get a higher rating or if it just has more restaurants. "
   ]
  },
  {
   "cell_type": "code",
   "execution_count": null,
   "metadata": {
    "colab": {
     "base_uri": "https://localhost:8080/",
     "height": 1000
    },
    "colab_type": "code",
    "id": "Ho7cFWa2VekQ",
    "outputId": "4943bcb8-aa68-405c-dc76-01374440bd85"
   },
   "outputs": [],
   "source": [
    "#we want compare the number and types of stars earned to the type of cuisine for the Yelp data we will make a group barplot\n",
    "#and compare it to Michelins cuisine's graph\n",
    "\n",
    "#set the parmeters of the yelp graph\n",
    "plt.rcParams['figure.figsize'] = (12, 27)\n",
    "\n",
    "#Enter the data the graph with show\n",
    "#make graph horizontal and easier to view\n",
    "yelp_cus = sns.countplot(y = 'cuisine', hue = 'stars', \n",
    "              data= yelp_df, order = yelp_df['cuisine'].value_counts().index  )\n",
    "\n",
    "#label the graph\n",
    "yelp_cus.set_title('Yelp Star Amount by Type of Cuisine', loc='left')\n",
    "yelp_cus.set_ylabel('Cuisine')\n",
    "yelp_cus.set_xlabel('Count')"
   ]
  },
  {
   "cell_type": "markdown",
   "metadata": {
    "colab_type": "text",
    "id": "pHYgLPTxRAQJ"
   },
   "source": [
    "This plot again makes it hard to see if there really is a significance in rating due to cusine. It mostly just shows the amount of resturants in each type of cuisine."
   ]
  },
  {
   "cell_type": "markdown",
   "metadata": {
    "colab_type": "text",
    "id": "9Y223NP5FevP"
   },
   "source": [
    "To make it easier to determine we moved to trying to see the average star amount in both the Michelin and Yelp datasets by cuisine. We use the groupby function and find the mean amount of stars per cuisine. "
   ]
  },
  {
   "cell_type": "code",
   "execution_count": null,
   "metadata": {
    "colab": {
     "base_uri": "https://localhost:8080/",
     "height": 793
    },
    "colab_type": "code",
    "id": "LIEJGUjVViaq",
    "outputId": "706f8a74-4af5-4cbd-8600-381aa1b9bbd6"
   },
   "outputs": [],
   "source": [
    "#Find the average star amount by type of cuisine for Michelin data\n",
    "main_df.groupby('cuisine', as_index=False)['stars'].mean()"
   ]
  },
  {
   "cell_type": "code",
   "execution_count": null,
   "metadata": {
    "colab": {
     "base_uri": "https://localhost:8080/",
     "height": 638
    },
    "colab_type": "code",
    "id": "cF7XmBj0VlnT",
    "outputId": "6a898548-807c-48ad-bd96-bf351b7b74d4"
   },
   "outputs": [],
   "source": [
    "#Find the average star amount by type of cuisine for Yelp data\n",
    "yelp_df.groupby('cuisine', as_index=False)['stars'].mean()"
   ]
  },
  {
   "cell_type": "markdown",
   "metadata": {
    "colab_type": "text",
    "id": "TXVl4Wz2Ri5j"
   },
   "source": [
    "The mean scores on Yelp and Michelin data. Show a better distribution of average star ratings compared to cuisine taking out the effect of just general amount in each catergory. We can see that there is not a significant difference in the star ratings based on the type of cuisine. "
   ]
  },
  {
   "cell_type": "markdown",
   "metadata": {
    "colab_type": "text",
    "id": "k5i5Z8Unm9c-"
   },
   "source": [
    "## Price"
   ]
  },
  {
   "cell_type": "markdown",
   "metadata": {
    "colab_type": "text",
    "id": "7UBnV6jcZVYQ"
   },
   "source": [
    "In this section, we will first be evaluating the distribution of Michelin stars among different price points, then repeating that for a the range of Yelp stars."
   ]
  },
  {
   "cell_type": "code",
   "execution_count": null,
   "metadata": {
    "colab": {},
    "colab_type": "code",
    "id": "oP3Nbmn4qVKU"
   },
   "outputs": [],
   "source": [
    "#Set the parameters for the visulizations\n",
    "plt.rcParams['figure.figsize'] = (12, 7)"
   ]
  },
  {
   "cell_type": "code",
   "execution_count": null,
   "metadata": {
    "colab": {
     "base_uri": "https://localhost:8080/",
     "height": 511
    },
    "colab_type": "code",
    "id": "hj1wK5wam8k1",
    "outputId": "277091e5-b303-4afd-d220-f6d9c37078f3"
   },
   "outputs": [],
   "source": [
    "mich_price = sns.countplot(y = 'price', hue = 'stars', data = main_df)\n",
    "\n",
    "mich_price.set_title('Michelin Star Amount by Price', loc='left')\n",
    "mich_price.set_ylabel('Price')\n",
    "mich_price.set_xlabel('Count')"
   ]
  },
  {
   "cell_type": "markdown",
   "metadata": {
    "colab_type": "text",
    "id": "ddWZYHsNZ4Pm"
   },
   "source": [
    "From the above graph, it's clear that Michelin restaurants with 2 or more stars are in the highest price range, and that the majority of all Michelin-starred restaurants are as well."
   ]
  },
  {
   "cell_type": "markdown",
   "metadata": {
    "colab_type": "text",
    "id": "mNnI7fK4ab_l"
   },
   "source": [
    "Repeat for the Yelp star data:"
   ]
  },
  {
   "cell_type": "code",
   "execution_count": null,
   "metadata": {
    "colab": {
     "base_uri": "https://localhost:8080/",
     "height": 511
    },
    "colab_type": "code",
    "id": "EJMPNc_2nASz",
    "outputId": "bbdd5348-4f3d-4753-92da-b8132d82fcf6"
   },
   "outputs": [],
   "source": [
    "yelp_price = sns.countplot(y = 'price', hue = 'stars', data = yelp_df)\n",
    "\n",
    "yelp_price.set_title('Yelp Star Amount by Price', loc='left')\n",
    "yelp_price.set_ylabel('Price')\n",
    "yelp_price.set_xlabel('Count')"
   ]
  },
  {
   "cell_type": "markdown",
   "metadata": {
    "colab_type": "text",
    "id": "gwuXHdWAakyM"
   },
   "source": [
    "While this data is more widely distributed, the majority of restaurants are in the lower price ranges, with the majority of ratings for all restaurants being in the 3-4 star range. Restaurants in the highest price range are mostly given 4 out of 5 stars, with 3 stars being the lowest rating."
   ]
  },
  {
   "cell_type": "markdown",
   "metadata": {
    "colab_type": "text",
    "id": "4oajO74dbMk5"
   },
   "source": [
    "Now to take a look at the basic statistics for the Michelin star data:"
   ]
  },
  {
   "cell_type": "code",
   "execution_count": null,
   "metadata": {
    "colab": {
     "base_uri": "https://localhost:8080/",
     "height": 297
    },
    "colab_type": "code",
    "id": "o4YPGp12nopb",
    "outputId": "9dd8c6d6-2f21-4ecb-fabd-eb37c3ad31b1"
   },
   "outputs": [],
   "source": [
    "mich_desc = main_df.describe()\n",
    "mich_desc"
   ]
  },
  {
   "cell_type": "markdown",
   "metadata": {
    "colab_type": "text",
    "id": "wFCK3oXCbXCY"
   },
   "source": [
    "Ignoring latitude and longitude for now, we can see some basic trends in the price and stars columns. With the average price being in the higher half of the range while the average number of stars is almost one, it appears that Michelin-starred restaurants trend higher in price than most. This is especially clear when compared to the same analysis on the Yelp data below, where the average price is in the lower half and the scaled number of stars is still higher than in the Michelin data."
   ]
  },
  {
   "cell_type": "code",
   "execution_count": null,
   "metadata": {
    "colab": {
     "base_uri": "https://localhost:8080/",
     "height": 297
    },
    "colab_type": "code",
    "id": "iZl5Vn90ccM-",
    "outputId": "d87e7de2-8229-477e-bcc4-2f4f6644621b"
   },
   "outputs": [],
   "source": [
    "yelp_desc = yelp_df.describe()\n",
    "yelp_desc"
   ]
  },
  {
   "cell_type": "markdown",
   "metadata": {
    "colab_type": "text",
    "id": "Ge-DbiFncr3b"
   },
   "source": [
    "To see just how strongly price ties to the number of Michelin stars a restaurant receives, we turn to Pearson correlation."
   ]
  },
  {
   "cell_type": "code",
   "execution_count": null,
   "metadata": {
    "colab": {
     "base_uri": "https://localhost:8080/",
     "height": 173
    },
    "colab_type": "code",
    "id": "rScy5Rngns9r",
    "outputId": "37a2e2a8-653f-41bd-9103-2808a323c327"
   },
   "outputs": [],
   "source": [
    "mich_corrs = main_df.corr()\n",
    "mich_corrs"
   ]
  },
  {
   "cell_type": "markdown",
   "metadata": {
    "colab_type": "text",
    "id": "w6sdi3Xwc9BU"
   },
   "source": [
    "From the above, we can see a correlation of 0.33 between price and number of stars. We then do the same with the Yelp data.\n",
    "\n"
   ]
  },
  {
   "cell_type": "code",
   "execution_count": null,
   "metadata": {
    "colab": {
     "base_uri": "https://localhost:8080/",
     "height": 173
    },
    "colab_type": "code",
    "id": "xgIwvJB8fP--",
    "outputId": "7d8af371-77c1-4e49-b1e2-402e6c799216"
   },
   "outputs": [],
   "source": [
    "yelp_corrs = yelp_df.corr()\n",
    "yelp_corrs"
   ]
  },
  {
   "cell_type": "markdown",
   "metadata": {
    "colab_type": "text",
    "id": "bT9xZRHBfZML"
   },
   "source": [
    "Using the either the stars or scaled_stars, we that that with a correlation of about 0.14, price has about half the effect on stars for general restaurant data when compared to Michelin-starred restaurants."
   ]
  },
  {
   "cell_type": "markdown",
   "metadata": {
    "colab_type": "text",
    "id": "8CWjVg0ic9ZF"
   },
   "source": [
    "### Visualizing the price data\n",
    "\n",
    "From here, we map linear regression for the Michelin star and scaled Yelp star data over price. Note that since the data points themselves are based on integers, the scatter plot will appear to have very few data points."
   ]
  },
  {
   "cell_type": "code",
   "execution_count": null,
   "metadata": {
    "colab": {
     "base_uri": "https://localhost:8080/",
     "height": 523
    },
    "colab_type": "code",
    "id": "QtdismMonwlJ",
    "outputId": "e72d293b-9ebd-4084-f763-b205de336020"
   },
   "outputs": [],
   "source": [
    "# Use polyfit to determine values for linear regression line\n",
    "a1, b1 = np.polyfit(main_df['price'], main_df['stars'], 1)\n",
    "pred_mich_stars = (a1 * np.arange(0, 5, 1) + b1)\n",
    "\n",
    "# Graph predicted number of stars based on price using Michelin star data\n",
    "main_df.plot.scatter('price', 'stars')\n",
    "plt.plot(np.arange(0, 5), pred_mich_stars, 'r')"
   ]
  },
  {
   "cell_type": "code",
   "execution_count": null,
   "metadata": {
    "colab": {},
    "colab_type": "code",
    "id": "BGuymFNhn0LB"
   },
   "outputs": [],
   "source": [
    "# Scale Yelp stars down to Michelin star size and drop null values\n",
    "yelp_stars_df = yelp_df\n",
    "yelp_stars_df['scaled_stars'] = yelp_df['stars'] * 0.6\n",
    "yelp_stars_df = yelp_df[yelp_df['price'].notnull()]\n"
   ]
  },
  {
   "cell_type": "code",
   "execution_count": null,
   "metadata": {
    "colab": {
     "base_uri": "https://localhost:8080/",
     "height": 523
    },
    "colab_type": "code",
    "id": "VeK5CnQyvSbq",
    "outputId": "46c4a40d-7d49-4b76-d106-1e12b3f4f6e6"
   },
   "outputs": [],
   "source": [
    "# Use polyfit to determine values for linear regression line\n",
    "a2, b2 = np.polyfit(yelp_stars_df['price'], yelp_stars_df['scaled_stars'], 1)\n",
    "pred_yelp_stars = (a2 * np.arange(0, 5, 1) + b2)\n",
    "\n",
    "# Graph predicted number of stars based on price using Yelp data\n",
    "yelp_df.plot.scatter('price', 'scaled_stars')\n",
    "plt.plot(np.arange(0, 5), pred_yelp_stars, 'r')"
   ]
  },
  {
   "cell_type": "markdown",
   "metadata": {
    "colab_type": "text",
    "id": "5OCJGyUToSNH"
   },
   "source": [
    "# Scikit Learn Predictors"
   ]
  },
  {
   "cell_type": "markdown",
   "metadata": {
    "colab_type": "text",
    "id": "H4EuN_mOonnR"
   },
   "source": [
    "## Setup\n"
   ]
  },
  {
   "cell_type": "code",
   "execution_count": null,
   "metadata": {
    "colab": {},
    "colab_type": "code",
    "id": "M_CNoyijorbF"
   },
   "outputs": [],
   "source": [
    "# import libraries\n",
    "from sklearn.svm import SVR\n",
    "from sklearn.feature_extraction.text import TfidfVectorizer\n",
    "from sklearn import datasets, linear_model\n",
    "\n",
    "from nltk.tokenize import word_tokenize\n",
    "\n",
    "\n",
    "# tfidf vectorizer for restaurant names and cuisine\n",
    "tfidf = TfidfVectorizer(sublinear_tf=True, analyzer='word', max_features=2000, tokenizer=word_tokenize)\n",
    "\n",
    "# Support Vector Machines (SVR) for TF-IDF on Restaurant Names & Cuisine\n",
    "def train_SVM(X, y):\n",
    "    clf = SVR()\n",
    "    clf.fit(X,y)\n",
    "    return clf"
   ]
  },
  {
   "cell_type": "code",
   "execution_count": null,
   "metadata": {
    "colab": {},
    "colab_type": "code",
    "id": "CEGoEXFMowl_"
   },
   "outputs": [],
   "source": [
    "# Original Data Star Values\n",
    "mich_stars = main_df[['stars']]\n",
    "yelp_stars = yelp_df[['stars']]\n",
    "\n",
    "# Training Dataframes\n",
    "mich_train_df = main_df[['name','cuisine','price','stars']]\n",
    "yelp_train_df = yelp_df[['name','cuisine','price','stars']]\n",
    "\n",
    "# Testing Dataframes\n",
    "mich_test_df = main_df[['name','cuisine','price']]\n",
    "yelp_test_df = yelp_df[['name','cuisine','price']]\n",
    "\n",
    "# Concatenated Dataframes based on training data\n",
    "concat_mich_train_df = pd.concat([mich_train_df, yelp_test_df])\n",
    "concat_yelp_train_df = pd.concat([yelp_train_df, mich_test_df])"
   ]
  },
  {
   "cell_type": "markdown",
   "metadata": {
    "colab_type": "text",
    "id": "Py_qHgTzovDg"
   },
   "source": [
    "## Name TF-IDF"
   ]
  },
  {
   "cell_type": "markdown",
   "metadata": {
    "colab_type": "text",
    "id": "0TqO9HO6pEGA"
   },
   "source": [
    "### Michelin Dataset Trained"
   ]
  },
  {
   "cell_type": "code",
   "execution_count": null,
   "metadata": {
    "colab": {},
    "colab_type": "code",
    "id": "tkJoSVUYpJH3"
   },
   "outputs": [],
   "source": [
    "# Vectorize the restaurant names for training\n",
    "name_mich_tfidf_X = tfidf.fit_transform(concat_mich_train_df['name']).toarray()\n",
    "\n",
    "# Split the training data from concatenated dataframe\n",
    "name_mich_train_X = name_mich_tfidf_X[~concat_mich_train_df['stars'].isnull()]\n",
    "name_mich_train_y = concat_mich_train_df['stars'][~concat_mich_train_df['stars'].isnull()]"
   ]
  },
  {
   "cell_type": "code",
   "execution_count": null,
   "metadata": {
    "colab": {},
    "colab_type": "code",
    "id": "Zqz9rhUUpU0Q"
   },
   "outputs": [],
   "source": [
    "# run SVM\n",
    "name_mich_clf = train_SVM(name_mich_train_X, name_mich_train_y)"
   ]
  },
  {
   "cell_type": "code",
   "execution_count": null,
   "metadata": {
    "colab": {},
    "colab_type": "code",
    "id": "hCs_1hcWpWB5"
   },
   "outputs": [],
   "source": [
    "# Get testing data and run predictor\n",
    "name_yelp_test_X = name_mich_tfidf_X[concat_mich_train_df['stars'].isnull()]\n",
    "name_pred_yelp_test_y = name_mich_clf.predict(name_yelp_test_X)"
   ]
  },
  {
   "cell_type": "code",
   "execution_count": null,
   "metadata": {
    "colab": {
     "base_uri": "https://localhost:8080/",
     "height": 419
    },
    "colab_type": "code",
    "id": "fcAx12bMpdZp",
    "outputId": "ba95d2ee-6bec-4c05-e42a-6b4a8a63b6cf"
   },
   "outputs": [],
   "source": [
    "# Wrangling Old data and New Predictor values to a new dataframe\n",
    "name_pred_yelp_stars_df = pd.DataFrame(data=name_pred_yelp_test_y, columns=[\"stars\"])\n",
    "name_pred_yelp_stars_df = name_pred_yelp_stars_df.rename(columns={'stars': 'Predicted Mich'})\n",
    "name_pred_yelp_stars_df['Yelp'] = yelp_stars\n",
    "name_pred_yelp_stars_df['Pred Mich Scaled'] = 1.667 * name_pred_yelp_stars_df['Predicted Mich']\n",
    "name_pred_yelp_stars_df"
   ]
  },
  {
   "cell_type": "markdown",
   "metadata": {
    "colab_type": "text",
    "id": "eN923RLvpoui"
   },
   "source": [
    "### Yelp Dataset Trained"
   ]
  },
  {
   "cell_type": "markdown",
   "metadata": {},
   "source": [
    "Due to an extremely large file size that caused a runtime of over an hour (leading the program to crash on our personal computers), we've opted to comment out this code. In the one instance it did run, it did not seem to have any significance. The same applies to other commented-out Yelp-trained datasets."
   ]
  },
  {
   "cell_type": "code",
   "execution_count": null,
   "metadata": {
    "colab": {},
    "colab_type": "code",
    "id": "yrrdvs-WptP1"
   },
   "outputs": [],
   "source": [
    "# # Vectorize the restaurant names for training\n",
    "# name_yelp_tfidf_X = tfidf.fit_transform(concat_yelp_train_df['name']).toarray()\n",
    "\n",
    "# # Split the training data from concatenated dataframe\n",
    "# name_yelp_train_X = name_yelp_tfidf_X[~concat_yelp_train_df['stars'].isnull()]\n",
    "# name_yelp_train_y = concat_yelp_train_df['stars'][~concat_yelp_train_df['stars'].isnull()]"
   ]
  },
  {
   "cell_type": "code",
   "execution_count": null,
   "metadata": {
    "colab": {},
    "colab_type": "code",
    "id": "GB88XAWspwnc"
   },
   "outputs": [],
   "source": [
    "# # run SVM\n",
    "# name_yelp_clf = train_SVM(name_yelp_train_X, name_yelp_train_y)"
   ]
  },
  {
   "cell_type": "code",
   "execution_count": null,
   "metadata": {
    "colab": {},
    "colab_type": "code",
    "id": "kMaATMQlpxYz"
   },
   "outputs": [],
   "source": [
    "# # Get testing data and run predictor\n",
    "# name_mich_test_X = name_yelp_tfidf_X[concat_yelp_train_df['stars'].isnull()]\n",
    "# name_pred_mich_test_y = name_yelp_clf.predict(name_mich_test_X)"
   ]
  },
  {
   "cell_type": "code",
   "execution_count": null,
   "metadata": {
    "colab": {},
    "colab_type": "code",
    "id": "sbTiZw0XpyGa"
   },
   "outputs": [],
   "source": [
    "# # Wrangling Old data and New Predictor values to a new dataframe\n",
    "# name_pred_mich_stars_df = pd.DataFrame(data=name_pred_mich_test_y, columns=[\"stars\"])\n",
    "# name_pred_mich_stars_df = name_pred_mich_stars_df.rename(columns={'stars': 'Predicted Yelp'})\n",
    "# name_pred_mich_stars_df['Mich'] = mich_stars\n",
    "# name_pred_mich_stars_df['Pred Yelp Scaled'] = 0.6 * name_pred_yelp_stars_df['Predicted Yelp']\n",
    "# name_pred_mich_stars_df"
   ]
  },
  {
   "cell_type": "markdown",
   "metadata": {
    "colab_type": "text",
    "id": "V0r99x4-p5zV"
   },
   "source": [
    "## Cuisine TF-IDF"
   ]
  },
  {
   "cell_type": "markdown",
   "metadata": {
    "colab_type": "text",
    "id": "CjOFL-MUp99f"
   },
   "source": [
    "### Michelin Dataset Trained"
   ]
  },
  {
   "cell_type": "code",
   "execution_count": null,
   "metadata": {
    "colab": {},
    "colab_type": "code",
    "id": "-tEHhnPOqFl8"
   },
   "outputs": [],
   "source": [
    "# Vectorize the restaurant names for training\n",
    "cuisine_mich_tfidf_X = tfidf.fit_transform(concat_mich_train_df['cuisine']).toarray()\n",
    "\n",
    "# Split the training data from concatenated dataframe\n",
    "cuisine_mich_train_X = cuisine_mich_tfidf_X[~concat_mich_train_df['stars'].isnull()]\n",
    "cuisine_mich_train_y = concat_mich_train_df['stars'][~concat_mich_train_df['stars'].isnull()]"
   ]
  },
  {
   "cell_type": "code",
   "execution_count": null,
   "metadata": {
    "colab": {},
    "colab_type": "code",
    "id": "fkaISQghqFer"
   },
   "outputs": [],
   "source": [
    "# run SVM\n",
    "cuisine_mich_clf = train_SVM(cuisine_mich_train_X, cuisine_mich_train_y)"
   ]
  },
  {
   "cell_type": "code",
   "execution_count": null,
   "metadata": {
    "colab": {},
    "colab_type": "code",
    "id": "fztyCwq9qFYl"
   },
   "outputs": [],
   "source": [
    "# Get testing data and run predictor\n",
    "cuisine_yelp_test_X = cuisine_mich_tfidf_X[concat_mich_train_df['stars'].isnull()]\n",
    "cuisine_pred_yelp_test_y = cuisine_mich_clf.predict(cuisine_yelp_test_X)"
   ]
  },
  {
   "cell_type": "code",
   "execution_count": null,
   "metadata": {
    "colab": {
     "base_uri": "https://localhost:8080/",
     "height": 419
    },
    "colab_type": "code",
    "id": "rysxlVd2qFRa",
    "outputId": "ead14a3d-5a75-4d57-a767-f180cc993911"
   },
   "outputs": [],
   "source": [
    "# Wrangling Old data and New Predictor values to a new dataframe\n",
    "cuisine_pred_yelp_stars_df = pd.DataFrame(data=cuisine_pred_yelp_test_y, columns=[\"stars\"])\n",
    "cuisine_pred_yelp_stars_df = cuisine_pred_yelp_stars_df.rename(columns={'stars': 'Predicted Mich'})\n",
    "cuisine_pred_yelp_stars_df['Yelp'] = yelp_stars\n",
    "cuisine_pred_yelp_stars_df['Pred Mich Scaled'] = 1.667 * cuisine_pred_yelp_stars_df['Predicted Mich']\n",
    "cuisine_pred_yelp_stars_df"
   ]
  },
  {
   "cell_type": "markdown",
   "metadata": {
    "colab_type": "text",
    "id": "O_39aTUnqBmY"
   },
   "source": [
    "### Yelp Dataset Trained"
   ]
  },
  {
   "cell_type": "code",
   "execution_count": null,
   "metadata": {
    "colab": {},
    "colab_type": "code",
    "id": "VcwQm-qmqWgC"
   },
   "outputs": [],
   "source": [
    "# # Vectorize the restaurant names for training\n",
    "# cuisine_yelp_tfidf_X = tfidf.fit_transform(concat_yelp_train_df['cuisine']).toarray()\n",
    "\n",
    "# # Split the training data from concatenated dataframe\n",
    "# cuisine_yelp_train_X = cuisine_yelp_tfidf_X[~concat_yelp_train_df['stars'].isnull()]\n",
    "# cuisine_yelp_train_y = concat_yelp_train_df['stars'][~concat_yelp_train_df['stars'].isnull()]"
   ]
  },
  {
   "cell_type": "code",
   "execution_count": null,
   "metadata": {
    "colab": {},
    "colab_type": "code",
    "id": "Uw-Vb-yrqWbn"
   },
   "outputs": [],
   "source": [
    "# # run SVM\n",
    "# cuisine_yelp_clf = train_SVM(cuisine_yelp_train_X, cuisine_yelp_train_y)"
   ]
  },
  {
   "cell_type": "code",
   "execution_count": null,
   "metadata": {
    "colab": {},
    "colab_type": "code",
    "id": "d33pB9mDqWXi"
   },
   "outputs": [],
   "source": [
    "# # Get testing data and run predictor\n",
    "# cuisine_mich_test_X = cuisine_yelp_tfidf_X[concat_yelp_train_df['stars'].isnull()]\n",
    "# cuisine_pred_mich_test_y = cuisine_yelp_clf.predict(cuisine_mich_test_X)"
   ]
  },
  {
   "cell_type": "code",
   "execution_count": null,
   "metadata": {
    "colab": {},
    "colab_type": "code",
    "id": "bdTqXrRDqWSY"
   },
   "outputs": [],
   "source": [
    "# # Wrangling Old data and New Predictor values to a new dataframe\n",
    "# cuisine_pred_mich_stars_df = pd.DataFrame(data=cuisine_pred_mich_test_y, columns=[\"stars\"])\n",
    "# cuisine_pred_mich_stars_df = cuisine_pred_mich_stars_df.rename(columns={'stars': 'Predicted Yelp'})\n",
    "# cuisine_pred_mich_stars_df['Mich'] = mich_stars\n",
    "# cuisine_pred_mich_stars_df['Pred Yelp Scaled'] = 0.6 * cuisine_pred_yelp_stars_df['Predicted Yelp']\n",
    "# cuisine_pred_mich_stars_df"
   ]
  },
  {
   "cell_type": "markdown",
   "metadata": {
    "colab_type": "text",
    "id": "923XxxGXqus3"
   },
   "source": [
    "## Price Linear Regression"
   ]
  },
  {
   "cell_type": "markdown",
   "metadata": {
    "colab_type": "text",
    "id": "Gq8vvFaEq0iV"
   },
   "source": [
    "### Michelin Dataset Trained"
   ]
  },
  {
   "cell_type": "code",
   "execution_count": null,
   "metadata": {
    "colab": {},
    "colab_type": "code",
    "id": "9Tkf_Vptq5z0"
   },
   "outputs": [],
   "source": [
    "# Split the training data from concatenated dataframe\n",
    "price_mich_train_X = concat_mich_train_df['price'][~concat_mich_train_df['stars'].isnull()]\n",
    "price_mich_train_y = concat_mich_train_df['stars'][~concat_mich_train_df['stars'].isnull()]\n",
    "\n",
    "# Reshape to 1D array\n",
    "price_mich_train_X = price_mich_train_X.values.reshape(-1,1)\n",
    "price_mich_train_y = price_mich_train_y.values.reshape(-1,1)"
   ]
  },
  {
   "cell_type": "code",
   "execution_count": null,
   "metadata": {
    "colab": {
     "base_uri": "https://localhost:8080/",
     "height": 34
    },
    "colab_type": "code",
    "id": "F4imAw1Pq5x5",
    "outputId": "4b060141-36ae-40e5-f928-b17b33c08408"
   },
   "outputs": [],
   "source": [
    "# run Linear Regression\n",
    "mich_train_regr = linear_model.LinearRegression()\n",
    "mich_train_regr.fit(price_mich_train_X, price_mich_train_y)"
   ]
  },
  {
   "cell_type": "code",
   "execution_count": null,
   "metadata": {
    "colab": {},
    "colab_type": "code",
    "id": "LbJpeGBeq5v3"
   },
   "outputs": [],
   "source": [
    "# Get testing data and run predictor\n",
    "price_yelp_test_X = concat_mich_train_df['price'][concat_mich_train_df['stars'].isnull()]\n",
    "price_yelp_test_X = price_yelp_test_X.values.reshape(-1,1)\n",
    "price_pred_yelp_test_y = mich_train_regr.predict(price_yelp_test_X)"
   ]
  },
  {
   "cell_type": "code",
   "execution_count": null,
   "metadata": {
    "colab": {
     "base_uri": "https://localhost:8080/",
     "height": 419
    },
    "colab_type": "code",
    "id": "Ws9xEyhSq5SZ",
    "outputId": "9651a9f8-3801-4499-c70a-602ac7c1e2b8"
   },
   "outputs": [],
   "source": [
    "# Wrangling Old data and New Predictor values to a new dataframe\n",
    "price_pred_yelp_stars_df = pd.DataFrame(data=price_pred_yelp_test_y, columns=[\"stars\"])\n",
    "price_pred_yelp_stars_df = price_pred_yelp_stars_df.rename(columns={'stars': 'Predicted Mich'})\n",
    "price_pred_yelp_stars_df['Yelp'] = yelp_stars\n",
    "price_pred_yelp_stars_df['Pred Mich Scaled'] = 1.667 * price_pred_yelp_stars_df['Predicted Mich']\n",
    "price_pred_yelp_stars_df"
   ]
  },
  {
   "cell_type": "markdown",
   "metadata": {
    "colab_type": "text",
    "id": "AWhCw3C3q0dG"
   },
   "source": [
    "### Yelp Dataset Trained"
   ]
  },
  {
   "cell_type": "code",
   "execution_count": null,
   "metadata": {
    "colab": {},
    "colab_type": "code",
    "id": "uYTMXES8q6ZR"
   },
   "outputs": [],
   "source": [
    "# Split the training data from concatenated dataframe\n",
    "price_yelp_train_X = concat_yelp_train_df['price'][~concat_yelp_train_df['stars'].isnull()]\n",
    "price_yelp_train_y = concat_yelp_train_df['stars'][~concat_yelp_train_df['stars'].isnull()]\n",
    "\n",
    "# Reshape to 1D array\n",
    "price_yelp_train_X = price_yelp_train_X.values.reshape(-1,1)\n",
    "price_yelp_train_y = price_yelp_train_y.values.reshape(-1,1)"
   ]
  },
  {
   "cell_type": "code",
   "execution_count": null,
   "metadata": {
    "colab": {
     "base_uri": "https://localhost:8080/",
     "height": 34
    },
    "colab_type": "code",
    "id": "6UUb0O0lq6Xf",
    "outputId": "7f1226a8-4a80-4bf0-c438-1a2fa711b545"
   },
   "outputs": [],
   "source": [
    "# run Linear Regression\n",
    "yelp_train_regr = linear_model.LinearRegression()\n",
    "yelp_train_regr.fit(price_yelp_train_X, price_yelp_train_y)"
   ]
  },
  {
   "cell_type": "code",
   "execution_count": null,
   "metadata": {
    "colab": {},
    "colab_type": "code",
    "id": "s7ZN1ROiq6Vj"
   },
   "outputs": [],
   "source": [
    "# Get testing data and run predictor\n",
    "price_mich_test_X = concat_yelp_train_df['price'][concat_yelp_train_df['stars'].isnull()]\n",
    "price_mich_test_X = price_mich_test_X.values.reshape(-1,1)\n",
    "price_pred_mich_test_y = yelp_train_regr.predict(price_mich_test_X)"
   ]
  },
  {
   "cell_type": "code",
   "execution_count": null,
   "metadata": {
    "colab": {
     "base_uri": "https://localhost:8080/",
     "height": 419
    },
    "colab_type": "code",
    "id": "pcpvAXjjq6TR",
    "outputId": "d6ab747b-530b-4b87-9076-da34f2aefd08"
   },
   "outputs": [],
   "source": [
    "# Wrangling Old data and New Predictor values to a new dataframe\n",
    "price_pred_mich_stars_df = pd.DataFrame(data=price_pred_mich_test_y, columns=[\"stars\"])\n",
    "price_pred_mich_stars_df = price_pred_mich_stars_df.rename(columns={'stars': 'Predicted Yelp'})\n",
    "price_pred_mich_stars_df['Mich'] = mich_stars\n",
    "price_pred_mich_stars_df['Pred Yelp Scaled'] = 0.6 * price_pred_mich_stars_df['Predicted Yelp']\n",
    "price_pred_mich_stars_df"
   ]
  },
  {
   "cell_type": "markdown",
   "metadata": {},
   "source": [
    "Given the strong uniformity of predictions, it appears that restaurant name, cuisine name, and price do not have any particular ability to predict a restaurant's Yelp rating from its Michelin star rating. "
   ]
  },
  {
   "cell_type": "markdown",
   "metadata": {
    "colab_type": "text",
    "id": "v_ak7WG1G2GS"
   },
   "source": [
    "# Location"
   ]
  },
  {
   "cell_type": "markdown",
   "metadata": {
    "colab_type": "text",
    "id": "rWdOSNX9HBSy"
   },
   "source": [
    "One variable that we are also able to analyze within the Michelin dataset is the location of the restaurant. Using the latitude and longitude of each restuarant we can plot each restaurant over a map of the United States to see if we have any interesting patterns or clusters. We can achieve this by using geopandas in order to get the data for the United States, then we can use our dataset to create points within a geopandas dataframe that will store each restuarants location. We then plot this dataframe with the map in order to get the final result."
   ]
  },
  {
   "cell_type": "markdown",
   "metadata": {
    "colab_type": "text",
    "id": "XyQKuG1UFSFg"
   },
   "source": []
  },
  {
   "cell_type": "code",
   "execution_count": null,
   "metadata": {
    "colab": {
     "base_uri": "https://localhost:8080/",
     "height": 478
    },
    "colab_type": "code",
    "id": "TPfn1ri1HInj",
    "outputId": "3af63481-4734-4c33-812f-74ed198cec79"
   },
   "outputs": [],
   "source": [
    "# Get data from geopandas datasets\n",
    "world = gpd.read_file(gpd.datasets.get_path('naturalearth_lowres'))\n",
    "\n",
    "# Set Map to North American\n",
    "ax = world[world.continent == 'North America'].plot(alpha = 0.4, figsize=(15,15),\n",
    "    color='lightgrey', edgecolor='black')\n",
    "# Load each restuarant's lat & lon into a geopandas dataframe\n",
    "gdf = gpd.GeoDataFrame(\n",
    "    main_df, geometry=gpd.points_from_xy(main_df.longitude, main_df.latitude))\n",
    "\n",
    "# Plot restuarants on the map\n",
    "gdf.plot(ax = ax, markersize = 20, color='red', marker='o', label = 'Michelin Starred Restuarants')\n",
    "plt.legend(prop={'size':15})"
   ]
  },
  {
   "cell_type": "markdown",
   "metadata": {
    "colab_type": "text",
    "id": "ehp2izrTHTJJ"
   },
   "source": [
    "Now we see that there is a cluster of restuarants in different cities, to view the cities we can do the following:"
   ]
  },
  {
   "cell_type": "code",
   "execution_count": null,
   "metadata": {
    "colab": {
     "base_uri": "https://localhost:8080/",
     "height": 204
    },
    "colab_type": "code",
    "id": "D5-oAsGiHbFr",
    "outputId": "b4ff312a-3155-4ddc-f434-008d5633c1ba"
   },
   "outputs": [],
   "source": [
    "main_df['city'].value_counts()"
   ]
  },
  {
   "cell_type": "markdown",
   "metadata": {
    "colab_type": "text",
    "id": "9jrs8lVXHkHl"
   },
   "source": [
    "From the data we can see that the 5 clusters are the cities of New York, San Francisco, Los Angeles, Chicago, and Washington D.C. There are only a few resturants that are not located in these major population cities. From the map we created we can see that if your restaurant is not located in one of those five cities than your chances of obtaining a Michelin star is drastically lower. "
   ]
  },
  {
   "cell_type": "markdown",
   "metadata": {
    "colab_type": "text",
    "id": "k4D6bxhfu-n8"
   },
   "source": [
    "# Ethics & Privacy"
   ]
  },
  {
   "cell_type": "markdown",
   "metadata": {
    "colab_type": "text",
    "id": "raxE0qiau-n9"
   },
   "source": [
    "As with any data science, we carefully considered and operated in a manner in which we maintain respect for privacy and ethical guidelines to ensure that our research does not cause undue harm. \n",
    "\n",
    "Starting with our research question, we believe that it is well-posed and unbiased because we are simply using our research to find contributing factors. We are using our research to answer what factors may lead to a greater likelihood of receiving Michelin Stars. Our scope of investigation will be strictly within the publicly available data that is available to the general public via the internet. We believe that these datasets are fully capable of answering our research question well.\n",
    "\n",
    "For this study, the main stakeholders will be the Michelin tire company itself because we are essentially evaluating the quality of their rating system, as well as restaurants that have received Michelin stars. In the case of this study, concluding that Michelin Guide has bias in these contributing factors would potentially affect Michelin in a way that suggests that their projected outcomes were unreasonable, casting doubt on the validity of the ratings. This could hurt both Michelin's brand as well as restaurants. On the other hand, it may become favorable to Michelin and become an appeal for the eyes of their investors if the case was that Michelin Guide indeed fulfilled its role. Additionally, it could serve as a tool for quality control should any bias be found, and in the long-term would be more helpful than harmful. In terms of the data based on Michelin Guide, we believe that it is not possible to be used for nefarious purposes because it is publicly available data from Michelin to create exposure (i.e favorable sale records to investors).\n",
    "\n",
    "Another possible stakeholder in this study is Yelp. However since we are not evaluating Yelp and just using it as a comparison tool it should not cause any harm to the company. We are also not evaluating any individual reviewer, any person that has made a review for Yelp or Michelin Star is not known and will not be individually affected by this analysis. We are however naming the restaurants involved to be able to factor if their name contributes to their reviews. While including names does have a potential risk of causing doubts of their reasons for having Michelin stars, we want to reiterate that we are not reviewing restaurants, we are just looking for correlations in factors that contribute to receiving Michelin Stars. Any restaurant reviews are already publicly available on Yelp. We also understand that the most contributing factor is the food’s quality and taste itself and that aspect is not included. We are not implying that any restaurant is good or bad, we are just looking for trends. \n",
    "\n",
    "We strongly believe that this study can be analyzed and concluded just from the publicly available data. Despite being somewhat correlational, the data available on the surface web is enough to make reliable inferences.\n",
    "\n",
    "We have carefully considered the requiring informed consent to perform this study on Michelin; however, we are convinced that the influence of Michelin Guide is much far bigger than the impact that this study can cause. Therefore, we concluded that any following unintended negative consequences from this research are negligible to Michelin; meaning, there are not necessarily any risks incurred in Michelin's stance.\n"
   ]
  },
  {
   "cell_type": "markdown",
   "metadata": {
    "colab_type": "text",
    "id": "X9iJDdwVu-n9"
   },
   "source": [
    "# Conclusion & Discussion"
   ]
  },
  {
   "cell_type": "markdown",
   "metadata": {
    "colab_type": "text",
    "id": "0Qxa3qsBu-n-"
   },
   "source": [
    "After our analysis was completed it was determined that we failed to reject the null hypothesis. There was no significant difference in ratings due to different types in the categories of cuisine, price,  or name. If a category had more stars it was based on just pure amount rather than the influence of any particular category. We have discovered that none of the factors we identified specifically contribute to higher ratings. There is a slight correlation between price and number of Michelin stars received, but it is unclear if a higher price was caused by reception of stars or a contributing factor due to lack of data over time. Michelin star data in general here is limited, as it encompasses only one year, and was further limited by geographical area (in our case, country).\n",
    " \n",
    "We used a mixture of visual data and predictive models to analyze our data. Most of the visualizations were skewed based on the amount in each category. For cuisine we also looked at the average stars per type of cuisine and found that there was not a big difference between categories. In the price data set the graphs showed that the higher prices tended to have higher ratings, especially when compared to the Yelp data, but confounding factors make it unclear the cause of this trend. We also looked at location data--where restaurants were located, but we already knew the Michelin guide is only based in certain areas, so this was mostly for visualization. Additionally, areas with a higher population density are likely to have more restaurants in general, which likely contributes to those areas having more Michelin stars. We then used SVR to implement TF-IDf for the predictions made for the name and cuisine categories. Then we used Linear regression to make predictions for the category of price. These predictive models showed no statistical significance for higher ratings based on any of our tested factors.\n",
    "\n",
    "Although we found no statistical significance, there is still a chance that we missed something in our analysis that might have changed this. We also found that there is popularity in some cuisines, which might imply that certain cuisines may have more of a chance of getting Michelin stars in general. We also did not test every factor of a restaurant so there may in fact be something else that makes a higher contribution to ratings. This data was also only focused in the United States so our information can only be based from this region. As of our current findings, it seems most appropriate to believe that Michelin is properly basing its star awards on the five factors it claims to use.\n"
   ]
  },
  {
   "cell_type": "markdown",
   "metadata": {
    "colab_type": "text",
    "id": "vXqNBM68u-n-"
   },
   "source": [
    "# Team Contributions"
   ]
  },
  {
   "cell_type": "markdown",
   "metadata": {
    "colab_type": "text",
    "id": "mppwG1Biu-n_"
   },
   "source": [
    "Marcus worked on data cleaning and did work standardizing the data. He also did the analysis for the location data.\n",
    "\n",
    "Kassandra worked on the overview, hypothesis, and explaining the data sets. She also did work on the cuisine data analysis and  writing ethics and privacy and the conclusion. \n",
    "\n",
    "Howard did work importing the yelp dataset and cleaning it. He then worked on the Scikit Learn Predictors. He also helped with ethics and privacy.\n",
    "\n",
    "Janae helped with data cleaning, and filled in the background and prior work section. She also did analysis for the price section and helped write the conclusion. "
   ]
  }
 ],
 "metadata": {
  "colab": {
   "collapsed_sections": [],
   "name": "FinalProject_group65.ipynb",
   "provenance": []
  },
  "kernelspec": {
   "display_name": "Python 3",
   "language": "python",
   "name": "python3"
  },
  "language_info": {
   "codemirror_mode": {
    "name": "ipython",
    "version": 3
   },
   "file_extension": ".py",
   "mimetype": "text/x-python",
   "name": "python",
   "nbconvert_exporter": "python",
   "pygments_lexer": "ipython3",
   "version": "3.7.0"
  }
 },
 "nbformat": 4,
 "nbformat_minor": 1
}
