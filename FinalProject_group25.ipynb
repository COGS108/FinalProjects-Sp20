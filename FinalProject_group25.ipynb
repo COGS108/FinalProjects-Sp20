{
 "cells": [
  {
   "cell_type": "markdown",
   "metadata": {},
   "source": [
    "# COGS 108 - Final Project"
   ]
  },
  {
   "cell_type": "markdown",
   "metadata": {},
   "source": [
    "## Overview"
   ]
  },
  {
   "cell_type": "markdown",
   "metadata": {},
   "source": [
    "As the COVID-19 virus continues to spread in the world, its impacts have largely changed the global economy. We decided to find out to what extent does COVID-19 affects market price. In order to find out the answer, we use both COVID-19 daily confirmed cases and commodity price data within the COVID-19 period, thus measuring changes in commodity market price as well as its relationship with COVID-19 cases.  \n",
    "\n",
    "After cleaning and analyzing our data, we found that the market price in the food industry increased or stayed stable while market demand in the oil industry declined. At the same time, the results showed that the market price of rice and orange juice are more likely to be related to the new CoronaVirus cases, while the models on new coronavirus cases and market prices of rice, milk, and crude oil are more likely to be predictive. \n"
   ]
  },
  {
   "cell_type": "markdown",
   "metadata": {},
   "source": [
    "## Names"
   ]
  },
  {
   "cell_type": "markdown",
   "metadata": {},
   "source": [
    "- Bingzhe Wang\n",
    "- Mingjing Yin\n",
    "- Dennis Wu\n",
    "- Jialu Sui\n",
    "- Yichen Yang"
   ]
  },
  {
   "cell_type": "markdown",
   "metadata": {},
   "source": [
    "## Research Question"
   ]
  },
  {
   "cell_type": "markdown",
   "metadata": {},
   "source": [
    "How does the development of COVID-19 affect the commodity prices in the market?\n"
   ]
  },
  {
   "cell_type": "markdown",
   "metadata": {},
   "source": [
    "## Background and Prior Work"
   ]
  },
  {
   "cell_type": "markdown",
   "metadata": {},
   "source": [
    "Starting in early March, the widespread trending of the CoronaVirus has changed our world greatly in many different aspects. In particular, the economic effects of suspending almost all activities have greatly impacted the commodity market, and are likely to continue affecting it for a very long time. Due to the impact of COVID-19, the unemployment rate continuously increases in America. Many people have lost their jobs or received lower salaries, which would force them to change their consumer behavior significantly. This change in consumer behaviors would alter the general trending of the commodity market, and also would greatly impact the commodity prices in the commodity market. Therefore, we became interested in finding out how exactly do these special circumstances affect the commodity market prices, and find out what insight we can get from here. Luckily, some elites have already done significant research around this topic, and ended up with some interesting results. For example, researchers in reference 1 analyzed the changes in commodity prices as the coronavirus pandemic worsened, and came up with interesting findings. With their analysis, they found out that “Oil prices have plunged since January, and prices reached a historic low in April with some benchmarks trading at negative levels.” This significant drop in oil prices revealed a significant decrease in the demand for oil in the world, which is a direct result of the restriction on travel in current special situations. Moreover, the energy prices overall, including natural gas and coal, as well as the copper, zinc, and metal prices, are all expected to fall this year. However, as the prices for oil, gas, and metal all experience great decline, the prices for agricultural products have only undergone minor decrease, and the price of rice even rose up in several months. In this way, we can see that the changes in this special situation affect the commodity market in different aspects, and we would like to dig deeper into this.\n",
    "\n",
    "Moreover, research in reference 2 focused on the agriculture market and revealed the trends in price changes from January to April. The figure below shows the price changes of several commodities over months since the coronavirus became widespread. As we can see in the graph, while the prices of most of the representative agricultural commodities experienced decreases for months, the price of wheat only went through a slight decrease in March and then returned to normal. This finding reminds us to go inside one category among the commodity market, and explore how goods in one category would vary differently.\n"
   ]
  },
  {
   "cell_type": "markdown",
   "metadata": {},
   "source": [
    "<img src=\"data/qz.jpg\" alt=\"quartz commodity plot\" width=\"500\" height=\"600\">\n",
    "\n",
    "References:\n",
    "1. https://www.worldbank.org/en/news/feature/2020/04/23/coronavirus-shakes-commodity-markets#\n",
    "2. https://qz.com/1845491/covid-19-has-destabilized-us-food-commodity-prices/"
   ]
  },
  {
   "cell_type": "markdown",
   "metadata": {},
   "source": [
    "## Hypothesis"
   ]
  },
  {
   "cell_type": "markdown",
   "metadata": {},
   "source": [
    "The widespread COVID-19 has a great impact on global economic and politics, which results in a potential shift in commodities' market prices. Since consumers started to stock up the most essential food items,  prices for staple foods might increase. Also, there might be a difference in commodity market prices within the food market due to differences in “order of priority” in the food market. Therefore, we propose our hypothesis:\n",
    "1. In a broader sense, with widespread COVID-19, the market price for food will relatively increase or stay stable, while the price of items in heavy industry such as the crude oil industry might experience a decline.\n",
    "1. Within the food market, the price for staple foods such as grain will increase while the price for “non-staple” foods such as meat will decrease.\n"
   ]
  },
  {
   "cell_type": "markdown",
   "metadata": {},
   "source": [
    "## Dataset(s)"
   ]
  },
  {
   "cell_type": "markdown",
   "metadata": {},
   "source": [
    "Dataset Name: WHO-COVID-19-global-data.csv\n",
    "The number of COVID-19 cases from 2/24/20 to 5/23/20 of all the "
   ]
  },
  {
   "cell_type": "markdown",
   "metadata": {},
   "source": [
    "We used 2 datasets in our final project:\n",
    "- Dataset Name: commodity prices by Quandl\n",
    "- Link to the dataset: https://blog.quandl.com/api-for-commodity-data?utm_source=google&utm_medium=organic&utm_campaign=&utm_content=api-for-futures-data\n",
    "- Number of observations: We researched 6 different datasets in total, each with the same number of instances. Since the beginning of the pandemic to when the documentation is draft, there are in total 6 * 108 instances.\n",
    "\n",
    "The first dataset presents the price changes of various commodities in the futures market.\n",
    "\n",
    "- Dataset Name: WHO-COVID-19-global-data.csv\n",
    "- Link to the dataset: https://covid19.who.int/\n",
    "- Number of observations: The dataset contains 22453 instances of daily pandemic information of global countries.\n",
    "\n",
    "The second dataset provides a chronological recording of the development of the COVID-19 case.\n",
    "\n",
    "Generally, we used several data science approaches to trace the price changes of different categories of goods in the futures market and find the correlation between commodity market prices and COVID-19 case number to see how does the development of COVID-19 affect the commodity prices in the market."
   ]
  },
  {
   "cell_type": "markdown",
   "metadata": {},
   "source": [
    "## Setup"
   ]
  },
  {
   "cell_type": "code",
   "execution_count": 1,
   "metadata": {},
   "outputs": [],
   "source": [
    "import quandl\n",
    "import seaborn as sns\n",
    "import pandas as pd\n",
    "\n",
    "import numpy as np\n",
    "\n",
    "import xgboost as xgb\n",
    "\n",
    "from sklearn.model_selection import train_test_split\n",
    "from sklearn.pipeline import Pipeline\n",
    "from sklearn.preprocessing import FunctionTransformer\n",
    "from sklearn.compose import ColumnTransformer\n",
    "from sklearn.metrics import mean_squared_error"
   ]
  },
  {
   "cell_type": "code",
   "execution_count": 2,
   "metadata": {},
   "outputs": [],
   "source": [
    "quandl.ApiConfig.api_key = \"J5Moyhm-AkLCtZFyjRND\""
   ]
  },
  {
   "cell_type": "markdown",
   "metadata": {},
   "source": [
    "## Data Cleaning, Pro-processing and Data Visualization"
   ]
  },
  {
   "cell_type": "markdown",
   "metadata": {},
   "source": [
    "### Import the Data and Exploratory Data Visualization"
   ]
  },
  {
   "cell_type": "markdown",
   "metadata": {},
   "source": [
    "#### Commodity Prices"
   ]
  },
  {
   "cell_type": "code",
   "execution_count": 3,
   "metadata": {},
   "outputs": [],
   "source": [
    "rice = quandl.get(\"CHRIS/CME_RR1\").iloc[-108:][[\"Open\"]]"
   ]
  },
  {
   "cell_type": "code",
   "execution_count": 4,
   "metadata": {},
   "outputs": [
    {
     "data": {
      "text/html": [
       "<div>\n",
       "<style scoped>\n",
       "    .dataframe tbody tr th:only-of-type {\n",
       "        vertical-align: middle;\n",
       "    }\n",
       "\n",
       "    .dataframe tbody tr th {\n",
       "        vertical-align: top;\n",
       "    }\n",
       "\n",
       "    .dataframe thead th {\n",
       "        text-align: right;\n",
       "    }\n",
       "</style>\n",
       "<table border=\"1\" class=\"dataframe\">\n",
       "  <thead>\n",
       "    <tr style=\"text-align: right;\">\n",
       "      <th></th>\n",
       "      <th>Open</th>\n",
       "    </tr>\n",
       "    <tr>\n",
       "      <th>Date</th>\n",
       "      <th></th>\n",
       "    </tr>\n",
       "  </thead>\n",
       "  <tbody>\n",
       "    <tr>\n",
       "      <th>2020-01-07</th>\n",
       "      <td>12.820</td>\n",
       "    </tr>\n",
       "    <tr>\n",
       "      <th>2020-01-08</th>\n",
       "      <td>NaN</td>\n",
       "    </tr>\n",
       "    <tr>\n",
       "      <th>2020-01-09</th>\n",
       "      <td>12.910</td>\n",
       "    </tr>\n",
       "    <tr>\n",
       "      <th>2020-01-10</th>\n",
       "      <td>12.920</td>\n",
       "    </tr>\n",
       "    <tr>\n",
       "      <th>2020-01-13</th>\n",
       "      <td>13.100</td>\n",
       "    </tr>\n",
       "    <tr>\n",
       "      <th>...</th>\n",
       "      <td>...</td>\n",
       "    </tr>\n",
       "    <tr>\n",
       "      <th>2020-06-04</th>\n",
       "      <td>20.675</td>\n",
       "    </tr>\n",
       "    <tr>\n",
       "      <th>2020-06-05</th>\n",
       "      <td>22.210</td>\n",
       "    </tr>\n",
       "    <tr>\n",
       "      <th>2020-06-08</th>\n",
       "      <td>19.065</td>\n",
       "    </tr>\n",
       "    <tr>\n",
       "      <th>2020-06-09</th>\n",
       "      <td>17.565</td>\n",
       "    </tr>\n",
       "    <tr>\n",
       "      <th>2020-06-10</th>\n",
       "      <td>16.065</td>\n",
       "    </tr>\n",
       "  </tbody>\n",
       "</table>\n",
       "<p>108 rows × 1 columns</p>\n",
       "</div>"
      ],
      "text/plain": [
       "              Open\n",
       "Date              \n",
       "2020-01-07  12.820\n",
       "2020-01-08     NaN\n",
       "2020-01-09  12.910\n",
       "2020-01-10  12.920\n",
       "2020-01-13  13.100\n",
       "...            ...\n",
       "2020-06-04  20.675\n",
       "2020-06-05  22.210\n",
       "2020-06-08  19.065\n",
       "2020-06-09  17.565\n",
       "2020-06-10  16.065\n",
       "\n",
       "[108 rows x 1 columns]"
      ]
     },
     "execution_count": 4,
     "metadata": {},
     "output_type": "execute_result"
    }
   ],
   "source": [
    "rice"
   ]
  },
  {
   "cell_type": "code",
   "execution_count": 5,
   "metadata": {},
   "outputs": [
    {
     "data": {
      "text/plain": [
       "<matplotlib.axes._subplots.AxesSubplot at 0x209ab60a888>"
      ]
     },
     "execution_count": 5,
     "metadata": {},
     "output_type": "execute_result"
    },
    {
     "data": {
      "image/png": "[encoded data removed]",
      "text/plain": [
       "<Figure size 432x288 with 1 Axes>"
      ]
     },
     "metadata": {
      "needs_background": "light"
     },
     "output_type": "display_data"
    }
   ],
   "source": [
    "rice.plot(y = \"Open\")"
   ]
  },
  {
   "cell_type": "code",
   "execution_count": 6,
   "metadata": {},
   "outputs": [],
   "source": [
    "orangejuice = quandl.get(\"CHRIS/ICE_OJ1\").iloc[-108:][[\"Open\"]]"
   ]
  },
  {
   "cell_type": "code",
   "execution_count": 7,
   "metadata": {},
   "outputs": [
    {
     "data": {
      "text/html": [
       "<div>\n",
       "<style scoped>\n",
       "    .dataframe tbody tr th:only-of-type {\n",
       "        vertical-align: middle;\n",
       "    }\n",
       "\n",
       "    .dataframe tbody tr th {\n",
       "        vertical-align: top;\n",
       "    }\n",
       "\n",
       "    .dataframe thead th {\n",
       "        text-align: right;\n",
       "    }\n",
       "</style>\n",
       "<table border=\"1\" class=\"dataframe\">\n",
       "  <thead>\n",
       "    <tr style=\"text-align: right;\">\n",
       "      <th></th>\n",
       "      <th>Open</th>\n",
       "    </tr>\n",
       "    <tr>\n",
       "      <th>Date</th>\n",
       "      <th></th>\n",
       "    </tr>\n",
       "  </thead>\n",
       "  <tbody>\n",
       "    <tr>\n",
       "      <th>2020-01-10</th>\n",
       "      <td>97.00</td>\n",
       "    </tr>\n",
       "    <tr>\n",
       "      <th>2020-01-13</th>\n",
       "      <td>97.10</td>\n",
       "    </tr>\n",
       "    <tr>\n",
       "      <th>2020-01-14</th>\n",
       "      <td>95.55</td>\n",
       "    </tr>\n",
       "    <tr>\n",
       "      <th>2020-01-15</th>\n",
       "      <td>96.90</td>\n",
       "    </tr>\n",
       "    <tr>\n",
       "      <th>2020-01-16</th>\n",
       "      <td>97.15</td>\n",
       "    </tr>\n",
       "    <tr>\n",
       "      <th>...</th>\n",
       "      <td>...</td>\n",
       "    </tr>\n",
       "    <tr>\n",
       "      <th>2020-06-04</th>\n",
       "      <td>127.65</td>\n",
       "    </tr>\n",
       "    <tr>\n",
       "      <th>2020-06-05</th>\n",
       "      <td>125.60</td>\n",
       "    </tr>\n",
       "    <tr>\n",
       "      <th>2020-06-08</th>\n",
       "      <td>127.75</td>\n",
       "    </tr>\n",
       "    <tr>\n",
       "      <th>2020-06-09</th>\n",
       "      <td>126.00</td>\n",
       "    </tr>\n",
       "    <tr>\n",
       "      <th>2020-06-10</th>\n",
       "      <td>125.95</td>\n",
       "    </tr>\n",
       "  </tbody>\n",
       "</table>\n",
       "<p>108 rows × 1 columns</p>\n",
       "</div>"
      ],
      "text/plain": [
       "              Open\n",
       "Date              \n",
       "2020-01-10   97.00\n",
       "2020-01-13   97.10\n",
       "2020-01-14   95.55\n",
       "2020-01-15   96.90\n",
       "2020-01-16   97.15\n",
       "...            ...\n",
       "2020-06-04  127.65\n",
       "2020-06-05  125.60\n",
       "2020-06-08  127.75\n",
       "2020-06-09  126.00\n",
       "2020-06-10  125.95\n",
       "\n",
       "[108 rows x 1 columns]"
      ]
     },
     "execution_count": 7,
     "metadata": {},
     "output_type": "execute_result"
    }
   ],
   "source": [
    "orangejuice"
   ]
  },
  {
   "cell_type": "code",
   "execution_count": 8,
   "metadata": {},
   "outputs": [
    {
     "data": {
      "text/plain": [
       "<matplotlib.axes._subplots.AxesSubplot at 0x209ab7f9088>"
      ]
     },
     "execution_count": 8,
     "metadata": {},
     "output_type": "execute_result"
    },
    {
     "data": {
      "image/png": "[encoded data removed]",
      "text/plain": [
       "<Figure size 432x288 with 1 Axes>"
      ]
     },
     "metadata": {
      "needs_background": "light"
     },
     "output_type": "display_data"
    }
   ],
   "source": [
    "orangejuice.plot(y = \"Open\")"
   ]
  },
  {
   "cell_type": "code",
   "execution_count": 9,
   "metadata": {},
   "outputs": [],
   "source": [
    "milk = quandl.get(\"CHRIS/CME_DA1\").iloc[-108:][[\"Open\"]]"
   ]
  },
  {
   "cell_type": "code",
   "execution_count": 10,
   "metadata": {
    "scrolled": true
   },
   "outputs": [
    {
     "data": {
      "text/html": [
       "<div>\n",
       "<style scoped>\n",
       "    .dataframe tbody tr th:only-of-type {\n",
       "        vertical-align: middle;\n",
       "    }\n",
       "\n",
       "    .dataframe tbody tr th {\n",
       "        vertical-align: top;\n",
       "    }\n",
       "\n",
       "    .dataframe thead th {\n",
       "        text-align: right;\n",
       "    }\n",
       "</style>\n",
       "<table border=\"1\" class=\"dataframe\">\n",
       "  <thead>\n",
       "    <tr style=\"text-align: right;\">\n",
       "      <th></th>\n",
       "      <th>Open</th>\n",
       "    </tr>\n",
       "    <tr>\n",
       "      <th>Date</th>\n",
       "      <th></th>\n",
       "    </tr>\n",
       "  </thead>\n",
       "  <tbody>\n",
       "    <tr>\n",
       "      <th>2020-01-07</th>\n",
       "      <td>17.02</td>\n",
       "    </tr>\n",
       "    <tr>\n",
       "      <th>2020-01-08</th>\n",
       "      <td>17.14</td>\n",
       "    </tr>\n",
       "    <tr>\n",
       "      <th>2020-01-09</th>\n",
       "      <td>16.96</td>\n",
       "    </tr>\n",
       "    <tr>\n",
       "      <th>2020-01-10</th>\n",
       "      <td>16.91</td>\n",
       "    </tr>\n",
       "    <tr>\n",
       "      <th>2020-01-13</th>\n",
       "      <td>17.02</td>\n",
       "    </tr>\n",
       "    <tr>\n",
       "      <th>...</th>\n",
       "      <td>...</td>\n",
       "    </tr>\n",
       "    <tr>\n",
       "      <th>2020-06-04</th>\n",
       "      <td>19.89</td>\n",
       "    </tr>\n",
       "    <tr>\n",
       "      <th>2020-06-05</th>\n",
       "      <td>20.10</td>\n",
       "    </tr>\n",
       "    <tr>\n",
       "      <th>2020-06-08</th>\n",
       "      <td>19.80</td>\n",
       "    </tr>\n",
       "    <tr>\n",
       "      <th>2020-06-09</th>\n",
       "      <td>20.21</td>\n",
       "    </tr>\n",
       "    <tr>\n",
       "      <th>2020-06-10</th>\n",
       "      <td>20.67</td>\n",
       "    </tr>\n",
       "  </tbody>\n",
       "</table>\n",
       "<p>108 rows × 1 columns</p>\n",
       "</div>"
      ],
      "text/plain": [
       "             Open\n",
       "Date             \n",
       "2020-01-07  17.02\n",
       "2020-01-08  17.14\n",
       "2020-01-09  16.96\n",
       "2020-01-10  16.91\n",
       "2020-01-13  17.02\n",
       "...           ...\n",
       "2020-06-04  19.89\n",
       "2020-06-05  20.10\n",
       "2020-06-08  19.80\n",
       "2020-06-09  20.21\n",
       "2020-06-10  20.67\n",
       "\n",
       "[108 rows x 1 columns]"
      ]
     },
     "execution_count": 10,
     "metadata": {},
     "output_type": "execute_result"
    }
   ],
   "source": [
    "milk"
   ]
  },
  {
   "cell_type": "code",
   "execution_count": 11,
   "metadata": {
    "scrolled": true
   },
   "outputs": [
    {
     "data": {
      "text/plain": [
       "<matplotlib.axes._subplots.AxesSubplot at 0x209ae149488>"
      ]
     },
     "execution_count": 11,
     "metadata": {},
     "output_type": "execute_result"
    },
    {
     "data": {
      "image/png": "[encoded data removed]",
      "text/plain": [
       "<Figure size 432x288 with 1 Axes>"
      ]
     },
     "metadata": {
      "needs_background": "light"
     },
     "output_type": "display_data"
    }
   ],
   "source": [
    "milk.plot(y = \"Open\")"
   ]
  },
  {
   "cell_type": "code",
   "execution_count": 12,
   "metadata": {},
   "outputs": [],
   "source": [
    "pork = quandl.get(\"CHRIS/CME_LN1\").iloc[-108:][[\"Open\"]]"
   ]
  },
  {
   "cell_type": "code",
   "execution_count": 13,
   "metadata": {},
   "outputs": [
    {
     "data": {
      "text/html": [
       "<div>\n",
       "<style scoped>\n",
       "    .dataframe tbody tr th:only-of-type {\n",
       "        vertical-align: middle;\n",
       "    }\n",
       "\n",
       "    .dataframe tbody tr th {\n",
       "        vertical-align: top;\n",
       "    }\n",
       "\n",
       "    .dataframe thead th {\n",
       "        text-align: right;\n",
       "    }\n",
       "</style>\n",
       "<table border=\"1\" class=\"dataframe\">\n",
       "  <thead>\n",
       "    <tr style=\"text-align: right;\">\n",
       "      <th></th>\n",
       "      <th>Open</th>\n",
       "    </tr>\n",
       "    <tr>\n",
       "      <th>Date</th>\n",
       "      <th></th>\n",
       "    </tr>\n",
       "  </thead>\n",
       "  <tbody>\n",
       "    <tr>\n",
       "      <th>2020-01-07</th>\n",
       "      <td>68.625</td>\n",
       "    </tr>\n",
       "    <tr>\n",
       "      <th>2020-01-08</th>\n",
       "      <td>68.775</td>\n",
       "    </tr>\n",
       "    <tr>\n",
       "      <th>2020-01-09</th>\n",
       "      <td>68.900</td>\n",
       "    </tr>\n",
       "    <tr>\n",
       "      <th>2020-01-10</th>\n",
       "      <td>67.325</td>\n",
       "    </tr>\n",
       "    <tr>\n",
       "      <th>2020-01-13</th>\n",
       "      <td>66.975</td>\n",
       "    </tr>\n",
       "    <tr>\n",
       "      <th>...</th>\n",
       "      <td>...</td>\n",
       "    </tr>\n",
       "    <tr>\n",
       "      <th>2020-06-04</th>\n",
       "      <td>48.525</td>\n",
       "    </tr>\n",
       "    <tr>\n",
       "      <th>2020-06-05</th>\n",
       "      <td>48.450</td>\n",
       "    </tr>\n",
       "    <tr>\n",
       "      <th>2020-06-08</th>\n",
       "      <td>47.000</td>\n",
       "    </tr>\n",
       "    <tr>\n",
       "      <th>2020-06-09</th>\n",
       "      <td>48.075</td>\n",
       "    </tr>\n",
       "    <tr>\n",
       "      <th>2020-06-10</th>\n",
       "      <td>47.875</td>\n",
       "    </tr>\n",
       "  </tbody>\n",
       "</table>\n",
       "<p>108 rows × 1 columns</p>\n",
       "</div>"
      ],
      "text/plain": [
       "              Open\n",
       "Date              \n",
       "2020-01-07  68.625\n",
       "2020-01-08  68.775\n",
       "2020-01-09  68.900\n",
       "2020-01-10  67.325\n",
       "2020-01-13  66.975\n",
       "...            ...\n",
       "2020-06-04  48.525\n",
       "2020-06-05  48.450\n",
       "2020-06-08  47.000\n",
       "2020-06-09  48.075\n",
       "2020-06-10  47.875\n",
       "\n",
       "[108 rows x 1 columns]"
      ]
     },
     "execution_count": 13,
     "metadata": {},
     "output_type": "execute_result"
    }
   ],
   "source": [
    "pork"
   ]
  },
  {
   "cell_type": "code",
   "execution_count": 14,
   "metadata": {},
   "outputs": [
    {
     "data": {
      "text/plain": [
       "<matplotlib.axes._subplots.AxesSubplot at 0x209ab962ec8>"
      ]
     },
     "execution_count": 14,
     "metadata": {},
     "output_type": "execute_result"
    },
    {
     "data": {
      "image/png": "[encoded data removed]",
      "text/plain": [
       "<Figure size 432x288 with 1 Axes>"
      ]
     },
     "metadata": {
      "needs_background": "light"
     },
     "output_type": "display_data"
    }
   ],
   "source": [
    "pork.plot(y = \"Open\")"
   ]
  },
  {
   "cell_type": "code",
   "execution_count": 15,
   "metadata": {},
   "outputs": [],
   "source": [
    "soybean = quandl.get(\"CHRIS/CME_S1\").iloc[-108:][[\"Open\"]]"
   ]
  },
  {
   "cell_type": "code",
   "execution_count": 16,
   "metadata": {},
   "outputs": [
    {
     "data": {
      "text/html": [
       "<div>\n",
       "<style scoped>\n",
       "    .dataframe tbody tr th:only-of-type {\n",
       "        vertical-align: middle;\n",
       "    }\n",
       "\n",
       "    .dataframe tbody tr th {\n",
       "        vertical-align: top;\n",
       "    }\n",
       "\n",
       "    .dataframe thead th {\n",
       "        text-align: right;\n",
       "    }\n",
       "</style>\n",
       "<table border=\"1\" class=\"dataframe\">\n",
       "  <thead>\n",
       "    <tr style=\"text-align: right;\">\n",
       "      <th></th>\n",
       "      <th>Open</th>\n",
       "    </tr>\n",
       "    <tr>\n",
       "      <th>Date</th>\n",
       "      <th></th>\n",
       "    </tr>\n",
       "  </thead>\n",
       "  <tbody>\n",
       "    <tr>\n",
       "      <th>2020-01-07</th>\n",
       "      <td>933.50</td>\n",
       "    </tr>\n",
       "    <tr>\n",
       "      <th>2020-01-08</th>\n",
       "      <td>936.25</td>\n",
       "    </tr>\n",
       "    <tr>\n",
       "      <th>2020-01-09</th>\n",
       "      <td>943.25</td>\n",
       "    </tr>\n",
       "    <tr>\n",
       "      <th>2020-01-10</th>\n",
       "      <td>931.50</td>\n",
       "    </tr>\n",
       "    <tr>\n",
       "      <th>2020-01-13</th>\n",
       "      <td>938.50</td>\n",
       "    </tr>\n",
       "    <tr>\n",
       "      <th>...</th>\n",
       "      <td>...</td>\n",
       "    </tr>\n",
       "    <tr>\n",
       "      <th>2020-06-04</th>\n",
       "      <td>857.00</td>\n",
       "    </tr>\n",
       "    <tr>\n",
       "      <th>2020-06-05</th>\n",
       "      <td>868.00</td>\n",
       "    </tr>\n",
       "    <tr>\n",
       "      <th>2020-06-08</th>\n",
       "      <td>869.25</td>\n",
       "    </tr>\n",
       "    <tr>\n",
       "      <th>2020-06-09</th>\n",
       "      <td>864.00</td>\n",
       "    </tr>\n",
       "    <tr>\n",
       "      <th>2020-06-10</th>\n",
       "      <td>863.25</td>\n",
       "    </tr>\n",
       "  </tbody>\n",
       "</table>\n",
       "<p>108 rows × 1 columns</p>\n",
       "</div>"
      ],
      "text/plain": [
       "              Open\n",
       "Date              \n",
       "2020-01-07  933.50\n",
       "2020-01-08  936.25\n",
       "2020-01-09  943.25\n",
       "2020-01-10  931.50\n",
       "2020-01-13  938.50\n",
       "...            ...\n",
       "2020-06-04  857.00\n",
       "2020-06-05  868.00\n",
       "2020-06-08  869.25\n",
       "2020-06-09  864.00\n",
       "2020-06-10  863.25\n",
       "\n",
       "[108 rows x 1 columns]"
      ]
     },
     "execution_count": 16,
     "metadata": {},
     "output_type": "execute_result"
    }
   ],
   "source": [
    "soybean"
   ]
  },
  {
   "cell_type": "code",
   "execution_count": 17,
   "metadata": {},
   "outputs": [
    {
     "data": {
      "text/plain": [
       "<matplotlib.axes._subplots.AxesSubplot at 0x209ab9a9788>"
      ]
     },
     "execution_count": 17,
     "metadata": {},
     "output_type": "execute_result"
    },
    {
     "data": {
      "image/png": "[encoded data removed]",
      "text/plain": [
       "<Figure size 432x288 with 1 Axes>"
      ]
     },
     "metadata": {
      "needs_background": "light"
     },
     "output_type": "display_data"
    }
   ],
   "source": [
    "soybean.plot(y = \"Open\")"
   ]
  },
  {
   "cell_type": "code",
   "execution_count": 18,
   "metadata": {},
   "outputs": [],
   "source": [
    "crudeoil = quandl.get(\"CHRIS/CME_RB1\").iloc[-108:][[\"Open\"]]"
   ]
  },
  {
   "cell_type": "code",
   "execution_count": 19,
   "metadata": {},
   "outputs": [
    {
     "data": {
      "text/plain": [
       "<matplotlib.axes._subplots.AxesSubplot at 0x209ab9b9308>"
      ]
     },
     "execution_count": 19,
     "metadata": {},
     "output_type": "execute_result"
    },
    {
     "data": {
      "image/png": "[encoded data removed]",
      "text/plain": [
       "<Figure size 432x288 with 1 Axes>"
      ]
     },
     "metadata": {
      "needs_background": "light"
     },
     "output_type": "display_data"
    }
   ],
   "source": [
    "crudeoil.plot(y = \"Open\")"
   ]
  },
  {
   "cell_type": "markdown",
   "metadata": {},
   "source": [
    "### The Visualization of COVID-19 global cases"
   ]
  },
  {
   "cell_type": "markdown",
   "metadata": {},
   "source": [
    "#### Coronavirus "
   ]
  },
  {
   "cell_type": "code",
   "execution_count": 20,
   "metadata": {},
   "outputs": [],
   "source": [
    "corona = pd.read_csv(\"data/WHO-COVID-19-global-data.csv\")"
   ]
  },
  {
   "cell_type": "code",
   "execution_count": 21,
   "metadata": {},
   "outputs": [
    {
     "data": {
      "text/html": [
       "<div>\n",
       "<style scoped>\n",
       "    .dataframe tbody tr th:only-of-type {\n",
       "        vertical-align: middle;\n",
       "    }\n",
       "\n",
       "    .dataframe tbody tr th {\n",
       "        vertical-align: top;\n",
       "    }\n",
       "\n",
       "    .dataframe thead th {\n",
       "        text-align: right;\n",
       "    }\n",
       "</style>\n",
       "<table border=\"1\" class=\"dataframe\">\n",
       "  <thead>\n",
       "    <tr style=\"text-align: right;\">\n",
       "      <th></th>\n",
       "      <th>Date_reported</th>\n",
       "      <th>Country_code</th>\n",
       "      <th>Country</th>\n",
       "      <th>WHO_region</th>\n",
       "      <th>New_cases</th>\n",
       "      <th>Cumulative_cases</th>\n",
       "      <th>New_deaths</th>\n",
       "      <th>Cumulative_deaths</th>\n",
       "    </tr>\n",
       "  </thead>\n",
       "  <tbody>\n",
       "    <tr>\n",
       "      <th>0</th>\n",
       "      <td>2020-02-24T00:00:00Z</td>\n",
       "      <td>AF</td>\n",
       "      <td>Afghanistan</td>\n",
       "      <td>EMRO</td>\n",
       "      <td>1</td>\n",
       "      <td>1</td>\n",
       "      <td>0</td>\n",
       "      <td>0</td>\n",
       "    </tr>\n",
       "    <tr>\n",
       "      <th>1</th>\n",
       "      <td>2020-02-25T00:00:00Z</td>\n",
       "      <td>AF</td>\n",
       "      <td>Afghanistan</td>\n",
       "      <td>EMRO</td>\n",
       "      <td>0</td>\n",
       "      <td>1</td>\n",
       "      <td>0</td>\n",
       "      <td>0</td>\n",
       "    </tr>\n",
       "    <tr>\n",
       "      <th>2</th>\n",
       "      <td>2020-02-26T00:00:00Z</td>\n",
       "      <td>AF</td>\n",
       "      <td>Afghanistan</td>\n",
       "      <td>EMRO</td>\n",
       "      <td>0</td>\n",
       "      <td>1</td>\n",
       "      <td>0</td>\n",
       "      <td>0</td>\n",
       "    </tr>\n",
       "    <tr>\n",
       "      <th>3</th>\n",
       "      <td>2020-02-27T00:00:00Z</td>\n",
       "      <td>AF</td>\n",
       "      <td>Afghanistan</td>\n",
       "      <td>EMRO</td>\n",
       "      <td>0</td>\n",
       "      <td>1</td>\n",
       "      <td>0</td>\n",
       "      <td>0</td>\n",
       "    </tr>\n",
       "    <tr>\n",
       "      <th>4</th>\n",
       "      <td>2020-02-28T00:00:00Z</td>\n",
       "      <td>AF</td>\n",
       "      <td>Afghanistan</td>\n",
       "      <td>EMRO</td>\n",
       "      <td>0</td>\n",
       "      <td>1</td>\n",
       "      <td>0</td>\n",
       "      <td>0</td>\n",
       "    </tr>\n",
       "    <tr>\n",
       "      <th>...</th>\n",
       "      <td>...</td>\n",
       "      <td>...</td>\n",
       "      <td>...</td>\n",
       "      <td>...</td>\n",
       "      <td>...</td>\n",
       "      <td>...</td>\n",
       "      <td>...</td>\n",
       "      <td>...</td>\n",
       "    </tr>\n",
       "    <tr>\n",
       "      <th>20641</th>\n",
       "      <td>2020-06-05T00:00:00Z</td>\n",
       "      <td>ZW</td>\n",
       "      <td>Zimbabwe</td>\n",
       "      <td>AFRO</td>\n",
       "      <td>0</td>\n",
       "      <td>222</td>\n",
       "      <td>0</td>\n",
       "      <td>4</td>\n",
       "    </tr>\n",
       "    <tr>\n",
       "      <th>20642</th>\n",
       "      <td>2020-06-06T00:00:00Z</td>\n",
       "      <td>ZW</td>\n",
       "      <td>Zimbabwe</td>\n",
       "      <td>AFRO</td>\n",
       "      <td>43</td>\n",
       "      <td>265</td>\n",
       "      <td>0</td>\n",
       "      <td>4</td>\n",
       "    </tr>\n",
       "    <tr>\n",
       "      <th>20643</th>\n",
       "      <td>2020-06-07T00:00:00Z</td>\n",
       "      <td>ZW</td>\n",
       "      <td>Zimbabwe</td>\n",
       "      <td>AFRO</td>\n",
       "      <td>14</td>\n",
       "      <td>279</td>\n",
       "      <td>0</td>\n",
       "      <td>4</td>\n",
       "    </tr>\n",
       "    <tr>\n",
       "      <th>20644</th>\n",
       "      <td>2020-06-08T00:00:00Z</td>\n",
       "      <td>ZW</td>\n",
       "      <td>Zimbabwe</td>\n",
       "      <td>AFRO</td>\n",
       "      <td>0</td>\n",
       "      <td>279</td>\n",
       "      <td>0</td>\n",
       "      <td>4</td>\n",
       "    </tr>\n",
       "    <tr>\n",
       "      <th>20645</th>\n",
       "      <td>2020-06-09T00:00:00Z</td>\n",
       "      <td>ZW</td>\n",
       "      <td>Zimbabwe</td>\n",
       "      <td>AFRO</td>\n",
       "      <td>8</td>\n",
       "      <td>287</td>\n",
       "      <td>0</td>\n",
       "      <td>4</td>\n",
       "    </tr>\n",
       "  </tbody>\n",
       "</table>\n",
       "<p>20646 rows × 8 columns</p>\n",
       "</div>"
      ],
      "text/plain": [
       "              Date_reported Country_code      Country WHO_region  New_cases  \\\n",
       "0      2020-02-24T00:00:00Z           AF  Afghanistan       EMRO          1   \n",
       "1      2020-02-25T00:00:00Z           AF  Afghanistan       EMRO          0   \n",
       "2      2020-02-26T00:00:00Z           AF  Afghanistan       EMRO          0   \n",
       "3      2020-02-27T00:00:00Z           AF  Afghanistan       EMRO          0   \n",
       "4      2020-02-28T00:00:00Z           AF  Afghanistan       EMRO          0   \n",
       "...                     ...          ...          ...        ...        ...   \n",
       "20641  2020-06-05T00:00:00Z           ZW     Zimbabwe       AFRO          0   \n",
       "20642  2020-06-06T00:00:00Z           ZW     Zimbabwe       AFRO         43   \n",
       "20643  2020-06-07T00:00:00Z           ZW     Zimbabwe       AFRO         14   \n",
       "20644  2020-06-08T00:00:00Z           ZW     Zimbabwe       AFRO          0   \n",
       "20645  2020-06-09T00:00:00Z           ZW     Zimbabwe       AFRO          8   \n",
       "\n",
       "       Cumulative_cases  New_deaths  Cumulative_deaths  \n",
       "0                     1           0                  0  \n",
       "1                     1           0                  0  \n",
       "2                     1           0                  0  \n",
       "3                     1           0                  0  \n",
       "4                     1           0                  0  \n",
       "...                 ...         ...                ...  \n",
       "20641               222           0                  4  \n",
       "20642               265           0                  4  \n",
       "20643               279           0                  4  \n",
       "20644               279           0                  4  \n",
       "20645               287           0                  4  \n",
       "\n",
       "[20646 rows x 8 columns]"
      ]
     },
     "execution_count": 21,
     "metadata": {},
     "output_type": "execute_result"
    }
   ],
   "source": [
    "corona"
   ]
  },
  {
   "cell_type": "markdown",
   "metadata": {},
   "source": [
    "#### Global Data"
   ]
  },
  {
   "cell_type": "code",
   "execution_count": 22,
   "metadata": {},
   "outputs": [
    {
     "data": {
      "text/html": [
       "<div>\n",
       "<style scoped>\n",
       "    .dataframe tbody tr th:only-of-type {\n",
       "        vertical-align: middle;\n",
       "    }\n",
       "\n",
       "    .dataframe tbody tr th {\n",
       "        vertical-align: top;\n",
       "    }\n",
       "\n",
       "    .dataframe thead th {\n",
       "        text-align: right;\n",
       "    }\n",
       "</style>\n",
       "<table border=\"1\" class=\"dataframe\">\n",
       "  <thead>\n",
       "    <tr style=\"text-align: right;\">\n",
       "      <th></th>\n",
       "      <th>New_cases</th>\n",
       "      <th>Cumulative_cases</th>\n",
       "      <th>New_deaths</th>\n",
       "      <th>Cumulative_deaths</th>\n",
       "    </tr>\n",
       "    <tr>\n",
       "      <th>Date_reported</th>\n",
       "      <th></th>\n",
       "      <th></th>\n",
       "      <th></th>\n",
       "      <th></th>\n",
       "    </tr>\n",
       "  </thead>\n",
       "  <tbody>\n",
       "    <tr>\n",
       "      <th>2020-01-11T00:00:00Z</th>\n",
       "      <td>41</td>\n",
       "      <td>41</td>\n",
       "      <td>1</td>\n",
       "      <td>1</td>\n",
       "    </tr>\n",
       "    <tr>\n",
       "      <th>2020-01-12T00:00:00Z</th>\n",
       "      <td>0</td>\n",
       "      <td>41</td>\n",
       "      <td>0</td>\n",
       "      <td>1</td>\n",
       "    </tr>\n",
       "    <tr>\n",
       "      <th>2020-01-13T00:00:00Z</th>\n",
       "      <td>1</td>\n",
       "      <td>42</td>\n",
       "      <td>0</td>\n",
       "      <td>1</td>\n",
       "    </tr>\n",
       "    <tr>\n",
       "      <th>2020-01-14T00:00:00Z</th>\n",
       "      <td>1</td>\n",
       "      <td>43</td>\n",
       "      <td>0</td>\n",
       "      <td>1</td>\n",
       "    </tr>\n",
       "    <tr>\n",
       "      <th>2020-01-15T00:00:00Z</th>\n",
       "      <td>0</td>\n",
       "      <td>43</td>\n",
       "      <td>0</td>\n",
       "      <td>1</td>\n",
       "    </tr>\n",
       "    <tr>\n",
       "      <th>...</th>\n",
       "      <td>...</td>\n",
       "      <td>...</td>\n",
       "      <td>...</td>\n",
       "      <td>...</td>\n",
       "    </tr>\n",
       "    <tr>\n",
       "      <th>2020-06-05T00:00:00Z</th>\n",
       "      <td>118528</td>\n",
       "      <td>6535356</td>\n",
       "      <td>4288</td>\n",
       "      <td>387155</td>\n",
       "    </tr>\n",
       "    <tr>\n",
       "      <th>2020-06-06T00:00:00Z</th>\n",
       "      <td>127943</td>\n",
       "      <td>6663299</td>\n",
       "      <td>5647</td>\n",
       "      <td>392802</td>\n",
       "    </tr>\n",
       "    <tr>\n",
       "      <th>2020-06-07T00:00:00Z</th>\n",
       "      <td>136405</td>\n",
       "      <td>6799704</td>\n",
       "      <td>4586</td>\n",
       "      <td>397388</td>\n",
       "    </tr>\n",
       "    <tr>\n",
       "      <th>2020-06-08T00:00:00Z</th>\n",
       "      <td>131296</td>\n",
       "      <td>6931000</td>\n",
       "      <td>3469</td>\n",
       "      <td>400857</td>\n",
       "    </tr>\n",
       "    <tr>\n",
       "      <th>2020-06-09T00:00:00Z</th>\n",
       "      <td>108918</td>\n",
       "      <td>7039918</td>\n",
       "      <td>3539</td>\n",
       "      <td>404396</td>\n",
       "    </tr>\n",
       "  </tbody>\n",
       "</table>\n",
       "<p>151 rows × 4 columns</p>\n",
       "</div>"
      ],
      "text/plain": [
       "                      New_cases  Cumulative_cases  New_deaths  \\\n",
       "Date_reported                                                   \n",
       "2020-01-11T00:00:00Z         41                41           1   \n",
       "2020-01-12T00:00:00Z          0                41           0   \n",
       "2020-01-13T00:00:00Z          1                42           0   \n",
       "2020-01-14T00:00:00Z          1                43           0   \n",
       "2020-01-15T00:00:00Z          0                43           0   \n",
       "...                         ...               ...         ...   \n",
       "2020-06-05T00:00:00Z     118528           6535356        4288   \n",
       "2020-06-06T00:00:00Z     127943           6663299        5647   \n",
       "2020-06-07T00:00:00Z     136405           6799704        4586   \n",
       "2020-06-08T00:00:00Z     131296           6931000        3469   \n",
       "2020-06-09T00:00:00Z     108918           7039918        3539   \n",
       "\n",
       "                      Cumulative_deaths  \n",
       "Date_reported                            \n",
       "2020-01-11T00:00:00Z                  1  \n",
       "2020-01-12T00:00:00Z                  1  \n",
       "2020-01-13T00:00:00Z                  1  \n",
       "2020-01-14T00:00:00Z                  1  \n",
       "2020-01-15T00:00:00Z                  1  \n",
       "...                                 ...  \n",
       "2020-06-05T00:00:00Z             387155  \n",
       "2020-06-06T00:00:00Z             392802  \n",
       "2020-06-07T00:00:00Z             397388  \n",
       "2020-06-08T00:00:00Z             400857  \n",
       "2020-06-09T00:00:00Z             404396  \n",
       "\n",
       "[151 rows x 4 columns]"
      ]
     },
     "execution_count": 22,
     "metadata": {},
     "output_type": "execute_result"
    }
   ],
   "source": [
    "total_info = corona.groupby(\"Date_reported\").agg(sum)\n",
    "total_info"
   ]
  },
  {
   "cell_type": "code",
   "execution_count": 23,
   "metadata": {},
   "outputs": [
    {
     "data": {
      "text/plain": [
       "<matplotlib.axes._subplots.AxesSubplot at 0x209ae233788>"
      ]
     },
     "execution_count": 23,
     "metadata": {},
     "output_type": "execute_result"
    },
    {
     "data": {
      "image/png": "[encoded data removed]",
      "text/plain": [
       "<Figure size 1440x360 with 1 Axes>"
      ]
     },
     "metadata": {
      "needs_background": "light"
     },
     "output_type": "display_data"
    }
   ],
   "source": [
    "total_info[\"New_cases\"].plot(figsize=(20,5))"
   ]
  },
  {
   "cell_type": "code",
   "execution_count": 24,
   "metadata": {},
   "outputs": [
    {
     "data": {
      "image/png": "[encoded data removed]",
      "text/plain": [
       "<Figure size 1440x360 with 1 Axes>"
      ]
     },
     "metadata": {
      "needs_background": "light"
     },
     "output_type": "display_data"
    }
   ],
   "source": [
    "global_percent_change = total_info[\"New_cases\"] / total_info[\"Cumulative_cases\"]\n",
    "ax1 = global_percent_change.plot(figsize=(20,5))"
   ]
  },
  {
   "cell_type": "markdown",
   "metadata": {},
   "source": [
    "We found out that the net increase in cases rather thant the percentage change per day is more correlated to the prices."
   ]
  },
  {
   "cell_type": "markdown",
   "metadata": {},
   "source": [
    "#### United States Data"
   ]
  },
  {
   "cell_type": "code",
   "execution_count": 25,
   "metadata": {},
   "outputs": [
    {
     "data": {
      "text/html": [
       "<div>\n",
       "<style scoped>\n",
       "    .dataframe tbody tr th:only-of-type {\n",
       "        vertical-align: middle;\n",
       "    }\n",
       "\n",
       "    .dataframe tbody tr th {\n",
       "        vertical-align: top;\n",
       "    }\n",
       "\n",
       "    .dataframe thead th {\n",
       "        text-align: right;\n",
       "    }\n",
       "</style>\n",
       "<table border=\"1\" class=\"dataframe\">\n",
       "  <thead>\n",
       "    <tr style=\"text-align: right;\">\n",
       "      <th></th>\n",
       "      <th>New_cases</th>\n",
       "      <th>Cumulative_cases</th>\n",
       "      <th>New_deaths</th>\n",
       "      <th>Cumulative_deaths</th>\n",
       "    </tr>\n",
       "    <tr>\n",
       "      <th>Date_reported</th>\n",
       "      <th></th>\n",
       "      <th></th>\n",
       "      <th></th>\n",
       "      <th></th>\n",
       "    </tr>\n",
       "  </thead>\n",
       "  <tbody>\n",
       "    <tr>\n",
       "      <th>2020-01-20T00:00:00Z</th>\n",
       "      <td>1</td>\n",
       "      <td>1</td>\n",
       "      <td>0</td>\n",
       "      <td>0</td>\n",
       "    </tr>\n",
       "    <tr>\n",
       "      <th>2020-01-21T00:00:00Z</th>\n",
       "      <td>0</td>\n",
       "      <td>1</td>\n",
       "      <td>0</td>\n",
       "      <td>0</td>\n",
       "    </tr>\n",
       "    <tr>\n",
       "      <th>2020-01-22T00:00:00Z</th>\n",
       "      <td>0</td>\n",
       "      <td>1</td>\n",
       "      <td>0</td>\n",
       "      <td>0</td>\n",
       "    </tr>\n",
       "    <tr>\n",
       "      <th>2020-01-23T00:00:00Z</th>\n",
       "      <td>0</td>\n",
       "      <td>1</td>\n",
       "      <td>0</td>\n",
       "      <td>0</td>\n",
       "    </tr>\n",
       "    <tr>\n",
       "      <th>2020-01-24T00:00:00Z</th>\n",
       "      <td>1</td>\n",
       "      <td>2</td>\n",
       "      <td>0</td>\n",
       "      <td>0</td>\n",
       "    </tr>\n",
       "    <tr>\n",
       "      <th>...</th>\n",
       "      <td>...</td>\n",
       "      <td>...</td>\n",
       "      <td>...</td>\n",
       "      <td>...</td>\n",
       "    </tr>\n",
       "    <tr>\n",
       "      <th>2020-06-05T00:00:00Z</th>\n",
       "      <td>14583</td>\n",
       "      <td>1837803</td>\n",
       "      <td>825</td>\n",
       "      <td>106876</td>\n",
       "    </tr>\n",
       "    <tr>\n",
       "      <th>2020-06-06T00:00:00Z</th>\n",
       "      <td>20069</td>\n",
       "      <td>1857872</td>\n",
       "      <td>1035</td>\n",
       "      <td>107911</td>\n",
       "    </tr>\n",
       "    <tr>\n",
       "      <th>2020-06-07T00:00:00Z</th>\n",
       "      <td>28922</td>\n",
       "      <td>1886794</td>\n",
       "      <td>1127</td>\n",
       "      <td>109038</td>\n",
       "    </tr>\n",
       "    <tr>\n",
       "      <th>2020-06-08T00:00:00Z</th>\n",
       "      <td>28918</td>\n",
       "      <td>1915712</td>\n",
       "      <td>708</td>\n",
       "      <td>109746</td>\n",
       "    </tr>\n",
       "    <tr>\n",
       "      <th>2020-06-09T00:00:00Z</th>\n",
       "      <td>17848</td>\n",
       "      <td>1933560</td>\n",
       "      <td>474</td>\n",
       "      <td>110220</td>\n",
       "    </tr>\n",
       "  </tbody>\n",
       "</table>\n",
       "<p>142 rows × 4 columns</p>\n",
       "</div>"
      ],
      "text/plain": [
       "                      New_cases  Cumulative_cases  New_deaths  \\\n",
       "Date_reported                                                   \n",
       "2020-01-20T00:00:00Z          1                 1           0   \n",
       "2020-01-21T00:00:00Z          0                 1           0   \n",
       "2020-01-22T00:00:00Z          0                 1           0   \n",
       "2020-01-23T00:00:00Z          0                 1           0   \n",
       "2020-01-24T00:00:00Z          1                 2           0   \n",
       "...                         ...               ...         ...   \n",
       "2020-06-05T00:00:00Z      14583           1837803         825   \n",
       "2020-06-06T00:00:00Z      20069           1857872        1035   \n",
       "2020-06-07T00:00:00Z      28922           1886794        1127   \n",
       "2020-06-08T00:00:00Z      28918           1915712         708   \n",
       "2020-06-09T00:00:00Z      17848           1933560         474   \n",
       "\n",
       "                      Cumulative_deaths  \n",
       "Date_reported                            \n",
       "2020-01-20T00:00:00Z                  0  \n",
       "2020-01-21T00:00:00Z                  0  \n",
       "2020-01-22T00:00:00Z                  0  \n",
       "2020-01-23T00:00:00Z                  0  \n",
       "2020-01-24T00:00:00Z                  0  \n",
       "...                                 ...  \n",
       "2020-06-05T00:00:00Z             106876  \n",
       "2020-06-06T00:00:00Z             107911  \n",
       "2020-06-07T00:00:00Z             109038  \n",
       "2020-06-08T00:00:00Z             109746  \n",
       "2020-06-09T00:00:00Z             110220  \n",
       "\n",
       "[142 rows x 4 columns]"
      ]
     },
     "execution_count": 25,
     "metadata": {},
     "output_type": "execute_result"
    }
   ],
   "source": [
    "us_info = corona.loc[corona[\"Country_code\"] == \"US\"].groupby(\"Date_reported\").agg(sum)\n",
    "us_info"
   ]
  },
  {
   "cell_type": "code",
   "execution_count": 26,
   "metadata": {},
   "outputs": [
    {
     "data": {
      "text/plain": [
       "<matplotlib.axes._subplots.AxesSubplot at 0x209ab8b6408>"
      ]
     },
     "execution_count": 26,
     "metadata": {},
     "output_type": "execute_result"
    },
    {
     "data": {
      "image/png": "[encoded data removed]",
      "text/plain": [
       "<Figure size 1440x360 with 1 Axes>"
      ]
     },
     "metadata": {
      "needs_background": "light"
     },
     "output_type": "display_data"
    }
   ],
   "source": [
    "us_info[\"New_cases\"].plot(figsize=(20,5))"
   ]
  },
  {
   "cell_type": "markdown",
   "metadata": {},
   "source": [
    "### Data Cleaning and Imputation"
   ]
  },
  {
   "cell_type": "code",
   "execution_count": 27,
   "metadata": {},
   "outputs": [],
   "source": [
    "# imputation NaN with mean\n",
    "rice = rice.apply(lambda x: x.fillna(x.mean()))\n",
    "orangejuice = orangejuice.apply(lambda x: x.fillna(x.mean()))\n",
    "milk = milk.apply(lambda x: x.fillna(x.mean()))\n",
    "pork = pork.apply(lambda x: x.fillna(x.mean()))\n",
    "soybean = soybean.apply(lambda x: x.fillna(x.mean()))"
   ]
  },
  {
   "cell_type": "code",
   "execution_count": 28,
   "metadata": {},
   "outputs": [],
   "source": [
    "# convert the indices of each table to datetime object\n",
    "total_info.index = pd.to_datetime(total_info.index.str[:10])"
   ]
  },
  {
   "cell_type": "code",
   "execution_count": 29,
   "metadata": {},
   "outputs": [],
   "source": [
    "# assemble the data\n",
    "total_info[\"rice\"] = rice\n",
    "total_info[\"orangejuice\"] = orangejuice\n",
    "total_info[\"milk\"] = milk\n",
    "total_info[\"pork\"] = pork\n",
    "total_info[\"soybean\"] = soybean\n",
    "total_info[\"crudeoil\"] = crudeoil"
   ]
  },
  {
   "cell_type": "code",
   "execution_count": 30,
   "metadata": {},
   "outputs": [],
   "source": [
    "total_info = total_info.apply(lambda x: x.fillna(x.mean()))"
   ]
  },
  {
   "cell_type": "code",
   "execution_count": 31,
   "metadata": {},
   "outputs": [
    {
     "data": {
      "text/html": [
       "<div>\n",
       "<style scoped>\n",
       "    .dataframe tbody tr th:only-of-type {\n",
       "        vertical-align: middle;\n",
       "    }\n",
       "\n",
       "    .dataframe tbody tr th {\n",
       "        vertical-align: top;\n",
       "    }\n",
       "\n",
       "    .dataframe thead th {\n",
       "        text-align: right;\n",
       "    }\n",
       "</style>\n",
       "<table border=\"1\" class=\"dataframe\">\n",
       "  <thead>\n",
       "    <tr style=\"text-align: right;\">\n",
       "      <th></th>\n",
       "      <th>New_cases</th>\n",
       "      <th>rice</th>\n",
       "      <th>orangejuice</th>\n",
       "      <th>milk</th>\n",
       "      <th>pork</th>\n",
       "      <th>soybean</th>\n",
       "      <th>crudeoil</th>\n",
       "    </tr>\n",
       "  </thead>\n",
       "  <tbody>\n",
       "    <tr>\n",
       "      <th>New_cases</th>\n",
       "      <td>1.000000</td>\n",
       "      <td>0.633904</td>\n",
       "      <td>0.680098</td>\n",
       "      <td>-0.464025</td>\n",
       "      <td>-0.401796</td>\n",
       "      <td>-0.551629</td>\n",
       "      <td>-0.522380</td>\n",
       "    </tr>\n",
       "    <tr>\n",
       "      <th>rice</th>\n",
       "      <td>0.633904</td>\n",
       "      <td>1.000000</td>\n",
       "      <td>0.712329</td>\n",
       "      <td>-0.271610</td>\n",
       "      <td>-0.318157</td>\n",
       "      <td>-0.516355</td>\n",
       "      <td>-0.312549</td>\n",
       "    </tr>\n",
       "    <tr>\n",
       "      <th>orangejuice</th>\n",
       "      <td>0.680098</td>\n",
       "      <td>0.712329</td>\n",
       "      <td>1.000000</td>\n",
       "      <td>-0.445867</td>\n",
       "      <td>-0.280719</td>\n",
       "      <td>-0.519070</td>\n",
       "      <td>-0.526180</td>\n",
       "    </tr>\n",
       "    <tr>\n",
       "      <th>milk</th>\n",
       "      <td>-0.464025</td>\n",
       "      <td>-0.271610</td>\n",
       "      <td>-0.445867</td>\n",
       "      <td>1.000000</td>\n",
       "      <td>0.133543</td>\n",
       "      <td>0.655080</td>\n",
       "      <td>0.552555</td>\n",
       "    </tr>\n",
       "    <tr>\n",
       "      <th>pork</th>\n",
       "      <td>-0.401796</td>\n",
       "      <td>-0.318157</td>\n",
       "      <td>-0.280719</td>\n",
       "      <td>0.133543</td>\n",
       "      <td>1.000000</td>\n",
       "      <td>0.453519</td>\n",
       "      <td>0.472228</td>\n",
       "    </tr>\n",
       "    <tr>\n",
       "      <th>soybean</th>\n",
       "      <td>-0.551629</td>\n",
       "      <td>-0.516355</td>\n",
       "      <td>-0.519070</td>\n",
       "      <td>0.655080</td>\n",
       "      <td>0.453519</td>\n",
       "      <td>1.000000</td>\n",
       "      <td>0.723158</td>\n",
       "    </tr>\n",
       "    <tr>\n",
       "      <th>crudeoil</th>\n",
       "      <td>-0.522380</td>\n",
       "      <td>-0.312549</td>\n",
       "      <td>-0.526180</td>\n",
       "      <td>0.552555</td>\n",
       "      <td>0.472228</td>\n",
       "      <td>0.723158</td>\n",
       "      <td>1.000000</td>\n",
       "    </tr>\n",
       "  </tbody>\n",
       "</table>\n",
       "</div>"
      ],
      "text/plain": [
       "             New_cases      rice  orangejuice      milk      pork   soybean  \\\n",
       "New_cases     1.000000  0.633904     0.680098 -0.464025 -0.401796 -0.551629   \n",
       "rice          0.633904  1.000000     0.712329 -0.271610 -0.318157 -0.516355   \n",
       "orangejuice   0.680098  0.712329     1.000000 -0.445867 -0.280719 -0.519070   \n",
       "milk         -0.464025 -0.271610    -0.445867  1.000000  0.133543  0.655080   \n",
       "pork         -0.401796 -0.318157    -0.280719  0.133543  1.000000  0.453519   \n",
       "soybean      -0.551629 -0.516355    -0.519070  0.655080  0.453519  1.000000   \n",
       "crudeoil     -0.522380 -0.312549    -0.526180  0.552555  0.472228  0.723158   \n",
       "\n",
       "             crudeoil  \n",
       "New_cases   -0.522380  \n",
       "rice        -0.312549  \n",
       "orangejuice -0.526180  \n",
       "milk         0.552555  \n",
       "pork         0.472228  \n",
       "soybean      0.723158  \n",
       "crudeoil     1.000000  "
      ]
     },
     "execution_count": 31,
     "metadata": {},
     "output_type": "execute_result"
    }
   ],
   "source": [
    "total_info.drop([\"Cumulative_cases\", \"New_deaths\", \"Cumulative_deaths\"], axis = 1).corr(method='pearson')"
   ]
  },
  {
   "cell_type": "code",
   "execution_count": 32,
   "metadata": {},
   "outputs": [
    {
     "data": {
      "text/html": [
       "<div>\n",
       "<style scoped>\n",
       "    .dataframe tbody tr th:only-of-type {\n",
       "        vertical-align: middle;\n",
       "    }\n",
       "\n",
       "    .dataframe tbody tr th {\n",
       "        vertical-align: top;\n",
       "    }\n",
       "\n",
       "    .dataframe thead th {\n",
       "        text-align: right;\n",
       "    }\n",
       "</style>\n",
       "<table border=\"1\" class=\"dataframe\">\n",
       "  <thead>\n",
       "    <tr style=\"text-align: right;\">\n",
       "      <th></th>\n",
       "      <th>New_cases</th>\n",
       "      <th>Cumulative_cases</th>\n",
       "      <th>New_deaths</th>\n",
       "      <th>Cumulative_deaths</th>\n",
       "      <th>rice</th>\n",
       "      <th>orangejuice</th>\n",
       "      <th>milk</th>\n",
       "      <th>pork</th>\n",
       "      <th>soybean</th>\n",
       "      <th>crudeoil</th>\n",
       "    </tr>\n",
       "    <tr>\n",
       "      <th>Date_reported</th>\n",
       "      <th></th>\n",
       "      <th></th>\n",
       "      <th></th>\n",
       "      <th></th>\n",
       "      <th></th>\n",
       "      <th></th>\n",
       "      <th></th>\n",
       "      <th></th>\n",
       "      <th></th>\n",
       "      <th></th>\n",
       "    </tr>\n",
       "  </thead>\n",
       "  <tbody>\n",
       "    <tr>\n",
       "      <th>2020-01-11</th>\n",
       "      <td>41</td>\n",
       "      <td>41</td>\n",
       "      <td>1</td>\n",
       "      <td>1</td>\n",
       "      <td>14.67805</td>\n",
       "      <td>108.15764</td>\n",
       "      <td>15.20233</td>\n",
       "      <td>58.437864</td>\n",
       "      <td>867.373924</td>\n",
       "      <td>1.097726</td>\n",
       "    </tr>\n",
       "    <tr>\n",
       "      <th>2020-01-12</th>\n",
       "      <td>0</td>\n",
       "      <td>41</td>\n",
       "      <td>0</td>\n",
       "      <td>1</td>\n",
       "      <td>14.67805</td>\n",
       "      <td>108.15764</td>\n",
       "      <td>15.20233</td>\n",
       "      <td>58.437864</td>\n",
       "      <td>867.373924</td>\n",
       "      <td>1.097726</td>\n",
       "    </tr>\n",
       "    <tr>\n",
       "      <th>2020-01-13</th>\n",
       "      <td>1</td>\n",
       "      <td>42</td>\n",
       "      <td>0</td>\n",
       "      <td>1</td>\n",
       "      <td>13.10000</td>\n",
       "      <td>97.10000</td>\n",
       "      <td>17.02000</td>\n",
       "      <td>66.975000</td>\n",
       "      <td>938.500000</td>\n",
       "      <td>1.666800</td>\n",
       "    </tr>\n",
       "    <tr>\n",
       "      <th>2020-01-14</th>\n",
       "      <td>1</td>\n",
       "      <td>43</td>\n",
       "      <td>0</td>\n",
       "      <td>1</td>\n",
       "      <td>12.96000</td>\n",
       "      <td>95.55000</td>\n",
       "      <td>16.99000</td>\n",
       "      <td>65.675000</td>\n",
       "      <td>929.000000</td>\n",
       "      <td>1.664400</td>\n",
       "    </tr>\n",
       "    <tr>\n",
       "      <th>2020-01-15</th>\n",
       "      <td>0</td>\n",
       "      <td>43</td>\n",
       "      <td>0</td>\n",
       "      <td>1</td>\n",
       "      <td>13.35000</td>\n",
       "      <td>96.90000</td>\n",
       "      <td>16.95000</td>\n",
       "      <td>67.600000</td>\n",
       "      <td>942.000000</td>\n",
       "      <td>1.660500</td>\n",
       "    </tr>\n",
       "    <tr>\n",
       "      <th>...</th>\n",
       "      <td>...</td>\n",
       "      <td>...</td>\n",
       "      <td>...</td>\n",
       "      <td>...</td>\n",
       "      <td>...</td>\n",
       "      <td>...</td>\n",
       "      <td>...</td>\n",
       "      <td>...</td>\n",
       "      <td>...</td>\n",
       "      <td>...</td>\n",
       "    </tr>\n",
       "    <tr>\n",
       "      <th>2020-06-05</th>\n",
       "      <td>118528</td>\n",
       "      <td>6535356</td>\n",
       "      <td>4288</td>\n",
       "      <td>387155</td>\n",
       "      <td>22.21000</td>\n",
       "      <td>125.60000</td>\n",
       "      <td>20.10000</td>\n",
       "      <td>48.450000</td>\n",
       "      <td>868.000000</td>\n",
       "      <td>1.142800</td>\n",
       "    </tr>\n",
       "    <tr>\n",
       "      <th>2020-06-06</th>\n",
       "      <td>127943</td>\n",
       "      <td>6663299</td>\n",
       "      <td>5647</td>\n",
       "      <td>392802</td>\n",
       "      <td>14.67805</td>\n",
       "      <td>108.15764</td>\n",
       "      <td>15.20233</td>\n",
       "      <td>58.437864</td>\n",
       "      <td>867.373924</td>\n",
       "      <td>1.097726</td>\n",
       "    </tr>\n",
       "    <tr>\n",
       "      <th>2020-06-07</th>\n",
       "      <td>136405</td>\n",
       "      <td>6799704</td>\n",
       "      <td>4586</td>\n",
       "      <td>397388</td>\n",
       "      <td>14.67805</td>\n",
       "      <td>108.15764</td>\n",
       "      <td>15.20233</td>\n",
       "      <td>58.437864</td>\n",
       "      <td>867.373924</td>\n",
       "      <td>1.097726</td>\n",
       "    </tr>\n",
       "    <tr>\n",
       "      <th>2020-06-08</th>\n",
       "      <td>131296</td>\n",
       "      <td>6931000</td>\n",
       "      <td>3469</td>\n",
       "      <td>400857</td>\n",
       "      <td>19.06500</td>\n",
       "      <td>127.75000</td>\n",
       "      <td>19.80000</td>\n",
       "      <td>47.000000</td>\n",
       "      <td>869.250000</td>\n",
       "      <td>1.212900</td>\n",
       "    </tr>\n",
       "    <tr>\n",
       "      <th>2020-06-09</th>\n",
       "      <td>108918</td>\n",
       "      <td>7039918</td>\n",
       "      <td>3539</td>\n",
       "      <td>404396</td>\n",
       "      <td>17.56500</td>\n",
       "      <td>126.00000</td>\n",
       "      <td>20.21000</td>\n",
       "      <td>48.075000</td>\n",
       "      <td>864.000000</td>\n",
       "      <td>1.205000</td>\n",
       "    </tr>\n",
       "  </tbody>\n",
       "</table>\n",
       "<p>151 rows × 10 columns</p>\n",
       "</div>"
      ],
      "text/plain": [
       "               New_cases  Cumulative_cases  New_deaths  Cumulative_deaths  \\\n",
       "Date_reported                                                               \n",
       "2020-01-11            41                41           1                  1   \n",
       "2020-01-12             0                41           0                  1   \n",
       "2020-01-13             1                42           0                  1   \n",
       "2020-01-14             1                43           0                  1   \n",
       "2020-01-15             0                43           0                  1   \n",
       "...                  ...               ...         ...                ...   \n",
       "2020-06-05        118528           6535356        4288             387155   \n",
       "2020-06-06        127943           6663299        5647             392802   \n",
       "2020-06-07        136405           6799704        4586             397388   \n",
       "2020-06-08        131296           6931000        3469             400857   \n",
       "2020-06-09        108918           7039918        3539             404396   \n",
       "\n",
       "                   rice  orangejuice      milk       pork     soybean  \\\n",
       "Date_reported                                                           \n",
       "2020-01-11     14.67805    108.15764  15.20233  58.437864  867.373924   \n",
       "2020-01-12     14.67805    108.15764  15.20233  58.437864  867.373924   \n",
       "2020-01-13     13.10000     97.10000  17.02000  66.975000  938.500000   \n",
       "2020-01-14     12.96000     95.55000  16.99000  65.675000  929.000000   \n",
       "2020-01-15     13.35000     96.90000  16.95000  67.600000  942.000000   \n",
       "...                 ...          ...       ...        ...         ...   \n",
       "2020-06-05     22.21000    125.60000  20.10000  48.450000  868.000000   \n",
       "2020-06-06     14.67805    108.15764  15.20233  58.437864  867.373924   \n",
       "2020-06-07     14.67805    108.15764  15.20233  58.437864  867.373924   \n",
       "2020-06-08     19.06500    127.75000  19.80000  47.000000  869.250000   \n",
       "2020-06-09     17.56500    126.00000  20.21000  48.075000  864.000000   \n",
       "\n",
       "               crudeoil  \n",
       "Date_reported            \n",
       "2020-01-11     1.097726  \n",
       "2020-01-12     1.097726  \n",
       "2020-01-13     1.666800  \n",
       "2020-01-14     1.664400  \n",
       "2020-01-15     1.660500  \n",
       "...                 ...  \n",
       "2020-06-05     1.142800  \n",
       "2020-06-06     1.097726  \n",
       "2020-06-07     1.097726  \n",
       "2020-06-08     1.212900  \n",
       "2020-06-09     1.205000  \n",
       "\n",
       "[151 rows x 10 columns]"
      ]
     },
     "execution_count": 32,
     "metadata": {},
     "output_type": "execute_result"
    }
   ],
   "source": [
    "total_info"
   ]
  },
  {
   "cell_type": "markdown",
   "metadata": {},
   "source": [
    "## Model"
   ]
  },
  {
   "cell_type": "code",
   "execution_count": 33,
   "metadata": {},
   "outputs": [
    {
     "name": "stderr",
     "output_type": "stream",
     "text": [
      "c:\\users\\lenovo\\appdata\\local\\programs\\python\\python37\\lib\\site-packages\\sklearn\\preprocessing\\_function_transformer.py:98: FutureWarning: The default validate=True will be replaced by validate=False in 0.22.\n",
      "  \"validate=False in 0.22.\", FutureWarning)\n",
      "c:\\users\\lenovo\\appdata\\local\\programs\\python\\python37\\lib\\site-packages\\sklearn\\preprocessing\\_function_transformer.py:98: FutureWarning: The default validate=True will be replaced by validate=False in 0.22.\n",
      "  \"validate=False in 0.22.\", FutureWarning)\n"
     ]
    },
    {
     "name": "stdout",
     "output_type": "stream",
     "text": [
      "RMSE of rice model is 3.709755091301337\n"
     ]
    },
    {
     "name": "stderr",
     "output_type": "stream",
     "text": [
      "c:\\users\\lenovo\\appdata\\local\\programs\\python\\python37\\lib\\site-packages\\sklearn\\preprocessing\\_function_transformer.py:98: FutureWarning: The default validate=True will be replaced by validate=False in 0.22.\n",
      "  \"validate=False in 0.22.\", FutureWarning)\n"
     ]
    }
   ],
   "source": [
    "# Rice model\n",
    "\n",
    "X = total_info[[\"New_cases\"]]\n",
    "y = total_info.rice\n",
    "\n",
    "X_train, X_test, y_train, y_test = train_test_split(X, y, test_size=0.2, random_state=42)\n",
    "\n",
    "log_feat = ['New_cases']\n",
    "log_tranformer = Pipeline(steps = [\n",
    "    (\"log\", FunctionTransformer(lambda x:x))\n",
    "])\n",
    "\n",
    "\n",
    "\n",
    "preproc = ColumnTransformer(transformers = [(\"log\", log_tranformer, log_feat)])\n",
    "\n",
    "pl = Pipeline(steps = [(\"preprocessor\", preproc), (\"xgb\", xgb.XGBRegressor(ntree_limit = 7))])\n",
    "\n",
    "pl.fit(X_train, y_train)\n",
    "\n",
    "preds = pl.predict(X_test)\n",
    "\n",
    "print(\"RMSE of rice model is\", mean_squared_error(preds, y_test))\n",
    "\n",
    "rice_result = [\"rice\", mean_squared_error(preds, y_test)]"
   ]
  },
  {
   "cell_type": "code",
   "execution_count": 34,
   "metadata": {},
   "outputs": [
    {
     "name": "stdout",
     "output_type": "stream",
     "text": [
      "RMSE of orangejuice model is 93.00792810632264\n"
     ]
    },
    {
     "name": "stderr",
     "output_type": "stream",
     "text": [
      "c:\\users\\lenovo\\appdata\\local\\programs\\python\\python37\\lib\\site-packages\\sklearn\\preprocessing\\_function_transformer.py:98: FutureWarning: The default validate=True will be replaced by validate=False in 0.22.\n",
      "  \"validate=False in 0.22.\", FutureWarning)\n",
      "c:\\users\\lenovo\\appdata\\local\\programs\\python\\python37\\lib\\site-packages\\sklearn\\preprocessing\\_function_transformer.py:98: FutureWarning: The default validate=True will be replaced by validate=False in 0.22.\n",
      "  \"validate=False in 0.22.\", FutureWarning)\n",
      "c:\\users\\lenovo\\appdata\\local\\programs\\python\\python37\\lib\\site-packages\\sklearn\\preprocessing\\_function_transformer.py:98: FutureWarning: The default validate=True will be replaced by validate=False in 0.22.\n",
      "  \"validate=False in 0.22.\", FutureWarning)\n"
     ]
    }
   ],
   "source": [
    "# Orangejuice model\n",
    "\n",
    "X = total_info[[\"New_cases\"]]\n",
    "y = total_info.orangejuice\n",
    "\n",
    "X_train, X_test, y_train, y_test = train_test_split(X, y, test_size=0.2, random_state=42)\n",
    "\n",
    "log_feat = ['New_cases']\n",
    "log_tranformer = Pipeline(steps = [\n",
    "    (\"log\", FunctionTransformer(lambda x:x))\n",
    "])\n",
    "\n",
    "\n",
    "\n",
    "preproc = ColumnTransformer(transformers = [(\"log\", log_tranformer, log_feat)])\n",
    "\n",
    "pl = Pipeline(steps = [(\"preprocessor\", preproc), (\"xgb\", xgb.XGBRegressor(ntree_limit = 7))])\n",
    "\n",
    "pl.fit(X_train, y_train)\n",
    "\n",
    "preds = pl.predict(X_test)\n",
    "\n",
    "print(\"RMSE of orangejuice model is\", mean_squared_error(preds, y_test))\n",
    "orangejuice_result = [\"orangejuice\", mean_squared_error(preds, y_test)]"
   ]
  },
  {
   "cell_type": "code",
   "execution_count": 35,
   "metadata": {},
   "outputs": [
    {
     "name": "stderr",
     "output_type": "stream",
     "text": [
      "c:\\users\\lenovo\\appdata\\local\\programs\\python\\python37\\lib\\site-packages\\sklearn\\preprocessing\\_function_transformer.py:98: FutureWarning: The default validate=True will be replaced by validate=False in 0.22.\n",
      "  \"validate=False in 0.22.\", FutureWarning)\n",
      "c:\\users\\lenovo\\appdata\\local\\programs\\python\\python37\\lib\\site-packages\\sklearn\\preprocessing\\_function_transformer.py:98: FutureWarning: The default validate=True will be replaced by validate=False in 0.22.\n",
      "  \"validate=False in 0.22.\", FutureWarning)\n",
      "c:\\users\\lenovo\\appdata\\local\\programs\\python\\python37\\lib\\site-packages\\sklearn\\preprocessing\\_function_transformer.py:98: FutureWarning: The default validate=True will be replaced by validate=False in 0.22.\n",
      "  \"validate=False in 0.22.\", FutureWarning)\n"
     ]
    },
    {
     "name": "stdout",
     "output_type": "stream",
     "text": [
      "RMSE of milk model is 4.555514339746204\n"
     ]
    }
   ],
   "source": [
    "# Milk model\n",
    "\n",
    "X = total_info[[\"New_cases\"]]\n",
    "y = total_info.milk\n",
    "\n",
    "X_train, X_test, y_train, y_test = train_test_split(X, y, test_size=0.2, random_state=42)\n",
    "\n",
    "log_feat = ['New_cases']\n",
    "log_tranformer = Pipeline(steps = [\n",
    "    (\"log\", FunctionTransformer(lambda x:x))\n",
    "])\n",
    "\n",
    "\n",
    "\n",
    "preproc = ColumnTransformer(transformers = [(\"log\", log_tranformer, log_feat)])\n",
    "\n",
    "pl = Pipeline(steps = [(\"preprocessor\", preproc), (\"xgb\", xgb.XGBRegressor(ntree_limit = 7))])\n",
    "\n",
    "pl.fit(X_train, y_train)\n",
    "\n",
    "preds = pl.predict(X_test)\n",
    "\n",
    "print(\"RMSE of milk model is\", mean_squared_error(preds, y_test))\n",
    "milk_result = [\"milk\", mean_squared_error(preds, y_test)]"
   ]
  },
  {
   "cell_type": "code",
   "execution_count": 36,
   "metadata": {},
   "outputs": [
    {
     "name": "stderr",
     "output_type": "stream",
     "text": [
      "c:\\users\\lenovo\\appdata\\local\\programs\\python\\python37\\lib\\site-packages\\sklearn\\preprocessing\\_function_transformer.py:98: FutureWarning: The default validate=True will be replaced by validate=False in 0.22.\n",
      "  \"validate=False in 0.22.\", FutureWarning)\n",
      "c:\\users\\lenovo\\appdata\\local\\programs\\python\\python37\\lib\\site-packages\\sklearn\\preprocessing\\_function_transformer.py:98: FutureWarning: The default validate=True will be replaced by validate=False in 0.22.\n",
      "  \"validate=False in 0.22.\", FutureWarning)\n"
     ]
    },
    {
     "name": "stdout",
     "output_type": "stream",
     "text": [
      "RMSE of pork model is 45.883057473367394\n"
     ]
    },
    {
     "name": "stderr",
     "output_type": "stream",
     "text": [
      "c:\\users\\lenovo\\appdata\\local\\programs\\python\\python37\\lib\\site-packages\\sklearn\\preprocessing\\_function_transformer.py:98: FutureWarning: The default validate=True will be replaced by validate=False in 0.22.\n",
      "  \"validate=False in 0.22.\", FutureWarning)\n"
     ]
    }
   ],
   "source": [
    "# pork model\n",
    "\n",
    "X = total_info[[\"New_cases\"]]\n",
    "y = total_info.pork\n",
    "\n",
    "X_train, X_test, y_train, y_test = train_test_split(X, y, test_size=0.2, random_state=42)\n",
    "\n",
    "log_feat = ['New_cases']\n",
    "log_tranformer = Pipeline(steps = [\n",
    "    (\"log\", FunctionTransformer(lambda x:x))\n",
    "])\n",
    "\n",
    "\n",
    "\n",
    "preproc = ColumnTransformer(transformers = [(\"log\", log_tranformer, log_feat)])\n",
    "\n",
    "pl = Pipeline(steps = [(\"preprocessor\", preproc), (\"xgb\", xgb.XGBRegressor(ntree_limit = 7))])\n",
    "\n",
    "pl.fit(X_train, y_train)\n",
    "\n",
    "preds = pl.predict(X_test)\n",
    "\n",
    "print(\"RMSE of pork model is\", mean_squared_error(preds, y_test))\n",
    "pork_result = [\"pork\", mean_squared_error(preds, y_test)]"
   ]
  },
  {
   "cell_type": "code",
   "execution_count": 37,
   "metadata": {},
   "outputs": [
    {
     "name": "stderr",
     "output_type": "stream",
     "text": [
      "c:\\users\\lenovo\\appdata\\local\\programs\\python\\python37\\lib\\site-packages\\sklearn\\preprocessing\\_function_transformer.py:98: FutureWarning: The default validate=True will be replaced by validate=False in 0.22.\n",
      "  \"validate=False in 0.22.\", FutureWarning)\n",
      "c:\\users\\lenovo\\appdata\\local\\programs\\python\\python37\\lib\\site-packages\\sklearn\\preprocessing\\_function_transformer.py:98: FutureWarning: The default validate=True will be replaced by validate=False in 0.22.\n",
      "  \"validate=False in 0.22.\", FutureWarning)\n",
      "c:\\users\\lenovo\\appdata\\local\\programs\\python\\python37\\lib\\site-packages\\sklearn\\preprocessing\\_function_transformer.py:98: FutureWarning: The default validate=True will be replaced by validate=False in 0.22.\n",
      "  \"validate=False in 0.22.\", FutureWarning)\n"
     ]
    },
    {
     "name": "stdout",
     "output_type": "stream",
     "text": [
      "RMSE of soybean model is 636.0033649991451\n"
     ]
    }
   ],
   "source": [
    "# Soybean model\n",
    "\n",
    "X = total_info[[\"New_cases\"]]\n",
    "y = total_info.soybean\n",
    "\n",
    "X_train, X_test, y_train, y_test = train_test_split(X, y, test_size=0.2)\n",
    "\n",
    "log_feat = ['New_cases']\n",
    "log_tranformer = Pipeline(steps = [\n",
    "    (\"log\", FunctionTransformer(lambda x:x))\n",
    "])\n",
    "\n",
    "\n",
    "\n",
    "preproc = ColumnTransformer(transformers = [(\"log\", log_tranformer, log_feat)])\n",
    "\n",
    "pl = Pipeline(steps = [(\"preprocessor\", preproc), (\"xgb\", xgb.XGBRegressor(ntree_limit = 7))])\n",
    "\n",
    "pl.fit(X_train, y_train)\n",
    "\n",
    "preds = pl.predict(X_test)\n",
    "\n",
    "print(\"RMSE of soybean model is\", mean_squared_error(preds, y_test))\n",
    "soybean_result = [\"soybean\", mean_squared_error(preds, y_test)]"
   ]
  },
  {
   "cell_type": "code",
   "execution_count": 38,
   "metadata": {},
   "outputs": [
    {
     "name": "stderr",
     "output_type": "stream",
     "text": [
      "c:\\users\\lenovo\\appdata\\local\\programs\\python\\python37\\lib\\site-packages\\sklearn\\preprocessing\\_function_transformer.py:98: FutureWarning: The default validate=True will be replaced by validate=False in 0.22.\n",
      "  \"validate=False in 0.22.\", FutureWarning)\n",
      "c:\\users\\lenovo\\appdata\\local\\programs\\python\\python37\\lib\\site-packages\\sklearn\\preprocessing\\_function_transformer.py:98: FutureWarning: The default validate=True will be replaced by validate=False in 0.22.\n",
      "  \"validate=False in 0.22.\", FutureWarning)\n",
      "c:\\users\\lenovo\\appdata\\local\\programs\\python\\python37\\lib\\site-packages\\sklearn\\preprocessing\\_function_transformer.py:98: FutureWarning: The default validate=True will be replaced by validate=False in 0.22.\n",
      "  \"validate=False in 0.22.\", FutureWarning)\n"
     ]
    },
    {
     "name": "stdout",
     "output_type": "stream",
     "text": [
      "RMSE of crudeoil model is 0.06480532665790946\n"
     ]
    }
   ],
   "source": [
    "# Crudeoil model\n",
    "\n",
    "X = total_info[[\"New_cases\"]]\n",
    "y = total_info.crudeoil\n",
    "\n",
    "X_train, X_test, y_train, y_test = train_test_split(X, y, test_size=0.2)\n",
    "\n",
    "log_feat = ['New_cases']\n",
    "log_tranformer = Pipeline(steps = [\n",
    "    (\"log\", FunctionTransformer(lambda x:x))\n",
    "])\n",
    "\n",
    "\n",
    "\n",
    "preproc = ColumnTransformer(transformers = [(\"log\", log_tranformer, log_feat)])\n",
    "\n",
    "pl = Pipeline(steps = [(\"preprocessor\", preproc), (\"xgb\", xgb.XGBRegressor(ntree_limit = 7))])\n",
    "\n",
    "pl.fit(X_train, y_train)\n",
    "\n",
    "preds = pl.predict(X_test)\n",
    "\n",
    "print(\"RMSE of crudeoil model is\", mean_squared_error(preds, y_test))\n",
    "crudeoil_result = [\"crudeoil\", mean_squared_error(preds, y_test)]"
   ]
  },
  {
   "cell_type": "code",
   "execution_count": 39,
   "metadata": {},
   "outputs": [
    {
     "data": {
      "text/html": [
       "<div>\n",
       "<style scoped>\n",
       "    .dataframe tbody tr th:only-of-type {\n",
       "        vertical-align: middle;\n",
       "    }\n",
       "\n",
       "    .dataframe tbody tr th {\n",
       "        vertical-align: top;\n",
       "    }\n",
       "\n",
       "    .dataframe thead th {\n",
       "        text-align: right;\n",
       "    }\n",
       "</style>\n",
       "<table border=\"1\" class=\"dataframe\">\n",
       "  <thead>\n",
       "    <tr style=\"text-align: right;\">\n",
       "      <th></th>\n",
       "      <th>RMSE</th>\n",
       "    </tr>\n",
       "    <tr>\n",
       "      <th>Commodity</th>\n",
       "      <th></th>\n",
       "    </tr>\n",
       "  </thead>\n",
       "  <tbody>\n",
       "    <tr>\n",
       "      <th>rice</th>\n",
       "      <td>3.709755</td>\n",
       "    </tr>\n",
       "    <tr>\n",
       "      <th>orangejuice</th>\n",
       "      <td>93.007928</td>\n",
       "    </tr>\n",
       "    <tr>\n",
       "      <th>milk</th>\n",
       "      <td>4.555514</td>\n",
       "    </tr>\n",
       "    <tr>\n",
       "      <th>pork</th>\n",
       "      <td>45.883057</td>\n",
       "    </tr>\n",
       "    <tr>\n",
       "      <th>soybean</th>\n",
       "      <td>636.003365</td>\n",
       "    </tr>\n",
       "    <tr>\n",
       "      <th>crudeoil</th>\n",
       "      <td>0.064805</td>\n",
       "    </tr>\n",
       "  </tbody>\n",
       "</table>\n",
       "</div>"
      ],
      "text/plain": [
       "                   RMSE\n",
       "Commodity              \n",
       "rice           3.709755\n",
       "orangejuice   93.007928\n",
       "milk           4.555514\n",
       "pork          45.883057\n",
       "soybean      636.003365\n",
       "crudeoil       0.064805"
      ]
     },
     "execution_count": 39,
     "metadata": {},
     "output_type": "execute_result"
    }
   ],
   "source": [
    "# Evalutaion DataFrame of the Commdities we analyzed\n",
    "\n",
    "df = pd.DataFrame([rice_result, \n",
    "                  orangejuice_result,\n",
    "                  milk_result, \n",
    "                  pork_result, \n",
    "                  soybean_result,\n",
    "                  crudeoil_result]\n",
    "                 ).rename({0: \"Commodity\", 1: \"RMSE\"}, axis = 1).set_index(\"Commodity\")\n",
    "\n",
    "df"
   ]
  },
  {
   "cell_type": "markdown",
   "metadata": {},
   "source": [
    "## Ethics & Privacy"
   ]
  },
  {
   "cell_type": "markdown",
   "metadata": {},
   "source": [
    "**Privacy perspective:**\n",
    "Due to the macroscopic scale of our datasets, all data regarding commodities’ futures market prices and COVID-19 cases include only general statistics within those two fields. Thus, all data are anonymous and do not include any personal information. The content privacy of our data is secured at first hand.\n",
    "\n",
    "Besides, since our analysis and findings will all be stored in our private repo which only gives access to course professors and teaching assistants, the information we will gain could not be co-opted for nefarious purposes. Finally, as long as the platform discloses the data, we have continuous access to the dataset, thus ensuring the continuous monitoring of our datasets and findings.\n",
    "\n",
    "**Permission to access perspective:**\n",
    "Both sources of our datasets published their data publicly to monitor global commodity futures market and COVID-19 development. The open data APIs included in their websites give us full access to acquire the data we need for our analysis.\n",
    "\n",
    "**Ethical perspective:**\n",
    "The first dataset we used includes the price levels of certain commodities in the futures market. Since this dataset is only providing an objective description of universal good prices, we don’t suspect it would lead to any bias towards certain communities of people.\n",
    "\n",
    "The second dataset of our analysis gives us a macro-representation of global COVID-19 cases. All of the cases are recorded in chronological order without distincting the characteristics of patients. This comprehensive and anonymous method of data collection also prevents potential bias towards certain populations.\n",
    "\n",
    "Finally, both datasets are collected by authority agencies of their field, giving us a warrant of data authenticity. The futures market dataset provides up-to-date commodity prices to direct buyers investing in proper commodities, helping the society to keep a good economic order during the quarantine. The COVID-19 cases dataset monitors virus development and releases related data publicly, fostering the society to better confound this challenge and get back on track. Since both datasets uphold authenticity and are formulated upon good purposes, our analysis will keep a good ethical value as we proceed each step with an intention only to better understand COVID-19’s effects on market preferences in product categories.\n"
   ]
  },
  {
   "cell_type": "markdown",
   "metadata": {},
   "source": [
    "## Conclusion & Discussion"
   ]
  },
  {
   "cell_type": "markdown",
   "metadata": {},
   "source": [
    "**Conclusion:**\n",
    "We chose the data about commodity prices and the data about coronavirus cases development to see whether the development of COVID-19  would affect the commodity prices in the market. Based on our expectation, we proposed our hypothesis as below:\n",
    "1. In a broader sense, with widespread COVID-19, the market price for food will relatively increase or stay stable, while the price of items in heavy industry such as the crude oil industry might experience a decline.\n",
    "1. Within the food market, the price for staple foods such as grain will increase while the price for “non-staple” foods such as meat will decrease.\n",
    "\n",
    "Based on the observation and comparison upon our visualized datasets about the food industry and oil industries, we can see that the prices for food commodities in the market during the pandemic remain relatively stable, with minor increases or decreases, while the prices of commodities from oil industries such as crude oil suffer major declines during the pandemic. From this observation and comparison, we can tell that our first hypothesis that during this pandemic, the market prices of food commodities would relatively increase or stay stable while the market prices of goods from oil industries would experience declines is correct.\n",
    "\n",
    "Based on the observation upon our visualized datasets about different types of foods, we can see that there are some obvious drops in the market prices of some non-staple foods such as pork overtime during the pandemic. At the same time, there are obvious increases in the market prices of staple foods such as rice overtime during the pandemic. From this observation, we can tell that our second hypothesis that within the food market, the prices of staple food would increase while the prices of“non-staple” foods would decrease is correct.\n",
    "\n",
    "Moreover, the RMSE statistics we calculated suggest that the models on new CoronaVirus cases data and commodity price data of rice, milk, and crude oil are relatively predictive since their RMSE statistics are relatively small, while the RMSE statistics for other commodity models such as the models for orange juice, pork, and soybean are too large for us to consider those as good predictive models.  Furthermore, according to the correlation matrix we generated, the new CoronaVirus cases data has relatively strong positive correlation with rice prices and orange juice prices, and the new CoronaVirus cases data has relatively moderate negative correlation with pork prices, soybean prices and crude oil prices. Along with the RMSE statistics we mentioned above, we can see that the market price of rice and orange juice are more likely to be related to the new CoronaVirus cases, while the model of rice, milk, and crude oil are more likely to be predictive.\n"
   ]
  },
  {
   "cell_type": "markdown",
   "metadata": {},
   "source": [
    "**Discussion:**\n",
    "In the end, most of our analysis upon the datasets turned out that our hypotheses are correct. However, as we calculated the RMSE statistics on models of new COVID cases and commodity prices of some of the food industries, we noticed that there are some datasets showing different patterns compared to the majority of datasets. For example, it is worth noting that the price of orange juice increases while the price of milk decreases. Both of them are non-stable drinks which would experience a decrease in price according to our analysis. Future studies could dive deeper into why orange juice exists as an exception during the outbreak of COVID-19. Alongside with comparing the different commodity prices, we also analyzed the correlation between new COVID cases and the market prices of different foods. We discovered that some of these goods from the food industry, such as rice and orange juice, are more likely to be positively correlated with the new COVID cases, while other goods such as pork, soybeans and crude oil are more likely to be moderately or negatively correlated with the new COVID cases. Future research can also dig deeper into this part to try to figure out why different foods show different correlations with the new cases of the coronavirus.\n",
    "\n",
    "Although our analysis provides critical information regarding changes in the market price under COVID-19, there are limitations in our research process. Since we are not able to collect commodity price data from the same source, there might exist measurement disparities between different commodity prices, which cause potential effects on our final results. Also, since we only include 100 instances in our training set, the model we generate might not be perfectly accurate since the higher variability leads to large errors. This can be reflected in the inconsistency of the model RMSE. \n",
    "\n",
    "The impact of our project on society would be providing valuable information for option dealing. The investor could get insights into the market price under the influence of COVID-19 from our analysis, thus making appropriate investment decisions. At the same time, we find the relationship between the number of COVID-19 cases and the increase in the staple price, which helps policymakers to manage commodity price as well as providing subsidy during the outbreak.\n"
   ]
  },
  {
   "cell_type": "markdown",
   "metadata": {},
   "source": [
    "## Team Contributions"
   ]
  },
  {
   "cell_type": "markdown",
   "metadata": {},
   "source": [
    "- Dennis Wu: topic researching, data collection, data visualization, and model engineering\n",
    "- Yichen Yang: extensively argued about the feasibility of potential analysis topics and helped finalizing the analysis topic; provided detailed description of datasets; proved the good privacy & ethics values of our analysis.\n",
    "- Jialu Sui: searching for potential topics and datasets, finalizing the analysis topic, background research and prior work summary, generalizing conclusions, EC video making\n",
    "- Mingjing Yin: assisted in finalizing analysis topic, proposed research hypothesis, wrote summary and discussion of the research topic; EC video making\n",
    "- Bingzhe Wang: data cleaning, data visualization, wrote part of conclusion and part of discussion"
   ]
  }
 ],
 "metadata": {
  "kernelspec": {
   "display_name": "Python 3",
   "language": "python",
   "name": "python3"
  },
  "language_info": {
   "codemirror_mode": {
    "name": "ipython",
    "version": 3
   },
   "file_extension": ".py",
   "mimetype": "text/x-python",
   "name": "python",
   "nbconvert_exporter": "python",
   "pygments_lexer": "ipython3",
   "version": "3.7.0"
  }
 },
 "nbformat": 4,
 "nbformat_minor": 4
}
