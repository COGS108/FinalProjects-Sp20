{
 "cells": [
  {
   "cell_type": "markdown",
   "metadata": {
    "colab_type": "text",
    "id": "w7YO3CgVBS98"
   },
   "source": [
    "# **COGS 108 - Final Project**"
   ]
  },
  {
   "cell_type": "markdown",
   "metadata": {
    "colab_type": "text",
    "id": "-issfizsBS98"
   },
   "source": [
    "# **Overview**"
   ]
  },
  {
   "cell_type": "markdown",
   "metadata": {
    "colab_type": "text",
    "id": "34BEAqaMlg8c"
   },
   "source": [
    " In this project, we figured out the relationship between the school vaccination rate and the educational resources in each state. We tried to prove whether states with better educational resources will have higher vaccination rate. In order to achieve this goal, we calcualted the average vaccination rate in each state and performed t-test between the average vaccination rate and the selected variables, including school types, the number of schools, and students enrolled. We found out that the number of schools and students enrolled are the two variables that have effects on the vaccination rate; however, the school type(public or private) do not have any affect. Furthermore, we built linear models using different combinations of the selected variables to predict the vaccination rate; however, the result proved that we are unable to find an appropriate model to do so, which is the major limitation of our work."
   ]
  },
  {
   "cell_type": "markdown",
   "metadata": {
    "colab_type": "text",
    "id": "FUIKqykpBS9_"
   },
   "source": [
    "# **Names**\n",
    "\n",
    "\n",
    "- Yao Tong\n",
    "- Jingying Xie\n",
    "- Yaocong Hu\n",
    "- Noel Garcia"
   ]
  },
  {
   "cell_type": "markdown",
   "metadata": {
    "colab_type": "text",
    "id": "Nvr_xG8BBS-A"
   },
   "source": [
    "# **Research Question**"
   ]
  },
  {
   "cell_type": "markdown",
   "metadata": {
    "colab_type": "text",
    "id": "x4jPfT9BBS-A"
   },
   "source": [
    "Do states with better educational resources tend to have higher school vaccination rate? To define educational resources, we want to analyze the amount of schools in that state, the number of students enrolled, and the type of the schools, whether it's private or public.\n"
   ]
  },
  {
   "cell_type": "markdown",
   "metadata": {
    "colab_type": "text",
    "id": "1gOVVQxFBS-B"
   },
   "source": [
    "# **Background and Prior Work**"
   ]
  },
  {
   "cell_type": "markdown",
   "metadata": {
    "colab_type": "text",
    "id": "Lu6iw91vBS-B"
   },
   "source": [
    "__Question of interest__\n",
    "\n",
    "We chose to investigate the relationship between educational resources and school vaccination rate because we did not know if there is a statistically significant relationship between those two. There are two outcomes of people being sufficiently educated about vaccination: supporting vaccination as people realize the benefits vaccines can bring, or oppose vaccination as people also get more knowledge about the side effects and vaccine-related accidents. Besides, based on the resources that we found, this question also has social and political implications and is related to large amounts of social activities and relative policies. Thus, we believed it will be very interesting to search the social and political impacts behind the result. We hoped to develop a deeper understanding towards the education system.\n",
    "\n",
    "__Background information and previous work__\n",
    "\n",
    "With background information available, we observed some states that have better educational resources, including California and Washington, also have high rates of vaccination exemption. For example, the reported vaccine exemption for enrolled students in California is 0.6% of its student population, and is 0.8% in Washington. Surprisingly, states that were considered to have less educational resources tend to have lower vaccine exemption percentages. For example, this number becomes 0.1% in Mississippi and 0% in Arkansas  (reference 1). \n",
    "\n",
    "Based on the data we found in our first reference, we started to analyze the reasons behind those states with better educational resources but lower vaccination rates. The most common reason is active anti-vaccine movements within those states. For example, there are plenty of anti-vaccine movements in California each year. Popular reason for anti-vaccine is personal belief exemptions, which includes ideas such as vaccines will lead to diseases or side effects. People might be afraid that something like the Cutter incident can happen again (reference 5). \n",
    "\n",
    "At the same time, we also found news about protestors linking this movement to the Civil Rights Movement by singing the gospel song “We Shall Overcome” in the California State Capitol. Such events triggered our interests as we realized that school vaccination rates might not only represent the amount of students who are vaccinated, but there might also have a strong social and political implication behind those numbers (reference 2).\n",
    "\n",
    "When we tried to find previous works that have been done in similar topics, we also found one study that analyzed the relationship between parental education and the access to childhood immunization in Spain. Differ from the last reference, this work demonstrated a positive relation between education and vaccination rate. Although this work studied parents’ education level and was not exactly the same as our topic, we thought parental education could also be a large part of education. In this paper, it stated that the higher the mothers’ educational attainment level, the higher the probability of children to be vaccinated. Thus, if we assume that parents are all educated and will stay in their hometown, we can briefly conclude that in places with better educational resources, students are more likely to be vaccinated (reference 3). \n",
    "\n",
    "Obviously, reference 2 and reference 3 somehow contradict one another under certain conditions. This contradiction brought up our interest. Thus, we wanted to study about the relation between education and vaccination. Our assumption was the effect of education overrules the amount of anti-vaccine movement in most cases, and education resources amount was positively related to student vaccination rate.\n",
    "\n",
    "Besides two references showing different points of view, we also found a dataset that might help with our study. This dataset contains variables such as the amount of schools, the amount of enrolled students and the vaccination rate. We used this dataset as our major dataset (reference 4).\n",
    "\n",
    "__Importance of understanding the relationship between education and vaccination__\n",
    "\n",
    "Education affects thinking power and vaccination intends to exempt people from diseases. As demonstrated previously, vaccination rate could be an indicator of social and political ideology. Studying the relation between factors affecting mentality and health can give us a hint about if people tend to value more about ideology and let go of health as they are more educated. After understanding the relationship between education and social health, further study about how to promote both factors can be carried out. \n",
    "\n",
    "__References (include links)__\n",
    "- 1) The amount of enrolled students who are exempt from one or more vaccines in each state: \n",
    "https://www.cdc.gov/vaccines/imz-managers/coverage/schoolvaxview/data-reports/exemptions-trend/index.html\n",
    "- 2) Anti-vaccine protests likening themselves to civil rights activists: https://www.politico.com/story/2019/09/18/california-anti-vaccine-civil-rights-1500976\n",
    "- 3) Paper that discusses the relationship between parental education and childhood immunization in Spain:\n",
    "https://www.ncbi.nlm.nih.gov/pmc/articles/PMC6052631/\n",
    "- 4) Major dataset:\n",
    "https://github.com/WSJ/measles-data\n",
    "- 5) The Cutter Incident\n",
    "https://www.ncbi.nlm.nih.gov/pmc/articles/PMC1383764/\n"
   ]
  },
  {
   "cell_type": "markdown",
   "metadata": {
    "colab_type": "text",
    "id": "Ay_In67KBS-C"
   },
   "source": [
    "# **Hypothesis**\n"
   ]
  },
  {
   "cell_type": "markdown",
   "metadata": {
    "colab_type": "text",
    "id": "2NPr7crRBS-C"
   },
   "source": [
    "We assumed that states with better educational resources would have a higher school vaccination rate. With better educational resources, which we defined as having more schools, more students enrolled and more private schools in this case, states should contain a larger amount of educated population who support vaccination. However, we also expected some outliers such as California and Washington to have lower school vaccination rates because of the anti-vaccine movements within the states. Combining resources we have found, as well as our common sense/life experience, we believed that assuming states with better educational resources to have higher school vaccination rate is reasonable."
   ]
  },
  {
   "cell_type": "markdown",
   "metadata": {
    "colab_type": "text",
    "id": "MKN62iNhBS-D"
   },
   "source": [
    "# **Datasets**"
   ]
  },
  {
   "cell_type": "markdown",
   "metadata": {
    "colab_type": "text",
    "id": "Y76XfXBRBS-D"
   },
   "source": [
    "In order to evaluate which states have better educational resources, we needed data that includes the amount of schools, the number of students enrolled, and the type of the schools, whether it's private or public. Thus, we needed to clean the original dataset to make it contains only the variables we needed. All of the data was uploaded as a csv format so it was easy to import and wrangle. \n",
    "\n"
   ]
  },
  {
   "cell_type": "code",
   "execution_count": 0,
   "metadata": {
    "colab": {},
    "colab_type": "code",
    "id": "TvzS1PrQCheK"
   },
   "outputs": [],
   "source": [
    "#setting \n",
    "%matplotlib inline\n",
    "\n",
    "import numpy as np\n",
    "import pandas as pd\n",
    "import matplotlib.pyplot as plt\n",
    "\n",
    "\n",
    "import seaborn as sns\n",
    "sns.set()\n",
    "sns.set_context('talk')\n",
    "\n",
    "import warnings\n",
    "warnings.filterwarnings('ignore')\n",
    "\n",
    "import patsy\n",
    "import statsmodels.api as sm\n",
    "import scipy.stats as stats\n",
    "from scipy.stats import ttest_ind, chisquare, normaltest"
   ]
  },
  {
   "cell_type": "code",
   "execution_count": 65,
   "metadata": {
    "colab": {
     "base_uri": "https://localhost:8080/",
     "height": 433
    },
    "colab_type": "code",
    "id": "Rh4z19P0BS-D",
    "outputId": "173307af-4aaf-4c6e-dcf6-d299f92973ad"
   },
   "outputs": [
    {
     "name": "stdout",
     "output_type": "stream",
     "text": [
      "Drive already mounted at /content/drive; to attempt to forcibly remount, call drive.mount(\"/content/drive\", force_remount=True).\n"
     ]
    },
    {
     "data": {
      "text/html": [
       "<div>\n",
       "<style scoped>\n",
       "    .dataframe tbody tr th:only-of-type {\n",
       "        vertical-align: middle;\n",
       "    }\n",
       "\n",
       "    .dataframe tbody tr th {\n",
       "        vertical-align: top;\n",
       "    }\n",
       "\n",
       "    .dataframe thead th {\n",
       "        text-align: right;\n",
       "    }\n",
       "</style>\n",
       "<table border=\"1\" class=\"dataframe\">\n",
       "  <thead>\n",
       "    <tr style=\"text-align: right;\">\n",
       "      <th></th>\n",
       "      <th>index</th>\n",
       "      <th>state</th>\n",
       "      <th>year</th>\n",
       "      <th>name</th>\n",
       "      <th>type</th>\n",
       "      <th>city</th>\n",
       "      <th>county</th>\n",
       "      <th>district</th>\n",
       "      <th>enroll</th>\n",
       "      <th>mmr</th>\n",
       "      <th>overall</th>\n",
       "      <th>xrel</th>\n",
       "      <th>xmed</th>\n",
       "      <th>xper</th>\n",
       "    </tr>\n",
       "  </thead>\n",
       "  <tbody>\n",
       "    <tr>\n",
       "      <th>0</th>\n",
       "      <td>1</td>\n",
       "      <td>Arizona</td>\n",
       "      <td>2018-19</td>\n",
       "      <td>A J Mitchell Elementary</td>\n",
       "      <td>Public</td>\n",
       "      <td>Nogales</td>\n",
       "      <td>Santa Cruz</td>\n",
       "      <td>NaN</td>\n",
       "      <td>51.0</td>\n",
       "      <td>100.0</td>\n",
       "      <td>-1.0</td>\n",
       "      <td>NaN</td>\n",
       "      <td>NaN</td>\n",
       "      <td>NaN</td>\n",
       "    </tr>\n",
       "    <tr>\n",
       "      <th>1</th>\n",
       "      <td>2</td>\n",
       "      <td>Arizona</td>\n",
       "      <td>2018-19</td>\n",
       "      <td>Academy Del Sol</td>\n",
       "      <td>Charter</td>\n",
       "      <td>Tucson</td>\n",
       "      <td>Pima</td>\n",
       "      <td>NaN</td>\n",
       "      <td>22.0</td>\n",
       "      <td>100.0</td>\n",
       "      <td>-1.0</td>\n",
       "      <td>NaN</td>\n",
       "      <td>NaN</td>\n",
       "      <td>NaN</td>\n",
       "    </tr>\n",
       "    <tr>\n",
       "      <th>2</th>\n",
       "      <td>3</td>\n",
       "      <td>Arizona</td>\n",
       "      <td>2018-19</td>\n",
       "      <td>Academy Del Sol - Hope</td>\n",
       "      <td>Charter</td>\n",
       "      <td>Tucson</td>\n",
       "      <td>Pima</td>\n",
       "      <td>NaN</td>\n",
       "      <td>85.0</td>\n",
       "      <td>100.0</td>\n",
       "      <td>-1.0</td>\n",
       "      <td>NaN</td>\n",
       "      <td>NaN</td>\n",
       "      <td>NaN</td>\n",
       "    </tr>\n",
       "    <tr>\n",
       "      <th>3</th>\n",
       "      <td>4</td>\n",
       "      <td>Arizona</td>\n",
       "      <td>2018-19</td>\n",
       "      <td>Academy Of Mathematics And Science South</td>\n",
       "      <td>Charter</td>\n",
       "      <td>Phoenix</td>\n",
       "      <td>Maricopa</td>\n",
       "      <td>NaN</td>\n",
       "      <td>60.0</td>\n",
       "      <td>100.0</td>\n",
       "      <td>-1.0</td>\n",
       "      <td>NaN</td>\n",
       "      <td>NaN</td>\n",
       "      <td>NaN</td>\n",
       "    </tr>\n",
       "    <tr>\n",
       "      <th>4</th>\n",
       "      <td>5</td>\n",
       "      <td>Arizona</td>\n",
       "      <td>2018-19</td>\n",
       "      <td>Acclaim Academy</td>\n",
       "      <td>Charter</td>\n",
       "      <td>Phoenix</td>\n",
       "      <td>Maricopa</td>\n",
       "      <td>NaN</td>\n",
       "      <td>43.0</td>\n",
       "      <td>100.0</td>\n",
       "      <td>-1.0</td>\n",
       "      <td>NaN</td>\n",
       "      <td>2.33</td>\n",
       "      <td>2.33</td>\n",
       "    </tr>\n",
       "    <tr>\n",
       "      <th>...</th>\n",
       "      <td>...</td>\n",
       "      <td>...</td>\n",
       "      <td>...</td>\n",
       "      <td>...</td>\n",
       "      <td>...</td>\n",
       "      <td>...</td>\n",
       "      <td>...</td>\n",
       "      <td>...</td>\n",
       "      <td>...</td>\n",
       "      <td>...</td>\n",
       "      <td>...</td>\n",
       "      <td>...</td>\n",
       "      <td>...</td>\n",
       "      <td>...</td>\n",
       "    </tr>\n",
       "    <tr>\n",
       "      <th>46406</th>\n",
       "      <td>1511</td>\n",
       "      <td>Wisconsin</td>\n",
       "      <td>2018-19</td>\n",
       "      <td>Vance Creek Amish</td>\n",
       "      <td>NaN</td>\n",
       "      <td>Prairie Farm</td>\n",
       "      <td>Barron</td>\n",
       "      <td>NaN</td>\n",
       "      <td>NaN</td>\n",
       "      <td>-1.0</td>\n",
       "      <td>-1.0</td>\n",
       "      <td>NaN</td>\n",
       "      <td>NaN</td>\n",
       "      <td>NaN</td>\n",
       "    </tr>\n",
       "    <tr>\n",
       "      <th>46407</th>\n",
       "      <td>1512</td>\n",
       "      <td>Wisconsin</td>\n",
       "      <td>2018-19</td>\n",
       "      <td>Walnut Grove Amish</td>\n",
       "      <td>NaN</td>\n",
       "      <td>Hillpoint</td>\n",
       "      <td>Sauk</td>\n",
       "      <td>NaN</td>\n",
       "      <td>NaN</td>\n",
       "      <td>-1.0</td>\n",
       "      <td>-1.0</td>\n",
       "      <td>NaN</td>\n",
       "      <td>NaN</td>\n",
       "      <td>NaN</td>\n",
       "    </tr>\n",
       "    <tr>\n",
       "      <th>46408</th>\n",
       "      <td>1513</td>\n",
       "      <td>Wisconsin</td>\n",
       "      <td>2018-19</td>\n",
       "      <td>Wauwatosa Virtual Academy</td>\n",
       "      <td>NaN</td>\n",
       "      <td>Wauwatosa</td>\n",
       "      <td>Milwaukee</td>\n",
       "      <td>NaN</td>\n",
       "      <td>NaN</td>\n",
       "      <td>-1.0</td>\n",
       "      <td>-1.0</td>\n",
       "      <td>NaN</td>\n",
       "      <td>NaN</td>\n",
       "      <td>NaN</td>\n",
       "    </tr>\n",
       "    <tr>\n",
       "      <th>46409</th>\n",
       "      <td>1514</td>\n",
       "      <td>Wisconsin</td>\n",
       "      <td>2018-19</td>\n",
       "      <td>Weston Elementary</td>\n",
       "      <td>NaN</td>\n",
       "      <td>Weston</td>\n",
       "      <td>Marathon</td>\n",
       "      <td>NaN</td>\n",
       "      <td>NaN</td>\n",
       "      <td>-1.0</td>\n",
       "      <td>-1.0</td>\n",
       "      <td>NaN</td>\n",
       "      <td>NaN</td>\n",
       "      <td>NaN</td>\n",
       "    </tr>\n",
       "    <tr>\n",
       "      <th>46410</th>\n",
       "      <td>1515</td>\n",
       "      <td>Wisconsin</td>\n",
       "      <td>2018-19</td>\n",
       "      <td>WISE Academy</td>\n",
       "      <td>NaN</td>\n",
       "      <td>Nekoosa</td>\n",
       "      <td>Wood</td>\n",
       "      <td>NaN</td>\n",
       "      <td>NaN</td>\n",
       "      <td>-1.0</td>\n",
       "      <td>-1.0</td>\n",
       "      <td>NaN</td>\n",
       "      <td>NaN</td>\n",
       "      <td>NaN</td>\n",
       "    </tr>\n",
       "  </tbody>\n",
       "</table>\n",
       "<p>46411 rows × 14 columns</p>\n",
       "</div>"
      ],
      "text/plain": [
       "       index      state     year  ... xrel  xmed  xper\n",
       "0          1    Arizona  2018-19  ...  NaN   NaN   NaN\n",
       "1          2    Arizona  2018-19  ...  NaN   NaN   NaN\n",
       "2          3    Arizona  2018-19  ...  NaN   NaN   NaN\n",
       "3          4    Arizona  2018-19  ...  NaN   NaN   NaN\n",
       "4          5    Arizona  2018-19  ...  NaN  2.33  2.33\n",
       "...      ...        ...      ...  ...  ...   ...   ...\n",
       "46406   1511  Wisconsin  2018-19  ...  NaN   NaN   NaN\n",
       "46407   1512  Wisconsin  2018-19  ...  NaN   NaN   NaN\n",
       "46408   1513  Wisconsin  2018-19  ...  NaN   NaN   NaN\n",
       "46409   1514  Wisconsin  2018-19  ...  NaN   NaN   NaN\n",
       "46410   1515  Wisconsin  2018-19  ...  NaN   NaN   NaN\n",
       "\n",
       "[46411 rows x 14 columns]"
      ]
     },
     "execution_count": 65,
     "metadata": {
      "tags": []
     },
     "output_type": "execute_result"
    }
   ],
   "source": [
    "#import dataset\n",
    "from google.colab import drive \n",
    "drive.mount('/content/drive')\n",
    "\n",
    "path_schools = '/content/drive/My Drive/Colab Notebooks/data/all-measles-rates.csv'\n",
    "df_schools = pd.read_csv(path_schools) #Data for each individual school\n",
    "\n",
    "path_states = '/content/drive/My Drive/Colab Notebooks/data/state-overviews.csv'\n",
    "df_states = pd.read_csv(path_states) #More generalized data by state counties or state school districts\n",
    "\n",
    "df_schools"
   ]
  },
  {
   "cell_type": "code",
   "execution_count": 0,
   "metadata": {
    "colab": {},
    "colab_type": "code",
    "id": "KOYNmKK_xzcI"
   },
   "outputs": [],
   "source": [
    "#concat two dataframes and store them as df_schools\n",
    "df_schools = pd.concat([df_states, df_schools], ignore_index=True)"
   ]
  },
  {
   "cell_type": "markdown",
   "metadata": {
    "colab_type": "text",
    "id": "wuW-ah9IBS-F"
   },
   "source": [
    "# **Data Cleaning**"
   ]
  },
  {
   "cell_type": "code",
   "execution_count": 0,
   "metadata": {
    "colab": {},
    "colab_type": "code",
    "id": "frhSz_zMifcQ"
   },
   "outputs": [],
   "source": [
    "#standardize the year column\n",
    "def standardize_year(string):\n",
    "    string = str(string)\n",
    "    if '2017-18' in string:\n",
    "        output = '2017'\n",
    "    elif '2018-19' in string:\n",
    "        output = '2018'\n",
    "    elif '2015' in string or '2017' in string or '2018' in string:\n",
    "        output = string\n",
    "    else:\n",
    "        output = np.nan\n",
    "    return output\n"
   ]
  },
  {
   "cell_type": "code",
   "execution_count": 68,
   "metadata": {
    "colab": {
     "base_uri": "https://localhost:8080/",
     "height": 35
    },
    "colab_type": "code",
    "id": "f8y6zLsCi7Gp",
    "outputId": "3cac018d-de36-4b3c-ade3-01f806ec0a41"
   },
   "outputs": [
    {
     "data": {
      "text/plain": [
       "array(['2017', '2018', '2015'], dtype=object)"
      ]
     },
     "execution_count": 68,
     "metadata": {
      "tags": []
     },
     "output_type": "execute_result"
    }
   ],
   "source": [
    "#apply the function and check the result\n",
    "df_schools['year'] = df_schools['year'].apply(standardize_year)\n",
    "df_schools = df_schools.dropna(subset=['year'])\n",
    "df_schools['year'].unique()"
   ]
  },
  {
   "cell_type": "code",
   "execution_count": 0,
   "metadata": {
    "colab": {},
    "colab_type": "code",
    "id": "tVfpqAsX3ng3"
   },
   "outputs": [],
   "source": [
    "#drop the overall == -1 rows\n",
    "def standardize_overall(string):\n",
    "    string = str(string)\n",
    "    if string == '-1.0' or string == '0' or string == 'no' or string == 'nan' or string == '.':\n",
    "        output = np.nan\n",
    "    else:\n",
    "        output = float(string)\n",
    "    return output"
   ]
  },
  {
   "cell_type": "code",
   "execution_count": 0,
   "metadata": {
    "colab": {},
    "colab_type": "code",
    "id": "E2y_5JQA4KYR"
   },
   "outputs": [],
   "source": [
    "#apply the function \n",
    "df_schools['overall'] = df_schools['overall'].apply(standardize_overall)\n"
   ]
  },
  {
   "cell_type": "code",
   "execution_count": 0,
   "metadata": {
    "colab": {},
    "colab_type": "code",
    "id": "zaP9hfs58cRi"
   },
   "outputs": [],
   "source": [
    "#drop the enroll == 0 rows\n",
    "def standardize_enroll(num):\n",
    "    num = str(num)\n",
    "    num = num.replace(\",\", \"\")\n",
    "    if num == '0' or num == 'nan':\n",
    "        output = np.nan\n",
    "    else:\n",
    "        output = float(num)\n",
    "    return output"
   ]
  },
  {
   "cell_type": "code",
   "execution_count": 72,
   "metadata": {
    "colab": {
     "base_uri": "https://localhost:8080/",
     "height": 35
    },
    "colab_type": "code",
    "id": "v8YHzGgT8-kX",
    "outputId": "ac17f7f8-2be2-4bb5-c91f-64d92e99887a"
   },
   "outputs": [
    {
     "data": {
      "text/plain": [
       "array([ 199.,  195.,  212., ..., 1202.,  933.,  789.])"
      ]
     },
     "execution_count": 72,
     "metadata": {
      "tags": []
     },
     "output_type": "execute_result"
    }
   ],
   "source": [
    "#apply the function and check the result\n",
    "df_schools['enroll'] = df_schools['enroll'].apply(standardize_enroll)\n",
    "df_schools['enroll'].unique()"
   ]
  },
  {
   "cell_type": "code",
   "execution_count": 0,
   "metadata": {
    "colab": {},
    "colab_type": "code",
    "id": "YQALYTDMjYHI"
   },
   "outputs": [],
   "source": [
    "# drop rows having no vaccination rate or enrollment data\n",
    "df_schools = df_schools.dropna(subset=['overall'])\n",
    "df_schools = df_schools.dropna(subset=['enroll'])"
   ]
  },
  {
   "cell_type": "code",
   "execution_count": 0,
   "metadata": {
    "colab": {},
    "colab_type": "code",
    "id": "4O0ye-V850C5"
   },
   "outputs": [],
   "source": [
    "#calculate the number of student get vaccination at each school\n",
    "def vaccination_percentage(overallRate, enrollment):\n",
    "    overallRate = float(overallRate)\n",
    "    vaccinated = overallRate * enrollment /100\n",
    "    return vaccinated"
   ]
  },
  {
   "cell_type": "code",
   "execution_count": 0,
   "metadata": {
    "colab": {},
    "colab_type": "code",
    "id": "MwWNd4WJ6iwm"
   },
   "outputs": [],
   "source": [
    "#apply the function to a new column named vac_num\n",
    "df_schools['vac_num'] = df_schools.apply(lambda x: vaccination_percentage(x['overall'], x['enroll']), axis=1)"
   ]
  },
  {
   "cell_type": "code",
   "execution_count": 0,
   "metadata": {
    "colab": {},
    "colab_type": "code",
    "id": "SWsWSs1n8OPf"
   },
   "outputs": [],
   "source": [
    "#calculate vaccination rate of each state\n",
    "temp = df_schools.groupby(['state']).sum()\n",
    "rate = temp['vac_num']/temp['enroll']\n",
    "df_state_vac = pd.DataFrame(data = rate)\n"
   ]
  },
  {
   "cell_type": "code",
   "execution_count": 0,
   "metadata": {
    "colab": {},
    "colab_type": "code",
    "id": "qIzsWeQB7_wO"
   },
   "outputs": [],
   "source": [
    "#create a new datafram with only state name and vaccination rate\n",
    "df_state_vac['enroll'] = temp['enroll'];\n",
    "df_state_vac.reset_index(level=0, inplace=True)\n",
    "df_state_vac.columns = ['state','vaccination_rate','enroll']\n"
   ]
  },
  {
   "cell_type": "code",
   "execution_count": 0,
   "metadata": {
    "colab": {},
    "colab_type": "code",
    "id": "Mrmg2-TvBS-F"
   },
   "outputs": [],
   "source": [
    "#find the number of school in each state and store the school count into the dataframe \"df_state_vac\"\n",
    "df_num_school_each_state = pd.DataFrame(df_schools['state'].value_counts())\n",
    "df_num_school_each_state.reset_index(level=0, inplace=True)\n",
    "df_num_school_each_state = df_num_school_each_state.rename(columns={'state':'count','index': 'state'})\n",
    "df_state_vac['school_count'] = df_num_school_each_state['count']"
   ]
  },
  {
   "cell_type": "code",
   "execution_count": 79,
   "metadata": {
    "colab": {
     "base_uri": "https://localhost:8080/",
     "height": 631
    },
    "colab_type": "code",
    "id": "DOCm3poakV8V",
    "outputId": "e4ccc96b-22fd-466a-e7ac-2d218a70cb67"
   },
   "outputs": [
    {
     "data": {
      "text/html": [
       "<div>\n",
       "<style scoped>\n",
       "    .dataframe tbody tr th:only-of-type {\n",
       "        vertical-align: middle;\n",
       "    }\n",
       "\n",
       "    .dataframe tbody tr th {\n",
       "        vertical-align: top;\n",
       "    }\n",
       "\n",
       "    .dataframe thead th {\n",
       "        text-align: right;\n",
       "    }\n",
       "</style>\n",
       "<table border=\"1\" class=\"dataframe\">\n",
       "  <thead>\n",
       "    <tr style=\"text-align: right;\">\n",
       "      <th></th>\n",
       "      <th>state</th>\n",
       "      <th>count</th>\n",
       "    </tr>\n",
       "  </thead>\n",
       "  <tbody>\n",
       "    <tr>\n",
       "      <th>0</th>\n",
       "      <td>California</td>\n",
       "      <td>6522</td>\n",
       "    </tr>\n",
       "    <tr>\n",
       "      <th>1</th>\n",
       "      <td>Florida</td>\n",
       "      <td>2303</td>\n",
       "    </tr>\n",
       "    <tr>\n",
       "      <th>2</th>\n",
       "      <td>Ohio</td>\n",
       "      <td>1986</td>\n",
       "    </tr>\n",
       "    <tr>\n",
       "      <th>3</th>\n",
       "      <td>Michigan</td>\n",
       "      <td>1899</td>\n",
       "    </tr>\n",
       "    <tr>\n",
       "      <th>4</th>\n",
       "      <td>North Carolina</td>\n",
       "      <td>1862</td>\n",
       "    </tr>\n",
       "    <tr>\n",
       "      <th>5</th>\n",
       "      <td>Colorado</td>\n",
       "      <td>1315</td>\n",
       "    </tr>\n",
       "    <tr>\n",
       "      <th>6</th>\n",
       "      <td>Virginia</td>\n",
       "      <td>1311</td>\n",
       "    </tr>\n",
       "    <tr>\n",
       "      <th>7</th>\n",
       "      <td>Tennessee</td>\n",
       "      <td>1099</td>\n",
       "    </tr>\n",
       "    <tr>\n",
       "      <th>8</th>\n",
       "      <td>Iowa</td>\n",
       "      <td>882</td>\n",
       "    </tr>\n",
       "    <tr>\n",
       "      <th>9</th>\n",
       "      <td>Oregon</td>\n",
       "      <td>723</td>\n",
       "    </tr>\n",
       "    <tr>\n",
       "      <th>10</th>\n",
       "      <td>Vermont</td>\n",
       "      <td>352</td>\n",
       "    </tr>\n",
       "    <tr>\n",
       "      <th>11</th>\n",
       "      <td>Rhode Island</td>\n",
       "      <td>253</td>\n",
       "    </tr>\n",
       "    <tr>\n",
       "      <th>12</th>\n",
       "      <td>Kentucky</td>\n",
       "      <td>116</td>\n",
       "    </tr>\n",
       "    <tr>\n",
       "      <th>13</th>\n",
       "      <td>Indiana</td>\n",
       "      <td>92</td>\n",
       "    </tr>\n",
       "    <tr>\n",
       "      <th>14</th>\n",
       "      <td>Alabama</td>\n",
       "      <td>65</td>\n",
       "    </tr>\n",
       "    <tr>\n",
       "      <th>15</th>\n",
       "      <td>South Carolina</td>\n",
       "      <td>46</td>\n",
       "    </tr>\n",
       "    <tr>\n",
       "      <th>16</th>\n",
       "      <td>Washington</td>\n",
       "      <td>39</td>\n",
       "    </tr>\n",
       "    <tr>\n",
       "      <th>17</th>\n",
       "      <td>Wyoming</td>\n",
       "      <td>23</td>\n",
       "    </tr>\n",
       "    <tr>\n",
       "      <th>18</th>\n",
       "      <td>New Jersey</td>\n",
       "      <td>21</td>\n",
       "    </tr>\n",
       "  </tbody>\n",
       "</table>\n",
       "</div>"
      ],
      "text/plain": [
       "             state  count\n",
       "0       California   6522\n",
       "1          Florida   2303\n",
       "2             Ohio   1986\n",
       "3         Michigan   1899\n",
       "4   North Carolina   1862\n",
       "5         Colorado   1315\n",
       "6         Virginia   1311\n",
       "7        Tennessee   1099\n",
       "8             Iowa    882\n",
       "9           Oregon    723\n",
       "10         Vermont    352\n",
       "11    Rhode Island    253\n",
       "12        Kentucky    116\n",
       "13         Indiana     92\n",
       "14         Alabama     65\n",
       "15  South Carolina     46\n",
       "16      Washington     39\n",
       "17         Wyoming     23\n",
       "18      New Jersey     21"
      ]
     },
     "execution_count": 79,
     "metadata": {
      "tags": []
     },
     "output_type": "execute_result"
    }
   ],
   "source": [
    "#display the dataframe\n",
    "df_num_school_each_state"
   ]
  },
  {
   "cell_type": "code",
   "execution_count": 80,
   "metadata": {
    "colab": {
     "base_uri": "https://localhost:8080/",
     "height": 631
    },
    "colab_type": "code",
    "id": "tZRuIhD2ARNn",
    "outputId": "c2694c53-1450-4a14-8986-e026a2b812c3"
   },
   "outputs": [
    {
     "data": {
      "text/html": [
       "<div>\n",
       "<style scoped>\n",
       "    .dataframe tbody tr th:only-of-type {\n",
       "        vertical-align: middle;\n",
       "    }\n",
       "\n",
       "    .dataframe tbody tr th {\n",
       "        vertical-align: top;\n",
       "    }\n",
       "\n",
       "    .dataframe thead th {\n",
       "        text-align: right;\n",
       "    }\n",
       "</style>\n",
       "<table border=\"1\" class=\"dataframe\">\n",
       "  <thead>\n",
       "    <tr style=\"text-align: right;\">\n",
       "      <th></th>\n",
       "      <th>state</th>\n",
       "      <th>vaccination_rate</th>\n",
       "      <th>enroll</th>\n",
       "      <th>school_count</th>\n",
       "    </tr>\n",
       "  </thead>\n",
       "  <tbody>\n",
       "    <tr>\n",
       "      <th>0</th>\n",
       "      <td>Alabama</td>\n",
       "      <td>0.925208</td>\n",
       "      <td>137539.0</td>\n",
       "      <td>6522</td>\n",
       "    </tr>\n",
       "    <tr>\n",
       "      <th>1</th>\n",
       "      <td>California</td>\n",
       "      <td>0.944350</td>\n",
       "      <td>541908.0</td>\n",
       "      <td>2303</td>\n",
       "    </tr>\n",
       "    <tr>\n",
       "      <th>2</th>\n",
       "      <td>Colorado</td>\n",
       "      <td>0.888362</td>\n",
       "      <td>70154.0</td>\n",
       "      <td>1986</td>\n",
       "    </tr>\n",
       "    <tr>\n",
       "      <th>3</th>\n",
       "      <td>Florida</td>\n",
       "      <td>0.934401</td>\n",
       "      <td>425313.0</td>\n",
       "      <td>1899</td>\n",
       "    </tr>\n",
       "    <tr>\n",
       "      <th>4</th>\n",
       "      <td>Indiana</td>\n",
       "      <td>0.553604</td>\n",
       "      <td>93849.0</td>\n",
       "      <td>1862</td>\n",
       "    </tr>\n",
       "    <tr>\n",
       "      <th>5</th>\n",
       "      <td>Iowa</td>\n",
       "      <td>0.979704</td>\n",
       "      <td>786521.0</td>\n",
       "      <td>1315</td>\n",
       "    </tr>\n",
       "    <tr>\n",
       "      <th>6</th>\n",
       "      <td>Kentucky</td>\n",
       "      <td>0.948716</td>\n",
       "      <td>50301.0</td>\n",
       "      <td>1311</td>\n",
       "    </tr>\n",
       "    <tr>\n",
       "      <th>7</th>\n",
       "      <td>Michigan</td>\n",
       "      <td>0.929716</td>\n",
       "      <td>116922.0</td>\n",
       "      <td>1099</td>\n",
       "    </tr>\n",
       "    <tr>\n",
       "      <th>8</th>\n",
       "      <td>New Jersey</td>\n",
       "      <td>0.961229</td>\n",
       "      <td>107619.0</td>\n",
       "      <td>882</td>\n",
       "    </tr>\n",
       "    <tr>\n",
       "      <th>9</th>\n",
       "      <td>North Carolina</td>\n",
       "      <td>0.965922</td>\n",
       "      <td>226196.0</td>\n",
       "      <td>723</td>\n",
       "    </tr>\n",
       "    <tr>\n",
       "      <th>10</th>\n",
       "      <td>Ohio</td>\n",
       "      <td>0.892115</td>\n",
       "      <td>131805.0</td>\n",
       "      <td>352</td>\n",
       "    </tr>\n",
       "    <tr>\n",
       "      <th>11</th>\n",
       "      <td>Oregon</td>\n",
       "      <td>0.926355</td>\n",
       "      <td>41206.0</td>\n",
       "      <td>253</td>\n",
       "    </tr>\n",
       "    <tr>\n",
       "      <th>12</th>\n",
       "      <td>Rhode Island</td>\n",
       "      <td>0.958187</td>\n",
       "      <td>21885.0</td>\n",
       "      <td>116</td>\n",
       "    </tr>\n",
       "    <tr>\n",
       "      <th>13</th>\n",
       "      <td>South Carolina</td>\n",
       "      <td>0.938354</td>\n",
       "      <td>58474.0</td>\n",
       "      <td>92</td>\n",
       "    </tr>\n",
       "    <tr>\n",
       "      <th>14</th>\n",
       "      <td>Tennessee</td>\n",
       "      <td>0.948233</td>\n",
       "      <td>151760.0</td>\n",
       "      <td>65</td>\n",
       "    </tr>\n",
       "    <tr>\n",
       "      <th>15</th>\n",
       "      <td>Vermont</td>\n",
       "      <td>0.936038</td>\n",
       "      <td>61052.0</td>\n",
       "      <td>46</td>\n",
       "    </tr>\n",
       "    <tr>\n",
       "      <th>16</th>\n",
       "      <td>Virginia</td>\n",
       "      <td>0.933643</td>\n",
       "      <td>94739.0</td>\n",
       "      <td>39</td>\n",
       "    </tr>\n",
       "    <tr>\n",
       "      <th>17</th>\n",
       "      <td>Washington</td>\n",
       "      <td>0.857203</td>\n",
       "      <td>83236.0</td>\n",
       "      <td>23</td>\n",
       "    </tr>\n",
       "    <tr>\n",
       "      <th>18</th>\n",
       "      <td>Wyoming</td>\n",
       "      <td>0.657272</td>\n",
       "      <td>7445.0</td>\n",
       "      <td>21</td>\n",
       "    </tr>\n",
       "  </tbody>\n",
       "</table>\n",
       "</div>"
      ],
      "text/plain": [
       "             state  vaccination_rate    enroll  school_count\n",
       "0          Alabama          0.925208  137539.0          6522\n",
       "1       California          0.944350  541908.0          2303\n",
       "2         Colorado          0.888362   70154.0          1986\n",
       "3          Florida          0.934401  425313.0          1899\n",
       "4          Indiana          0.553604   93849.0          1862\n",
       "5             Iowa          0.979704  786521.0          1315\n",
       "6         Kentucky          0.948716   50301.0          1311\n",
       "7         Michigan          0.929716  116922.0          1099\n",
       "8       New Jersey          0.961229  107619.0           882\n",
       "9   North Carolina          0.965922  226196.0           723\n",
       "10            Ohio          0.892115  131805.0           352\n",
       "11          Oregon          0.926355   41206.0           253\n",
       "12    Rhode Island          0.958187   21885.0           116\n",
       "13  South Carolina          0.938354   58474.0            92\n",
       "14       Tennessee          0.948233  151760.0            65\n",
       "15         Vermont          0.936038   61052.0            46\n",
       "16        Virginia          0.933643   94739.0            39\n",
       "17      Washington          0.857203   83236.0            23\n",
       "18         Wyoming          0.657272    7445.0            21"
      ]
     },
     "execution_count": 80,
     "metadata": {
      "tags": []
     },
     "output_type": "execute_result"
    }
   ],
   "source": [
    "#add two columns: vaccination_rate and enroll\n",
    "df_state_vac.set_index('state')\n",
    "df_state_vac"
   ]
  },
  {
   "cell_type": "markdown",
   "metadata": {
    "colab_type": "text",
    "id": "KeutFSbNBS-H"
   },
   "source": [
    "# **Data Visualization** "
   ]
  },
  {
   "cell_type": "markdown",
   "metadata": {
    "colab_type": "text",
    "id": "tmMecxF3sLQN"
   },
   "source": [
    "The plot \"Enrollment and Vaccination Rate\" demonstrates the vaccination rate in each state and the number of enrolled student in each state.  The plot \"School Number and Vaccination Rate\" demonstrates the vaccination rate in each state and the number of school in each state. For better visualization, state names in the x-axis are replaced by indexes. "
   ]
  },
  {
   "cell_type": "code",
   "execution_count": 81,
   "metadata": {
    "colab": {
     "base_uri": "https://localhost:8080/",
     "height": 599
    },
    "colab_type": "code",
    "id": "hfuQ0xxkNaTt",
    "outputId": "33cd3e4a-2997-4d61-d7e7-d8de0c5690f8"
   },
   "outputs": [
    {
     "data": {
      "text/plain": [
       "(0.5, 1.2)"
      ]
     },
     "execution_count": 81,
     "metadata": {
      "tags": []
     },
     "output_type": "execute_result"
    },
    {
     "data": {
      "image/png": "[encoded data removed]",
      "text/plain": [
       "<Figure size 432x288 with 2 Axes>"
      ]
     },
     "metadata": {
      "tags": []
     },
     "output_type": "display_data"
    },
    {
     "data": {
      "image/png": "[encoded data removed]",
      "text/plain": [
       "<Figure size 432x288 with 2 Axes>"
      ]
     },
     "metadata": {
      "tags": []
     },
     "output_type": "display_data"
    }
   ],
   "source": [
    "#plot bar plot\n",
    "df_enroll = df_state_vac[['vaccination_rate','enroll']].copy()\n",
    "df_school_count = df_state_vac[['vaccination_rate','school_count']].copy()\n",
    "#df_vac_rate = df_state_vac[['vaccination_rate']]\n",
    "bar_plt_enroll = df_enroll.plot( kind= 'bar', secondary_y= 'enroll', rot= 0, title = 'Enrollment and Vaccination Rate')\n",
    "bar_plt_enroll.set_ylim(0.5,1.2)\n",
    "bar_plt_school_count = df_school_count.plot( kind= 'bar', secondary_y= 'school_count',rot= 0,title = 'School Number and Vaccination Rate')\n",
    "bar_plt_school_count.set_ylim(0.5,1.2)\n"
   ]
  },
  {
   "cell_type": "markdown",
   "metadata": {
    "colab_type": "text",
    "id": "eC9K9ykdBS-K"
   },
   "source": [
    "# **Data Analysis & Results**"
   ]
  },
  {
   "cell_type": "markdown",
   "metadata": {
    "colab_type": "text",
    "id": "19e9yuOu7ZQq"
   },
   "source": [
    "##School Counts"
   ]
  },
  {
   "cell_type": "code",
   "execution_count": 0,
   "metadata": {
    "colab": {},
    "colab_type": "code",
    "id": "8rH1J-OSeayS"
   },
   "outputs": [],
   "source": [
    "#drop null values on on the school type column\n",
    "df_schools_type = df_schools.dropna(subset=['type'])"
   ]
  },
  {
   "cell_type": "code",
   "execution_count": 83,
   "metadata": {
    "colab": {
     "base_uri": "https://localhost:8080/",
     "height": 467
    },
    "colab_type": "code",
    "id": "K9PepcQ_jKGZ",
    "outputId": "699b2d40-731d-4beb-cd09-1edba2ab7b29"
   },
   "outputs": [
    {
     "data": {
      "text/html": [
       "<div>\n",
       "<style scoped>\n",
       "    .dataframe tbody tr th:only-of-type {\n",
       "        vertical-align: middle;\n",
       "    }\n",
       "\n",
       "    .dataframe tbody tr th {\n",
       "        vertical-align: top;\n",
       "    }\n",
       "\n",
       "    .dataframe thead th {\n",
       "        text-align: right;\n",
       "    }\n",
       "</style>\n",
       "<table border=\"1\" class=\"dataframe\">\n",
       "  <thead>\n",
       "    <tr style=\"text-align: right;\">\n",
       "      <th></th>\n",
       "      <th>index</th>\n",
       "      <th>state</th>\n",
       "      <th>year</th>\n",
       "      <th>county/district</th>\n",
       "      <th>enroll</th>\n",
       "      <th>mmr</th>\n",
       "      <th>overall</th>\n",
       "      <th>xmed</th>\n",
       "      <th>xper</th>\n",
       "      <th>xrel</th>\n",
       "      <th>name</th>\n",
       "      <th>type</th>\n",
       "      <th>city</th>\n",
       "      <th>county</th>\n",
       "      <th>district</th>\n",
       "      <th>vac_num</th>\n",
       "    </tr>\n",
       "  </thead>\n",
       "  <tbody>\n",
       "    <tr>\n",
       "      <th>4476</th>\n",
       "      <td>1</td>\n",
       "      <td>California</td>\n",
       "      <td>2018</td>\n",
       "      <td>NaN</td>\n",
       "      <td>137.0</td>\n",
       "      <td>99.00</td>\n",
       "      <td>96.00</td>\n",
       "      <td>2</td>\n",
       "      <td>NaN</td>\n",
       "      <td>NaN</td>\n",
       "      <td>Abby Reinke Elementary</td>\n",
       "      <td>Public</td>\n",
       "      <td>Temecula</td>\n",
       "      <td>Riverside</td>\n",
       "      <td>NaN</td>\n",
       "      <td>131.5200</td>\n",
       "    </tr>\n",
       "    <tr>\n",
       "      <th>4477</th>\n",
       "      <td>2</td>\n",
       "      <td>California</td>\n",
       "      <td>2018</td>\n",
       "      <td>NaN</td>\n",
       "      <td>135.0</td>\n",
       "      <td>99.00</td>\n",
       "      <td>99.00</td>\n",
       "      <td>1</td>\n",
       "      <td>NaN</td>\n",
       "      <td>NaN</td>\n",
       "      <td>Abraham Lincoln Elementary</td>\n",
       "      <td>Public</td>\n",
       "      <td>Santa Ana</td>\n",
       "      <td>Orange</td>\n",
       "      <td>NaN</td>\n",
       "      <td>133.6500</td>\n",
       "    </tr>\n",
       "    <tr>\n",
       "      <th>4478</th>\n",
       "      <td>3</td>\n",
       "      <td>California</td>\n",
       "      <td>2018</td>\n",
       "      <td>NaN</td>\n",
       "      <td>116.0</td>\n",
       "      <td>99.00</td>\n",
       "      <td>99.00</td>\n",
       "      <td>1</td>\n",
       "      <td>NaN</td>\n",
       "      <td>NaN</td>\n",
       "      <td>Achieve Academy</td>\n",
       "      <td>Public</td>\n",
       "      <td>Oakland</td>\n",
       "      <td>Alameda</td>\n",
       "      <td>NaN</td>\n",
       "      <td>114.8400</td>\n",
       "    </tr>\n",
       "    <tr>\n",
       "      <th>4479</th>\n",
       "      <td>4</td>\n",
       "      <td>California</td>\n",
       "      <td>2018</td>\n",
       "      <td>NaN</td>\n",
       "      <td>100.0</td>\n",
       "      <td>99.00</td>\n",
       "      <td>97.00</td>\n",
       "      <td>NaN</td>\n",
       "      <td>NaN</td>\n",
       "      <td>NaN</td>\n",
       "      <td>Ada Clegg Elementary</td>\n",
       "      <td>Public</td>\n",
       "      <td>Huntington Beach</td>\n",
       "      <td>Orange</td>\n",
       "      <td>NaN</td>\n",
       "      <td>97.0000</td>\n",
       "    </tr>\n",
       "    <tr>\n",
       "      <th>4480</th>\n",
       "      <td>5</td>\n",
       "      <td>California</td>\n",
       "      <td>2018</td>\n",
       "      <td>NaN</td>\n",
       "      <td>121.0</td>\n",
       "      <td>99.00</td>\n",
       "      <td>99.00</td>\n",
       "      <td>1</td>\n",
       "      <td>NaN</td>\n",
       "      <td>NaN</td>\n",
       "      <td>Adam William Laird Elementary</td>\n",
       "      <td>Public</td>\n",
       "      <td>Santa Maria</td>\n",
       "      <td>Santa Barbara</td>\n",
       "      <td>NaN</td>\n",
       "      <td>119.7900</td>\n",
       "    </tr>\n",
       "    <tr>\n",
       "      <th>...</th>\n",
       "      <td>...</td>\n",
       "      <td>...</td>\n",
       "      <td>...</td>\n",
       "      <td>...</td>\n",
       "      <td>...</td>\n",
       "      <td>...</td>\n",
       "      <td>...</td>\n",
       "      <td>...</td>\n",
       "      <td>...</td>\n",
       "      <td>...</td>\n",
       "      <td>...</td>\n",
       "      <td>...</td>\n",
       "      <td>...</td>\n",
       "      <td>...</td>\n",
       "      <td>...</td>\n",
       "      <td>...</td>\n",
       "    </tr>\n",
       "    <tr>\n",
       "      <th>38648</th>\n",
       "      <td>1983</td>\n",
       "      <td>Ohio</td>\n",
       "      <td>2018</td>\n",
       "      <td>NaN</td>\n",
       "      <td>71.0</td>\n",
       "      <td>19.72</td>\n",
       "      <td>16.90</td>\n",
       "      <td>NaN</td>\n",
       "      <td>NaN</td>\n",
       "      <td>NaN</td>\n",
       "      <td>Roberts Academy: A Paideia Learning Community</td>\n",
       "      <td>Public</td>\n",
       "      <td>Cincinnati</td>\n",
       "      <td>Hamilton</td>\n",
       "      <td>NaN</td>\n",
       "      <td>11.9990</td>\n",
       "    </tr>\n",
       "    <tr>\n",
       "      <th>38649</th>\n",
       "      <td>1984</td>\n",
       "      <td>Ohio</td>\n",
       "      <td>2018</td>\n",
       "      <td>NaN</td>\n",
       "      <td>53.0</td>\n",
       "      <td>18.87</td>\n",
       "      <td>15.09</td>\n",
       "      <td>NaN</td>\n",
       "      <td>NaN</td>\n",
       "      <td>NaN</td>\n",
       "      <td>Silverton Paideia Elementary</td>\n",
       "      <td>Public</td>\n",
       "      <td>Cincinnati</td>\n",
       "      <td>Hamilton</td>\n",
       "      <td>NaN</td>\n",
       "      <td>7.9977</td>\n",
       "    </tr>\n",
       "    <tr>\n",
       "      <th>38650</th>\n",
       "      <td>1985</td>\n",
       "      <td>Ohio</td>\n",
       "      <td>2018</td>\n",
       "      <td>NaN</td>\n",
       "      <td>69.0</td>\n",
       "      <td>18.84</td>\n",
       "      <td>15.94</td>\n",
       "      <td>NaN</td>\n",
       "      <td>NaN</td>\n",
       "      <td>NaN</td>\n",
       "      <td>College Hill Fundamental Academy</td>\n",
       "      <td>Public</td>\n",
       "      <td>Cincinnati</td>\n",
       "      <td>Hamilton</td>\n",
       "      <td>NaN</td>\n",
       "      <td>10.9986</td>\n",
       "    </tr>\n",
       "    <tr>\n",
       "      <th>38651</th>\n",
       "      <td>1986</td>\n",
       "      <td>Ohio</td>\n",
       "      <td>2018</td>\n",
       "      <td>NaN</td>\n",
       "      <td>48.0</td>\n",
       "      <td>16.67</td>\n",
       "      <td>16.67</td>\n",
       "      <td>NaN</td>\n",
       "      <td>NaN</td>\n",
       "      <td>NaN</td>\n",
       "      <td>Riverside</td>\n",
       "      <td>Public</td>\n",
       "      <td>Cleveland</td>\n",
       "      <td>Cuyahoga</td>\n",
       "      <td>NaN</td>\n",
       "      <td>8.0016</td>\n",
       "    </tr>\n",
       "    <tr>\n",
       "      <th>38652</th>\n",
       "      <td>1987</td>\n",
       "      <td>Ohio</td>\n",
       "      <td>2018</td>\n",
       "      <td>NaN</td>\n",
       "      <td>14.0</td>\n",
       "      <td>14.29</td>\n",
       "      <td>14.29</td>\n",
       "      <td>NaN</td>\n",
       "      <td>NaN</td>\n",
       "      <td>NaN</td>\n",
       "      <td>Gilead Christian</td>\n",
       "      <td>Private</td>\n",
       "      <td>Mount Gilead</td>\n",
       "      <td>Morrow</td>\n",
       "      <td>NaN</td>\n",
       "      <td>2.0006</td>\n",
       "    </tr>\n",
       "  </tbody>\n",
       "</table>\n",
       "<p>9823 rows × 16 columns</p>\n",
       "</div>"
      ],
      "text/plain": [
       "       index       state  year  ...         county  district   vac_num\n",
       "4476       1  California  2018  ...      Riverside       NaN  131.5200\n",
       "4477       2  California  2018  ...         Orange       NaN  133.6500\n",
       "4478       3  California  2018  ...        Alameda       NaN  114.8400\n",
       "4479       4  California  2018  ...         Orange       NaN   97.0000\n",
       "4480       5  California  2018  ...  Santa Barbara       NaN  119.7900\n",
       "...      ...         ...   ...  ...            ...       ...       ...\n",
       "38648   1983        Ohio  2018  ...       Hamilton       NaN   11.9990\n",
       "38649   1984        Ohio  2018  ...       Hamilton       NaN    7.9977\n",
       "38650   1985        Ohio  2018  ...       Hamilton       NaN   10.9986\n",
       "38651   1986        Ohio  2018  ...       Cuyahoga       NaN    8.0016\n",
       "38652   1987        Ohio  2018  ...         Morrow       NaN    2.0006\n",
       "\n",
       "[9823 rows x 16 columns]"
      ]
     },
     "execution_count": 83,
     "metadata": {
      "tags": []
     },
     "output_type": "execute_result"
    }
   ],
   "source": [
    "#diaplay the dataframe\n",
    "df_schools_type"
   ]
  },
  {
   "cell_type": "code",
   "execution_count": 0,
   "metadata": {
    "colab": {},
    "colab_type": "code",
    "id": "DdzureT1rC9h"
   },
   "outputs": [],
   "source": [
    "#compare distributions: t-test\n",
    "t_val = stats.ttest_ind(df_state_vac['vaccination_rate'], df_state_vac['school_count'])[0]\n",
    "p_val = stats.ttest_ind(df_state_vac['vaccination_rate'], df_state_vac['school_count'])[1]"
   ]
  },
  {
   "cell_type": "code",
   "execution_count": 85,
   "metadata": {
    "colab": {
     "base_uri": "https://localhost:8080/",
     "height": 35
    },
    "colab_type": "code",
    "id": "w6Agfu_6rELt",
    "outputId": "9b4d759a-e85c-4c44-99c8-696069d3638b"
   },
   "outputs": [
    {
     "name": "stdout",
     "output_type": "stream",
     "text": [
      "Data Science accomplished, there is a significant difference!\n"
     ]
    }
   ],
   "source": [
    "#check if statistical test passes significance, using an alpha value of 0.01. This code provided.\n",
    "if p_val < 0.01:\n",
    "    print('Data Science accomplished, there is a significant difference!')\n",
    "else:\n",
    "    print('There is NOT a significant difference!')"
   ]
  },
  {
   "cell_type": "code",
   "execution_count": 0,
   "metadata": {
    "colab": {},
    "colab_type": "code",
    "id": "BbG71X-wc5Ka"
   },
   "outputs": [],
   "source": [
    "#check confounding variable: private vs. public school, pull put data we will use\n",
    "vac_public = df_schools_type['mmr'][df_schools_type['type'] == 'Public']\n",
    "vac_private = df_schools_type['mmr'][df_schools_type['type'] == 'Private']"
   ]
  },
  {
   "cell_type": "code",
   "execution_count": 87,
   "metadata": {
    "colab": {
     "base_uri": "https://localhost:8080/",
     "height": 52
    },
    "colab_type": "code",
    "id": "0hNTn7IkmJge",
    "outputId": "ebb2be62-c903-444f-fd97-5a796ea44599"
   },
   "outputs": [
    {
     "name": "stdout",
     "output_type": "stream",
     "text": [
      "Average vaccination rate of public schools is \t 94.80 %\n",
      "Average vaccination rate of private schools is \t 92.18 %\n"
     ]
    }
   ],
   "source": [
    "#find avg values and print the result\n",
    "avg_vac_public = vac_public.mean()\n",
    "avg_vac_private = vac_private.mean()\n",
    "print('Average vaccination rate of public schools is \\t {:2.2f} %'.format(avg_vac_public))\n",
    "print('Average vaccination rate of private schools is \\t {:2.2f} %'.format(avg_vac_private))"
   ]
  },
  {
   "cell_type": "code",
   "execution_count": 0,
   "metadata": {
    "colab": {},
    "colab_type": "code",
    "id": "T-43ZexPrEJk"
   },
   "outputs": [],
   "source": [
    "#check confounding variable\n",
    "n_public = df_schools_type[df_schools_type['type'] == 'Public']['type'].value_counts()\n",
    "n_private = df_schools_type[df_schools_type['type'] == 'Private']['type'].value_counts()"
   ]
  },
  {
   "cell_type": "code",
   "execution_count": 0,
   "metadata": {
    "colab": {},
    "colab_type": "code",
    "id": "RZnk8FUlrEH2"
   },
   "outputs": [],
   "source": [
    "#ratio of public and private schools\n",
    "r_public = n_public / (n_public + n_private)\n",
    "r_public = 1 - r_public"
   ]
  },
  {
   "cell_type": "code",
   "execution_count": 90,
   "metadata": {
    "colab": {
     "base_uri": "https://localhost:8080/",
     "height": 35
    },
    "colab_type": "code",
    "id": "zXICRNsFrEFP",
    "outputId": "c2838814-9fd3-45be-b95a-c3047aceeeae"
   },
   "outputs": [
    {
     "name": "stdout",
     "output_type": "stream",
     "text": [
      "There is a significant difference in ratios!\n"
     ]
    }
   ],
   "source": [
    "#run a chi-squared test of the difference of ratios of categorical data between groups:\n",
    "chisq, p_val_chi = stats.chisquare(np.array([n_public.values, n_private.values]), axis=None)\n",
    "if p_val_chi < 0.01:\n",
    "    print('There is a significant difference in ratios!')"
   ]
  },
  {
   "cell_type": "code",
   "execution_count": 0,
   "metadata": {
    "colab": {},
    "colab_type": "code",
    "id": "Z-LwkYTiuQIZ"
   },
   "outputs": [],
   "source": [
    "#create a pivot table \n",
    "pv = pd.pivot_table(df_schools_type, values='mmr', index=['state', 'type'])"
   ]
  },
  {
   "cell_type": "code",
   "execution_count": 92,
   "metadata": {
    "colab": {
     "base_uri": "https://localhost:8080/",
     "height": 263
    },
    "colab_type": "code",
    "id": "pgXW4e2DuQGT",
    "outputId": "07007a56-8e18-43b0-b296-8b9ce21cfaa6"
   },
   "outputs": [
    {
     "data": {
      "text/html": [
       "<div>\n",
       "<style scoped>\n",
       "    .dataframe tbody tr th:only-of-type {\n",
       "        vertical-align: middle;\n",
       "    }\n",
       "\n",
       "    .dataframe tbody tr th {\n",
       "        vertical-align: top;\n",
       "    }\n",
       "\n",
       "    .dataframe thead th {\n",
       "        text-align: right;\n",
       "    }\n",
       "</style>\n",
       "<table border=\"1\" class=\"dataframe\">\n",
       "  <thead>\n",
       "    <tr style=\"text-align: right;\">\n",
       "      <th></th>\n",
       "      <th></th>\n",
       "      <th>mmr</th>\n",
       "    </tr>\n",
       "    <tr>\n",
       "      <th>state</th>\n",
       "      <th>type</th>\n",
       "      <th></th>\n",
       "    </tr>\n",
       "  </thead>\n",
       "  <tbody>\n",
       "    <tr>\n",
       "      <th rowspan=\"2\" valign=\"top\">California</th>\n",
       "      <th>Private</th>\n",
       "      <td>92.948335</td>\n",
       "    </tr>\n",
       "    <tr>\n",
       "      <th>Public</th>\n",
       "      <td>96.013980</td>\n",
       "    </tr>\n",
       "    <tr>\n",
       "      <th rowspan=\"2\" valign=\"top\">Colorado</th>\n",
       "      <th>Kindergarten</th>\n",
       "      <td>94.399969</td>\n",
       "    </tr>\n",
       "    <tr>\n",
       "      <th>Private</th>\n",
       "      <td>95.384118</td>\n",
       "    </tr>\n",
       "    <tr>\n",
       "      <th rowspan=\"2\" valign=\"top\">Ohio</th>\n",
       "      <th>Private</th>\n",
       "      <td>90.388490</td>\n",
       "    </tr>\n",
       "    <tr>\n",
       "      <th>Public</th>\n",
       "      <td>90.457269</td>\n",
       "    </tr>\n",
       "  </tbody>\n",
       "</table>\n",
       "</div>"
      ],
      "text/plain": [
       "                               mmr\n",
       "state      type                   \n",
       "California Private       92.948335\n",
       "           Public        96.013980\n",
       "Colorado   Kindergarten  94.399969\n",
       "           Private       95.384118\n",
       "Ohio       Private       90.388490\n",
       "           Public        90.457269"
      ]
     },
     "execution_count": 92,
     "metadata": {
      "tags": []
     },
     "output_type": "execute_result"
    }
   ],
   "source": [
    "#display the pivot table\n",
    "pv"
   ]
  },
  {
   "cell_type": "markdown",
   "metadata": {
    "colab_type": "text",
    "id": "qJzMa3vvvmj1"
   },
   "source": [
    "Our initial hypothesis suggested that there is a significant difference between the vaccination rate and the amount of shcools in different states. However, further analyses suggested that there may be a confounding variable, as there is also a significantly different school type balance among states.\n",
    "Checking the average vaccination rate, per state, split up by school types, suggests there may not be a difference among states, other than what is explained by school types."
   ]
  },
  {
   "cell_type": "code",
   "execution_count": 93,
   "metadata": {
    "colab": {
     "base_uri": "https://localhost:8080/",
     "height": 69
    },
    "colab_type": "code",
    "id": "FTecQYwwDksD",
    "outputId": "8677025c-3b30-4005-ab89-23e0b41e02cd"
   },
   "outputs": [
    {
     "name": "stdout",
     "output_type": "stream",
     "text": [
      "(19, 2)\n",
      "Model M1:\n",
      "Vaccination rate = 0.898756 + 0.000000 * school count\n"
     ]
    }
   ],
   "source": [
    "#1st order model: school_count\n",
    "data = df_state_vac.values\n",
    "X = df_state_vac['school_count']\n",
    "Y = df_state_vac['vaccination_rate']\n",
    "ones = np.ones(len(X))\n",
    "A1 = np.vstack([ones, X]) \n",
    "A1 = A1.T\n",
    "print(A1.shape)\n",
    "\n",
    "#Solve for w, the weight vector\n",
    "w1 = np.linalg.lstsq(A1, Y, rcond=None)[0]\n",
    "\n",
    "print(\"Model M1:\")\n",
    "print(\"Vaccination rate = %f + %f * school count\" % (w1[0],w1[1]))"
   ]
  },
  {
   "cell_type": "code",
   "execution_count": 94,
   "metadata": {
    "colab": {
     "base_uri": "https://localhost:8080/",
     "height": 69
    },
    "colab_type": "code",
    "id": "nGRrWYp0ByuN",
    "outputId": "a38c461b-bb53-4910-f930-936b0c86ac17"
   },
   "outputs": [
    {
     "name": "stdout",
     "output_type": "stream",
     "text": [
      "(19, 3)\n",
      "Model M2:\n",
      "Vaccination rate = 0.906581 + -0.000015 * school count + 0.000000 * school count^2\n"
     ]
    }
   ],
   "source": [
    "#2nd order model: school_count\n",
    "squares = np.square(X)\n",
    "A2 = np.vstack([ones, X, squares]) \n",
    "A2 = A2.T\n",
    "print(A2.shape)\n",
    "\n",
    "#Solve for w, the weight vector\n",
    "w2 = np.linalg.lstsq(A2, Y, rcond=None)[0]\n",
    "\n",
    "print(\"Model M2:\")\n",
    "print(\"Vaccination rate = %f + %f * school count + %f * school count^2\" % (w2[0],w2[1],w2[2]))\n"
   ]
  },
  {
   "cell_type": "code",
   "execution_count": 95,
   "metadata": {
    "colab": {
     "base_uri": "https://localhost:8080/",
     "height": 330
    },
    "colab_type": "code",
    "id": "LNg94TO2D2cv",
    "outputId": "d8ed65a5-1111-4849-98a9-407e44d7bc83"
   },
   "outputs": [
    {
     "data": {
      "image/png": "[encoded data removed]",
      "text/plain": [
       "<Figure size 432x288 with 3 Axes>"
      ]
     },
     "metadata": {
      "tags": []
     },
     "output_type": "display_data"
    }
   ],
   "source": [
    "#Compare two models with plotting\n",
    "#Create a smooth set of X values for plotting the model\n",
    "lineinput = np.linspace(-10, 7000, 46)\n",
    "\n",
    "#Send the X values for plotting through the linear model\n",
    "ones = np.ones(len(lineinput))\n",
    "squares = np.square(lineinput)\n",
    "A_1 = np.vstack([ones, lineinput]) \n",
    "A_2 = np.vstack([ones, lineinput, squares]) \n",
    "\n",
    "yplot1 = np.matmul(A_1.T, w1)\n",
    "yplot2 = np.matmul(A_2.T, w2)\n",
    "\n",
    "#Plot the data along with the model\n",
    "fig, ax = plt.subplots(nrows=1, ncols=2)\n",
    "ax[0].plot(X, Y, 'o', label='Data')\n",
    "ax[0].plot(lineinput, yplot1, label='Model 1')\n",
    "ax[0].legend()\n",
    "\n",
    "ax[1].plot(X, Y, 'o', label='Data')\n",
    "ax[1].plot(lineinput, yplot2, label='Model 2')\n",
    "ax[1].legend()\n",
    "\n",
    "fig.add_subplot(111, frameon=False)\n",
    "plt.tick_params(labelcolor='none', top=False, bottom=False, left=False, right=False)\n",
    "plt.xlabel(\"School Counts\")\n",
    "plt.ylabel(\"Vaccination Rate\")\n",
    "fig.suptitle('School Counts 1st and 2nd order')\n",
    "\n",
    "plt.show()"
   ]
  },
  {
   "cell_type": "code",
   "execution_count": 0,
   "metadata": {
    "colab": {},
    "colab_type": "code",
    "id": "bTCrIbZs9xje"
   },
   "outputs": [],
   "source": [
    "#OLS linear model\n",
    "outcome_1 = patsy.dmatrices('vaccination_rate~school_count',df_state_vac)[0]\n",
    "predictors_1 = patsy.dmatrices('vaccination_rate~school_count',df_state_vac)[1]\n",
    "mod_1 = sm.OLS(outcome_1, predictors_1)\n",
    "res_1 = mod_1.fit()"
   ]
  },
  {
   "cell_type": "code",
   "execution_count": 97,
   "metadata": {
    "colab": {
     "base_uri": "https://localhost:8080/",
     "height": 485
    },
    "colab_type": "code",
    "id": "jBKSKXtz-BIR",
    "outputId": "6a03ffb4-af4e-49a2-8c5b-fdf5228657c2"
   },
   "outputs": [
    {
     "name": "stdout",
     "output_type": "stream",
     "text": [
      "                            OLS Regression Results                            \n",
      "==============================================================================\n",
      "Dep. Variable:       vaccination_rate   R-squared:                       0.000\n",
      "Model:                            OLS   Adj. R-squared:                 -0.059\n",
      "Method:                 Least Squares   F-statistic:                 3.855e-05\n",
      "Date:                Tue, 09 Jun 2020   Prob (F-statistic):              0.995\n",
      "Time:                        08:06:38   Log-Likelihood:                 15.717\n",
      "No. Observations:                  19   AIC:                            -27.43\n",
      "Df Residuals:                      17   BIC:                            -25.54\n",
      "Df Model:                           1                                         \n",
      "Covariance Type:            nonrobust                                         \n",
      "================================================================================\n",
      "                   coef    std err          t      P>|t|      [0.025      0.975]\n",
      "--------------------------------------------------------------------------------\n",
      "Intercept        0.8988      0.032     28.153      0.000       0.831       0.966\n",
      "school_count  1.071e-07   1.73e-05      0.006      0.995   -3.63e-05    3.65e-05\n",
      "==============================================================================\n",
      "Omnibus:                       25.120   Durbin-Watson:                   1.827\n",
      "Prob(Omnibus):                  0.000   Jarque-Bera (JB):               33.553\n",
      "Skew:                          -2.375   Prob(JB):                     5.18e-08\n",
      "Kurtosis:                       7.452   Cond. No.                     2.30e+03\n",
      "==============================================================================\n",
      "\n",
      "Warnings:\n",
      "[1] Standard Errors assume that the covariance matrix of the errors is correctly specified.\n",
      "[2] The condition number is large, 2.3e+03. This might indicate that there are\n",
      "strong multicollinearity or other numerical problems.\n"
     ]
    }
   ],
   "source": [
    "# Print out the summary results of the model fitting\n",
    "print(res_1.summary())"
   ]
  },
  {
   "cell_type": "markdown",
   "metadata": {
    "colab_type": "text",
    "id": "uXPUnC5pFBZo"
   },
   "source": [
    "We tried to use the 1st order and 2nd order linear models to predict the vaccination rate, however, it seems that both models are not ideal. Then, we tried to use another variable to find the approperiate model."
   ]
  },
  {
   "cell_type": "markdown",
   "metadata": {
    "colab_type": "text",
    "id": "o5H8loIj2CsN"
   },
   "source": [
    "##Number of Students Enrolled"
   ]
  },
  {
   "cell_type": "code",
   "execution_count": 0,
   "metadata": {
    "colab": {},
    "colab_type": "code",
    "id": "eppcDRlyzdrs"
   },
   "outputs": [],
   "source": [
    "#compare distributions: t-test\n",
    "t_val = stats.ttest_ind(df_state_vac['vaccination_rate'], df_state_vac['enroll'])[0]\n",
    "p_val = stats.ttest_ind(df_state_vac['vaccination_rate'], df_state_vac['enroll'])[1]\n"
   ]
  },
  {
   "cell_type": "code",
   "execution_count": 99,
   "metadata": {
    "colab": {
     "base_uri": "https://localhost:8080/",
     "height": 35
    },
    "colab_type": "code",
    "id": "cMplE7Kg7lIX",
    "outputId": "feb00034-5cc6-498f-b69b-1e5631bb2513"
   },
   "outputs": [
    {
     "name": "stdout",
     "output_type": "stream",
     "text": [
      "Data Science accomplished, there is a significant difference!\n"
     ]
    }
   ],
   "source": [
    "#check if statistical test passes significance, using an alpha value of 0.01. This code provided.\n",
    "if p_val < 0.01:\n",
    "    print('Data Science accomplished, there is a significant difference!')\n",
    "else:\n",
    "    print('There is NOT a significant difference!')"
   ]
  },
  {
   "cell_type": "code",
   "execution_count": 100,
   "metadata": {
    "colab": {
     "base_uri": "https://localhost:8080/",
     "height": 69
    },
    "colab_type": "code",
    "id": "DFhVC4z3Fc8C",
    "outputId": "ef6601dc-d005-4284-e06f-8222a8b2eae8"
   },
   "outputs": [
    {
     "name": "stdout",
     "output_type": "stream",
     "text": [
      "(19, 2)\n",
      "Model M1:\n",
      "Vaccination rate = 0.872597 + 0.000000 * student enrolled\n"
     ]
    }
   ],
   "source": [
    "#1st order model: students enrolled\n",
    "data = df_state_vac.values\n",
    "X = df_state_vac['enroll']\n",
    "Y = df_state_vac['vaccination_rate']\n",
    "ones = np.ones(len(X))\n",
    "A1 = np.vstack([ones, X]) \n",
    "A1 = A1.T\n",
    "print(A1.shape)\n",
    "\n",
    "## Solve for w, the weight vector\n",
    "w1 = np.linalg.lstsq(A1, Y, rcond=None)[0]\n",
    "\n",
    "print(\"Model M1:\")\n",
    "print(\"Vaccination rate = %f + %f * student enrolled\" % (w1[0],w1[1]))\n"
   ]
  },
  {
   "cell_type": "code",
   "execution_count": 101,
   "metadata": {
    "colab": {
     "base_uri": "https://localhost:8080/",
     "height": 69
    },
    "colab_type": "code",
    "id": "YgHKWxseDOkj",
    "outputId": "57e37584-0338-4f6b-f144-edf23723ff1c"
   },
   "outputs": [
    {
     "name": "stdout",
     "output_type": "stream",
     "text": [
      "(19, 3)\n",
      "Model M2:\n",
      "Vaccination rate = 0.853629 + 0.000000 * students enrolled + -0.000000 * students enrolled^2\n"
     ]
    }
   ],
   "source": [
    "#2nd order model: students enrolled\n",
    "squares = np.square(X)\n",
    "A2 = np.vstack([ones, X, squares]) \n",
    "A2 = A2.T\n",
    "print(A2.shape)\n",
    "\n",
    "## Solve for w, the weight vector\n",
    "w2 = np.linalg.lstsq(A2, Y, rcond=None)[0]\n",
    "\n",
    "print(\"Model M2:\")\n",
    "print(\"Vaccination rate = %f + %f * students enrolled + %f * students enrolled^2\" % (w2[0],w2[1],w2[2]))\n"
   ]
  },
  {
   "cell_type": "code",
   "execution_count": 102,
   "metadata": {
    "colab": {
     "base_uri": "https://localhost:8080/",
     "height": 330
    },
    "colab_type": "code",
    "id": "084utMr9FtD1",
    "outputId": "99b99e1c-017f-43dd-c0a3-0efd42cad40c"
   },
   "outputs": [
    {
     "data": {
      "image/png": "[encoded data removed]",
      "text/plain": [
       "<Figure size 432x288 with 3 Axes>"
      ]
     },
     "metadata": {
      "tags": []
     },
     "output_type": "display_data"
    }
   ],
   "source": [
    "#Compare two models with plotting\n",
    "#Create a smooth set of X values for plotting the model\n",
    "lineinput = np.linspace(-10, 7000, 46)\n",
    "\n",
    "#Send the X values for plotting through the linear model\n",
    "ones = np.ones(len(lineinput))\n",
    "squares = np.square(lineinput)\n",
    "A_1 = np.vstack([ones, lineinput]) \n",
    "A_2 = np.vstack([ones, lineinput, squares]) \n",
    "\n",
    "yplot1 = np.matmul(A_1.T, w1)\n",
    "yplot2 = np.matmul(A_2.T, w2)\n",
    "\n",
    "#Plot the data along with the model\n",
    "fig, ax = plt.subplots(nrows=1, ncols=2)\n",
    "ax[0].plot(X, Y, 'o', label='Data')\n",
    "ax[0].plot(lineinput, yplot1, label='Model 1')\n",
    "ax[0].legend()\n",
    "\n",
    "ax[1].plot(X, Y, 'o', label='Data')\n",
    "ax[1].plot(lineinput, yplot2, label='Model 2')\n",
    "ax[1].legend()\n",
    "\n",
    "fig.add_subplot(111, frameon=False)\n",
    "plt.tick_params(labelcolor='none', top=False, bottom=False, left=False, right=False)\n",
    "plt.xlabel(\"Student enrolled\")\n",
    "plt.ylabel(\"Vaccination Rate\")\n",
    "fig.suptitle('Student enrolled 1st and 2nd order')\n",
    "\n",
    "plt.show()"
   ]
  },
  {
   "cell_type": "code",
   "execution_count": 0,
   "metadata": {
    "colab": {},
    "colab_type": "code",
    "id": "YXyAA7Ek7lM2"
   },
   "outputs": [],
   "source": [
    "#OLS linear model\n",
    "outcome_1 = patsy.dmatrices('vaccination_rate~enroll',df_state_vac)[0]\n",
    "predictors_1 = patsy.dmatrices('vaccination_rate~enroll',df_state_vac)[1]\n",
    "mod_1 = sm.OLS(outcome_1, predictors_1)\n",
    "res_1 = mod_1.fit()"
   ]
  },
  {
   "cell_type": "code",
   "execution_count": 104,
   "metadata": {
    "colab": {
     "base_uri": "https://localhost:8080/",
     "height": 485
    },
    "colab_type": "code",
    "id": "Hv-xlDX87lGc",
    "outputId": "ca646aa3-f4bb-46bb-a0cb-cf489273e764"
   },
   "outputs": [
    {
     "name": "stdout",
     "output_type": "stream",
     "text": [
      "                            OLS Regression Results                            \n",
      "==============================================================================\n",
      "Dep. Variable:       vaccination_rate   R-squared:                       0.083\n",
      "Model:                            OLS   Adj. R-squared:                  0.029\n",
      "Method:                 Least Squares   F-statistic:                     1.539\n",
      "Date:                Tue, 09 Jun 2020   Prob (F-statistic):              0.232\n",
      "Time:                        08:06:40   Log-Likelihood:                 16.540\n",
      "No. Observations:                  19   AIC:                            -29.08\n",
      "Df Residuals:                      17   BIC:                            -27.19\n",
      "Df Model:                           1                                         \n",
      "Covariance Type:            nonrobust                                         \n",
      "==============================================================================\n",
      "                 coef    std err          t      P>|t|      [0.025      0.975]\n",
      "------------------------------------------------------------------------------\n",
      "Intercept      0.8726      0.032     26.895      0.000       0.804       0.941\n",
      "enroll      1.556e-07   1.25e-07      1.240      0.232   -1.09e-07     4.2e-07\n",
      "==============================================================================\n",
      "Omnibus:                       24.154   Durbin-Watson:                   1.384\n",
      "Prob(Omnibus):                  0.000   Jarque-Bera (JB):               31.488\n",
      "Skew:                          -2.281   Prob(JB):                     1.45e-07\n",
      "Kurtosis:                       7.354   Cond. No.                     3.41e+05\n",
      "==============================================================================\n",
      "\n",
      "Warnings:\n",
      "[1] Standard Errors assume that the covariance matrix of the errors is correctly specified.\n",
      "[2] The condition number is large, 3.41e+05. This might indicate that there are\n",
      "strong multicollinearity or other numerical problems.\n"
     ]
    }
   ],
   "source": [
    "# Print out the summary results of the model fitting\n",
    "print(res_1.summary())"
   ]
  },
  {
   "cell_type": "markdown",
   "metadata": {
    "colab_type": "text",
    "id": "cUo2pE1_F9Rk"
   },
   "source": [
    "The 1st and 2nd order linear models were not the best models for both variables to predit the vaccination rate. Thus, we wanted to test the multivariate linear regression with cross validation to see if we can find a better model using both variables."
   ]
  },
  {
   "cell_type": "code",
   "execution_count": 105,
   "metadata": {
    "colab": {
     "base_uri": "https://localhost:8080/",
     "height": 313
    },
    "colab_type": "code",
    "id": "aJ_y90pn_P0m",
    "outputId": "ebe0759b-a9c8-4c0a-f75e-9fd936b46c09"
   },
   "outputs": [
    {
     "name": "stdout",
     "output_type": "stream",
     "text": [
      "vaccination_rate = 0.868913 + -0.000004 * school_count + 0.000000 * enroll\n"
     ]
    },
    {
     "data": {
      "image/png": "[encoded data removed]",
      "text/plain": [
       "<Figure size 432x288 with 1 Axes>"
      ]
     },
     "metadata": {
      "tags": []
     },
     "output_type": "display_data"
    }
   ],
   "source": [
    "#multivariate linear regression with cross validation\n",
    "#traning and testing data 80:20 split\n",
    "msk = np.random.rand(len(df_state_vac)) < 0.8\n",
    "train = df_state_vac[msk]\n",
    "test = df_state_vac[~msk]\n",
    "\n",
    "# Extract the variables\n",
    "y = train['vaccination_rate'].values\n",
    "x1 = train['school_count'].values\n",
    "x2 = train['enroll'].values\n",
    "\n",
    "# Find w\n",
    "ones = np.ones(len(x1))\n",
    "A = np.vstack([ones, x1, x2]) \n",
    "A = A.T\n",
    "w = np.linalg.lstsq(A, y, rcond=None)[0]\n",
    "print(\"vaccination_rate = %f + %f * school_count + %f * enroll\" % (w[0],w[1],w[2]))\n",
    "\n",
    "# Find MSEs and plot \n",
    "SSE = 0\n",
    "ypred = w[0]+x1*w[0]+x2*w[2]\n",
    "for i in ypred-y:\n",
    "    SSE = SSE + i*i\n",
    "MSE = SSE/len(y)\n",
    "   \n",
    "y_test = test['vaccination_rate'].values\n",
    "x1_test = test['school_count'].values\n",
    "x2_test = test['enroll'].values\n",
    "SSE_test = 0\n",
    "ypred_test = w[0]+x1_test*w[0]+x2_test*w[2] \n",
    "for j in ypred_test-y_test:\n",
    "    SSE_test = SSE_test + j*j\n",
    "MSE_test = SSE_test/len(y_test)\n",
    "\n",
    "xx = np.arange(2)\n",
    "SSE = [MSE, MSE_test]\n",
    "plt.bar(xx, MSE)\n",
    "plt.xticks(xx, ('MSE_training','MSE_testing'))\n",
    "plt.show()\n"
   ]
  },
  {
   "cell_type": "markdown",
   "metadata": {
    "colab_type": "text",
    "id": "KuRSmnaWGeho"
   },
   "source": [
    "Large values of MSE for both the training and the testing data are shown, which means the multivariate linear model is not very approperiate to use."
   ]
  },
  {
   "cell_type": "code",
   "execution_count": 0,
   "metadata": {
    "colab": {},
    "colab_type": "code",
    "id": "NYCuzXD67lEH"
   },
   "outputs": [],
   "source": [
    "#Multivariate regression\n",
    "outcome_2 = patsy.dmatrices('vaccination_rate~enroll+school_count',df_state_vac)[0]\n",
    "predictors_2 = patsy.dmatrices('vaccination_rate~enroll+school_count',df_state_vac)[1]\n",
    "mod_2 = sm.OLS(outcome_2, predictors_2)\n",
    "res_2 = mod_2.fit()\n"
   ]
  },
  {
   "cell_type": "code",
   "execution_count": 107,
   "metadata": {
    "colab": {
     "base_uri": "https://localhost:8080/",
     "height": 503
    },
    "colab_type": "code",
    "id": "4KxTmYBM8qI6",
    "outputId": "3a85440f-a9b9-4abb-a5c6-503e67a9ca8a"
   },
   "outputs": [
    {
     "name": "stdout",
     "output_type": "stream",
     "text": [
      "                            OLS Regression Results                            \n",
      "==============================================================================\n",
      "Dep. Variable:       vaccination_rate   R-squared:                       0.088\n",
      "Model:                            OLS   Adj. R-squared:                 -0.026\n",
      "Method:                 Least Squares   F-statistic:                    0.7689\n",
      "Date:                Tue, 09 Jun 2020   Prob (F-statistic):              0.480\n",
      "Time:                        08:06:40   Log-Likelihood:                 16.589\n",
      "No. Observations:                  19   AIC:                            -27.18\n",
      "Df Residuals:                      16   BIC:                            -24.34\n",
      "Df Model:                           2                                         \n",
      "Covariance Type:            nonrobust                                         \n",
      "================================================================================\n",
      "                   coef    std err          t      P>|t|      [0.025      0.975]\n",
      "--------------------------------------------------------------------------------\n",
      "Intercept        0.8766      0.036     24.245      0.000       0.800       0.953\n",
      "enroll        1.646e-07   1.33e-07      1.240      0.233   -1.17e-07    4.46e-07\n",
      "school_count -5.013e-06   1.75e-05     -0.287      0.778   -4.21e-05    3.21e-05\n",
      "==============================================================================\n",
      "Omnibus:                       23.622   Durbin-Watson:                   1.373\n",
      "Prob(Omnibus):                  0.000   Jarque-Bera (JB):               29.949\n",
      "Skew:                          -2.256   Prob(JB):                     3.14e-07\n",
      "Kurtosis:                       7.181   Cond. No.                     3.70e+05\n",
      "==============================================================================\n",
      "\n",
      "Warnings:\n",
      "[1] Standard Errors assume that the covariance matrix of the errors is correctly specified.\n",
      "[2] The condition number is large, 3.7e+05. This might indicate that there are\n",
      "strong multicollinearity or other numerical problems.\n"
     ]
    }
   ],
   "source": [
    "# Print out the results \n",
    "print(res_2.summary())"
   ]
  },
  {
   "cell_type": "markdown",
   "metadata": {
    "colab_type": "text",
    "id": "LTXOFPyVBS-M"
   },
   "source": [
    "# **Ethics & Privacy**"
   ]
  },
  {
   "cell_type": "markdown",
   "metadata": {
    "colab_type": "text",
    "id": "EfPA9RH2BS-M"
   },
   "source": [
    "Open source data with only school names and locations was used in the project, so we did not need to consider data privacy. However, we did realize that our finding could be involved in ethical situations. For example, we found out that the school type did not have any effect on the vaccination rate on each state. This contradicts with our initial thinking since there is always a perception that private schools, with higher accessibility towards vaccines and medical resources, will have higher vaccination rates than public schools. In reality, higher vaccination rate/accessibility towards medical resouces are often used by private schools as a slogan to attract or misguide students and parents. Thus, we did realize that part of our findings can be involved in ethical issues as we tend to reveal the truth behind the education system."
   ]
  },
  {
   "cell_type": "markdown",
   "metadata": {
    "colab_type": "text",
    "id": "_KZchynnBS-M"
   },
   "source": [
    "# **Conclusion & Discussion**"
   ]
  },
  {
   "cell_type": "markdown",
   "metadata": {
    "colab_type": "text",
    "id": "RKDxe6-O_B46"
   },
   "source": [
    "  **Conclusion:** We successfully predicted that the number of schools and the number of students enrolled have significant influenece on the vaccination rate on each state; however, we failed to predict that the school type does not have any significant influenece. Thus, we did not support our hypothesis completely since we predicted that all three factors will affect the vaccination rate of the state, and states with higher values of all three factors will have higher vaccination rate. Furthermore, we also found that based on our OLS analysis, it is unable to predict the vaccination rate based on the three factors or the any combinations of them.\n",
    "\n",
    "  \n",
    " **Discussion:** When making some linear models using Ordinary Least Squares (OLS), we found that all of the factors, incuding the combinations of them, are not able to predict the vaccination rate since they all have p-values greater than 0.001. This is the major limitation of our project. However, we thought it is normal to obtain such result since the vaccination rate is hard to predict based on limited factors, and a linear model might not be the best one to use. At the same time, we also searched for other religious and political factors that we belived also have an impact on the vaccination rate. For example, states such as Wyoming and Indiana, which had the lowest vaccination rates, are also states that have larger religious population. \n",
    " \n",
    "One surprising finding is that the anti-vaccination movements do not have large impact on the vaccination rate of the state. For example, states such as California and Florida, which have large amount of anti-vaccination movements each year, have very high vaccination rates compared to states which have less active anti-vaccination movements.\n",
    "\n",
    "As a result, although we did not find the approperiate model to predict the school vaccination rate, we did find out that factors such as the number of students enrolled and the number of schools in each state will affect the vaccination rate. The type of schools, however, will not affect the vaccination rate. Thus, the perception that private schools tend to have higher vaccination rate is more likely a misleading slogan that is used to benefit certain groups in the education system.\n",
    "\n"
   ]
  },
  {
   "cell_type": "markdown",
   "metadata": {
    "colab_type": "text",
    "id": "mmZK0rl2789Z"
   },
   "source": [
    "# **Team Contribution**\n"
   ]
  },
  {
   "cell_type": "markdown",
   "metadata": {
    "colab_type": "text",
    "id": "uqMw0iQ58mC2"
   },
   "source": [
    "- Yao Tong: Overview, Research Question, Background & Prior Work, Hypothesis, Data Analysis & Results, Ethics & Privacy, Conclusion & Discussion\n",
    "- Jingying Xie: Background & Prior Work, Hypothesis, Datasets, Data Cleaning, Data Visualization \n",
    "- Yaocong Hu\n",
    "- Noel Garcia"
   ]
  }
 ],
 "metadata": {
  "colab": {
   "collapsed_sections": [],
   "name": "FinalProject_group51_colab.ipynb",
   "provenance": []
  },
  "kernelspec": {
   "display_name": "Python 3",
   "language": "python",
   "name": "python3"
  },
  "language_info": {
   "codemirror_mode": {
    "name": "ipython",
    "version": 3
   },
   "file_extension": ".py",
   "mimetype": "text/x-python",
   "name": "python",
   "nbconvert_exporter": "python",
   "pygments_lexer": "ipython3",
   "version": "3.7.0"
  }
 },
 "nbformat": 4,
 "nbformat_minor": 1
}
