{
 "cells": [
  {
   "cell_type": "markdown",
   "metadata": {},
   "source": [
    "# COGS 108 - Final Project "
   ]
  },
  {
   "cell_type": "markdown",
   "metadata": {},
   "source": [
    "# Overview"
   ]
  },
  {
   "cell_type": "markdown",
   "metadata": {},
   "source": [
    "Our project goal was to identify the most relevant categories for potential candidates to study to have the best shot at winning on the game show, Jeopardy. We used a dataset with over 200,000 observations and over 20,000 individual categories. After analyzing our data, we came to the conclusion that with the data and information we had, we were not able to create a comprehensive list of top categories a potential candidate could study to have a higher chance of success at Jeopardy."
   ]
  },
  {
   "cell_type": "markdown",
   "metadata": {},
   "source": [
    "# Names\n",
    "\n",
    "- Patricia Chang\n",
    "- Samantha Cheung\n",
    "- Marcus Martinez\n",
    "- Gavin Tran\n"
   ]
  },
  {
   "cell_type": "markdown",
   "metadata": {},
   "source": [
    "# Research Question"
   ]
  },
  {
   "cell_type": "markdown",
   "metadata": {},
   "source": [
    "For someone who is new to Jeopardy, can we determine the most relevant categories for them to study?"
   ]
  },
  {
   "cell_type": "markdown",
   "metadata": {},
   "source": [
    "## Background and Prior Work"
   ]
  },
  {
   "cell_type": "markdown",
   "metadata": {},
   "source": [
    "An explanation on the history of Jeopardy:\n",
    "- Jeopardy is the longest-running American television game show and to this day still attracts people of all ages. Jeopardy is a trivia game show in the form of answer-question. An answer is provided and the contestant has to ask a question that correlates to the given answer. From host Alex Trebek being diagnosed with stage 4 pancreatic cancer to one of our own UCSD undergraduate students representing us in the 2020 Jeopardy College Bowl, this show has resonated with many people across the nation.\n",
    "- In each Jeopardy episode, three contestants compete in three rounds to earn the most money by correctly asking questions that correspond with the given answer clue. If a contestant answers a clue correctly, the amount associated with that clue gets added to their total, but if they answer incorrectly, the amount is subtracted. During the first round of Jeopardy, there are six different categories introduced, with five questions in each category that are worth $200-$1,000. The next round, called Double-Jeopardy, introduces six new categories, with five questions in each category that are now worth $400-$2,000. For the final round, contestants are shown a new category and make wagers to their current earnings before seeing the clue. The clue is then revealed and contestants have sixty seconds to answer. The answers are read out loud and the amount that the contestant wagered is either added or subtracted from his/her total depending on whether or not his/her answer is correct. \n",
    "- The thirteen categories that appear in each episode of Jeopardy are known to cover a wide range of topics from ancient history to pop culture to English grammar. In order to garner the most points, contestants need to be experts in any possible topic that could show up as a category. \n",
    "\n",
    "Relevance to general population, how to actually apply to play and benefits:\n",
    "- To apply to be a contestant of the show, one has to meet minimum eligibility requirements, such as being at least 18 years old and not having appeared as a contestant before, in addition to passing the Jeopardy! Test. If you meet the aforementioned requirements you are then placed in a random selection process to attend an audition. After auditioning, you could be selected to be a contestant on the show up; attending an audition does not guarantee a chance of competing on the show. \n",
    "https://www.jeopardy.com/be-on-j/faqs#faq_section_1291\n",
    "\n",
    "http://j-archive.com/\n",
    "- J-archive is a fan made archive of Jeopardy questions. This archive covers every question in each season of Jeopardy up to the most recent episode, showing the value, category and contestants for that episode. There are no specific findings on this site.\n",
    "\n",
    "https://jeopardyquestions.com\n",
    "- Similar to J-archive, jeopardyquestions.com is a fan-sourced archive of Jeopardy questions and answers which is updated daily. It offers a list of questions and popular categories but there is no information offered about the air date, frequency or value of each question.\n",
    "\n",
    "https://public.tableau.com/shared/DDBHN4YGP?:display_count=yes&:showVizHome=no\n",
    "- This is a table found online which utilizes J-archive to analyse the most common questions and answers. This table is similar to what we are trying to achieve in our dataset, though this table only goes up to 2012 so data may differ. At the time this was made, the most popular answers were China and Australia, and the most popular categories were “Before & After” and “Science”.\n"
   ]
  },
  {
   "cell_type": "markdown",
   "metadata": {},
   "source": [
    "# Hypothesis\n"
   ]
  },
  {
   "cell_type": "markdown",
   "metadata": {},
   "source": [
    "We hypothesize that there are specific topics more frequently asked, and that by studying these topics more, it can increase a competitor’s likelihood of winning. Based on existing episodes of Jeopardy, there may be a trend of recurring topics such as the Bible, the periodic table, American history, geography, popular trends, etc. \n",
    "\n",
    "Using this knowledge, we thought it would be interesting to analyze Jeopardy categories from past episodes to find the top categories which a potential candidate would study to have a higher chance at success in the game."
   ]
  },
  {
   "cell_type": "markdown",
   "metadata": {},
   "source": [
    "# Dataset(s)"
   ]
  },
  {
   "cell_type": "markdown",
   "metadata": {},
   "source": [
    "- Dataset Name: JEOPARDY_CSV.csv\n",
    "- Link to the dataset: https://www.kaggle.com/tunguz/200000-jeopardy-questions\n",
    "- Number of observations: 216930 \n",
    "\n",
    "> We are using a dataset from Kaggle, with the file name JEOPARDY_CSV.csv that includes the airdate, episode number, question, answer, category, value for each clue, and round the clue appeared in for episodes of Jeopardy that aired from 1984 to 2012. This dataset has 216,930 observations\n"
   ]
  },
  {
   "cell_type": "markdown",
   "metadata": {},
   "source": [
    "# Setup"
   ]
  },
  {
   "cell_type": "code",
   "execution_count": 1,
   "metadata": {},
   "outputs": [],
   "source": [
    "# imports\n",
    "%matplotlib inline\n",
    "\n",
    "import numpy as np\n",
    "import pandas as pd\n",
    "import matplotlib.pyplot as plt"
   ]
  },
  {
   "cell_type": "markdown",
   "metadata": {},
   "source": [
    "# Data Cleaning"
   ]
  },
  {
   "cell_type": "markdown",
   "metadata": {},
   "source": [
    "First we read in the jeopardy dataset and stored it in __csv_data__. We decided to drop the __Show Number__ category because we did not need to know the specific episode number when analyzing popular categories. We also decided to drop the __Round__ column because there would always be six categories in either round of Jeopardy and we took into account all categories in an episode. \n",
    "\n",
    "Renamed columns in dataset to be consistent: Because Jeopardy is a Answer-Question formatted show, the label for __Question__ corresponded to the correct response and __Answer__ corresponded to the clue given to the contestant. We thought that these labels were difficult to quickly understand so we switched the column names to be more comprehensive."
   ]
  },
  {
   "cell_type": "code",
   "execution_count": 2,
   "metadata": {},
   "outputs": [],
   "source": [
    "csv_data = pd.read_csv('JEOPARDY_CSV.csv')"
   ]
  },
  {
   "cell_type": "code",
   "execution_count": 3,
   "metadata": {},
   "outputs": [],
   "source": [
    "csv_data = csv_data.drop(['Show Number',' Round',],axis=1)\n",
    "\n",
    "csv_data = csv_data.rename(\n",
    "    {\n",
    "     ' Air Date':'Air Date',\n",
    "     ' Category':'Category',\n",
    "     ' Question':'Question',\n",
    "     ' Answer':'Answer',\n",
    "     ' Value':'Value'\n",
    "    },axis=1)"
   ]
  },
  {
   "cell_type": "code",
   "execution_count": 4,
   "metadata": {},
   "outputs": [],
   "source": [
    "# Reorder columns and sort\n",
    "csv_data = csv_data[['Air Date','Category','Question','Answer','Value']]"
   ]
  },
  {
   "cell_type": "markdown",
   "metadata": {},
   "source": [
    "To clean the __Value__ column we removed missing values and removed dollar signs and commas."
   ]
  },
  {
   "cell_type": "code",
   "execution_count": 5,
   "metadata": {},
   "outputs": [
    {
     "data": {
      "text/plain": [
       "0    $200\n",
       "1    $200\n",
       "2    $200\n",
       "3    $200\n",
       "4    $200\n",
       "Name: Value, dtype: object"
      ]
     },
     "execution_count": 5,
     "metadata": {},
     "output_type": "execute_result"
    }
   ],
   "source": [
    "csv_data['Value'].head()"
   ]
  },
  {
   "cell_type": "code",
   "execution_count": 6,
   "metadata": {},
   "outputs": [],
   "source": [
    "#Clean values to remove nulls, dollar signs and values with commas. Also casts the values to integers.\n",
    "csv_data['Cleaned_Values'] = csv_data['Value'].replace('None', np.nan)\n",
    "csv_data = csv_data.drop(['Value'], axis=1).dropna()\n",
    "csv_data['Cleaned_Values'] = csv_data['Cleaned_Values'].str.replace('$', '').str.replace(',', '').astype(int)"
   ]
  },
  {
   "cell_type": "markdown",
   "metadata": {},
   "source": [
    "To clean the __Air Date__ column we changed the strng variation of the date into the year, then we made a column for the corresponding decade."
   ]
  },
  {
   "cell_type": "code",
   "execution_count": 7,
   "metadata": {},
   "outputs": [],
   "source": [
    "# Change the string variation of date into the year\n",
    "csv_data['Air Date'] = csv_data['Air Date'].apply(lambda x: int(x[0:4]))"
   ]
  },
  {
   "cell_type": "code",
   "execution_count": 8,
   "metadata": {},
   "outputs": [],
   "source": [
    "# Func to place each year in correct decade\n",
    "def fix_years(yr):\n",
    "    if (yr >= 1984) & (yr <= 1989):\n",
    "        return 0\n",
    "    elif (yr >= 1990) & (yr <= 1999):\n",
    "        return 1\n",
    "    elif (yr >= 2000) & (yr <= 2009):\n",
    "        return 2\n",
    "    elif (yr >= 2010) & (yr <= 2012):\n",
    "        return 3"
   ]
  },
  {
   "cell_type": "markdown",
   "metadata": {},
   "source": [
    "### A Quick Look At Categories by Year"
   ]
  },
  {
   "cell_type": "markdown",
   "metadata": {},
   "source": [
    "Before we start analyzing the data, we'll take a look at the amount of categories per year using the code below."
   ]
  },
  {
   "cell_type": "code",
   "execution_count": 9,
   "metadata": {},
   "outputs": [],
   "source": [
    "# This function returns the common Jeopardy categories between year 1 and year 2(interval)\n",
    "\n",
    "# common categories between year 1 and year 2\n",
    "def common_cats(year1, year2):\n",
    "    cats1 = list(csv_data[csv_data['Air Date'] == year1]['Category'].unique()) # get list of categories in year 1\n",
    "        \n",
    "    for yearX in range(year1,year2 + 1):\n",
    "        cats2 = list(csv_data[csv_data['Air Date'] == yearX]['Category'].unique()) # get list of categories in year 2\n",
    "        cats1 = [value for value in cats1 if value in cats2] # intersect year 1 and year 2 categories\n",
    "    \n",
    "    return cats1"
   ]
  },
  {
   "cell_type": "markdown",
   "metadata": {},
   "source": [
    "Using the __common_cats__ function, we can identify the number of categories that carry over from one year to the next in comparison to the amount of categories that appeared that year."
   ]
  },
  {
   "cell_type": "code",
   "execution_count": 10,
   "metadata": {},
   "outputs": [],
   "source": [
    "total_categories = [] # array: each index represents a year, each element equals categories in that year\n",
    "for i in range(1984,2013):\n",
    "    total_categories.append(len(csv_data[csv_data['Air Date'] == i]['Category'].unique())) # append number of unique categories\n",
    "\n",
    "carry_overs = [0] # array: each index represents a year, each element equals categories that carried over to the next year\n",
    "for i in range(1984,2012):\n",
    "    carry_overs.insert(0, len(common_cats(i,i+1))) # prepend number of carry over categories"
   ]
  },
  {
   "cell_type": "code",
   "execution_count": 11,
   "metadata": {},
   "outputs": [
    {
     "data": {
      "text/plain": [
       "Text(0.5, 0, 'Year')"
      ]
     },
     "execution_count": 11,
     "metadata": {},
     "output_type": "execute_result"
    },
    {
     "data": {
      "image/png": "[encoded data removed]",
      "text/plain": [
       "<Figure size 864x432 with 1 Axes>"
      ]
     },
     "metadata": {
      "needs_background": "light"
     },
     "output_type": "display_data"
    }
   ],
   "source": [
    "# visualize\n",
    "years = range(1984,2013)\n",
    "legend=['Categories per year','Categories that carried over to the next year']\n",
    "fig, ax = plt.subplots(figsize = [12,6])\n",
    "ax.bar(years, total_categories, width = .5)\n",
    "ax.bar(years, carry_overs, color='orange', width = .5)\n",
    "ax.set_xticks(years)\n",
    "ax.tick_params(axis='x',labelrotation=45)\n",
    "ax.legend(legend,loc='upper left')\n",
    "ax.set_title('Categories and Carry Overs Per Year')\n",
    "ax.set_ylabel('Total Categories')\n",
    "ax.set_xlabel('Year')"
   ]
  },
  {
   "cell_type": "markdown",
   "metadata": {},
   "source": [
    "- On the x-axis we have the year and on the y-axis we have the amount of categories.\n",
    "- The blue bars represent the total number of categories that appeared that year.\n",
    "- The overlapping yellow bars represents \"Carry Over\" categories, which are categories that appeared in that year and reappeared the following year."
   ]
  },
  {
   "cell_type": "code",
   "execution_count": 12,
   "metadata": {},
   "outputs": [
    {
     "name": "stdout",
     "output_type": "stream",
     "text": [
      "Average number of categories that carried over:\t 167.89285714285714 \n",
      "\n",
      "Categories that appeared every year between 1984 and 1996: 1 \n",
      " ['ISLANDS'] \n",
      "\n",
      "Categories that appeared every year between 1997 and 2011: 11 \n",
      " ['COMMON BONDS', '4-LETTER WORDS', 'RHYME TIME', '10-LETTER WORDS', 'COLLEGES & UNIVERSITIES', 'SCIENCE', 'BEFORE & AFTER', 'ANNUAL EVENTS', 'STUPID ANSWERS', 'OPERA', 'CLASSICAL MUSIC'] \n",
      "\n",
      "Common categories between 1984 and 2012: 0 \n",
      " []\n"
     ]
    }
   ],
   "source": [
    "print('Average number of categories that carried over:\\t', np.mean(carry_overs[:-1]),'\\n')\n",
    "print('Categories that appeared every year between 1984 and 1996:', len(common_cats(1984,1996)), '\\n', common_cats(1984,1996), '\\n')\n",
    "print('Categories that appeared every year between 1997 and 2011:', len(common_cats(1997,2011)), '\\n', common_cats(1997,2011), '\\n')\n",
    "print('Common categories between 1984 and 2012:', len(common_cats(1984,2011)), '\\n', common_cats(1984,2011))"
   ]
  },
  {
   "cell_type": "markdown",
   "metadata": {},
   "source": [
    "Using the __common_cats__ function made earlier, we can see there is only 1 common category from 1984 to 1996, 11 common categories from 1997 to 2011, and no common categories between 1984 and 2012. We see that the majority of categories that do carry over are __not__ the same. Additionally, this shows that a large amount of unique categories are introduced every year. An approach to dealing with a number of unique categories would be to relabel each of them by identifying key-words in the category name."
   ]
  },
  {
   "cell_type": "code",
   "execution_count": 13,
   "metadata": {},
   "outputs": [
    {
     "name": "stdout",
     "output_type": "stream",
     "text": [
      "Number of unique categories:  26951\n"
     ]
    }
   ],
   "source": [
    "print('Number of unique categories: ', len(csv_data['Category'].unique()))"
   ]
  },
  {
   "cell_type": "markdown",
   "metadata": {},
   "source": [
    "### Extensive labeling is BAD:\n",
    "\n",
    "After looking into the dataset, there are too many different categories and there are new categories being made every year that are never repeated again, the generalized categories would not encompass these new ones. We decided not to use this relabeling approach because it would bias our dataset based on which keywords we looked for within the questions. Even if we looked at the top categories, the number of top categories would only make up a small portion of the total number of categories. By labeling categories ourselves, we could be generalizing too much and reorganizing questions that may not fall under the proper categories. If new categories were being created every year, we were worried that a relabeling approach would not be able to catch everything, therefore deciding to use the original Jeopardy categories given. We do some attempt of this later in the data analysis."
   ]
  },
  {
   "cell_type": "markdown",
   "metadata": {},
   "source": [
    "# Data Analysis & Results"
   ]
  },
  {
   "cell_type": "markdown",
   "metadata": {},
   "source": [
    "For Data Analysis, we initially wanted to use TF-IDF / Bag of Words on the categories and questions columns, trying to see if we could accurately label the question to the category. A few issues that made us stray away from this path is similar to something we previously stated where each year has new unique categories which drastically affects the accuracy of our model. Fixing this issue in itself another problem because any form of relabelling approaches again leads to generalizability issues where our findings and methods of relabelling will not work for any other Jeopardy dataset."
   ]
  },
  {
   "cell_type": "code",
   "execution_count": 14,
   "metadata": {},
   "outputs": [],
   "source": [
    "# Basic labeling to potentially capture more history labels\n",
    "def label(label):\n",
    "\n",
    "    if ('HIST' in label):\n",
    "        return 'HISTORY'\n",
    "\n",
    "    else:\n",
    "        return label"
   ]
  },
  {
   "cell_type": "code",
   "execution_count": 15,
   "metadata": {},
   "outputs": [],
   "source": [
    "# Apply the previous function to our Category column\n",
    "csv_data['Category'] = csv_data['Category'].apply(label)"
   ]
  },
  {
   "cell_type": "code",
   "execution_count": 16,
   "metadata": {},
   "outputs": [],
   "source": [
    "def hist_finder(x):\n",
    "    if x== 'HISTORY':\n",
    "        return 1\n",
    "    return 0\n",
    "\n",
    "csv_data['HIST'] = csv_data['Category'].apply(hist_finder)"
   ]
  },
  {
   "cell_type": "code",
   "execution_count": 17,
   "metadata": {
    "scrolled": true
   },
   "outputs": [
    {
     "data": {
      "text/plain": [
       "Category\n",
       "HISTORY                   3579144\n",
       "BEFORE & AFTER             491900\n",
       "SCIENCE                    361221\n",
       "LITERATURE                 344900\n",
       "OPERA                      254300\n",
       "                           ...   \n",
       "LIONS & TIGERS & BEARS        100\n",
       "PLACES YOU FLY OVER           100\n",
       "HOORAY FOR HOLLYWOOD          100\n",
       "ALL ABOUT CORN                100\n",
       "HAND SIGNALS                  100\n",
       "Name: Cleaned_Values, Length: 26570, dtype: int64"
      ]
     },
     "execution_count": 17,
     "metadata": {},
     "output_type": "execute_result"
    }
   ],
   "source": [
    "# Apply the previous function to our Category column\n",
    "csv_data.groupby('Category')['Cleaned_Values'].sum().sort_values(ascending = False)"
   ]
  },
  {
   "cell_type": "code",
   "execution_count": 18,
   "metadata": {},
   "outputs": [],
   "source": [
    "#Hypothesis testing using difference in means\n",
    "n_repetitions = 500\n",
    "\n",
    "means = []\n",
    "for i in range(n_repetitions):\n",
    "    #Shuffling the Cleaned Values column\n",
    "    shuffled_col = (\n",
    "        csv_data['Cleaned_Values']\n",
    "        .sample(replace=False, frac=1)\n",
    "        .reset_index(drop=True)\n",
    "    )\n",
    "    \n",
    "    #Put the shuffled values into a table\n",
    "    shuffled = (\n",
    "        csv_data\n",
    "        .assign(**{\n",
    "            'Category': shuffled_col,\n",
    "            'not_hist': csv_data['HIST'] == 0\n",
    "        })\n",
    "    )\n",
    "    \n",
    "    \n",
    "    # compute the differences in means\n",
    "    mean = shuffled.groupby('not_hist')['Cleaned_Values'].mean().diff().abs().iloc[-1]\n",
    "    means.append(mean)\n"
   ]
  },
  {
   "cell_type": "code",
   "execution_count": 19,
   "metadata": {
    "scrolled": true
   },
   "outputs": [
    {
     "data": {
      "image/png": "[encoded data removed]",
      "text/plain": [
       "<Figure size 432x288 with 1 Axes>"
      ]
     },
     "metadata": {
      "needs_background": "light"
     },
     "output_type": "display_data"
    }
   ],
   "source": [
    "# Get our observed value and p value\n",
    "obs = csv_data.loc[csv_data['HIST'] != 0]['Cleaned_Values'].mean() - csv_data.loc[csv_data['HIST'] == 0]['Cleaned_Values'].mean()\n",
    "pval = np.mean(np.array(means) > obs)\n",
    "pd.Series(means).plot(kind='hist', density=True, alpha=0.8, title='p-value: %f' % pval)\n",
    "plt.scatter(obs, 0, color='red', s=40);"
   ]
  },
  {
   "cell_type": "markdown",
   "metadata": {},
   "source": [
    "We cannot reject the null hypothesis that the differences in our observed distribution of history in the Categories column compared to our sampled distribution is due to chance. Which is exactly what we expect, given that the nature of Jeopardy places a value of 100-500 for regular Jeopardy questions and 200-1000 for Double Jeopardy."
   ]
  },
  {
   "cell_type": "code",
   "execution_count": 20,
   "metadata": {
    "scrolled": true
   },
   "outputs": [
    {
     "data": {
      "text/plain": [
       "400     42243\n",
       "800     31860\n",
       "200     30454\n",
       "1000    21640\n",
       "600     20377\n",
       "        ...  \n",
       "585         1\n",
       "9800        1\n",
       "2127        1\n",
       "4300        1\n",
       "3201        1\n",
       "Name: Cleaned_Values, Length: 145, dtype: int64"
      ]
     },
     "execution_count": 20,
     "metadata": {},
     "output_type": "execute_result"
    }
   ],
   "source": [
    "csv_data['Cleaned_Values'].value_counts()"
   ]
  },
  {
   "cell_type": "markdown",
   "metadata": {},
   "source": [
    "Looking at this output, we just chose the first option out of the bottom 5"
   ]
  },
  {
   "cell_type": "markdown",
   "metadata": {},
   "source": [
    "Singling out “varmints” to show how obscure some categories could be and that it would be difficult to generalize a group of categories that could encompass all"
   ]
  },
  {
   "cell_type": "code",
   "execution_count": 21,
   "metadata": {
    "scrolled": false
   },
   "outputs": [
    {
     "data": {
      "text/html": [
       "<div>\n",
       "<style scoped>\n",
       "    .dataframe tbody tr th:only-of-type {\n",
       "        vertical-align: middle;\n",
       "    }\n",
       "\n",
       "    .dataframe tbody tr th {\n",
       "        vertical-align: top;\n",
       "    }\n",
       "\n",
       "    .dataframe thead th {\n",
       "        text-align: right;\n",
       "    }\n",
       "</style>\n",
       "<table border=\"1\" class=\"dataframe\">\n",
       "  <thead>\n",
       "    <tr style=\"text-align: right;\">\n",
       "      <th></th>\n",
       "      <th>Air Date</th>\n",
       "      <th>Category</th>\n",
       "      <th>Question</th>\n",
       "      <th>Answer</th>\n",
       "      <th>Cleaned_Values</th>\n",
       "      <th>HIST</th>\n",
       "    </tr>\n",
       "  </thead>\n",
       "  <tbody>\n",
       "    <tr>\n",
       "      <th>45980</th>\n",
       "      <td>2008</td>\n",
       "      <td>VARMINTS</td>\n",
       "      <td>A porky isn't a pig but this rodent that you d...</td>\n",
       "      <td>a porcupine</td>\n",
       "      <td>400</td>\n",
       "      <td>0</td>\n",
       "    </tr>\n",
       "    <tr>\n",
       "      <th>45986</th>\n",
       "      <td>2008</td>\n",
       "      <td>VARMINTS</td>\n",
       "      <td>If this U.S. marsupial keeps getting into my g...</td>\n",
       "      <td>a possum</td>\n",
       "      <td>800</td>\n",
       "      <td>0</td>\n",
       "    </tr>\n",
       "    <tr>\n",
       "      <th>45992</th>\n",
       "      <td>2008</td>\n",
       "      <td>VARMINTS</td>\n",
       "      <td>&lt;a href=\"http://www.j-archive.com/media/2008-0...</td>\n",
       "      <td>a woodpecker</td>\n",
       "      <td>1200</td>\n",
       "      <td>0</td>\n",
       "    </tr>\n",
       "    <tr>\n",
       "      <th>45998</th>\n",
       "      <td>2008</td>\n",
       "      <td>VARMINTS</td>\n",
       "      <td>These nocturnal ringtailed mammals find that a...</td>\n",
       "      <td>raccoons</td>\n",
       "      <td>1600</td>\n",
       "      <td>0</td>\n",
       "    </tr>\n",
       "    <tr>\n",
       "      <th>46004</th>\n",
       "      <td>2008</td>\n",
       "      <td>VARMINTS</td>\n",
       "      <td>It's also called a brush wolf, &amp; I can't forgi...</td>\n",
       "      <td>a coyote</td>\n",
       "      <td>2000</td>\n",
       "      <td>0</td>\n",
       "    </tr>\n",
       "    <tr>\n",
       "      <th>184442</th>\n",
       "      <td>1999</td>\n",
       "      <td>VARMINTS</td>\n",
       "      <td>This close relative of the lynx lives in North...</td>\n",
       "      <td>Bobcat</td>\n",
       "      <td>200</td>\n",
       "      <td>0</td>\n",
       "    </tr>\n",
       "    <tr>\n",
       "      <th>184448</th>\n",
       "      <td>1999</td>\n",
       "      <td>VARMINTS</td>\n",
       "      <td>This wily \"brush wolf\", long a nuisance to ran...</td>\n",
       "      <td>Coyote</td>\n",
       "      <td>400</td>\n",
       "      <td>0</td>\n",
       "    </tr>\n",
       "    <tr>\n",
       "      <th>184454</th>\n",
       "      <td>1999</td>\n",
       "      <td>VARMINTS</td>\n",
       "      <td>A member of the squirrel family, this rodent g...</td>\n",
       "      <td>Prairie dog</td>\n",
       "      <td>585</td>\n",
       "      <td>0</td>\n",
       "    </tr>\n",
       "    <tr>\n",
       "      <th>184460</th>\n",
       "      <td>1999</td>\n",
       "      <td>VARMINTS</td>\n",
       "      <td>There's a \"hairy\" as well as a \"spiny\" type of...</td>\n",
       "      <td>Hedgehog</td>\n",
       "      <td>800</td>\n",
       "      <td>0</td>\n",
       "    </tr>\n",
       "    <tr>\n",
       "      <th>184466</th>\n",
       "      <td>1999</td>\n",
       "      <td>VARMINTS</td>\n",
       "      <td>The long-tailed is the common U.S. species of ...</td>\n",
       "      <td>Weasel</td>\n",
       "      <td>1000</td>\n",
       "      <td>0</td>\n",
       "    </tr>\n",
       "  </tbody>\n",
       "</table>\n",
       "</div>"
      ],
      "text/plain": [
       "        Air Date  Category                                           Question  \\\n",
       "45980       2008  VARMINTS  A porky isn't a pig but this rodent that you d...   \n",
       "45986       2008  VARMINTS  If this U.S. marsupial keeps getting into my g...   \n",
       "45992       2008  VARMINTS  <a href=\"http://www.j-archive.com/media/2008-0...   \n",
       "45998       2008  VARMINTS  These nocturnal ringtailed mammals find that a...   \n",
       "46004       2008  VARMINTS  It's also called a brush wolf, & I can't forgi...   \n",
       "184442      1999  VARMINTS  This close relative of the lynx lives in North...   \n",
       "184448      1999  VARMINTS  This wily \"brush wolf\", long a nuisance to ran...   \n",
       "184454      1999  VARMINTS  A member of the squirrel family, this rodent g...   \n",
       "184460      1999  VARMINTS  There's a \"hairy\" as well as a \"spiny\" type of...   \n",
       "184466      1999  VARMINTS  The long-tailed is the common U.S. species of ...   \n",
       "\n",
       "              Answer  Cleaned_Values  HIST  \n",
       "45980    a porcupine             400     0  \n",
       "45986       a possum             800     0  \n",
       "45992   a woodpecker            1200     0  \n",
       "45998       raccoons            1600     0  \n",
       "46004       a coyote            2000     0  \n",
       "184442        Bobcat             200     0  \n",
       "184448        Coyote             400     0  \n",
       "184454   Prairie dog             585     0  \n",
       "184460      Hedgehog             800     0  \n",
       "184466        Weasel            1000     0  "
      ]
     },
     "execution_count": 21,
     "metadata": {},
     "output_type": "execute_result"
    }
   ],
   "source": [
    "csv_data[csv_data['Category'] == 'VARMINTS']"
   ]
  },
  {
   "cell_type": "code",
   "execution_count": 22,
   "metadata": {},
   "outputs": [],
   "source": [
    "def vmts(x):\n",
    "    if x == 'VARMINTS':\n",
    "        return 1\n",
    "    return 0\n",
    "\n",
    "csv_data['Vmts'] = csv_data['Category'].apply(vmts)"
   ]
  },
  {
   "cell_type": "code",
   "execution_count": 23,
   "metadata": {},
   "outputs": [],
   "source": [
    "#Hypothesis testing using difference in means\n",
    "n_repetitions = 500\n",
    "\n",
    "means = []\n",
    "for i in range(n_repetitions):\n",
    "    #Shuffling the Cleaned Values column\n",
    "    shuffled_col = (\n",
    "        csv_data['Cleaned_Values']\n",
    "        .sample(replace=False, frac=1)\n",
    "        .reset_index(drop=True)\n",
    "    )\n",
    "    \n",
    "    #Put the shuffled values into a table\n",
    "    shuffled = (\n",
    "        csv_data\n",
    "        .assign(**{\n",
    "            'Category': shuffled_col,\n",
    "            'not_vmts': csv_data['Vmts'] == 0\n",
    "        })\n",
    "    )\n",
    "\n",
    "    # compute the differences in means\n",
    "    mean = shuffled.groupby('not_vmts')['Cleaned_Values'].mean().diff().abs().iloc[-1]\n",
    "    means.append(mean)"
   ]
  },
  {
   "cell_type": "code",
   "execution_count": 24,
   "metadata": {},
   "outputs": [
    {
     "data": {
      "image/png": "[encoded data removed]",
      "text/plain": [
       "<Figure size 432x288 with 1 Axes>"
      ]
     },
     "metadata": {
      "needs_background": "light"
     },
     "output_type": "display_data"
    }
   ],
   "source": [
    "#Get our observed value and p value, then plot the difference in means \n",
    "\n",
    "obs = csv_data.loc[csv_data['Vmts'] != 0]['Cleaned_Values'].mean() - csv_data.loc[csv_data['Vmts'] == 0]['Cleaned_Values'].mean()\n",
    "pval = np.mean(np.array(means) > obs)\n",
    "pd.Series(means).plot(kind='hist', density=True, alpha=0.8, title='p-value: %f' % pval)\n",
    "plt.scatter(obs, 0, color='red', s=40);"
   ]
  },
  {
   "cell_type": "markdown",
   "metadata": {},
   "source": [
    "We reject the null hypothesis stating that the difference in the distribution of our observed categories of Varmints compared to the sampled variation is due to chance, meaning the difference is not due to chance but to a specific cause. This is expected given that the nature of Jeopardy places a value of 100-500 for regular Jeopardy questions and 200-1000 for Final Jeopardy, but in this case Varmints is also affected by the Final Jeopardy portion, with one recorded value of 585. The ambiguity of dealing with Final Jeopardy questions is that any value between 0 and the maximum amount that the player currently holds can be placed. With this in mind, if a player places anything that’s not in the range of 100-1000 as well as without 0’s in the tens and ones places, then this trend will always pursue due to how large our dataset is and how each double jeopardy question most likely has a unique value in every show. In other words, this means that we are comparing hundreds of thousands of values between 100-1000 with a single random value."
   ]
  },
  {
   "cell_type": "markdown",
   "metadata": {},
   "source": [
    "#### A Relabeling Attempt"
   ]
  },
  {
   "cell_type": "markdown",
   "metadata": {},
   "source": [
    "If we went with the general labeling approach, the top categories to study would be generalized as religion, sports, television, travel, music, art, movies, culture, shakespeare, american literature, world literature, philosophy, american government, world government, politics, business, war, american history, nth century history, world history, 20s to 90s, mythology, presidents, american people, people, american geography, world geography, food, math, science, weather, animals, education, american trivia, quotes and phrases, quotational categories, n-letter words, world play, vocab and grammar, holidays, world trivia."
   ]
  },
  {
   "cell_type": "code",
   "execution_count": 25,
   "metadata": {},
   "outputs": [],
   "source": [
    "# Create a fresh dataframe of the csv data\n",
    "csv_data = pd.read_csv('JEOPARDY_CSV.csv')"
   ]
  },
  {
   "cell_type": "code",
   "execution_count": 26,
   "metadata": {},
   "outputs": [],
   "source": [
    "csv_data = csv_data.drop(['Show Number',' Round',],axis=1)\n",
    "\n",
    "csv_data = csv_data.rename(\n",
    "    {\n",
    "     ' Air Date':'Air Date',\n",
    "     ' Category':'Category',\n",
    "     ' Question':'Question',\n",
    "     ' Answer':'Answer',\n",
    "     ' Value':'Value'\n",
    "    },axis=1)"
   ]
  },
  {
   "cell_type": "code",
   "execution_count": 27,
   "metadata": {},
   "outputs": [],
   "source": [
    "# Reorder columns and sort\n",
    "csv_data = csv_data[['Air Date','Category','Question','Answer','Value']]"
   ]
  },
  {
   "cell_type": "markdown",
   "metadata": {},
   "source": [
    "Below is an extensive relabeling function to sort categories into general categories."
   ]
  },
  {
   "cell_type": "code",
   "execution_count": 28,
   "metadata": {},
   "outputs": [],
   "source": [
    "regions = [ 'istan', 'asian', 'europe', 'africa', 'australia', 'albania', 'andorra', 'angola', 'antarctica', 'argentina', 'armenia', 'australia', 'austria', 'bahamas', 'bahrain', 'bangladesh', 'belarus', 'belgium', 'belize', 'bermuda', 'bhutan', 'bolivia', 'botswana', 'brazil', 'bulgaria', 'cambodia', 'cameroon', 'canada', 'chad', 'chile', 'china', 'colombia', 'congo', 'croatia', 'cuba', 'cyprus', 'czech republic', 'denmark', 'djibouti', 'east timor', 'ecuador', 'egypt', 'estonia', 'ethiopia', 'finland', 'france', 'georgia', 'germany', 'ghana', 'greece', 'greek', 'greenland', 'haiti', 'hong kong', 'hungary', 'iceland', 'india', 'indonesia', 'iraq', 'ireland', 'italy', 'jamaica', 'japan', 'jordan', 'kazakhstan', 'kenya', 'kyrgyzstan', 'laos', 'latvia', 'libya', 'liechtenstein', 'lithuania', 'luxembourg', 'madagascar', 'malawi', 'malaysia', 'mali', 'malta', 'mexico', 'micronesia', 'monaco', 'mongolia', 'myanmar', 'nepal', 'netherlands', 'new zealand', 'niger', 'nigeria', 'norway', 'oman', 'pakistan', 'palau', 'panama', 'peru', 'philippines', 'poland', 'portugal', 'puerto rico', 'qatar', 'reunion', 'romania', 'rwanda', 'samoa', 'saudi arabia', 'seychelles', 'singapore', 'slovakia', 'solomon islands', 'south africa', 'spain', 'sri lanka', 'sudan', 'suriname', 'swaziland', 'sweden', 'taiwan', 'tanzania', 'thailand', 'togo', 'tonga', 'tunisia', 'turkey', 'turkmenistan', 'ukraine', 'uruguay', 'vanuatu', 'venezuela', 'yemen', 'zambia']\n",
    "\n",
    "def recategorize(label):\n",
    "\n",
    "    label = label.lower()\n",
    "    label = label.strip()\n",
    "\n",
    "    # religion\n",
    "    if (\n",
    "        ('relig' in label) or\n",
    "        ('bible' in label) or\n",
    "        ('testament' in label)\n",
    "        ):\n",
    "        return 'religion'\n",
    "\n",
    "    # sports    \n",
    "    elif (\n",
    "        ('sport' in label) or \n",
    "        ('athlet' in label) or\n",
    "        ('olymp' in label) or\n",
    "        ('ball' in label) and not ('ballet' in label)\n",
    "        ):\n",
    "        return 'sports'\n",
    "\n",
    "    # television\n",
    "    elif (\n",
    "        ('television' in label) or\n",
    "        ('tv' in label)\n",
    "        ):\n",
    "        return 'television'\n",
    "\n",
    "    # travel & tourism\n",
    "    elif (\n",
    "        ('travel' in label) or\n",
    "        ('touri' in label)\n",
    "        ):\n",
    "        return 'travel'\n",
    "\n",
    "    # music\n",
    "    elif (\n",
    "        ('music' in label) or \n",
    "        ('compos' in label)):\n",
    "        return 'music'\n",
    "\n",
    "    # art\n",
    "    elif (\n",
    "        (' art' in label) or \n",
    "        ('art ' in label) or \n",
    "        ('artist' in label)):\n",
    "        return 'art'\n",
    "\n",
    "    # movies\n",
    "    elif (\n",
    "        ('movie' in label) or \n",
    "        ('film' in label)):\n",
    "        return 'movies'\n",
    "\n",
    "    # culture\n",
    "    elif (\n",
    "        ('cultur' in label)\n",
    "        ):\n",
    "        return 'culture'\n",
    "\n",
    "    # shakespeare\n",
    "    elif (\n",
    "        ('shakespear' in label)\n",
    "        ):\n",
    "        return 'shakespeare'\n",
    "\n",
    "    # literature\n",
    "    elif (\n",
    "        ('literature' in label) or \n",
    "        ('literar' in label) or\n",
    "        ('novel' in label) or\n",
    "        ('book' in label) or\n",
    "        ('fiction' in label) or\n",
    "        ('poet' in label) or\n",
    "        ('storie' in label)\n",
    "        ):\n",
    "        if ('america' in label) or ('u\\.s' in label):\n",
    "            return 'american literature'\n",
    "        else:\n",
    "            # may need to change international\n",
    "            return 'world literature'\n",
    "\n",
    "    elif (\n",
    "        ('philo' in label)\n",
    "        ):\n",
    "        return 'philosophy'\n",
    "\n",
    "    # gov\n",
    "    elif (\n",
    "        ('gov' in label) or\n",
    "        ('senate' in label) or\n",
    "        ('congress' in label)\n",
    "        ):\n",
    "        if ('america' in label) or ('u\\.s' in label):\n",
    "            return 'american government'\n",
    "        else:\n",
    "            return 'world government'\n",
    "\n",
    "    # politics\n",
    "    elif ('politic' in label):\n",
    "        return 'politics'\n",
    "\n",
    "    # business\n",
    "    elif (\n",
    "        ('business' in label)\n",
    "        ):\n",
    "        return 'business'\n",
    "\n",
    "    # war\n",
    "    elif (\n",
    "        ('war' in label)\n",
    "        ):\n",
    "        return 'war'\n",
    "\n",
    "    # history\n",
    "    elif (\n",
    "        ('histor' in label) or\n",
    "        ('centur' in label)\n",
    "        ):\n",
    "        if ('america' in label) or ('u\\.s' in label):\n",
    "            return 'american history'\n",
    "        elif ('centur' in label) and ('\\\"' in label):\n",
    "            return 'nth century history'    \n",
    "        else:\n",
    "            return 'world history'\n",
    "\n",
    "    # 20th century trivia\n",
    "    elif (\n",
    "        ('\\'20' in label) or \n",
    "        ('\\'30' in label) or\n",
    "        ('\\'40' in label) or\n",
    "        ('\\'50' in label) or\n",
    "        ('\\'60' in label) or\n",
    "        ('\\'70' in label) or\n",
    "        ('\\'80' in label) or\n",
    "        ('\\'90' in label)\n",
    "        ):\n",
    "        return '20s to 90s'\n",
    "\n",
    "    # mythology\n",
    "    elif (\n",
    "        ('mythology' in label)\n",
    "        ):\n",
    "        return 'mythology'\n",
    "\n",
    "    # u.s presidents\n",
    "    elif (\n",
    "        ('president' in label)\n",
    "        ):\n",
    "        return 'presidents'\n",
    "\n",
    "    # people\n",
    "    elif (\n",
    "        ('people' in label) or\n",
    "        ('men' in label) or\n",
    "        ('man' in label) or\n",
    "        ('women' in label) or\n",
    "        ('known' in label) or\n",
    "        ('name' in label) or\n",
    "        ('actor' in label) or\n",
    "        ('actress' in label) or\n",
    "        ('lady' in label) or\n",
    "        ('ladie' in label) or\n",
    "        ('celebrit' in label) or\n",
    "        ('faces' in label) or\n",
    "        ('explorers' in label) or\n",
    "        ('invetor' in label) or\n",
    "        ('thinker' in label) or\n",
    "        ('author' in label)\n",
    "        ):\n",
    "        if ('america' in label) or ('u\\.s' in label):\n",
    "            return 'american people'\n",
    "        else:\n",
    "            return 'people'  \n",
    "\n",
    "    # geography\n",
    "    elif (\n",
    "        ('geograph' in label) or\n",
    "        ('cities' in label) or\n",
    "        ('city' in label) or\n",
    "        ('countri' in label) or\n",
    "        ('capital' in label) or\n",
    "        ('lakes' in label) or\n",
    "        ('river' in label) or\n",
    "        ('mountains' in label)\n",
    "        ):\n",
    "\n",
    "        if ('america' in label) or ('u\\.s' in label):\n",
    "            return 'american geography'\n",
    "        else:\n",
    "            return 'world geography'\n",
    "\n",
    "    # food\n",
    "    elif (\n",
    "        ('food' in label) or\n",
    "        ('snack' in label) or\n",
    "        ('fruit' in label) or\n",
    "        ('vegetable' in label) or\n",
    "        ('dinner' in label) or\n",
    "        ('lunch' in label) or\n",
    "        ('breakfast' in label) or\n",
    "        (' eat' in label) or\n",
    "        ('cuisine' in label)\n",
    "        ):\n",
    "        return 'food'\n",
    "\n",
    "    # math\n",
    "    elif ('math' in label):\n",
    "        return 'math'\n",
    "\n",
    "    # science\n",
    "    elif (\n",
    "        ('chemi' in label) or \n",
    "        ('physic' in label) or\n",
    "        ('biol' in label) or \n",
    "        ('space' in label) or\n",
    "        ('psych' in label) or\n",
    "        ('ology' in label) or\n",
    "        ('astron' in label) or\n",
    "        ('scien' in label)\n",
    "        ):\n",
    "        return 'science'\n",
    "\n",
    "    # weather\n",
    "    elif (\n",
    "        ('weather' in label)\n",
    "        ):\n",
    "        return 'weather'\n",
    "\n",
    "    # animals\n",
    "    elif (\n",
    "        ('rodent' in label) or \n",
    "        ('mammal' in label) or \n",
    "        ('reptile' in label) or \n",
    "        ('bird' in label) or\n",
    "        ('fish' in label) or\n",
    "        ('animal' in label)\n",
    "        ):\n",
    "        return 'animals'\n",
    "\n",
    "    # education\n",
    "    elif (\n",
    "        ('colleg' in label) or\n",
    "        ('school' in label) or\n",
    "        ('universi' in label) or\n",
    "        ('educat' in label)\n",
    "        ):\n",
    "        return 'education'\n",
    "\n",
    "    # general american information\n",
    "    elif (\n",
    "        ('america' in label) or\n",
    "        ('u\\.s' in label)\n",
    "        ):\n",
    "        return 'american trivia'\n",
    "\n",
    "    # quotes and phrases\n",
    "    elif (\n",
    "        ('quot' in label) or\n",
    "        ('phrase' in label) or\n",
    "        ('__' in label)\n",
    "        ):\n",
    "        return 'quotes and phrases'\n",
    "\n",
    "    # \"LETTER\" categories\n",
    "    elif (\n",
    "        ('\\\"' in label)\n",
    "        ):\n",
    "        return '\"quotational\" categories'\n",
    "\n",
    "    # word play, riddles\n",
    "    elif (\n",
    "        ('letter word' in label)\n",
    "        ):\n",
    "        return 'n-letter words'\n",
    "\n",
    "    # word play\n",
    "    elif (\n",
    "        ('homophone' in label) or\n",
    "        ('onym' in label) or\n",
    "        ('word' in label) or\n",
    "        ('rhyme' in label) or\n",
    "        ('anagram' in label) or\n",
    "        ('letter' in label)\n",
    "        ):\n",
    "        return 'word play'\n",
    "\n",
    "    # vocab and grammar\n",
    "    elif (\n",
    "        ('vocab' in label) or\n",
    "        ('grammar' in label) or\n",
    "        ('diction' in label)\n",
    "        ):\n",
    "        return 'vocab and grammar'\n",
    "\n",
    "    # holiday\n",
    "    elif (\n",
    "        ('holiday' in label)\n",
    "        ):\n",
    "        return 'holidays'\n",
    "\n",
    "    # foreign\n",
    "    elif (\n",
    "        ('foreign' in label)\n",
    "        ):\n",
    "        return 'world trivia'\n",
    "\n",
    "    # as-is\n",
    "    else:\n",
    "        for i in regions:\n",
    "            if i in label:\n",
    "                return 'world trivia'\n",
    "        return label"
   ]
  },
  {
   "cell_type": "code",
   "execution_count": 29,
   "metadata": {},
   "outputs": [],
   "source": [
    "csv_data['Category'] = csv_data['Category'].apply(recategorize)"
   ]
  },
  {
   "cell_type": "code",
   "execution_count": 30,
   "metadata": {},
   "outputs": [
    {
     "data": {
      "image/png": "[encoded data removed]",
      "text/plain": [
       "<Figure size 432x288 with 1 Axes>"
      ]
     },
     "metadata": {
      "needs_background": "light"
     },
     "output_type": "display_data"
    }
   ],
   "source": [
    "#print('Top 20 categories after extensive relabeling')\n",
    "ax = csv_data['Category'].value_counts().head(20).plot.barh()\n",
    "ax.set_title('Top 20 Categories After Relabeling')\n",
    "ax.set_xlabel('Category Frequency')\n",
    "ax.set_ylabel('Category')\n",
    "plt.gca().invert_yaxis()"
   ]
  },
  {
   "cell_type": "code",
   "execution_count": 31,
   "metadata": {},
   "outputs": [
    {
     "name": "stdout",
     "output_type": "stream",
     "text": [
      "Number of unique categories after relabeling: 15486\n"
     ]
    }
   ],
   "source": [
    "print('Number of unique categories after relabeling:', len(csv_data['Category'].value_counts()))"
   ]
  },
  {
   "cell_type": "markdown",
   "metadata": {},
   "source": [
    "While this may generalize the categories, it still leaves us with approximately __15,000__ compared to the original __27,000__ we started with. Another issue is that some top categories like __\"quotational\" cateogories__ become too large because we are only detecting for the presence of quotes. As shown, there are too many unique categories to label and some categories become inflated.\n",
    "\n",
    "#### The more if-statements we added, the more bias became an issue in relabeling."
   ]
  },
  {
   "cell_type": "markdown",
   "metadata": {},
   "source": [
    "# Ethics & Privacy"
   ]
  },
  {
   "cell_type": "markdown",
   "metadata": {},
   "source": [
    "- In this project, we did not use Jeopardy videos, which are publicly available, leading us to believe that there are no contestant privacy concerns. In the dataset we looked at, there is also no identifying information within the questions, answers, air date, and category columns. This project is mainly focused on the questions, categories and correct answers, all of which are directly unrelated to any previous contestants on Jeopardy. Additionally, this data would come from Jeopardy episodes that have already been released (1984-2011) so our analysis would have no effect on “spoiling” the show. Upon looking through and analyzing the data, we found that data is unequally collected from each year of Jeopardy. \n",
    "\n",
    "- In regards to how this study may affect the future, the results of this analysis could impact potential contestants of the show. Because we primarily looked at the possible Jeopardy categories, this information could provide topics and categories that they should study before appearing on the show. By being better prepared for specific topics, a potential contestant might be able to earn more points and win the show. On the other hand, the resulting topics provided by this analysis could mislead a potential contestant and cause them to study for topics which may not appear as frequently the year they compete.\n"
   ]
  },
  {
   "cell_type": "markdown",
   "metadata": {},
   "source": [
    "# Conclusion & Discussion"
   ]
  },
  {
   "cell_type": "markdown",
   "metadata": {},
   "source": [
    "Due to the nature of the show, categories could not repeat consistently or else contestants would be extremely prepared going into the show if they knew the trend or repetition of categories. To keep contestants applying to and participating in the show, but also limiting the amount of money they’re able to win, is a tactic that producers of the show want to maintain. \n",
    "\n",
    "#### To conclude, we cannot effectively identify categories that could appear on episodes for potential contestants to study.\n",
    "\n",
    "### Limitations\n",
    "A major limitation we ran into that made it difficult to analyze the data was the huge number of categories found in this dataset. To help our analysis, we originally planned to approach this issue with a relabeling method of organization where we coded several if statements in an attempt to find common or more general keywords in the original category names and recategorize our data based on those if statements. However, we decided to forego that approach because 1) the code itself took a long time to run and 2) we concluded this approach may not be the best way to arrive at an answer to our research question due to added bias.\n",
    "- Creating a block of code full of if, elif, and else statements was eventually scrapped because doing so essentially hardcoded our data, and led to an element of bias based on the common keywords we looked for.\n"
   ]
  },
  {
   "cell_type": "markdown",
   "metadata": {},
   "source": [
    "# Team Contributions"
   ]
  },
  {
   "cell_type": "markdown",
   "metadata": {},
   "source": [
    "Patricia - overview, background, hypothesis, analysis, ethics, conclusion\n",
    "\n",
    "Samantha - overview, background, hypothesis, analysis, ethics, conclusion\n",
    "\n",
    "Marcus - data cleaning, background, hypothesis, analysis, ethics, conclusion\n",
    "\n",
    "Gavin - data cleaning, background, hypothesis, analysis, ethics, conclusion"
   ]
  },
  {
   "cell_type": "code",
   "execution_count": null,
   "metadata": {},
   "outputs": [],
   "source": []
  }
 ],
 "metadata": {
  "kernelspec": {
   "display_name": "Python 3",
   "language": "python",
   "name": "python3"
  },
  "language_info": {
   "codemirror_mode": {
    "name": "ipython",
    "version": 3
   },
   "file_extension": ".py",
   "mimetype": "text/x-python",
   "name": "python",
   "nbconvert_exporter": "python",
   "pygments_lexer": "ipython3",
   "version": "3.7.0"
  }
 },
 "nbformat": 4,
 "nbformat_minor": 2
}
