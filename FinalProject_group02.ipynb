{
 "cells": [
  {
   "cell_type": "markdown",
   "metadata": {},
   "source": [
    "# COGS 108 - Final Project "
   ]
  },
  {
   "cell_type": "markdown",
   "metadata": {},
   "source": [
    "# Overview"
   ]
  },
  {
   "cell_type": "markdown",
   "metadata": {},
   "source": [
    "Our group aim to help current COVID-19 situation in the U.S. by building a model to predict grocery prices based on CPI (Consumer Price Index), cost of living, and export-import. We chose to build the model using linear regression and machine learning since these two are popular to build a statistical model for prediction. We will use 80% of H1N1 data to train the model since this pandemic has approximately similar effects to the U.S. current situation. After training the model, we will test with the rest 20% of H1N1 data, then we will validate with covid-19 data. After the analysis of our data, we found that as cost of living, export-import, and CPI increased during COVID-19, it led to higher grocery prices in California."
   ]
  },
  {
   "cell_type": "markdown",
   "metadata": {},
   "source": [
    "# Names\n",
    "\n",
    "- Dorine Ernst\n",
    "- Evan Scales\n",
    "- Jie Wang\t\n",
    "- Ramin Tavousi\n",
    "- Wenqiang Hu   "
   ]
  },
  {
   "cell_type": "markdown",
   "metadata": {},
   "source": [
    "# Research Question"
   ]
  },
  {
   "cell_type": "markdown",
   "metadata": {},
   "source": [
    "What is the relationship between covid-19 with grocery prices and do CPI, Cost of living, and Export-Import have a high correlation to grocery prices? Additionally can H1N1 data be used to build a model for this current situation to then predict grocery prices in the near future?"
   ]
  },
  {
   "cell_type": "markdown",
   "metadata": {},
   "source": [
    "## Background and Prior Work"
   ]
  },
  {
   "cell_type": "markdown",
   "metadata": {},
   "source": [
    "Currently, the United States is facing uncertainty due to the outbreak of COVID-19 growing at an alarming rate. There are many uncertainties currently such as the dramatic increase of those infected in the United States increasing to a total of 2 million in a little over 3 months (cdc.gov). This has led to rising unemployment rate, and limited imports and exports. We know that this situation affects the United States in general, but we will focus our project on California. This is because California is in the top three states for cases of COVID-19 (cdc.gov). \n",
    "\n",
    "Similarly in the past, the US has faced other pressing outbreaks such as H1N1, known as the Swine Flu, pandemic. This virus affected the US in similar ways to COVID-19 such as how there were such a large number of cases in a short amount of time as in one year reaching to 60 million cases as stated by the CDC. Additionally the initial response of the US was similar during both outbreaks and “the genetic sequences of the virus were released to the public with remarkable speed, so that countries could create diagnostic tests” as stated by Kimberly Hickok from LiveScience. \n",
    "\n",
    "Currently the uncertainty has brought up questions on the continuous food supply in the US. Based on a USCA article “Will COVID-19 Threaten Availability and Affordability of our Food?” by Robert Johansson, we know some of the effects that we are facing during this period like: shortages in some commodities, fluctuation of some commodities prices, and increased demand of groceries and other necessities. Similarly from an article by USRice titled “USA Rice President & CEO Addresses Domestic Rice Supply Amidst COVID-19”, we know that the shortages are not a supply chain issue but rather an issue with the change of demand. The increase in demand for some grocery products due to the decrease in restaurant activity has left the supply chains of grocery stores fighting to keep up. As the situation becomes unpredictable, our group thinks it is important to know about the current situation since it is the first time we are facing an uncertainty like this and by having knowledge about this, it will help our community to be ready to face this difficult time.\n",
    "\n",
    "We will analyze some main groceries prices in particular areas to help everyone prepare and act smartly during this uncertain time. We will focus our observation on California's major cities such as: San Diego, Los Angeles, San Francisco, and Riverside. These cities are split between the higher Consumer Price Indexes of San Diego, Los Angeles, and San Francisco compared to that of Riverside as shown by the recorded CPI data by the US Bureau of Labor Statistics. This is a good indication of Cost of living because it represents the costs of certain categories of items in the corresponding locations. From the prior works, we know that overtime, we are facing shortages for some commodities as well as experiencing price fluctuations for some commodities. So our team believes that because of limitations in importing things from abroad, we will face shortages for some commodities that will lead to inflation of prices and the expenditure over time could lead to higher cost of living.\n",
    "\n",
    "\n",
    "\n",
    "\n",
    "References\n",
    "- 1) Johansson, Robert. “Will COVID-19 Threaten Availability and Affordability of Our Food?” USDA, 16 Apr. 2020, www.usda.gov/media/blog/2020/04/16/will-covid-19-threaten-availability-and-affordability-our-food.\n",
    "- 2) “USA Rice President & CEO Addresses Domestic Rice Supply Amidst COVID-19.” USARice, 17 Mar. 2020, www.usarice.com/news-and-events/publications/usa-rice-daily/article/usa-rice-daily/2020/03/17/usa-rice-president-ceo-addresses-domestic-rice-supply-amidst-covid-19.\n",
    "- 3) Cases in the U.S. (2020, May 29). Retrieved June 02, 2020, from https://www.cdc.gov/coronavirus/2019-ncov/cases-updates/cases-in-us.html\n",
    "- 4) 2009 H1N1 Pandemic (H1N1pdm09 virus). (2019, June 11). Retrieved June 02, 2020, from https://www.cdc.gov/flu/pandemic-resources/2009-h1n1-pandemic.html\n",
    "- 5) Hickok, K. (2020, March 18). How does the COVID-19 pandemic compare to the last pandemic? Retrieved June 02, 2020, from https://www.livescience.com/covid-19-pandemic-vs-swine-flu.html\n",
    "- 6) California. (n.d.). Retrieved June 02, 2020, from https://www.bls.gov/regions/west/california.htm"
   ]
  },
  {
   "cell_type": "markdown",
   "metadata": {},
   "source": [
    "# Hypothesis\n"
   ]
  },
  {
   "cell_type": "markdown",
   "metadata": {},
   "source": [
    "There is a correlation between the CPI, Export-Import, and the cost of living in California’s major cities with the change in grocery prices during COVID-19. Due to the limitation of import policy, it is so hard to get some groceries that we got from abroad into the US so that leads to shortages of some commodity. This causes inflation that leads to higher cost of living.\n",
    "\n",
    "Null Hypothesis: The cost of living, export-import, and CPI have no relationship to the grocery prices during COVID-19.\n",
    "\n",
    "Alternative Hypothesis: As the cost of living, export-import, and CPI increased during COVID-19, it leads to higher grocery prices in California.\n",
    "\n",
    "We will test this using 5% of significance level.\n"
   ]
  },
  {
   "cell_type": "markdown",
   "metadata": {},
   "source": [
    "# Dataset(s)"
   ]
  },
  {
   "cell_type": "markdown",
   "metadata": {},
   "source": [
    "- Dataset #1: LA_CPI_DEC-APR20.csv\n",
    "    - Under the title Consumer Price Index, Los Angeles Area\n",
    "- Link to the dataset: \n",
    "    - https://www.bls.gov/regions/west/news-release/consumerpriceindex_losangeles.htm\n",
    "    - https://www.bls.gov/regions/west/news-release/2020/consumerpriceindex_losangeles_20200114.htm\n",
    "- Number of observations: 78\n",
    "- Description: This dataset contains the Consumer Price Index of goods in the Los Angeles area December 2019 - April 2020. These two datasets are combined for the Los Angeles’ CPI by combining months as columns in chronological order.\n",
    "\n",
    "\n",
    "- Dataset #2: RS_CPI_SEP-MAR20.csv\n",
    "    - Under the title Consumer Price Index, Riverside Area\n",
    "- Link to the dataset: \n",
    "    - https://www.bls.gov/regions/west/news-release/consumerpriceindex_riverside.htm\n",
    "    - https://www.bls.gov/regions/west/news-release/2020/consumerpriceindex_riverside_20200213.htm\n",
    "- Number of observations: 65\n",
    "- Description: This dataset contains the Consumer Price Index of goods in the Riverside area from September 2019- March 2020 every other month. These two datasets are combined for the Riverside’s CPI by combining months as columns in chronological order.\n",
    "\n",
    "\n",
    "- Dataset #3: SF_CPI_OCT-APR20.csv\n",
    "    - Under the title Consumer Price Index, San Francisco Area\n",
    "- Link to the dataset: \n",
    "    - https://www.bls.gov/regions/west/news-release/pdf/consumerpriceindex_sanfrancisco.pdf\n",
    "    - https://www.bls.gov/regions/west/news-release/consumerpriceindex_sanfrancisco.htm\n",
    "- Number of observations: 65\n",
    "- Description: This dataset contains the Consumer Price Index of goods in the San Fransisco area from October 2019- April 2020 every other month. These two datasets are combined for the San Fransisco’s CPI by combining months as columns in chronological order.\n",
    "\n",
    "\n",
    "- Dataset #4: SD_CPI_SEP-MAR20.csv\n",
    "    - Under the title Consumer Price Index, San Diego Area\n",
    "- Link to the dataset: \n",
    "    - https://www.bls.gov/regions/west/news-release/consumerpriceindex_sandiego.htm\n",
    "    - https://www.bls.gov/regions/west/news-release/2020/pdf/consumerpriceindex_sandiego_20200213.pdf\n",
    "- Number of observations: 65\n",
    "- Description: This dataset contains the Consumer Price Index of goods in the San Diego area from September 2019- March 2020 every other month. These two datasets are combined for the San Diego’s CPI by combining months as columns in chronological order.\n",
    "\n",
    "\n",
    "- Dataset #5: US_Clean_CPI_APR19-20.csv\n",
    "    - Under the title Consumer Price Index, United States\n",
    "- Link to the dataset: https://www.bls.gov/cpi/tables/supplemental-files/cpi-u-202004.xlsx\n",
    "- Number of observations: 404\n",
    "- Description: The dataset file contains the Consumer Price Index of  goods in the United States from April 2019 - April 2020. \n",
    "\n",
    "\n",
    "- Dataset #6: CPI_Export-Import.csv\n",
    "- Link to the dataset: https://www.bls.gov/news.release/archives/ximpim_05132010.pdf\n",
    "- Number of observations: 34\n",
    "- Description: This dataset is used for getting all US export and import values and dividing their sum. We then store it at CPI_Export-Import.csv file.\n",
    "\n",
    "\n",
    "- Dataset #7: H1N1_food_data.csv\n",
    "- Link to the dataset: \n",
    "    - https://www.bls.gov/news.release/archives/cpi_06172009.htm\n",
    "    - https://www.bls.gov/news.release/archives/cpi_07152009.htm\n",
    "    - https://www.bls.gov/news.release/archives/cpi_09162009.htm\n",
    "    - https://www.bls.gov/news.release/archives/cpi_11182009.htm\n",
    "    - https://www.bls.gov/news.release/archives/cpi_01152010.htm\n",
    "    - https://www.bls.gov/news.release/archives/cpi_03182010.htm\n",
    "    - https://www.bls.gov/news.release/archives/cpi_05192010.htm\n",
    "    - https://www.bls.gov/news.release/archives/cpi_07162010.htm\n",
    "    - https://www.bls.gov/news.release/archives/cpi_09172010.htm\n",
    "- Number of observations: 187\n",
    "- Description: This dataset contains the United States Consumer Price Index data of goods from April 2009 to August 2010 for each month and are stored in the H1N1_food_data.csv file.\n"
   ]
  },
  {
   "cell_type": "markdown",
   "metadata": {},
   "source": [
    "# Setup"
   ]
  },
  {
   "cell_type": "code",
   "execution_count": 1,
   "metadata": {},
   "outputs": [],
   "source": [
    "import pandas as pd\n",
    "import numpy as np\n",
    "import matplotlib.pyplot as plt\n",
    "import seaborn as sns; sns.set()\n",
    "import patsy\n",
    "import statsmodels.api as sm\n",
    "import scipy.stats as stats\n",
    "import math as math\n",
    "import warnings\n",
    "warnings.filterwarnings('ignore')\n",
    "from scipy.stats import skewnorm\n",
    "from sklearn.svm import SVC\n",
    "from sklearn import preprocessing\n",
    "from sklearn.model_selection import train_test_split\n",
    "from sklearn.linear_model import LinearRegression\n",
    "from sklearn.model_selection import cross_val_score\n",
    "from sklearn import model_selection\n",
    "from sklearn.metrics import r2_score\n",
    "from sklearn import metrics\n",
    "%matplotlib inline"
   ]
  },
  {
   "cell_type": "code",
   "execution_count": 2,
   "metadata": {},
   "outputs": [],
   "source": [
    "dfLA_APR = pd.read_csv('./Initial_Data_Files/CPI_LosAngeles_APR20.csv')\n",
    "dfLA_FEB = pd.read_csv('./Initial_Data_Files/CPI_LosAngeles_FEB20.csv')\n",
    "\n",
    "dfRS_MAR = pd.read_csv('./Initial_Data_Files/CPI_Riverside_MAR20.csv')\n",
    "dfRS_NOV = pd.read_csv('./Initial_Data_Files/CPI_Riverside_NOV19.csv')\n",
    "\n",
    "dfSD_MAR = pd.read_csv('./Initial_Data_Files/CPI_SanDiego_MAR20.csv')\n",
    "dfSD_NOV = pd.read_csv('./Initial_Data_Files/CPI_SanDiego_NOV19.csv')\n",
    "\n",
    "dfSF_APR = pd.read_csv('./Initial_Data_Files/CPI_SanFran_APR20.csv')\n",
    "dfSF_DEC = pd.read_csv('./Initial_Data_Files/CPI_SanFran_DEC19.csv')\n",
    "\n",
    "dfUS = pd.read_csv('./Initial_Data_Files/CPI_US_APR19-20.csv')\n",
    "\n",
    "dfUS_H1N1 = pd.read_csv(\"./CPI_Clean/CPI_Food_H1N1_updated.csv\")"
   ]
  },
  {
   "cell_type": "markdown",
   "metadata": {},
   "source": [
    "# Data Cleaning"
   ]
  },
  {
   "cell_type": "markdown",
   "metadata": {},
   "source": [
    "### Pre-Analysis Cleaning and Selection¶\n",
    "\n",
    "Before cleaning our data we had to decide which categories are most important for us to use for grocery prices and prediction of cost of living from our CPI datasets. We decided to use:\n",
    "- All Items\n",
    "- Food and Beverages \n",
    "- Cereals and bakery products\n",
    "- Meats, poultry, fish, and eggs\n",
    "- Dairy and related products\n",
    "- Fruits and vegetables\n",
    "- Housing\n",
    "- Apparel\n",
    "- Transportation\n",
    "- Medical Care\n",
    "- Recreation\n",
    "- Education and communication\n",
    "- Other goods and services\n",
    "\n",
    "These were necessary because both the catagorical data and the All Items section we would use to represent Cost of Living in each city. Each would be our observation rows\n",
    "\n",
    "For the columns, each column represetned a month and we needed to combine multiple documents of data to get complete data for our time periods in focus. However some cities had missing/NaN values for certain month which we found to be a pattern of alternating months such that data for each city was bimonthly. \n",
    "\n",
    "The data then did not need any more modifications because it was all in integer format so we could begin to analyze and answer our question."
   ]
  },
  {
   "cell_type": "code",
   "execution_count": 3,
   "metadata": {},
   "outputs": [],
   "source": [
    "# LA DATA\n",
    "dfLA = dfLA_APR.iloc[:, [0, 1, 2, 3]]\n",
    "dfLA_FEB = dfLA_FEB.iloc[:, [0, 1, 2, 3]]\n",
    "dfLA.columns = ['Item and Group', 'IDX-FEB-2020', 'IDX-MAR-2020', 'IDX-APR-2020']\n",
    "dfLA.insert(1, 'IDX-DEC-2019', dfLA_FEB.iloc[:, [1]])\n",
    "dfLA.insert(2, 'IDX-JAN-2020', dfLA_FEB.iloc[:, [2]])\n",
    "\n",
    "dfLA = dfLA.drop([0, 1, 2, 3])\n",
    "dfLA = dfLA.reset_index(drop = True)\n",
    "dfLA = dfLA.astype({'Item and Group': str, 'IDX-DEC-2019': 'float64', 'IDX-JAN-2020': 'float64', 'IDX-FEB-2020': 'float64', 'IDX-MAR-2020': 'float64', 'IDX-APR-2020': 'float64'})\n",
    "\n",
    "dfLA = dfLA.iloc[[0, 2, 5, 6, 7, 8, 16, 29, 30, 41, 42, 43, 45]]\n",
    "dfLA = dfLA.reset_index(drop = True)\n",
    "\n",
    "dfLA['Item and Group'] = dfLA['Item and Group'].str.strip('.123456789() ')\n",
    "dfLA['Inflation Change JAN->MAR'] = ((dfLA['IDX-MAR-2020'] - dfLA['IDX-JAN-2020']) / dfLA['IDX-JAN-2020']) * 100\n",
    "\n",
    "\n",
    "\n",
    "# RIVERSIDE DATA\n",
    "dfRS = dfRS_MAR.iloc[:, [0, 1, 3]]\n",
    "dfRS_NOV = dfRS_NOV.iloc[:, [0, 1, 3]]\n",
    "\n",
    "dfRS.columns = ['Item and Group', 'IDX-JAN-2020', 'IDX-MAR-2020']\n",
    "\n",
    "dfRS.insert(1, 'IDX-SEP-2019', dfRS_NOV.iloc[:, [1]])\n",
    "dfRS.insert(2, 'IDX-NOV-2019', dfRS_NOV.iloc[:, [2]])\n",
    "\n",
    "dfRS = dfRS.drop([0, 1, 2, 3])\n",
    "dfRS = dfRS.reset_index(drop = True)\n",
    "\n",
    "dfRS = dfRS.astype({'Item and Group': str, 'IDX-SEP-2019': 'float64', 'IDX-NOV-2019': 'float64', 'IDX-JAN-2020': 'float64', 'IDX-MAR-2020': 'float64'})\n",
    "\n",
    "dfRS = dfRS.iloc[[0, 1, 4, 5, 6, 7, 14, 25, 26, 37, 38, 39, 41]]\n",
    "dfRS = dfRS.reset_index(drop = True)\n",
    "\n",
    "dfRS['Item and Group'] = dfRS['Item and Group'].str.strip('.123456789() ')\n",
    "dfRS['Inflation Change JAN->MAR'] = ((dfRS['IDX-MAR-2020'] - dfRS['IDX-JAN-2020']) / dfRS['IDX-JAN-2020']) * 100\n",
    "\n",
    "\n",
    "\n",
    "# SAN DIEGO DATA\n",
    "\n",
    "dfSD = dfSD_MAR.iloc[:, [0, 1, 3]]\n",
    "dfSD_NOV = dfSD_NOV.iloc[:, [0, 1, 3]]\n",
    "dfSD.columns = ['Item and Group', 'IDX-JAN-2020', 'IDX-MAR-2020']\n",
    "\n",
    "dfSD.insert(1, 'IDX-SEP-2019', dfSD_NOV.iloc[:, [1]])\n",
    "dfSD.insert(2, 'IDX-NOV-2019', dfSD_NOV.iloc[:, [2]])\n",
    "\n",
    "dfSD = dfSD.drop([0, 1, 2, 3, 5, 46])\n",
    "dfSD = dfSD.reset_index(drop = True)\n",
    "\n",
    "dfSD = dfSD.astype({'Item and Group': str, 'IDX-SEP-2019': 'float64', 'IDX-NOV-2019': 'float64', 'IDX-JAN-2020': 'float64', 'IDX-MAR-2020': 'float64'})\n",
    "\n",
    "dfSD = dfSD.iloc[[0, 1, 4, 5, 6, 7, 14, 26, 27, 38, 39, 40, 41]]\n",
    "dfSD = dfSD.reset_index(drop = True)\n",
    "\n",
    "dfSD['Item and Group'] = dfSD['Item and Group'].str.strip('.123456789() ')\n",
    "dfSD['Inflation Change JAN->MAR'] = ((dfSD['IDX-MAR-2020'] - dfSD['IDX-JAN-2020']) / dfSD['IDX-JAN-2020']) * 100\n",
    "\n",
    "\n",
    "\n",
    "# SAN FRANSISCO DATA\n",
    "dfSF_APR = dfSF_APR.iloc[:, [0, 1, 3]]\n",
    "dfSF_DEC = dfSF_DEC.iloc[:, [0, 1, 3]]\n",
    "\n",
    "dfSF_APR.columns = ['Item and Group', 'IDX-FEB-2020', 'IDX-APR-2020']\n",
    "\n",
    "dfSF_APR = dfSF_APR.iloc[[4, 6, 9, 10, 11, 12, 20, 33, 34, 45, 46, 47, 49]]\n",
    "dfSF_DEC = dfSF_DEC.iloc[[4, 6, 9, 10, 11, 12, 19, 31, 32, 43, 44, 45, 47]]\n",
    "\n",
    "dfSF_APR = dfSF_APR.reset_index(drop = True)\n",
    "dfSF_DEC = dfSF_DEC.reset_index(drop = True)\n",
    "\n",
    "dfSF = dfSF_APR\n",
    "dfSF.insert(1, 'IDX-OCT-2019', dfSF_DEC.iloc[:, [1]])\n",
    "dfSF.insert(2, 'IDX-DEC-2019', dfSF_DEC.iloc[:, [2]])\n",
    "\n",
    "dfSF = dfSF.astype({'Item and Group': str, 'IDX-OCT-2019': 'float64', 'IDX-DEC-2019': 'float64', 'IDX-FEB-2020': 'float64', 'IDX-APR-2020': 'float64'})\n",
    "\n",
    "dfSF['Item and Group'] = dfSF['Item and Group'].str.strip('.123456789() ')\n",
    "dfSF['Inflation Change FEB->APR'] = ((dfSF['IDX-APR-2020'] - dfSF['IDX-FEB-2020']) / dfSF['IDX-FEB-2020']) * 100\n",
    "\n",
    "\n",
    "\n",
    "# US DATA\n",
    "dfUS = dfUS.iloc[:, 0:16]\n",
    "dfUS.columns = ['INDENT', 'Expenditure Category', 'remove', 'IDX-APR-2019', 'IDX-MAY-2019', 'IDX-JUN-2019', 'IDX-JUL-2019', 'IDX-AUG-2019', 'IDX-SEP-2019', 'IDX-OCT-2019', 'IDX-NOV-2019', 'IDX-DEC-2019', 'IDX-JAN-2020', 'IDX-FEB-2020', 'IDX-MAR-2020',  'IDX-APR-2020']\n",
    "\n",
    "dfUS = dfUS.iloc[6:, 0:16]\n",
    "dfUS = dfUS[dfUS['INDENT'].notna()]\n",
    "dfUS = dfUS.astype({'INDENT': 'int64'})\n",
    "\n",
    "dfUS = dfUS[dfUS.INDENT <= 3]\n",
    "\n",
    "dfUS = dfUS.reset_index(drop = True)\n",
    "df_front = dfUS.iloc[:7, :]\n",
    "df_rest = dfUS.iloc[7:, :]\n",
    "\n",
    "df_apparel = dfUS.iloc[25:26, :]\n",
    "\n",
    "df_rest = df_rest[df_rest.INDENT <= 1]\n",
    "\n",
    "dfUS = pd.concat([df_front, df_rest, df_apparel])\n",
    "dfUS = dfUS.drop(columns=['INDENT', 'remove'])\n",
    "dfUS = dfUS.reset_index(drop = True)\n",
    "\n",
    "dfUS = dfUS.iloc[[0, 1, 3, 4, 5, 6, 21, 25, 29, 28, 23, 22, 32]]\n",
    "dfUS = dfUS.reset_index(drop = True)\n",
    "dfUS['Expenditure Category'] = dfUS['Expenditure Category'].str.strip('5()')\n",
    "dfUS = dfUS.astype({'Expenditure Category': str, 'IDX-APR-2019': 'float64', 'IDX-MAY-2019': 'float64', 'IDX-JUN-2019': 'float64', 'IDX-JUL-2019': 'float64', 'IDX-AUG-2019': 'float64', 'IDX-SEP-2019': 'float64', 'IDX-OCT-2019': 'float64', 'IDX-NOV-2019': 'float64', 'IDX-DEC-2019': 'float64', 'IDX-JAN-2020': 'float64', 'IDX-FEB-2020': 'float64', 'IDX-MAR-2020': 'float64',  'IDX-APR-2020': 'float64'})\n",
    "\n"
   ]
  },
  {
   "cell_type": "code",
   "execution_count": 4,
   "metadata": {},
   "outputs": [],
   "source": [
    "dfLATrans = dfLA.set_index('Item and Group')\n",
    "dfLATrans = dfLATrans.transpose()\n",
    "\n",
    "dfRSTrans = dfRS.set_index('Item and Group')\n",
    "dfRSTrans = dfRSTrans.transpose()\n",
    "\n",
    "dfSDTrans = dfSD.set_index('Item and Group')\n",
    "dfSDTrans = dfSDTrans.transpose()\n",
    "\n",
    "dfSFTrans = dfSF.set_index('Item and Group')\n",
    "dfSFTrans = dfSFTrans.transpose()\n",
    "\n",
    "dfUSTrans = dfUS.set_index('Expenditure Category')\n",
    "dfUSTrans = dfUSTrans.transpose()"
   ]
  },
  {
   "cell_type": "code",
   "execution_count": 5,
   "metadata": {},
   "outputs": [
    {
     "data": {
      "text/html": [
       "<div>\n",
       "<style scoped>\n",
       "    .dataframe tbody tr th:only-of-type {\n",
       "        vertical-align: middle;\n",
       "    }\n",
       "\n",
       "    .dataframe tbody tr th {\n",
       "        vertical-align: top;\n",
       "    }\n",
       "\n",
       "    .dataframe thead th {\n",
       "        text-align: right;\n",
       "    }\n",
       "</style>\n",
       "<table border=\"1\" class=\"dataframe\">\n",
       "  <thead>\n",
       "    <tr style=\"text-align: right;\">\n",
       "      <th></th>\n",
       "      <th>Item and Group</th>\n",
       "      <th>IDX-DEC-2019</th>\n",
       "      <th>IDX-JAN-2020</th>\n",
       "      <th>IDX-FEB-2020</th>\n",
       "      <th>IDX-MAR-2020</th>\n",
       "      <th>IDX-APR-2020</th>\n",
       "      <th>Inflation Change JAN-&gt;MAR</th>\n",
       "    </tr>\n",
       "  </thead>\n",
       "  <tbody>\n",
       "    <tr>\n",
       "      <th>0</th>\n",
       "      <td>All items</td>\n",
       "      <td>275.553</td>\n",
       "      <td>277.755</td>\n",
       "      <td>278.657</td>\n",
       "      <td>276.589</td>\n",
       "      <td>275.853</td>\n",
       "      <td>-0.419794</td>\n",
       "    </tr>\n",
       "    <tr>\n",
       "      <th>1</th>\n",
       "      <td>Food and beverages</td>\n",
       "      <td>267.623</td>\n",
       "      <td>271.402</td>\n",
       "      <td>272.546</td>\n",
       "      <td>271.669</td>\n",
       "      <td>276.101</td>\n",
       "      <td>0.098378</td>\n",
       "    </tr>\n",
       "    <tr>\n",
       "      <th>2</th>\n",
       "      <td>Cereals and bakery products</td>\n",
       "      <td>271.514</td>\n",
       "      <td>273.713</td>\n",
       "      <td>276.386</td>\n",
       "      <td>271.720</td>\n",
       "      <td>284.534</td>\n",
       "      <td>-0.728135</td>\n",
       "    </tr>\n",
       "    <tr>\n",
       "      <th>3</th>\n",
       "      <td>Meats, poultry, fish, and eggs</td>\n",
       "      <td>281.643</td>\n",
       "      <td>283.279</td>\n",
       "      <td>279.993</td>\n",
       "      <td>283.766</td>\n",
       "      <td>288.203</td>\n",
       "      <td>0.171915</td>\n",
       "    </tr>\n",
       "    <tr>\n",
       "      <th>4</th>\n",
       "      <td>Dairy and related products</td>\n",
       "      <td>253.042</td>\n",
       "      <td>255.915</td>\n",
       "      <td>254.288</td>\n",
       "      <td>250.076</td>\n",
       "      <td>260.443</td>\n",
       "      <td>-2.281617</td>\n",
       "    </tr>\n",
       "    <tr>\n",
       "      <th>5</th>\n",
       "      <td>Fruits and vegetables</td>\n",
       "      <td>342.395</td>\n",
       "      <td>346.423</td>\n",
       "      <td>352.276</td>\n",
       "      <td>348.884</td>\n",
       "      <td>348.901</td>\n",
       "      <td>0.710403</td>\n",
       "    </tr>\n",
       "    <tr>\n",
       "      <th>6</th>\n",
       "      <td>Housing</td>\n",
       "      <td>319.257</td>\n",
       "      <td>320.216</td>\n",
       "      <td>321.211</td>\n",
       "      <td>321.162</td>\n",
       "      <td>322.624</td>\n",
       "      <td>0.295426</td>\n",
       "    </tr>\n",
       "    <tr>\n",
       "      <th>7</th>\n",
       "      <td>Apparel</td>\n",
       "      <td>106.453</td>\n",
       "      <td>112.147</td>\n",
       "      <td>114.583</td>\n",
       "      <td>109.624</td>\n",
       "      <td>103.359</td>\n",
       "      <td>-2.249726</td>\n",
       "    </tr>\n",
       "    <tr>\n",
       "      <th>8</th>\n",
       "      <td>Transportation</td>\n",
       "      <td>213.991</td>\n",
       "      <td>214.517</td>\n",
       "      <td>214.885</td>\n",
       "      <td>206.780</td>\n",
       "      <td>196.441</td>\n",
       "      <td>-3.606707</td>\n",
       "    </tr>\n",
       "    <tr>\n",
       "      <th>9</th>\n",
       "      <td>Medical care</td>\n",
       "      <td>485.696</td>\n",
       "      <td>498.270</td>\n",
       "      <td>499.208</td>\n",
       "      <td>500.341</td>\n",
       "      <td>499.720</td>\n",
       "      <td>0.415638</td>\n",
       "    </tr>\n",
       "    <tr>\n",
       "      <th>10</th>\n",
       "      <td>Recreation</td>\n",
       "      <td>105.912</td>\n",
       "      <td>107.744</td>\n",
       "      <td>108.757</td>\n",
       "      <td>107.776</td>\n",
       "      <td>108.317</td>\n",
       "      <td>0.029700</td>\n",
       "    </tr>\n",
       "    <tr>\n",
       "      <th>11</th>\n",
       "      <td>Education and communication</td>\n",
       "      <td>149.031</td>\n",
       "      <td>149.118</td>\n",
       "      <td>149.002</td>\n",
       "      <td>148.729</td>\n",
       "      <td>149.159</td>\n",
       "      <td>-0.260867</td>\n",
       "    </tr>\n",
       "    <tr>\n",
       "      <th>12</th>\n",
       "      <td>Other goods and services</td>\n",
       "      <td>447.306</td>\n",
       "      <td>449.830</td>\n",
       "      <td>446.751</td>\n",
       "      <td>445.003</td>\n",
       "      <td>450.417</td>\n",
       "      <td>-1.073072</td>\n",
       "    </tr>\n",
       "  </tbody>\n",
       "</table>\n",
       "</div>"
      ],
      "text/plain": [
       "                    Item and Group  IDX-DEC-2019  IDX-JAN-2020  IDX-FEB-2020  \\\n",
       "0                        All items       275.553       277.755       278.657   \n",
       "1               Food and beverages       267.623       271.402       272.546   \n",
       "2      Cereals and bakery products       271.514       273.713       276.386   \n",
       "3   Meats, poultry, fish, and eggs       281.643       283.279       279.993   \n",
       "4       Dairy and related products       253.042       255.915       254.288   \n",
       "5            Fruits and vegetables       342.395       346.423       352.276   \n",
       "6                          Housing       319.257       320.216       321.211   \n",
       "7                          Apparel       106.453       112.147       114.583   \n",
       "8                   Transportation       213.991       214.517       214.885   \n",
       "9                     Medical care       485.696       498.270       499.208   \n",
       "10                      Recreation       105.912       107.744       108.757   \n",
       "11     Education and communication       149.031       149.118       149.002   \n",
       "12        Other goods and services       447.306       449.830       446.751   \n",
       "\n",
       "    IDX-MAR-2020  IDX-APR-2020  Inflation Change JAN->MAR  \n",
       "0        276.589       275.853                  -0.419794  \n",
       "1        271.669       276.101                   0.098378  \n",
       "2        271.720       284.534                  -0.728135  \n",
       "3        283.766       288.203                   0.171915  \n",
       "4        250.076       260.443                  -2.281617  \n",
       "5        348.884       348.901                   0.710403  \n",
       "6        321.162       322.624                   0.295426  \n",
       "7        109.624       103.359                  -2.249726  \n",
       "8        206.780       196.441                  -3.606707  \n",
       "9        500.341       499.720                   0.415638  \n",
       "10       107.776       108.317                   0.029700  \n",
       "11       148.729       149.159                  -0.260867  \n",
       "12       445.003       450.417                  -1.073072  "
      ]
     },
     "execution_count": 5,
     "metadata": {},
     "output_type": "execute_result"
    }
   ],
   "source": [
    "dfLA"
   ]
  },
  {
   "cell_type": "code",
   "execution_count": 6,
   "metadata": {},
   "outputs": [
    {
     "data": {
      "text/html": [
       "<div>\n",
       "<style scoped>\n",
       "    .dataframe tbody tr th:only-of-type {\n",
       "        vertical-align: middle;\n",
       "    }\n",
       "\n",
       "    .dataframe tbody tr th {\n",
       "        vertical-align: top;\n",
       "    }\n",
       "\n",
       "    .dataframe thead th {\n",
       "        text-align: right;\n",
       "    }\n",
       "</style>\n",
       "<table border=\"1\" class=\"dataframe\">\n",
       "  <thead>\n",
       "    <tr style=\"text-align: right;\">\n",
       "      <th></th>\n",
       "      <th>Item and Group</th>\n",
       "      <th>IDX-SEP-2019</th>\n",
       "      <th>IDX-NOV-2019</th>\n",
       "      <th>IDX-JAN-2020</th>\n",
       "      <th>IDX-MAR-2020</th>\n",
       "      <th>Inflation Change JAN-&gt;MAR</th>\n",
       "    </tr>\n",
       "  </thead>\n",
       "  <tbody>\n",
       "    <tr>\n",
       "      <th>0</th>\n",
       "      <td>All items</td>\n",
       "      <td>106.412</td>\n",
       "      <td>106.573</td>\n",
       "      <td>107.143</td>\n",
       "      <td>107.162</td>\n",
       "      <td>0.017733</td>\n",
       "    </tr>\n",
       "    <tr>\n",
       "      <th>1</th>\n",
       "      <td>Food and beverages</td>\n",
       "      <td>104.565</td>\n",
       "      <td>103.959</td>\n",
       "      <td>106.468</td>\n",
       "      <td>106.700</td>\n",
       "      <td>0.217906</td>\n",
       "    </tr>\n",
       "    <tr>\n",
       "      <th>2</th>\n",
       "      <td>Cereals and bakery products</td>\n",
       "      <td>104.417</td>\n",
       "      <td>104.712</td>\n",
       "      <td>104.874</td>\n",
       "      <td>106.098</td>\n",
       "      <td>1.167115</td>\n",
       "    </tr>\n",
       "    <tr>\n",
       "      <th>3</th>\n",
       "      <td>Meats, poultry, fish, and eggs</td>\n",
       "      <td>101.027</td>\n",
       "      <td>100.074</td>\n",
       "      <td>101.213</td>\n",
       "      <td>103.272</td>\n",
       "      <td>2.034324</td>\n",
       "    </tr>\n",
       "    <tr>\n",
       "      <th>4</th>\n",
       "      <td>Dairy and related products</td>\n",
       "      <td>100.287</td>\n",
       "      <td>105.255</td>\n",
       "      <td>105.764</td>\n",
       "      <td>105.285</td>\n",
       "      <td>-0.452895</td>\n",
       "    </tr>\n",
       "    <tr>\n",
       "      <th>5</th>\n",
       "      <td>Fruits and vegetables</td>\n",
       "      <td>101.854</td>\n",
       "      <td>100.967</td>\n",
       "      <td>104.337</td>\n",
       "      <td>104.932</td>\n",
       "      <td>0.570267</td>\n",
       "    </tr>\n",
       "    <tr>\n",
       "      <th>6</th>\n",
       "      <td>Housing</td>\n",
       "      <td>107.048</td>\n",
       "      <td>107.678</td>\n",
       "      <td>109.886</td>\n",
       "      <td>109.955</td>\n",
       "      <td>0.062792</td>\n",
       "    </tr>\n",
       "    <tr>\n",
       "      <th>7</th>\n",
       "      <td>Apparel</td>\n",
       "      <td>106.510</td>\n",
       "      <td>89.989</td>\n",
       "      <td>93.442</td>\n",
       "      <td>97.442</td>\n",
       "      <td>4.280730</td>\n",
       "    </tr>\n",
       "    <tr>\n",
       "      <th>8</th>\n",
       "      <td>Transportation</td>\n",
       "      <td>108.799</td>\n",
       "      <td>111.540</td>\n",
       "      <td>106.672</td>\n",
       "      <td>103.961</td>\n",
       "      <td>-2.541435</td>\n",
       "    </tr>\n",
       "    <tr>\n",
       "      <th>9</th>\n",
       "      <td>Medical care</td>\n",
       "      <td>104.586</td>\n",
       "      <td>104.906</td>\n",
       "      <td>105.768</td>\n",
       "      <td>107.539</td>\n",
       "      <td>1.674419</td>\n",
       "    </tr>\n",
       "    <tr>\n",
       "      <th>10</th>\n",
       "      <td>Recreation</td>\n",
       "      <td>101.354</td>\n",
       "      <td>101.749</td>\n",
       "      <td>99.300</td>\n",
       "      <td>101.545</td>\n",
       "      <td>2.260826</td>\n",
       "    </tr>\n",
       "    <tr>\n",
       "      <th>11</th>\n",
       "      <td>Education and communication</td>\n",
       "      <td>105.604</td>\n",
       "      <td>104.536</td>\n",
       "      <td>104.746</td>\n",
       "      <td>105.182</td>\n",
       "      <td>0.416245</td>\n",
       "    </tr>\n",
       "    <tr>\n",
       "      <th>12</th>\n",
       "      <td>Other goods and services</td>\n",
       "      <td>105.500</td>\n",
       "      <td>106.336</td>\n",
       "      <td>107.738</td>\n",
       "      <td>108.452</td>\n",
       "      <td>0.662719</td>\n",
       "    </tr>\n",
       "  </tbody>\n",
       "</table>\n",
       "</div>"
      ],
      "text/plain": [
       "                    Item and Group  IDX-SEP-2019  IDX-NOV-2019  IDX-JAN-2020  \\\n",
       "0                        All items       106.412       106.573       107.143   \n",
       "1               Food and beverages       104.565       103.959       106.468   \n",
       "2      Cereals and bakery products       104.417       104.712       104.874   \n",
       "3   Meats, poultry, fish, and eggs       101.027       100.074       101.213   \n",
       "4       Dairy and related products       100.287       105.255       105.764   \n",
       "5            Fruits and vegetables       101.854       100.967       104.337   \n",
       "6                          Housing       107.048       107.678       109.886   \n",
       "7                          Apparel       106.510        89.989        93.442   \n",
       "8                   Transportation       108.799       111.540       106.672   \n",
       "9                     Medical care       104.586       104.906       105.768   \n",
       "10                      Recreation       101.354       101.749        99.300   \n",
       "11     Education and communication       105.604       104.536       104.746   \n",
       "12        Other goods and services       105.500       106.336       107.738   \n",
       "\n",
       "    IDX-MAR-2020  Inflation Change JAN->MAR  \n",
       "0        107.162                   0.017733  \n",
       "1        106.700                   0.217906  \n",
       "2        106.098                   1.167115  \n",
       "3        103.272                   2.034324  \n",
       "4        105.285                  -0.452895  \n",
       "5        104.932                   0.570267  \n",
       "6        109.955                   0.062792  \n",
       "7         97.442                   4.280730  \n",
       "8        103.961                  -2.541435  \n",
       "9        107.539                   1.674419  \n",
       "10       101.545                   2.260826  \n",
       "11       105.182                   0.416245  \n",
       "12       108.452                   0.662719  "
      ]
     },
     "execution_count": 6,
     "metadata": {},
     "output_type": "execute_result"
    }
   ],
   "source": [
    "dfRS"
   ]
  },
  {
   "cell_type": "code",
   "execution_count": 7,
   "metadata": {},
   "outputs": [
    {
     "data": {
      "text/html": [
       "<div>\n",
       "<style scoped>\n",
       "    .dataframe tbody tr th:only-of-type {\n",
       "        vertical-align: middle;\n",
       "    }\n",
       "\n",
       "    .dataframe tbody tr th {\n",
       "        vertical-align: top;\n",
       "    }\n",
       "\n",
       "    .dataframe thead th {\n",
       "        text-align: right;\n",
       "    }\n",
       "</style>\n",
       "<table border=\"1\" class=\"dataframe\">\n",
       "  <thead>\n",
       "    <tr style=\"text-align: right;\">\n",
       "      <th></th>\n",
       "      <th>Item and Group</th>\n",
       "      <th>IDX-SEP-2019</th>\n",
       "      <th>IDX-NOV-2019</th>\n",
       "      <th>IDX-JAN-2020</th>\n",
       "      <th>IDX-MAR-2020</th>\n",
       "      <th>Inflation Change JAN-&gt;MAR</th>\n",
       "    </tr>\n",
       "  </thead>\n",
       "  <tbody>\n",
       "    <tr>\n",
       "      <th>0</th>\n",
       "      <td>All items</td>\n",
       "      <td>301.033</td>\n",
       "      <td>301.520</td>\n",
       "      <td>302.564</td>\n",
       "      <td>302.589</td>\n",
       "      <td>0.008263</td>\n",
       "    </tr>\n",
       "    <tr>\n",
       "      <th>1</th>\n",
       "      <td>Food and beverages</td>\n",
       "      <td>261.023</td>\n",
       "      <td>263.074</td>\n",
       "      <td>262.528</td>\n",
       "      <td>265.155</td>\n",
       "      <td>1.000655</td>\n",
       "    </tr>\n",
       "    <tr>\n",
       "      <th>2</th>\n",
       "      <td>Cereals and bakery products</td>\n",
       "      <td>260.394</td>\n",
       "      <td>264.756</td>\n",
       "      <td>260.540</td>\n",
       "      <td>256.531</td>\n",
       "      <td>-1.538727</td>\n",
       "    </tr>\n",
       "    <tr>\n",
       "      <th>3</th>\n",
       "      <td>Meats, poultry, fish, and eggs</td>\n",
       "      <td>237.007</td>\n",
       "      <td>240.881</td>\n",
       "      <td>239.904</td>\n",
       "      <td>240.900</td>\n",
       "      <td>0.415166</td>\n",
       "    </tr>\n",
       "    <tr>\n",
       "      <th>4</th>\n",
       "      <td>Dairy and related products</td>\n",
       "      <td>190.050</td>\n",
       "      <td>193.319</td>\n",
       "      <td>193.408</td>\n",
       "      <td>194.576</td>\n",
       "      <td>0.603905</td>\n",
       "    </tr>\n",
       "    <tr>\n",
       "      <th>5</th>\n",
       "      <td>Fruits and vegetables</td>\n",
       "      <td>269.633</td>\n",
       "      <td>268.477</td>\n",
       "      <td>260.880</td>\n",
       "      <td>264.063</td>\n",
       "      <td>1.220101</td>\n",
       "    </tr>\n",
       "    <tr>\n",
       "      <th>6</th>\n",
       "      <td>Housing</td>\n",
       "      <td>357.699</td>\n",
       "      <td>357.465</td>\n",
       "      <td>361.568</td>\n",
       "      <td>363.301</td>\n",
       "      <td>0.479301</td>\n",
       "    </tr>\n",
       "    <tr>\n",
       "      <th>7</th>\n",
       "      <td>Apparel</td>\n",
       "      <td>171.134</td>\n",
       "      <td>161.566</td>\n",
       "      <td>161.111</td>\n",
       "      <td>157.971</td>\n",
       "      <td>-1.948967</td>\n",
       "    </tr>\n",
       "    <tr>\n",
       "      <th>8</th>\n",
       "      <td>Transportation</td>\n",
       "      <td>234.106</td>\n",
       "      <td>235.748</td>\n",
       "      <td>231.819</td>\n",
       "      <td>223.714</td>\n",
       "      <td>-3.496262</td>\n",
       "    </tr>\n",
       "    <tr>\n",
       "      <th>9</th>\n",
       "      <td>Medical care</td>\n",
       "      <td>494.789</td>\n",
       "      <td>496.264</td>\n",
       "      <td>498.962</td>\n",
       "      <td>507.904</td>\n",
       "      <td>1.792120</td>\n",
       "    </tr>\n",
       "    <tr>\n",
       "      <th>10</th>\n",
       "      <td>Recreation</td>\n",
       "      <td>156.400</td>\n",
       "      <td>158.427</td>\n",
       "      <td>159.728</td>\n",
       "      <td>161.577</td>\n",
       "      <td>1.157593</td>\n",
       "    </tr>\n",
       "    <tr>\n",
       "      <th>11</th>\n",
       "      <td>Education and communication</td>\n",
       "      <td>130.136</td>\n",
       "      <td>130.967</td>\n",
       "      <td>130.384</td>\n",
       "      <td>129.186</td>\n",
       "      <td>-0.918824</td>\n",
       "    </tr>\n",
       "    <tr>\n",
       "      <th>12</th>\n",
       "      <td>Other goods and services</td>\n",
       "      <td>405.354</td>\n",
       "      <td>410.688</td>\n",
       "      <td>411.720</td>\n",
       "      <td>414.683</td>\n",
       "      <td>0.719664</td>\n",
       "    </tr>\n",
       "  </tbody>\n",
       "</table>\n",
       "</div>"
      ],
      "text/plain": [
       "                    Item and Group  IDX-SEP-2019  IDX-NOV-2019  IDX-JAN-2020  \\\n",
       "0                        All items       301.033       301.520       302.564   \n",
       "1               Food and beverages       261.023       263.074       262.528   \n",
       "2      Cereals and bakery products       260.394       264.756       260.540   \n",
       "3   Meats, poultry, fish, and eggs       237.007       240.881       239.904   \n",
       "4       Dairy and related products       190.050       193.319       193.408   \n",
       "5            Fruits and vegetables       269.633       268.477       260.880   \n",
       "6                          Housing       357.699       357.465       361.568   \n",
       "7                          Apparel       171.134       161.566       161.111   \n",
       "8                   Transportation       234.106       235.748       231.819   \n",
       "9                     Medical care       494.789       496.264       498.962   \n",
       "10                      Recreation       156.400       158.427       159.728   \n",
       "11     Education and communication       130.136       130.967       130.384   \n",
       "12        Other goods and services       405.354       410.688       411.720   \n",
       "\n",
       "    IDX-MAR-2020  Inflation Change JAN->MAR  \n",
       "0        302.589                   0.008263  \n",
       "1        265.155                   1.000655  \n",
       "2        256.531                  -1.538727  \n",
       "3        240.900                   0.415166  \n",
       "4        194.576                   0.603905  \n",
       "5        264.063                   1.220101  \n",
       "6        363.301                   0.479301  \n",
       "7        157.971                  -1.948967  \n",
       "8        223.714                  -3.496262  \n",
       "9        507.904                   1.792120  \n",
       "10       161.577                   1.157593  \n",
       "11       129.186                  -0.918824  \n",
       "12       414.683                   0.719664  "
      ]
     },
     "execution_count": 7,
     "metadata": {},
     "output_type": "execute_result"
    }
   ],
   "source": [
    "dfSD"
   ]
  },
  {
   "cell_type": "code",
   "execution_count": 8,
   "metadata": {},
   "outputs": [
    {
     "data": {
      "text/html": [
       "<div>\n",
       "<style scoped>\n",
       "    .dataframe tbody tr th:only-of-type {\n",
       "        vertical-align: middle;\n",
       "    }\n",
       "\n",
       "    .dataframe tbody tr th {\n",
       "        vertical-align: top;\n",
       "    }\n",
       "\n",
       "    .dataframe thead th {\n",
       "        text-align: right;\n",
       "    }\n",
       "</style>\n",
       "<table border=\"1\" class=\"dataframe\">\n",
       "  <thead>\n",
       "    <tr style=\"text-align: right;\">\n",
       "      <th></th>\n",
       "      <th>Item and Group</th>\n",
       "      <th>IDX-OCT-2019</th>\n",
       "      <th>IDX-DEC-2019</th>\n",
       "      <th>IDX-FEB-2020</th>\n",
       "      <th>IDX-APR-2020</th>\n",
       "      <th>Inflation Change FEB-&gt;APR</th>\n",
       "    </tr>\n",
       "  </thead>\n",
       "  <tbody>\n",
       "    <tr>\n",
       "      <th>0</th>\n",
       "      <td>All items</td>\n",
       "      <td>298.443</td>\n",
       "      <td>297.007</td>\n",
       "      <td>299.690</td>\n",
       "      <td>298.074</td>\n",
       "      <td>-0.539224</td>\n",
       "    </tr>\n",
       "    <tr>\n",
       "      <th>1</th>\n",
       "      <td>Food and beverages</td>\n",
       "      <td>292.658</td>\n",
       "      <td>291.161</td>\n",
       "      <td>294.897</td>\n",
       "      <td>299.485</td>\n",
       "      <td>1.555797</td>\n",
       "    </tr>\n",
       "    <tr>\n",
       "      <th>2</th>\n",
       "      <td>Cereals and bakery products</td>\n",
       "      <td>264.788</td>\n",
       "      <td>261.685</td>\n",
       "      <td>260.713</td>\n",
       "      <td>271.507</td>\n",
       "      <td>4.140185</td>\n",
       "    </tr>\n",
       "    <tr>\n",
       "      <th>3</th>\n",
       "      <td>Meats, poultry, fish, and eggs</td>\n",
       "      <td>254.853</td>\n",
       "      <td>257.727</td>\n",
       "      <td>259.584</td>\n",
       "      <td>286.649</td>\n",
       "      <td>10.426297</td>\n",
       "    </tr>\n",
       "    <tr>\n",
       "      <th>4</th>\n",
       "      <td>Dairy and related products</td>\n",
       "      <td>273.959</td>\n",
       "      <td>272.909</td>\n",
       "      <td>276.983</td>\n",
       "      <td>286.772</td>\n",
       "      <td>3.534152</td>\n",
       "    </tr>\n",
       "    <tr>\n",
       "      <th>5</th>\n",
       "      <td>Fruits and vegetables</td>\n",
       "      <td>347.437</td>\n",
       "      <td>339.390</td>\n",
       "      <td>337.537</td>\n",
       "      <td>350.323</td>\n",
       "      <td>3.788029</td>\n",
       "    </tr>\n",
       "    <tr>\n",
       "      <th>6</th>\n",
       "      <td>Housing</td>\n",
       "      <td>350.894</td>\n",
       "      <td>352.601</td>\n",
       "      <td>355.875</td>\n",
       "      <td>356.770</td>\n",
       "      <td>0.251493</td>\n",
       "    </tr>\n",
       "    <tr>\n",
       "      <th>7</th>\n",
       "      <td>Apparel</td>\n",
       "      <td>112.876</td>\n",
       "      <td>105.638</td>\n",
       "      <td>118.319</td>\n",
       "      <td>103.168</td>\n",
       "      <td>-12.805213</td>\n",
       "    </tr>\n",
       "    <tr>\n",
       "      <th>8</th>\n",
       "      <td>Transportation</td>\n",
       "      <td>216.519</td>\n",
       "      <td>205.815</td>\n",
       "      <td>207.576</td>\n",
       "      <td>194.267</td>\n",
       "      <td>-6.411628</td>\n",
       "    </tr>\n",
       "    <tr>\n",
       "      <th>9</th>\n",
       "      <td>Medical care</td>\n",
       "      <td>551.902</td>\n",
       "      <td>554.645</td>\n",
       "      <td>545.970</td>\n",
       "      <td>548.136</td>\n",
       "      <td>0.396725</td>\n",
       "    </tr>\n",
       "    <tr>\n",
       "      <th>10</th>\n",
       "      <td>Recreation</td>\n",
       "      <td>118.162</td>\n",
       "      <td>120.285</td>\n",
       "      <td>119.462</td>\n",
       "      <td>119.902</td>\n",
       "      <td>0.368318</td>\n",
       "    </tr>\n",
       "    <tr>\n",
       "      <th>11</th>\n",
       "      <td>Education and communication</td>\n",
       "      <td>150.244</td>\n",
       "      <td>150.738</td>\n",
       "      <td>150.916</td>\n",
       "      <td>151.603</td>\n",
       "      <td>0.455220</td>\n",
       "    </tr>\n",
       "    <tr>\n",
       "      <th>12</th>\n",
       "      <td>Other goods and services</td>\n",
       "      <td>506.865</td>\n",
       "      <td>502.634</td>\n",
       "      <td>506.920</td>\n",
       "      <td>511.625</td>\n",
       "      <td>0.928154</td>\n",
       "    </tr>\n",
       "  </tbody>\n",
       "</table>\n",
       "</div>"
      ],
      "text/plain": [
       "                    Item and Group  IDX-OCT-2019  IDX-DEC-2019  IDX-FEB-2020  \\\n",
       "0                        All items       298.443       297.007       299.690   \n",
       "1               Food and beverages       292.658       291.161       294.897   \n",
       "2      Cereals and bakery products       264.788       261.685       260.713   \n",
       "3   Meats, poultry, fish, and eggs       254.853       257.727       259.584   \n",
       "4       Dairy and related products       273.959       272.909       276.983   \n",
       "5            Fruits and vegetables       347.437       339.390       337.537   \n",
       "6                          Housing       350.894       352.601       355.875   \n",
       "7                          Apparel       112.876       105.638       118.319   \n",
       "8                   Transportation       216.519       205.815       207.576   \n",
       "9                     Medical care       551.902       554.645       545.970   \n",
       "10                      Recreation       118.162       120.285       119.462   \n",
       "11     Education and communication       150.244       150.738       150.916   \n",
       "12        Other goods and services       506.865       502.634       506.920   \n",
       "\n",
       "    IDX-APR-2020  Inflation Change FEB->APR  \n",
       "0        298.074                  -0.539224  \n",
       "1        299.485                   1.555797  \n",
       "2        271.507                   4.140185  \n",
       "3        286.649                  10.426297  \n",
       "4        286.772                   3.534152  \n",
       "5        350.323                   3.788029  \n",
       "6        356.770                   0.251493  \n",
       "7        103.168                 -12.805213  \n",
       "8        194.267                  -6.411628  \n",
       "9        548.136                   0.396725  \n",
       "10       119.902                   0.368318  \n",
       "11       151.603                   0.455220  \n",
       "12       511.625                   0.928154  "
      ]
     },
     "execution_count": 8,
     "metadata": {},
     "output_type": "execute_result"
    }
   ],
   "source": [
    "dfSF"
   ]
  },
  {
   "cell_type": "markdown",
   "metadata": {},
   "source": [
    "# Data Analysis & Results"
   ]
  },
  {
   "cell_type": "markdown",
   "metadata": {},
   "source": [
    "Include cells that describe the steps in your data analysis."
   ]
  },
  {
   "cell_type": "code",
   "execution_count": 9,
   "metadata": {},
   "outputs": [],
   "source": [
    "LAcpi = dfLA.loc[:,['Item and Group', 'Inflation Change JAN->MAR']]\n",
    "SFcpi = dfSF.loc[:,['Item and Group', 'Inflation Change FEB->APR']]\n",
    "SDcpi = dfSD.loc[:,['Item and Group', 'Inflation Change JAN->MAR']]\n",
    "RScpi = dfRS.loc[:,['Item and Group', 'Inflation Change JAN->MAR']]\n",
    "SFcpi.columns = ['Item and Group', 'Inflation Change JAN->MAR']\n",
    "\n",
    "RScpi = RScpi.loc[[2,3,4,5],:]\n",
    "LAcpi = LAcpi.loc[[2,3,4,5],:]\n",
    "SDcpi = SDcpi.loc[[2,3,4,5],:]\n",
    "SFcpi = SFcpi.loc[[2,3,4,5],:]"
   ]
  },
  {
   "cell_type": "code",
   "execution_count": 10,
   "metadata": {},
   "outputs": [
    {
     "data": {
      "text/html": [
       "<div>\n",
       "<style scoped>\n",
       "    .dataframe tbody tr th:only-of-type {\n",
       "        vertical-align: middle;\n",
       "    }\n",
       "\n",
       "    .dataframe tbody tr th {\n",
       "        vertical-align: top;\n",
       "    }\n",
       "\n",
       "    .dataframe thead th {\n",
       "        text-align: right;\n",
       "    }\n",
       "</style>\n",
       "<table border=\"1\" class=\"dataframe\">\n",
       "  <thead>\n",
       "    <tr style=\"text-align: right;\">\n",
       "      <th></th>\n",
       "      <th>Item and Group</th>\n",
       "      <th>Inflation Change JAN-&gt;MAR</th>\n",
       "    </tr>\n",
       "  </thead>\n",
       "  <tbody>\n",
       "    <tr>\n",
       "      <th>2</th>\n",
       "      <td>Cereals and bakery products</td>\n",
       "      <td>-0.728135</td>\n",
       "    </tr>\n",
       "    <tr>\n",
       "      <th>3</th>\n",
       "      <td>Meats, poultry, fish, and eggs</td>\n",
       "      <td>0.171915</td>\n",
       "    </tr>\n",
       "    <tr>\n",
       "      <th>4</th>\n",
       "      <td>Dairy and related products</td>\n",
       "      <td>-2.281617</td>\n",
       "    </tr>\n",
       "    <tr>\n",
       "      <th>5</th>\n",
       "      <td>Fruits and vegetables</td>\n",
       "      <td>0.710403</td>\n",
       "    </tr>\n",
       "  </tbody>\n",
       "</table>\n",
       "</div>"
      ],
      "text/plain": [
       "                   Item and Group  Inflation Change JAN->MAR\n",
       "2     Cereals and bakery products                  -0.728135\n",
       "3  Meats, poultry, fish, and eggs                   0.171915\n",
       "4      Dairy and related products                  -2.281617\n",
       "5           Fruits and vegetables                   0.710403"
      ]
     },
     "execution_count": 10,
     "metadata": {},
     "output_type": "execute_result"
    }
   ],
   "source": [
    "LAcpi"
   ]
  },
  {
   "cell_type": "code",
   "execution_count": 11,
   "metadata": {},
   "outputs": [],
   "source": [
    "frames = [LAcpi, SFcpi, RScpi, SDcpi]\n",
    "result = pd.concat(frames)\n",
    "result.insert(0, \"City_Name\", ['LosAngeles_CPI', 'LosAngeles_CPI', 'LosAngeles_CPI', 'LosAngeles_CPI', 'SanFranscisco_CPI', 'SanFranscisco_CPI', 'SanFranscisco_CPI', 'SanFranscisco_CPI', 'Riverside_CPI', 'Riverside_CPI', 'Riverside_CPI', 'Riverside_CPI', 'SanDiego_CPI', 'SanDiego_CPI', 'SanDiego_CPI', 'SanDiego_CPI'], True)\n",
    "result = result.reset_index(drop=True)\n",
    "result = result.reindex([1, 7, 8, 14, 5, 9, 13, 3, 11, 15, 0, 4, 12, 2, 6, 10])\n",
    "result = result.reset_index(drop=True)"
   ]
  },
  {
   "cell_type": "code",
   "execution_count": 12,
   "metadata": {},
   "outputs": [
    {
     "data": {
      "text/plain": [
       "Text(0.5, 1.1, 'Percent Change CPI of Grocery CPI from January to March by City')"
      ]
     },
     "execution_count": 12,
     "metadata": {},
     "output_type": "execute_result"
    },
    {
     "data": {
      "image/png": "[encoded data removed]",
      "text/plain": [
       "<Figure size 1152x360 with 4 Axes>"
      ]
     },
     "metadata": {
      "needs_background": "light"
     },
     "output_type": "display_data"
    }
   ],
   "source": [
    "  g = sns.catplot(x=\"Item and Group\", y=\"Inflation Change JAN->MAR\", col=\"City_Name\",\n",
    "                data=result, saturation=.7,\n",
    "                 kind=\"bar\", ci=None, aspect=0.8)\n",
    "\n",
    "(g.set_axis_labels(\"\", \"Percent Change CPI\")\n",
    "   .set_xticklabels([\"Meat\", \"Fruit\", \"Grain\",\"Dairy\"])\n",
    "   .set_titles(\"{col_name} \")\n",
    "   .set(ylim=(-3, 8))\n",
    "   .despine(left=True)\n",
    "   .fig.suptitle('Percent Change CPI of Grocery CPI from January to March by City', y=1.1, fontsize=30))"
   ]
  },
  {
   "cell_type": "markdown",
   "metadata": {},
   "source": [
    "These histogram displays the change in CPI for particular grocery categories during covid-19 from January to March in each city."
   ]
  },
  {
   "cell_type": "code",
   "execution_count": 13,
   "metadata": {},
   "outputs": [],
   "source": [
    "dfLAChange = dfLATrans\n",
    "dfLAChange.drop(dfLAChange.tail(1).index,inplace=True)\n",
    "dfLAChange = dfLAChange.pct_change()\n",
    "dfLAChange = dfLAChange * 100\n",
    "\n",
    "dfRSChange = dfRSTrans\n",
    "dfRSChange.drop(dfRSChange.tail(1).index,inplace=True)\n",
    "dfRSChange = dfRSChange.pct_change()\n",
    "dfRSChange = dfRSChange * 100\n",
    "\n",
    "dfSDChange = dfSDTrans\n",
    "dfSDChange.drop(dfSDChange.tail(1).index,inplace=True)\n",
    "dfSDChange = dfSDChange.pct_change()\n",
    "dfSDChange = dfSDChange * 100\n",
    "\n",
    "dfSFChange = dfSFTrans\n",
    "dfSFChange.drop(dfSFChange.tail(1).index,inplace=True)\n",
    "dfSFChange = dfSFChange.pct_change()\n",
    "dfSFChange = dfSFChange * 100\n",
    "\n",
    "dfUSChange = dfUSTrans.pct_change()\n",
    "dfUSChange = dfUSChange * 100"
   ]
  },
  {
   "cell_type": "code",
   "execution_count": 14,
   "metadata": {},
   "outputs": [],
   "source": [
    "dfTotal = dfUSChange.filter(['All items'], axis=1)\n",
    "dfTotal = dfTotal.iloc[6:, :]\n",
    "dfTotal.rename(columns={'All items':'United States'}, inplace=True)\n",
    "dfTotal['Los Angles'] = dfLAChange['All items']\n",
    "dfTotal['Riverside'] = dfRSChange['All items']\n",
    "dfTotal['San Diego'] = dfSDChange['All items']\n",
    "dfTotal['San Fransisco'] = dfSFChange['All items']"
   ]
  },
  {
   "cell_type": "code",
   "execution_count": 15,
   "metadata": {},
   "outputs": [
    {
     "data": {
      "text/plain": [
       "<matplotlib.axes._subplots.AxesSubplot at 0x7f8c319eaeb8>"
      ]
     },
     "execution_count": 15,
     "metadata": {},
     "output_type": "execute_result"
    },
    {
     "data": {
      "image/png": "[encoded data removed]",
      "text/plain": [
       "<Figure size 1224x595.44 with 1 Axes>"
      ]
     },
     "metadata": {
      "needs_background": "light"
     },
     "output_type": "display_data"
    }
   ],
   "source": [
    "a4_dims = (17, 8.27)\n",
    "fig, ay = plt.subplots(figsize=a4_dims)\n",
    "ay.set_title('(each percent change is from the previous month to the labled month)')\n",
    "ay.set_ylabel('CPI Percent Change')\n",
    "ay.set_xlabel('Month')\n",
    "fig.suptitle('CPI Percent Change', fontsize=30)\n",
    "sns.lineplot(ax = ay, data=dfTotal, marker=\"o\", sort=False)"
   ]
  },
  {
   "cell_type": "markdown",
   "metadata": {},
   "source": [
    "This line plot displays the Percent change of the total CPI in each city and the United States as a while in a time range from October 2019 to April 2020."
   ]
  },
  {
   "cell_type": "markdown",
   "metadata": {},
   "source": [
    "# Input the H1N1 Dataset"
   ]
  },
  {
   "cell_type": "code",
   "execution_count": 16,
   "metadata": {
    "scrolled": true
   },
   "outputs": [
    {
     "data": {
      "text/html": [
       "<div>\n",
       "<style scoped>\n",
       "    .dataframe tbody tr th:only-of-type {\n",
       "        vertical-align: middle;\n",
       "    }\n",
       "\n",
       "    .dataframe tbody tr th {\n",
       "        vertical-align: top;\n",
       "    }\n",
       "\n",
       "    .dataframe thead th {\n",
       "        text-align: right;\n",
       "    }\n",
       "</style>\n",
       "<table border=\"1\" class=\"dataframe\">\n",
       "  <thead>\n",
       "    <tr style=\"text-align: right;\">\n",
       "      <th></th>\n",
       "      <th>date</th>\n",
       "      <th>CPI</th>\n",
       "      <th>EX_IM</th>\n",
       "      <th>breakfast</th>\n",
       "      <th>meat</th>\n",
       "      <th>dairy</th>\n",
       "      <th>fruits</th>\n",
       "      <th>food_total</th>\n",
       "      <th>Housing</th>\n",
       "      <th>apparel</th>\n",
       "      <th>transport</th>\n",
       "      <th>medical</th>\n",
       "      <th>recreation</th>\n",
       "      <th>education</th>\n",
       "      <th>others</th>\n",
       "      <th>cost_of_living</th>\n",
       "    </tr>\n",
       "  </thead>\n",
       "  <tbody>\n",
       "    <tr>\n",
       "      <th>0</th>\n",
       "      <td>April 2009</td>\n",
       "      <td>0.0</td>\n",
       "      <td>0.80</td>\n",
       "      <td>252.709</td>\n",
       "      <td>205.699</td>\n",
       "      <td>197.124</td>\n",
       "      <td>274.297</td>\n",
       "      <td>929.829</td>\n",
       "      <td>217.126</td>\n",
       "      <td>123.208</td>\n",
       "      <td>171.987</td>\n",
       "      <td>374.170</td>\n",
       "      <td>114.625</td>\n",
       "      <td>126.273</td>\n",
       "      <td>370.606</td>\n",
       "      <td>1497.995</td>\n",
       "    </tr>\n",
       "    <tr>\n",
       "      <th>1</th>\n",
       "      <td>May 2009</td>\n",
       "      <td>0.1</td>\n",
       "      <td>1.05</td>\n",
       "      <td>252.714</td>\n",
       "      <td>203.789</td>\n",
       "      <td>196.055</td>\n",
       "      <td>274.006</td>\n",
       "      <td>926.564</td>\n",
       "      <td>216.971</td>\n",
       "      <td>121.751</td>\n",
       "      <td>175.997</td>\n",
       "      <td>375.026</td>\n",
       "      <td>114.264</td>\n",
       "      <td>126.467</td>\n",
       "      <td>369.901</td>\n",
       "      <td>1500.377</td>\n",
       "    </tr>\n",
       "    <tr>\n",
       "      <th>2</th>\n",
       "      <td>June 2009</td>\n",
       "      <td>0.7</td>\n",
       "      <td>1.85</td>\n",
       "      <td>253.008</td>\n",
       "      <td>204.031</td>\n",
       "      <td>197.197</td>\n",
       "      <td>272.608</td>\n",
       "      <td>926.844</td>\n",
       "      <td>218.071</td>\n",
       "      <td>118.799</td>\n",
       "      <td>183.735</td>\n",
       "      <td>375.093</td>\n",
       "      <td>114.643</td>\n",
       "      <td>126.519</td>\n",
       "      <td>370.595</td>\n",
       "      <td>1507.455</td>\n",
       "    </tr>\n",
       "    <tr>\n",
       "      <th>3</th>\n",
       "      <td>July 2009</td>\n",
       "      <td>0.0</td>\n",
       "      <td>-0.45</td>\n",
       "      <td>253.391</td>\n",
       "      <td>201.743</td>\n",
       "      <td>193.118</td>\n",
       "      <td>270.940</td>\n",
       "      <td>919.192</td>\n",
       "      <td>218.085</td>\n",
       "      <td>115.620</td>\n",
       "      <td>182.798</td>\n",
       "      <td>375.739</td>\n",
       "      <td>114.619</td>\n",
       "      <td>126.914</td>\n",
       "      <td>372.894</td>\n",
       "      <td>1506.669</td>\n",
       "    </tr>\n",
       "    <tr>\n",
       "      <th>4</th>\n",
       "      <td>August 2009</td>\n",
       "      <td>0.4</td>\n",
       "      <td>1.05</td>\n",
       "      <td>252.382</td>\n",
       "      <td>202.911</td>\n",
       "      <td>192.381</td>\n",
       "      <td>267.309</td>\n",
       "      <td>914.983</td>\n",
       "      <td>217.827</td>\n",
       "      <td>117.130</td>\n",
       "      <td>184.386</td>\n",
       "      <td>376.537</td>\n",
       "      <td>114.755</td>\n",
       "      <td>128.128</td>\n",
       "      <td>372.699</td>\n",
       "      <td>1511.462</td>\n",
       "    </tr>\n",
       "    <tr>\n",
       "      <th>5</th>\n",
       "      <td>September 2009</td>\n",
       "      <td>0.2</td>\n",
       "      <td>0.00</td>\n",
       "      <td>251.231</td>\n",
       "      <td>201.755</td>\n",
       "      <td>193.353</td>\n",
       "      <td>267.609</td>\n",
       "      <td>913.948</td>\n",
       "      <td>217.178</td>\n",
       "      <td>122.476</td>\n",
       "      <td>183.932</td>\n",
       "      <td>377.727</td>\n",
       "      <td>114.629</td>\n",
       "      <td>129.035</td>\n",
       "      <td>374.219</td>\n",
       "      <td>1519.196</td>\n",
       "    </tr>\n",
       "    <tr>\n",
       "      <th>6</th>\n",
       "      <td>October 2009</td>\n",
       "      <td>0.3</td>\n",
       "      <td>0.45</td>\n",
       "      <td>251.421</td>\n",
       "      <td>200.597</td>\n",
       "      <td>195.360</td>\n",
       "      <td>269.467</td>\n",
       "      <td>916.845</td>\n",
       "      <td>216.612</td>\n",
       "      <td>123.998</td>\n",
       "      <td>185.362</td>\n",
       "      <td>378.552</td>\n",
       "      <td>114.157</td>\n",
       "      <td>129.128</td>\n",
       "      <td>375.444</td>\n",
       "      <td>1523.253</td>\n",
       "    </tr>\n",
       "    <tr>\n",
       "      <th>7</th>\n",
       "      <td>November 2009</td>\n",
       "      <td>0.4</td>\n",
       "      <td>1.25</td>\n",
       "      <td>250.600</td>\n",
       "      <td>201.202</td>\n",
       "      <td>193.914</td>\n",
       "      <td>269.832</td>\n",
       "      <td>915.548</td>\n",
       "      <td>215.808</td>\n",
       "      <td>122.465</td>\n",
       "      <td>188.587</td>\n",
       "      <td>379.575</td>\n",
       "      <td>113.820</td>\n",
       "      <td>128.845</td>\n",
       "      <td>376.702</td>\n",
       "      <td>1525.802</td>\n",
       "    </tr>\n",
       "    <tr>\n",
       "      <th>8</th>\n",
       "      <td>December 2009</td>\n",
       "      <td>0.1</td>\n",
       "      <td>0.30</td>\n",
       "      <td>251.019</td>\n",
       "      <td>201.003</td>\n",
       "      <td>194.792</td>\n",
       "      <td>273.189</td>\n",
       "      <td>920.003</td>\n",
       "      <td>215.523</td>\n",
       "      <td>119.357</td>\n",
       "      <td>188.318</td>\n",
       "      <td>379.516</td>\n",
       "      <td>113.212</td>\n",
       "      <td>128.883</td>\n",
       "      <td>377.330</td>\n",
       "      <td>1522.139</td>\n",
       "    </tr>\n",
       "    <tr>\n",
       "      <th>9</th>\n",
       "      <td>January 2010</td>\n",
       "      <td>0.2</td>\n",
       "      <td>1.00</td>\n",
       "      <td>250.725</td>\n",
       "      <td>201.870</td>\n",
       "      <td>198.949</td>\n",
       "      <td>279.119</td>\n",
       "      <td>930.663</td>\n",
       "      <td>215.925</td>\n",
       "      <td>116.678</td>\n",
       "      <td>190.512</td>\n",
       "      <td>382.688</td>\n",
       "      <td>113.310</td>\n",
       "      <td>129.072</td>\n",
       "      <td>377.652</td>\n",
       "      <td>1525.837</td>\n",
       "    </tr>\n",
       "    <tr>\n",
       "      <th>10</th>\n",
       "      <td>February 2010</td>\n",
       "      <td>0.0</td>\n",
       "      <td>-0.20</td>\n",
       "      <td>251.361</td>\n",
       "      <td>202.343</td>\n",
       "      <td>198.800</td>\n",
       "      <td>274.963</td>\n",
       "      <td>927.467</td>\n",
       "      <td>215.841</td>\n",
       "      <td>118.869</td>\n",
       "      <td>189.577</td>\n",
       "      <td>385.907</td>\n",
       "      <td>113.345</td>\n",
       "      <td>129.105</td>\n",
       "      <td>377.992</td>\n",
       "      <td>1530.636</td>\n",
       "    </tr>\n",
       "    <tr>\n",
       "      <th>11</th>\n",
       "      <td>March 2010</td>\n",
       "      <td>0.1</td>\n",
       "      <td>0.55</td>\n",
       "      <td>250.930</td>\n",
       "      <td>202.812</td>\n",
       "      <td>198.814</td>\n",
       "      <td>280.431</td>\n",
       "      <td>932.987</td>\n",
       "      <td>216.023</td>\n",
       "      <td>122.073</td>\n",
       "      <td>192.130</td>\n",
       "      <td>387.142</td>\n",
       "      <td>113.339</td>\n",
       "      <td>129.236</td>\n",
       "      <td>378.808</td>\n",
       "      <td>1538.751</td>\n",
       "    </tr>\n",
       "    <tr>\n",
       "      <th>12</th>\n",
       "      <td>April 2010</td>\n",
       "      <td>-0.1</td>\n",
       "      <td>1.10</td>\n",
       "      <td>250.425</td>\n",
       "      <td>205.178</td>\n",
       "      <td>197.308</td>\n",
       "      <td>279.272</td>\n",
       "      <td>932.183</td>\n",
       "      <td>215.798</td>\n",
       "      <td>122.143</td>\n",
       "      <td>193.994</td>\n",
       "      <td>387.703</td>\n",
       "      <td>113.781</td>\n",
       "      <td>129.344</td>\n",
       "      <td>378.911</td>\n",
       "      <td>1541.674</td>\n",
       "    </tr>\n",
       "    <tr>\n",
       "      <th>13</th>\n",
       "      <td>May 2010</td>\n",
       "      <td>-0.2</td>\n",
       "      <td>-0.05</td>\n",
       "      <td>251.269</td>\n",
       "      <td>205.679</td>\n",
       "      <td>197.749</td>\n",
       "      <td>277.887</td>\n",
       "      <td>932.584</td>\n",
       "      <td>215.981</td>\n",
       "      <td>121.006</td>\n",
       "      <td>194.761</td>\n",
       "      <td>387.762</td>\n",
       "      <td>113.684</td>\n",
       "      <td>129.270</td>\n",
       "      <td>379.714</td>\n",
       "      <td>1542.178</td>\n",
       "    </tr>\n",
       "    <tr>\n",
       "      <th>14</th>\n",
       "      <td>June 2010</td>\n",
       "      <td>-0.1</td>\n",
       "      <td>-1.00</td>\n",
       "      <td>250.260</td>\n",
       "      <td>208.171</td>\n",
       "      <td>197.947</td>\n",
       "      <td>271.907</td>\n",
       "      <td>928.285</td>\n",
       "      <td>216.778</td>\n",
       "      <td>118.319</td>\n",
       "      <td>192.651</td>\n",
       "      <td>388.199</td>\n",
       "      <td>113.802</td>\n",
       "      <td>129.263</td>\n",
       "      <td>380.926</td>\n",
       "      <td>1539.938</td>\n",
       "    </tr>\n",
       "    <tr>\n",
       "      <th>15</th>\n",
       "      <td>July 2010</td>\n",
       "      <td>0.3</td>\n",
       "      <td>-0.05</td>\n",
       "      <td>250.172</td>\n",
       "      <td>208.989</td>\n",
       "      <td>198.991</td>\n",
       "      <td>265.967</td>\n",
       "      <td>924.119</td>\n",
       "      <td>217.076</td>\n",
       "      <td>115.248</td>\n",
       "      <td>193.038</td>\n",
       "      <td>387.898</td>\n",
       "      <td>113.689</td>\n",
       "      <td>129.586</td>\n",
       "      <td>383.247</td>\n",
       "      <td>1539.782</td>\n",
       "    </tr>\n",
       "    <tr>\n",
       "      <th>16</th>\n",
       "      <td>August 2010</td>\n",
       "      <td>0.3</td>\n",
       "      <td>0.70</td>\n",
       "      <td>249.736</td>\n",
       "      <td>208.854</td>\n",
       "      <td>198.712</td>\n",
       "      <td>265.914</td>\n",
       "      <td>923.216</td>\n",
       "      <td>216.976</td>\n",
       "      <td>116.667</td>\n",
       "      <td>193.454</td>\n",
       "      <td>388.467</td>\n",
       "      <td>113.521</td>\n",
       "      <td>130.599</td>\n",
       "      <td>383.685</td>\n",
       "      <td>1543.369</td>\n",
       "    </tr>\n",
       "  </tbody>\n",
       "</table>\n",
       "</div>"
      ],
      "text/plain": [
       "              date  CPI  EX_IM  breakfast     meat    dairy   fruits  \\\n",
       "0       April 2009  0.0   0.80    252.709  205.699  197.124  274.297   \n",
       "1         May 2009  0.1   1.05    252.714  203.789  196.055  274.006   \n",
       "2        June 2009  0.7   1.85    253.008  204.031  197.197  272.608   \n",
       "3        July 2009  0.0  -0.45    253.391  201.743  193.118  270.940   \n",
       "4      August 2009  0.4   1.05    252.382  202.911  192.381  267.309   \n",
       "5   September 2009  0.2   0.00    251.231  201.755  193.353  267.609   \n",
       "6     October 2009  0.3   0.45    251.421  200.597  195.360  269.467   \n",
       "7    November 2009  0.4   1.25    250.600  201.202  193.914  269.832   \n",
       "8    December 2009  0.1   0.30    251.019  201.003  194.792  273.189   \n",
       "9     January 2010  0.2   1.00    250.725  201.870  198.949  279.119   \n",
       "10   February 2010  0.0  -0.20    251.361  202.343  198.800  274.963   \n",
       "11      March 2010  0.1   0.55    250.930  202.812  198.814  280.431   \n",
       "12      April 2010 -0.1   1.10    250.425  205.178  197.308  279.272   \n",
       "13        May 2010 -0.2  -0.05    251.269  205.679  197.749  277.887   \n",
       "14       June 2010 -0.1  -1.00    250.260  208.171  197.947  271.907   \n",
       "15       July 2010  0.3  -0.05    250.172  208.989  198.991  265.967   \n",
       "16     August 2010  0.3   0.70    249.736  208.854  198.712  265.914   \n",
       "\n",
       "    food_total  Housing  apparel  transport  medical  recreation  education  \\\n",
       "0      929.829  217.126  123.208    171.987  374.170     114.625    126.273   \n",
       "1      926.564  216.971  121.751    175.997  375.026     114.264    126.467   \n",
       "2      926.844  218.071  118.799    183.735  375.093     114.643    126.519   \n",
       "3      919.192  218.085  115.620    182.798  375.739     114.619    126.914   \n",
       "4      914.983  217.827  117.130    184.386  376.537     114.755    128.128   \n",
       "5      913.948  217.178  122.476    183.932  377.727     114.629    129.035   \n",
       "6      916.845  216.612  123.998    185.362  378.552     114.157    129.128   \n",
       "7      915.548  215.808  122.465    188.587  379.575     113.820    128.845   \n",
       "8      920.003  215.523  119.357    188.318  379.516     113.212    128.883   \n",
       "9      930.663  215.925  116.678    190.512  382.688     113.310    129.072   \n",
       "10     927.467  215.841  118.869    189.577  385.907     113.345    129.105   \n",
       "11     932.987  216.023  122.073    192.130  387.142     113.339    129.236   \n",
       "12     932.183  215.798  122.143    193.994  387.703     113.781    129.344   \n",
       "13     932.584  215.981  121.006    194.761  387.762     113.684    129.270   \n",
       "14     928.285  216.778  118.319    192.651  388.199     113.802    129.263   \n",
       "15     924.119  217.076  115.248    193.038  387.898     113.689    129.586   \n",
       "16     923.216  216.976  116.667    193.454  388.467     113.521    130.599   \n",
       "\n",
       "     others  cost_of_living  \n",
       "0   370.606        1497.995  \n",
       "1   369.901        1500.377  \n",
       "2   370.595        1507.455  \n",
       "3   372.894        1506.669  \n",
       "4   372.699        1511.462  \n",
       "5   374.219        1519.196  \n",
       "6   375.444        1523.253  \n",
       "7   376.702        1525.802  \n",
       "8   377.330        1522.139  \n",
       "9   377.652        1525.837  \n",
       "10  377.992        1530.636  \n",
       "11  378.808        1538.751  \n",
       "12  378.911        1541.674  \n",
       "13  379.714        1542.178  \n",
       "14  380.926        1539.938  \n",
       "15  383.247        1539.782  \n",
       "16  383.685        1543.369  "
      ]
     },
     "execution_count": 16,
     "metadata": {},
     "output_type": "execute_result"
    }
   ],
   "source": [
    "df = dfUS_H1N1\n",
    "df"
   ]
  },
  {
   "cell_type": "code",
   "execution_count": 17,
   "metadata": {},
   "outputs": [
    {
     "data": {
      "text/html": [
       "<div>\n",
       "<style scoped>\n",
       "    .dataframe tbody tr th:only-of-type {\n",
       "        vertical-align: middle;\n",
       "    }\n",
       "\n",
       "    .dataframe tbody tr th {\n",
       "        vertical-align: top;\n",
       "    }\n",
       "\n",
       "    .dataframe thead th {\n",
       "        text-align: right;\n",
       "    }\n",
       "</style>\n",
       "<table border=\"1\" class=\"dataframe\">\n",
       "  <thead>\n",
       "    <tr style=\"text-align: right;\">\n",
       "      <th></th>\n",
       "      <th>CPI</th>\n",
       "      <th>EX_IM</th>\n",
       "      <th>breakfast</th>\n",
       "      <th>meat</th>\n",
       "      <th>dairy</th>\n",
       "      <th>fruits</th>\n",
       "      <th>cost_of_living</th>\n",
       "    </tr>\n",
       "  </thead>\n",
       "  <tbody>\n",
       "    <tr>\n",
       "      <th>0</th>\n",
       "      <td>0.0</td>\n",
       "      <td>0.80</td>\n",
       "      <td>252.709</td>\n",
       "      <td>205.699</td>\n",
       "      <td>197.124</td>\n",
       "      <td>274.297</td>\n",
       "      <td>1497.995</td>\n",
       "    </tr>\n",
       "    <tr>\n",
       "      <th>1</th>\n",
       "      <td>0.1</td>\n",
       "      <td>1.05</td>\n",
       "      <td>252.714</td>\n",
       "      <td>203.789</td>\n",
       "      <td>196.055</td>\n",
       "      <td>274.006</td>\n",
       "      <td>1500.377</td>\n",
       "    </tr>\n",
       "    <tr>\n",
       "      <th>2</th>\n",
       "      <td>0.7</td>\n",
       "      <td>1.85</td>\n",
       "      <td>253.008</td>\n",
       "      <td>204.031</td>\n",
       "      <td>197.197</td>\n",
       "      <td>272.608</td>\n",
       "      <td>1507.455</td>\n",
       "    </tr>\n",
       "    <tr>\n",
       "      <th>3</th>\n",
       "      <td>0.0</td>\n",
       "      <td>-0.45</td>\n",
       "      <td>253.391</td>\n",
       "      <td>201.743</td>\n",
       "      <td>193.118</td>\n",
       "      <td>270.940</td>\n",
       "      <td>1506.669</td>\n",
       "    </tr>\n",
       "    <tr>\n",
       "      <th>4</th>\n",
       "      <td>0.4</td>\n",
       "      <td>1.05</td>\n",
       "      <td>252.382</td>\n",
       "      <td>202.911</td>\n",
       "      <td>192.381</td>\n",
       "      <td>267.309</td>\n",
       "      <td>1511.462</td>\n",
       "    </tr>\n",
       "    <tr>\n",
       "      <th>5</th>\n",
       "      <td>0.2</td>\n",
       "      <td>0.00</td>\n",
       "      <td>251.231</td>\n",
       "      <td>201.755</td>\n",
       "      <td>193.353</td>\n",
       "      <td>267.609</td>\n",
       "      <td>1519.196</td>\n",
       "    </tr>\n",
       "    <tr>\n",
       "      <th>6</th>\n",
       "      <td>0.3</td>\n",
       "      <td>0.45</td>\n",
       "      <td>251.421</td>\n",
       "      <td>200.597</td>\n",
       "      <td>195.360</td>\n",
       "      <td>269.467</td>\n",
       "      <td>1523.253</td>\n",
       "    </tr>\n",
       "    <tr>\n",
       "      <th>7</th>\n",
       "      <td>0.4</td>\n",
       "      <td>1.25</td>\n",
       "      <td>250.600</td>\n",
       "      <td>201.202</td>\n",
       "      <td>193.914</td>\n",
       "      <td>269.832</td>\n",
       "      <td>1525.802</td>\n",
       "    </tr>\n",
       "    <tr>\n",
       "      <th>8</th>\n",
       "      <td>0.1</td>\n",
       "      <td>0.30</td>\n",
       "      <td>251.019</td>\n",
       "      <td>201.003</td>\n",
       "      <td>194.792</td>\n",
       "      <td>273.189</td>\n",
       "      <td>1522.139</td>\n",
       "    </tr>\n",
       "    <tr>\n",
       "      <th>9</th>\n",
       "      <td>0.2</td>\n",
       "      <td>1.00</td>\n",
       "      <td>250.725</td>\n",
       "      <td>201.870</td>\n",
       "      <td>198.949</td>\n",
       "      <td>279.119</td>\n",
       "      <td>1525.837</td>\n",
       "    </tr>\n",
       "    <tr>\n",
       "      <th>10</th>\n",
       "      <td>0.0</td>\n",
       "      <td>-0.20</td>\n",
       "      <td>251.361</td>\n",
       "      <td>202.343</td>\n",
       "      <td>198.800</td>\n",
       "      <td>274.963</td>\n",
       "      <td>1530.636</td>\n",
       "    </tr>\n",
       "    <tr>\n",
       "      <th>11</th>\n",
       "      <td>0.1</td>\n",
       "      <td>0.55</td>\n",
       "      <td>250.930</td>\n",
       "      <td>202.812</td>\n",
       "      <td>198.814</td>\n",
       "      <td>280.431</td>\n",
       "      <td>1538.751</td>\n",
       "    </tr>\n",
       "    <tr>\n",
       "      <th>12</th>\n",
       "      <td>-0.1</td>\n",
       "      <td>1.10</td>\n",
       "      <td>250.425</td>\n",
       "      <td>205.178</td>\n",
       "      <td>197.308</td>\n",
       "      <td>279.272</td>\n",
       "      <td>1541.674</td>\n",
       "    </tr>\n",
       "    <tr>\n",
       "      <th>13</th>\n",
       "      <td>-0.2</td>\n",
       "      <td>-0.05</td>\n",
       "      <td>251.269</td>\n",
       "      <td>205.679</td>\n",
       "      <td>197.749</td>\n",
       "      <td>277.887</td>\n",
       "      <td>1542.178</td>\n",
       "    </tr>\n",
       "    <tr>\n",
       "      <th>14</th>\n",
       "      <td>-0.1</td>\n",
       "      <td>-1.00</td>\n",
       "      <td>250.260</td>\n",
       "      <td>208.171</td>\n",
       "      <td>197.947</td>\n",
       "      <td>271.907</td>\n",
       "      <td>1539.938</td>\n",
       "    </tr>\n",
       "    <tr>\n",
       "      <th>15</th>\n",
       "      <td>0.3</td>\n",
       "      <td>-0.05</td>\n",
       "      <td>250.172</td>\n",
       "      <td>208.989</td>\n",
       "      <td>198.991</td>\n",
       "      <td>265.967</td>\n",
       "      <td>1539.782</td>\n",
       "    </tr>\n",
       "    <tr>\n",
       "      <th>16</th>\n",
       "      <td>0.3</td>\n",
       "      <td>0.70</td>\n",
       "      <td>249.736</td>\n",
       "      <td>208.854</td>\n",
       "      <td>198.712</td>\n",
       "      <td>265.914</td>\n",
       "      <td>1543.369</td>\n",
       "    </tr>\n",
       "  </tbody>\n",
       "</table>\n",
       "</div>"
      ],
      "text/plain": [
       "    CPI  EX_IM  breakfast     meat    dairy   fruits  cost_of_living\n",
       "0   0.0   0.80    252.709  205.699  197.124  274.297        1497.995\n",
       "1   0.1   1.05    252.714  203.789  196.055  274.006        1500.377\n",
       "2   0.7   1.85    253.008  204.031  197.197  272.608        1507.455\n",
       "3   0.0  -0.45    253.391  201.743  193.118  270.940        1506.669\n",
       "4   0.4   1.05    252.382  202.911  192.381  267.309        1511.462\n",
       "5   0.2   0.00    251.231  201.755  193.353  267.609        1519.196\n",
       "6   0.3   0.45    251.421  200.597  195.360  269.467        1523.253\n",
       "7   0.4   1.25    250.600  201.202  193.914  269.832        1525.802\n",
       "8   0.1   0.30    251.019  201.003  194.792  273.189        1522.139\n",
       "9   0.2   1.00    250.725  201.870  198.949  279.119        1525.837\n",
       "10  0.0  -0.20    251.361  202.343  198.800  274.963        1530.636\n",
       "11  0.1   0.55    250.930  202.812  198.814  280.431        1538.751\n",
       "12 -0.1   1.10    250.425  205.178  197.308  279.272        1541.674\n",
       "13 -0.2  -0.05    251.269  205.679  197.749  277.887        1542.178\n",
       "14 -0.1  -1.00    250.260  208.171  197.947  271.907        1539.938\n",
       "15  0.3  -0.05    250.172  208.989  198.991  265.967        1539.782\n",
       "16  0.3   0.70    249.736  208.854  198.712  265.914        1543.369"
      ]
     },
     "execution_count": 17,
     "metadata": {},
     "output_type": "execute_result"
    }
   ],
   "source": [
    "#take the subset of the data\n",
    "df = df.drop(['date', 'food_total', 'Housing', 'apparel', 'transport', 'medical', 'recreation', 'education', 'others'], axis=1)\n",
    "df"
   ]
  },
  {
   "cell_type": "markdown",
   "metadata": {},
   "source": [
    "# EDA for H1N1 dataset"
   ]
  },
  {
   "cell_type": "code",
   "execution_count": 18,
   "metadata": {},
   "outputs": [
    {
     "data": {
      "text/html": [
       "<div>\n",
       "<style scoped>\n",
       "    .dataframe tbody tr th:only-of-type {\n",
       "        vertical-align: middle;\n",
       "    }\n",
       "\n",
       "    .dataframe tbody tr th {\n",
       "        vertical-align: top;\n",
       "    }\n",
       "\n",
       "    .dataframe thead th {\n",
       "        text-align: right;\n",
       "    }\n",
       "</style>\n",
       "<table border=\"1\" class=\"dataframe\">\n",
       "  <thead>\n",
       "    <tr style=\"text-align: right;\">\n",
       "      <th></th>\n",
       "      <th>CPI</th>\n",
       "      <th>EX_IM</th>\n",
       "      <th>breakfast</th>\n",
       "      <th>meat</th>\n",
       "      <th>dairy</th>\n",
       "      <th>fruits</th>\n",
       "      <th>cost_of_living</th>\n",
       "    </tr>\n",
       "  </thead>\n",
       "  <tbody>\n",
       "    <tr>\n",
       "      <th>count</th>\n",
       "      <td>17.000000</td>\n",
       "      <td>17.000000</td>\n",
       "      <td>17.000000</td>\n",
       "      <td>17.000000</td>\n",
       "      <td>17.000000</td>\n",
       "      <td>17.000000</td>\n",
       "      <td>17.000000</td>\n",
       "    </tr>\n",
       "    <tr>\n",
       "      <th>mean</th>\n",
       "      <td>0.158824</td>\n",
       "      <td>0.491176</td>\n",
       "      <td>251.373706</td>\n",
       "      <td>203.919176</td>\n",
       "      <td>196.503765</td>\n",
       "      <td>272.630412</td>\n",
       "      <td>1524.500765</td>\n",
       "    </tr>\n",
       "    <tr>\n",
       "      <th>std</th>\n",
       "      <td>0.226547</td>\n",
       "      <td>0.718991</td>\n",
       "      <td>1.089119</td>\n",
       "      <td>2.753198</td>\n",
       "      <td>2.268422</td>\n",
       "      <td>4.672920</td>\n",
       "      <td>15.365860</td>\n",
       "    </tr>\n",
       "    <tr>\n",
       "      <th>min</th>\n",
       "      <td>-0.200000</td>\n",
       "      <td>-1.000000</td>\n",
       "      <td>249.736000</td>\n",
       "      <td>200.597000</td>\n",
       "      <td>192.381000</td>\n",
       "      <td>265.914000</td>\n",
       "      <td>1497.995000</td>\n",
       "    </tr>\n",
       "    <tr>\n",
       "      <th>25%</th>\n",
       "      <td>0.000000</td>\n",
       "      <td>-0.050000</td>\n",
       "      <td>250.600000</td>\n",
       "      <td>201.755000</td>\n",
       "      <td>194.792000</td>\n",
       "      <td>269.467000</td>\n",
       "      <td>1511.462000</td>\n",
       "    </tr>\n",
       "    <tr>\n",
       "      <th>50%</th>\n",
       "      <td>0.100000</td>\n",
       "      <td>0.550000</td>\n",
       "      <td>251.231000</td>\n",
       "      <td>202.911000</td>\n",
       "      <td>197.197000</td>\n",
       "      <td>272.608000</td>\n",
       "      <td>1525.802000</td>\n",
       "    </tr>\n",
       "    <tr>\n",
       "      <th>75%</th>\n",
       "      <td>0.300000</td>\n",
       "      <td>1.050000</td>\n",
       "      <td>252.382000</td>\n",
       "      <td>205.679000</td>\n",
       "      <td>198.712000</td>\n",
       "      <td>274.963000</td>\n",
       "      <td>1539.782000</td>\n",
       "    </tr>\n",
       "    <tr>\n",
       "      <th>max</th>\n",
       "      <td>0.700000</td>\n",
       "      <td>1.850000</td>\n",
       "      <td>253.391000</td>\n",
       "      <td>208.989000</td>\n",
       "      <td>198.991000</td>\n",
       "      <td>280.431000</td>\n",
       "      <td>1543.369000</td>\n",
       "    </tr>\n",
       "  </tbody>\n",
       "</table>\n",
       "</div>"
      ],
      "text/plain": [
       "             CPI      EX_IM   breakfast        meat       dairy      fruits  \\\n",
       "count  17.000000  17.000000   17.000000   17.000000   17.000000   17.000000   \n",
       "mean    0.158824   0.491176  251.373706  203.919176  196.503765  272.630412   \n",
       "std     0.226547   0.718991    1.089119    2.753198    2.268422    4.672920   \n",
       "min    -0.200000  -1.000000  249.736000  200.597000  192.381000  265.914000   \n",
       "25%     0.000000  -0.050000  250.600000  201.755000  194.792000  269.467000   \n",
       "50%     0.100000   0.550000  251.231000  202.911000  197.197000  272.608000   \n",
       "75%     0.300000   1.050000  252.382000  205.679000  198.712000  274.963000   \n",
       "max     0.700000   1.850000  253.391000  208.989000  198.991000  280.431000   \n",
       "\n",
       "       cost_of_living  \n",
       "count       17.000000  \n",
       "mean      1524.500765  \n",
       "std         15.365860  \n",
       "min       1497.995000  \n",
       "25%       1511.462000  \n",
       "50%       1525.802000  \n",
       "75%       1539.782000  \n",
       "max       1543.369000  "
      ]
     },
     "execution_count": 18,
     "metadata": {},
     "output_type": "execute_result"
    }
   ],
   "source": [
    "#see the underlying statistics for the data\n",
    "summary = df.describe()\n",
    "summary"
   ]
  },
  {
   "cell_type": "code",
   "execution_count": 19,
   "metadata": {},
   "outputs": [
    {
     "data": {
      "text/html": [
       "<div>\n",
       "<style scoped>\n",
       "    .dataframe tbody tr th:only-of-type {\n",
       "        vertical-align: middle;\n",
       "    }\n",
       "\n",
       "    .dataframe tbody tr th {\n",
       "        vertical-align: top;\n",
       "    }\n",
       "\n",
       "    .dataframe thead th {\n",
       "        text-align: right;\n",
       "    }\n",
       "</style>\n",
       "<table border=\"1\" class=\"dataframe\">\n",
       "  <thead>\n",
       "    <tr style=\"text-align: right;\">\n",
       "      <th></th>\n",
       "      <th>CPI</th>\n",
       "      <th>EX_IM</th>\n",
       "      <th>breakfast</th>\n",
       "      <th>meat</th>\n",
       "      <th>dairy</th>\n",
       "      <th>fruits</th>\n",
       "      <th>cost_of_living</th>\n",
       "    </tr>\n",
       "  </thead>\n",
       "  <tbody>\n",
       "    <tr>\n",
       "      <th>CPI</th>\n",
       "      <td>1.000000</td>\n",
       "      <td>0.617315</td>\n",
       "      <td>0.132554</td>\n",
       "      <td>-0.157137</td>\n",
       "      <td>-0.210906</td>\n",
       "      <td>-0.507895</td>\n",
       "      <td>-0.279551</td>\n",
       "    </tr>\n",
       "    <tr>\n",
       "      <th>EX_IM</th>\n",
       "      <td>0.617315</td>\n",
       "      <td>1.000000</td>\n",
       "      <td>0.215220</td>\n",
       "      <td>-0.203605</td>\n",
       "      <td>-0.065378</td>\n",
       "      <td>0.127720</td>\n",
       "      <td>-0.341802</td>\n",
       "    </tr>\n",
       "    <tr>\n",
       "      <th>breakfast</th>\n",
       "      <td>0.132554</td>\n",
       "      <td>0.215220</td>\n",
       "      <td>1.000000</td>\n",
       "      <td>-0.378946</td>\n",
       "      <td>-0.464655</td>\n",
       "      <td>0.037482</td>\n",
       "      <td>-0.881528</td>\n",
       "    </tr>\n",
       "    <tr>\n",
       "      <th>meat</th>\n",
       "      <td>-0.157137</td>\n",
       "      <td>-0.203605</td>\n",
       "      <td>-0.378946</td>\n",
       "      <td>1.000000</td>\n",
       "      <td>0.571129</td>\n",
       "      <td>-0.188591</td>\n",
       "      <td>0.422153</td>\n",
       "    </tr>\n",
       "    <tr>\n",
       "      <th>dairy</th>\n",
       "      <td>-0.210906</td>\n",
       "      <td>-0.065378</td>\n",
       "      <td>-0.464655</td>\n",
       "      <td>0.571129</td>\n",
       "      <td>1.000000</td>\n",
       "      <td>0.427324</td>\n",
       "      <td>0.544319</td>\n",
       "    </tr>\n",
       "    <tr>\n",
       "      <th>fruits</th>\n",
       "      <td>-0.507895</td>\n",
       "      <td>0.127720</td>\n",
       "      <td>0.037482</td>\n",
       "      <td>-0.188591</td>\n",
       "      <td>0.427324</td>\n",
       "      <td>1.000000</td>\n",
       "      <td>0.130196</td>\n",
       "    </tr>\n",
       "    <tr>\n",
       "      <th>cost_of_living</th>\n",
       "      <td>-0.279551</td>\n",
       "      <td>-0.341802</td>\n",
       "      <td>-0.881528</td>\n",
       "      <td>0.422153</td>\n",
       "      <td>0.544319</td>\n",
       "      <td>0.130196</td>\n",
       "      <td>1.000000</td>\n",
       "    </tr>\n",
       "  </tbody>\n",
       "</table>\n",
       "</div>"
      ],
      "text/plain": [
       "                     CPI     EX_IM  breakfast      meat     dairy    fruits  \\\n",
       "CPI             1.000000  0.617315   0.132554 -0.157137 -0.210906 -0.507895   \n",
       "EX_IM           0.617315  1.000000   0.215220 -0.203605 -0.065378  0.127720   \n",
       "breakfast       0.132554  0.215220   1.000000 -0.378946 -0.464655  0.037482   \n",
       "meat           -0.157137 -0.203605  -0.378946  1.000000  0.571129 -0.188591   \n",
       "dairy          -0.210906 -0.065378  -0.464655  0.571129  1.000000  0.427324   \n",
       "fruits         -0.507895  0.127720   0.037482 -0.188591  0.427324  1.000000   \n",
       "cost_of_living -0.279551 -0.341802  -0.881528  0.422153  0.544319  0.130196   \n",
       "\n",
       "                cost_of_living  \n",
       "CPI                  -0.279551  \n",
       "EX_IM                -0.341802  \n",
       "breakfast            -0.881528  \n",
       "meat                  0.422153  \n",
       "dairy                 0.544319  \n",
       "fruits                0.130196  \n",
       "cost_of_living        1.000000  "
      ]
     },
     "execution_count": 19,
     "metadata": {},
     "output_type": "execute_result"
    }
   ],
   "source": [
    "#see the correlation of the predictors and the outcome\n",
    "correlation = df.corr()\n",
    "correlation\n"
   ]
  },
  {
   "cell_type": "markdown",
   "metadata": {},
   "source": [
    "From the table, we can see that for:\n",
    "\n",
    "Breakfast\n",
    "- export-import has the highest positive correlation \n",
    "- cost of living has the highest negative correlation \n",
    "\n",
    "Meat\n",
    "- cost of living has the highest positive correlation\n",
    "- export-import has the highest negative correlation\n",
    "\n",
    "Dairy\n",
    "- cost of living has the highest positive correlation\n",
    "- CPI has the highest negative correlation\n",
    "\n",
    "Fruits\n",
    "- cost of living has the highest positive correlation\n",
    "- CPI has the highest negative correlation"
   ]
  },
  {
   "cell_type": "code",
   "execution_count": 20,
   "metadata": {},
   "outputs": [
    {
     "data": {
      "text/plain": [
       "<matplotlib.axes._subplots.AxesSubplot at 0x7f8c319d58d0>"
      ]
     },
     "execution_count": 20,
     "metadata": {},
     "output_type": "execute_result"
    },
    {
     "data": {
      "image/png": "[encoded data removed]",
      "text/plain": [
       "<Figure size 432x288 with 1 Axes>"
      ]
     },
     "metadata": {
      "needs_background": "light"
     },
     "output_type": "display_data"
    }
   ],
   "source": [
    "#see CPI distribution\n",
    "sns.distplot(df['CPI'], kde=True)"
   ]
  },
  {
   "cell_type": "code",
   "execution_count": 21,
   "metadata": {},
   "outputs": [
    {
     "data": {
      "text/plain": [
       "<matplotlib.axes._subplots.AxesSubplot at 0x7f8c2b229390>"
      ]
     },
     "execution_count": 21,
     "metadata": {},
     "output_type": "execute_result"
    },
    {
     "data": {
      "image/png": "[encoded data removed]",
      "text/plain": [
       "<Figure size 432x288 with 1 Axes>"
      ]
     },
     "metadata": {
      "needs_background": "light"
     },
     "output_type": "display_data"
    }
   ],
   "source": [
    "#see export-import distribution\n",
    "sns.distplot(df['EX_IM'], kde=True)"
   ]
  },
  {
   "cell_type": "code",
   "execution_count": 22,
   "metadata": {},
   "outputs": [
    {
     "data": {
      "text/plain": [
       "<matplotlib.axes._subplots.AxesSubplot at 0x7f8c2b229518>"
      ]
     },
     "execution_count": 22,
     "metadata": {},
     "output_type": "execute_result"
    },
    {
     "data": {
      "image/png": "[encoded data removed]",
      "text/plain": [
       "<Figure size 432x288 with 1 Axes>"
      ]
     },
     "metadata": {
      "needs_background": "light"
     },
     "output_type": "display_data"
    }
   ],
   "source": [
    "#see cost of living distribution\n",
    "sns.distplot(df['cost_of_living'], kde=True)"
   ]
  },
  {
   "cell_type": "markdown",
   "metadata": {},
   "source": [
    "As we can see above that these three datasets have approximately normal distribution "
   ]
  },
  {
   "cell_type": "code",
   "execution_count": 23,
   "metadata": {},
   "outputs": [
    {
     "data": {
      "image/png": "[encoded data removed]",
      "text/plain": [
       "<Figure size 432x288 with 1 Axes>"
      ]
     },
     "metadata": {
      "needs_background": "light"
     },
     "output_type": "display_data"
    }
   ],
   "source": [
    "#looking for outlier in CPI\n",
    "df.boxplot(\"CPI\")\n",
    "title = plt.title(\"CPI\")"
   ]
  },
  {
   "cell_type": "code",
   "execution_count": 24,
   "metadata": {},
   "outputs": [
    {
     "data": {
      "image/png": "[encoded data removed]",
      "text/plain": [
       "<Figure size 432x288 with 1 Axes>"
      ]
     },
     "metadata": {
      "needs_background": "light"
     },
     "output_type": "display_data"
    }
   ],
   "source": [
    "#looking for outlier in export-import\n",
    "df.boxplot(\"EX_IM\")\n",
    "title = plt.title(\"EX_IM\")"
   ]
  },
  {
   "cell_type": "code",
   "execution_count": 25,
   "metadata": {},
   "outputs": [
    {
     "data": {
      "image/png": "[encoded data removed]",
      "text/plain": [
       "<Figure size 432x288 with 1 Axes>"
      ]
     },
     "metadata": {
      "needs_background": "light"
     },
     "output_type": "display_data"
    }
   ],
   "source": [
    "#looking for outlier in cost of living\n",
    "df.boxplot(\"cost_of_living\")\n",
    "title = plt.title(\"cost_of_living\")"
   ]
  },
  {
   "cell_type": "markdown",
   "metadata": {},
   "source": [
    "As we can see above these three datasets do not have any outliers"
   ]
  },
  {
   "cell_type": "markdown",
   "metadata": {},
   "source": [
    "# Analyzing H1N1 datasets "
   ]
  },
  {
   "cell_type": "markdown",
   "metadata": {},
   "source": [
    "## Creating model using linear regression"
   ]
  },
  {
   "cell_type": "code",
   "execution_count": 26,
   "metadata": {},
   "outputs": [
    {
     "data": {
      "text/html": [
       "<div>\n",
       "<style scoped>\n",
       "    .dataframe tbody tr th:only-of-type {\n",
       "        vertical-align: middle;\n",
       "    }\n",
       "\n",
       "    .dataframe tbody tr th {\n",
       "        vertical-align: top;\n",
       "    }\n",
       "\n",
       "    .dataframe thead th {\n",
       "        text-align: right;\n",
       "    }\n",
       "</style>\n",
       "<table border=\"1\" class=\"dataframe\">\n",
       "  <thead>\n",
       "    <tr style=\"text-align: right;\">\n",
       "      <th></th>\n",
       "      <th>CPI</th>\n",
       "      <th>EX_IM</th>\n",
       "      <th>breakfast</th>\n",
       "      <th>meat</th>\n",
       "      <th>dairy</th>\n",
       "      <th>fruits</th>\n",
       "      <th>cost_of_living</th>\n",
       "    </tr>\n",
       "  </thead>\n",
       "  <tbody>\n",
       "    <tr>\n",
       "      <th>0</th>\n",
       "      <td>0.0</td>\n",
       "      <td>0.80</td>\n",
       "      <td>252.709</td>\n",
       "      <td>205.699</td>\n",
       "      <td>197.124</td>\n",
       "      <td>274.297</td>\n",
       "      <td>1497.995</td>\n",
       "    </tr>\n",
       "    <tr>\n",
       "      <th>1</th>\n",
       "      <td>0.1</td>\n",
       "      <td>1.05</td>\n",
       "      <td>252.714</td>\n",
       "      <td>203.789</td>\n",
       "      <td>196.055</td>\n",
       "      <td>274.006</td>\n",
       "      <td>1500.377</td>\n",
       "    </tr>\n",
       "    <tr>\n",
       "      <th>2</th>\n",
       "      <td>0.7</td>\n",
       "      <td>1.85</td>\n",
       "      <td>253.008</td>\n",
       "      <td>204.031</td>\n",
       "      <td>197.197</td>\n",
       "      <td>272.608</td>\n",
       "      <td>1507.455</td>\n",
       "    </tr>\n",
       "    <tr>\n",
       "      <th>3</th>\n",
       "      <td>0.0</td>\n",
       "      <td>-0.45</td>\n",
       "      <td>253.391</td>\n",
       "      <td>201.743</td>\n",
       "      <td>193.118</td>\n",
       "      <td>270.940</td>\n",
       "      <td>1506.669</td>\n",
       "    </tr>\n",
       "    <tr>\n",
       "      <th>4</th>\n",
       "      <td>0.4</td>\n",
       "      <td>1.05</td>\n",
       "      <td>252.382</td>\n",
       "      <td>202.911</td>\n",
       "      <td>192.381</td>\n",
       "      <td>267.309</td>\n",
       "      <td>1511.462</td>\n",
       "    </tr>\n",
       "    <tr>\n",
       "      <th>5</th>\n",
       "      <td>0.2</td>\n",
       "      <td>0.00</td>\n",
       "      <td>251.231</td>\n",
       "      <td>201.755</td>\n",
       "      <td>193.353</td>\n",
       "      <td>267.609</td>\n",
       "      <td>1519.196</td>\n",
       "    </tr>\n",
       "    <tr>\n",
       "      <th>6</th>\n",
       "      <td>0.3</td>\n",
       "      <td>0.45</td>\n",
       "      <td>251.421</td>\n",
       "      <td>200.597</td>\n",
       "      <td>195.360</td>\n",
       "      <td>269.467</td>\n",
       "      <td>1523.253</td>\n",
       "    </tr>\n",
       "    <tr>\n",
       "      <th>7</th>\n",
       "      <td>0.4</td>\n",
       "      <td>1.25</td>\n",
       "      <td>250.600</td>\n",
       "      <td>201.202</td>\n",
       "      <td>193.914</td>\n",
       "      <td>269.832</td>\n",
       "      <td>1525.802</td>\n",
       "    </tr>\n",
       "    <tr>\n",
       "      <th>8</th>\n",
       "      <td>0.1</td>\n",
       "      <td>0.30</td>\n",
       "      <td>251.019</td>\n",
       "      <td>201.003</td>\n",
       "      <td>194.792</td>\n",
       "      <td>273.189</td>\n",
       "      <td>1522.139</td>\n",
       "    </tr>\n",
       "    <tr>\n",
       "      <th>9</th>\n",
       "      <td>0.2</td>\n",
       "      <td>1.00</td>\n",
       "      <td>250.725</td>\n",
       "      <td>201.870</td>\n",
       "      <td>198.949</td>\n",
       "      <td>279.119</td>\n",
       "      <td>1525.837</td>\n",
       "    </tr>\n",
       "    <tr>\n",
       "      <th>10</th>\n",
       "      <td>0.0</td>\n",
       "      <td>-0.20</td>\n",
       "      <td>251.361</td>\n",
       "      <td>202.343</td>\n",
       "      <td>198.800</td>\n",
       "      <td>274.963</td>\n",
       "      <td>1530.636</td>\n",
       "    </tr>\n",
       "    <tr>\n",
       "      <th>11</th>\n",
       "      <td>0.1</td>\n",
       "      <td>0.55</td>\n",
       "      <td>250.930</td>\n",
       "      <td>202.812</td>\n",
       "      <td>198.814</td>\n",
       "      <td>280.431</td>\n",
       "      <td>1538.751</td>\n",
       "    </tr>\n",
       "    <tr>\n",
       "      <th>12</th>\n",
       "      <td>-0.1</td>\n",
       "      <td>1.10</td>\n",
       "      <td>250.425</td>\n",
       "      <td>205.178</td>\n",
       "      <td>197.308</td>\n",
       "      <td>279.272</td>\n",
       "      <td>1541.674</td>\n",
       "    </tr>\n",
       "    <tr>\n",
       "      <th>13</th>\n",
       "      <td>-0.2</td>\n",
       "      <td>-0.05</td>\n",
       "      <td>251.269</td>\n",
       "      <td>205.679</td>\n",
       "      <td>197.749</td>\n",
       "      <td>277.887</td>\n",
       "      <td>1542.178</td>\n",
       "    </tr>\n",
       "  </tbody>\n",
       "</table>\n",
       "</div>"
      ],
      "text/plain": [
       "    CPI  EX_IM  breakfast     meat    dairy   fruits  cost_of_living\n",
       "0   0.0   0.80    252.709  205.699  197.124  274.297        1497.995\n",
       "1   0.1   1.05    252.714  203.789  196.055  274.006        1500.377\n",
       "2   0.7   1.85    253.008  204.031  197.197  272.608        1507.455\n",
       "3   0.0  -0.45    253.391  201.743  193.118  270.940        1506.669\n",
       "4   0.4   1.05    252.382  202.911  192.381  267.309        1511.462\n",
       "5   0.2   0.00    251.231  201.755  193.353  267.609        1519.196\n",
       "6   0.3   0.45    251.421  200.597  195.360  269.467        1523.253\n",
       "7   0.4   1.25    250.600  201.202  193.914  269.832        1525.802\n",
       "8   0.1   0.30    251.019  201.003  194.792  273.189        1522.139\n",
       "9   0.2   1.00    250.725  201.870  198.949  279.119        1525.837\n",
       "10  0.0  -0.20    251.361  202.343  198.800  274.963        1530.636\n",
       "11  0.1   0.55    250.930  202.812  198.814  280.431        1538.751\n",
       "12 -0.1   1.10    250.425  205.178  197.308  279.272        1541.674\n",
       "13 -0.2  -0.05    251.269  205.679  197.749  277.887        1542.178"
      ]
     },
     "execution_count": 26,
     "metadata": {},
     "output_type": "execute_result"
    }
   ],
   "source": [
    "#divide dataet into training dataset and test dataset\n",
    "#80% training datsets\n",
    "df_training = df.loc[0:13,:]\n",
    "df_training"
   ]
  },
  {
   "cell_type": "code",
   "execution_count": 27,
   "metadata": {},
   "outputs": [
    {
     "data": {
      "text/html": [
       "<div>\n",
       "<style scoped>\n",
       "    .dataframe tbody tr th:only-of-type {\n",
       "        vertical-align: middle;\n",
       "    }\n",
       "\n",
       "    .dataframe tbody tr th {\n",
       "        vertical-align: top;\n",
       "    }\n",
       "\n",
       "    .dataframe thead th {\n",
       "        text-align: right;\n",
       "    }\n",
       "</style>\n",
       "<table border=\"1\" class=\"dataframe\">\n",
       "  <thead>\n",
       "    <tr style=\"text-align: right;\">\n",
       "      <th></th>\n",
       "      <th>CPI</th>\n",
       "      <th>EX_IM</th>\n",
       "      <th>breakfast</th>\n",
       "      <th>meat</th>\n",
       "      <th>dairy</th>\n",
       "      <th>fruits</th>\n",
       "      <th>cost_of_living</th>\n",
       "    </tr>\n",
       "  </thead>\n",
       "  <tbody>\n",
       "    <tr>\n",
       "      <th>14</th>\n",
       "      <td>-0.1</td>\n",
       "      <td>-1.00</td>\n",
       "      <td>250.260</td>\n",
       "      <td>208.171</td>\n",
       "      <td>197.947</td>\n",
       "      <td>271.907</td>\n",
       "      <td>1539.938</td>\n",
       "    </tr>\n",
       "    <tr>\n",
       "      <th>15</th>\n",
       "      <td>0.3</td>\n",
       "      <td>-0.05</td>\n",
       "      <td>250.172</td>\n",
       "      <td>208.989</td>\n",
       "      <td>198.991</td>\n",
       "      <td>265.967</td>\n",
       "      <td>1539.782</td>\n",
       "    </tr>\n",
       "    <tr>\n",
       "      <th>16</th>\n",
       "      <td>0.3</td>\n",
       "      <td>0.70</td>\n",
       "      <td>249.736</td>\n",
       "      <td>208.854</td>\n",
       "      <td>198.712</td>\n",
       "      <td>265.914</td>\n",
       "      <td>1543.369</td>\n",
       "    </tr>\n",
       "  </tbody>\n",
       "</table>\n",
       "</div>"
      ],
      "text/plain": [
       "    CPI  EX_IM  breakfast     meat    dairy   fruits  cost_of_living\n",
       "14 -0.1  -1.00    250.260  208.171  197.947  271.907        1539.938\n",
       "15  0.3  -0.05    250.172  208.989  198.991  265.967        1539.782\n",
       "16  0.3   0.70    249.736  208.854  198.712  265.914        1543.369"
      ]
     },
     "execution_count": 27,
     "metadata": {},
     "output_type": "execute_result"
    }
   ],
   "source": [
    "#20% data test\n",
    "df_test = df.loc[14:,:]\n",
    "df_test"
   ]
  },
  {
   "cell_type": "code",
   "execution_count": 28,
   "metadata": {},
   "outputs": [
    {
     "name": "stdout",
     "output_type": "stream",
     "text": [
      "                            OLS Regression Results                            \n",
      "==============================================================================\n",
      "Dep. Variable:              breakfast   R-squared:                       0.723\n",
      "Model:                            OLS   Adj. R-squared:                  0.640\n",
      "Method:                 Least Squares   F-statistic:                     8.716\n",
      "Date:                Wed, 10 Jun 2020   Prob (F-statistic):            0.00385\n",
      "Time:                        23:45:19   Log-Likelihood:                -10.074\n",
      "No. Observations:                  14   AIC:                             28.15\n",
      "Df Residuals:                      10   BIC:                             30.71\n",
      "Df Model:                           3                                         \n",
      "Covariance Type:            nonrobust                                         \n",
      "==================================================================================\n",
      "                     coef    std err          t      P>|t|      [0.025      0.975]\n",
      "----------------------------------------------------------------------------------\n",
      "Intercept        340.8113     18.327     18.596      0.000     299.976     381.646\n",
      "CPI               -0.0217      0.956     -0.023      0.982      -2.152       2.108\n",
      "EX_IM             -0.2406      0.329     -0.732      0.481      -0.973       0.491\n",
      "cost_of_living    -0.0585      0.012     -4.867      0.001      -0.085      -0.032\n",
      "==============================================================================\n",
      "Omnibus:                        1.290   Durbin-Watson:                   0.965\n",
      "Prob(Omnibus):                  0.525   Jarque-Bera (JB):                0.807\n",
      "Skew:                           0.165   Prob(JB):                        0.668\n",
      "Kurtosis:                       1.871   Cond. No.                     1.77e+05\n",
      "==============================================================================\n",
      "\n",
      "Warnings:\n",
      "[1] Standard Errors assume that the covariance matrix of the errors is correctly specified.\n",
      "[2] The condition number is large, 1.77e+05. This might indicate that there are\n",
      "strong multicollinearity or other numerical problems.\n"
     ]
    }
   ],
   "source": [
    "#predict for breakfast\n",
    "outcome_b, predictors_b = patsy.dmatrices('breakfast ~ CPI + EX_IM + cost_of_living ', df_training)\n",
    "mod_b = sm.OLS(outcome_b, predictors_b)\n",
    "res_b = mod_b.fit()\n",
    "print(res_b.summary())"
   ]
  },
  {
   "cell_type": "markdown",
   "metadata": {},
   "source": [
    "From here, we can see that export-import has the largest effect towards breakfast. Holding CPI and cost of living constant, 1% change in export import leads to 0.2406 change to breakfast"
   ]
  },
  {
   "cell_type": "markdown",
   "metadata": {},
   "source": [
    "breakfast linear regression equation\n",
    "\n",
    "breakfast 340.8113 + (-0.0217) * (CPI) + (-0.2406) * (EX_IM) + (-0.0585) * (cost_of_living)"
   ]
  },
  {
   "cell_type": "code",
   "execution_count": 29,
   "metadata": {},
   "outputs": [
    {
     "data": {
      "text/plain": [
       "<seaborn.axisgrid.PairGrid at 0x7f8c2b0758d0>"
      ]
     },
     "execution_count": 29,
     "metadata": {},
     "output_type": "execute_result"
    },
    {
     "data": {
      "image/png": "[encoded data removed]",
      "text/plain": [
       "<Figure size 1058.4x504 with 3 Axes>"
      ]
     },
     "metadata": {
      "needs_background": "light"
     },
     "output_type": "display_data"
    }
   ],
   "source": [
    "#vizualizing linear squared lines\n",
    "sns.pairplot(df, x_vars=['CPI','cost_of_living','EX_IM'], y_vars='breakfast', size=7, aspect=0.7, kind='reg')"
   ]
  },
  {
   "cell_type": "markdown",
   "metadata": {},
   "source": [
    "From the graph above, we can see that for CPI and Export-Import has a lot of variance that implies high bias, yet for cost of living it has less variance that implies less bias"
   ]
  },
  {
   "cell_type": "code",
   "execution_count": 30,
   "metadata": {},
   "outputs": [
    {
     "data": {
      "text/html": [
       "<div>\n",
       "<style scoped>\n",
       "    .dataframe tbody tr th:only-of-type {\n",
       "        vertical-align: middle;\n",
       "    }\n",
       "\n",
       "    .dataframe tbody tr th {\n",
       "        vertical-align: top;\n",
       "    }\n",
       "\n",
       "    .dataframe thead th {\n",
       "        text-align: right;\n",
       "    }\n",
       "</style>\n",
       "<table border=\"1\" class=\"dataframe\">\n",
       "  <thead>\n",
       "    <tr style=\"text-align: right;\">\n",
       "      <th></th>\n",
       "      <th>CPI</th>\n",
       "      <th>EX_IM</th>\n",
       "      <th>breakfast</th>\n",
       "      <th>meat</th>\n",
       "      <th>dairy</th>\n",
       "      <th>fruits</th>\n",
       "      <th>cost_of_living</th>\n",
       "    </tr>\n",
       "  </thead>\n",
       "  <tbody>\n",
       "    <tr>\n",
       "      <th>14</th>\n",
       "      <td>-0.1</td>\n",
       "      <td>-1.00</td>\n",
       "      <td>250.260</td>\n",
       "      <td>208.171</td>\n",
       "      <td>197.947</td>\n",
       "      <td>271.907</td>\n",
       "      <td>1539.938</td>\n",
       "    </tr>\n",
       "    <tr>\n",
       "      <th>15</th>\n",
       "      <td>0.3</td>\n",
       "      <td>-0.05</td>\n",
       "      <td>250.172</td>\n",
       "      <td>208.989</td>\n",
       "      <td>198.991</td>\n",
       "      <td>265.967</td>\n",
       "      <td>1539.782</td>\n",
       "    </tr>\n",
       "    <tr>\n",
       "      <th>16</th>\n",
       "      <td>0.3</td>\n",
       "      <td>0.70</td>\n",
       "      <td>249.736</td>\n",
       "      <td>208.854</td>\n",
       "      <td>198.712</td>\n",
       "      <td>265.914</td>\n",
       "      <td>1543.369</td>\n",
       "    </tr>\n",
       "  </tbody>\n",
       "</table>\n",
       "</div>"
      ],
      "text/plain": [
       "    CPI  EX_IM  breakfast     meat    dairy   fruits  cost_of_living\n",
       "14 -0.1  -1.00    250.260  208.171  197.947  271.907        1539.938\n",
       "15  0.3  -0.05    250.172  208.989  198.991  265.967        1539.782\n",
       "16  0.3   0.70    249.736  208.854  198.712  265.914        1543.369"
      ]
     },
     "execution_count": 30,
     "metadata": {},
     "output_type": "execute_result"
    }
   ],
   "source": [
    "df_test"
   ]
  },
  {
   "cell_type": "code",
   "execution_count": 31,
   "metadata": {},
   "outputs": [
    {
     "data": {
      "text/plain": [
       "14    250.967697\n",
       "15    250.739573\n",
       "16    250.349284\n",
       "dtype: float64"
      ]
     },
     "execution_count": 31,
     "metadata": {},
     "output_type": "execute_result"
    }
   ],
   "source": [
    "#test model with test dataset (the rest 20% of h1n1 data)\n",
    "breakfast = 340.8113 + (-0.0217)*df_test['CPI'] + (-0.2406)*df_test['EX_IM'] + (-0.0585)*df_test['cost_of_living']\n",
    "breakfast"
   ]
  },
  {
   "cell_type": "code",
   "execution_count": 32,
   "metadata": {},
   "outputs": [
    {
     "data": {
      "text/plain": [
       "14    99.718013\n",
       "15    99.773640\n",
       "16    99.755029\n",
       "dtype: float64"
      ]
     },
     "execution_count": 32,
     "metadata": {},
     "output_type": "execute_result"
    }
   ],
   "source": [
    "#model % error\n",
    "bfast_err = (breakfast - df_test['breakfast']) / breakfast \n",
    "bfast_err = bfast_err * 100\n",
    "\n",
    "#model % accuracy\n",
    "bfast_acc = 100 - bfast_err\n",
    "bfast_acc"
   ]
  },
  {
   "cell_type": "code",
   "execution_count": 33,
   "metadata": {},
   "outputs": [
    {
     "name": "stdout",
     "output_type": "stream",
     "text": [
      "                            OLS Regression Results                            \n",
      "==============================================================================\n",
      "Dep. Variable:                   meat   R-squared:                       0.539\n",
      "Model:                            OLS   Adj. R-squared:                  0.400\n",
      "Method:                 Least Squares   F-statistic:                     3.894\n",
      "Date:                Wed, 10 Jun 2020   Prob (F-statistic):             0.0443\n",
      "Time:                        23:45:21   Log-Likelihood:                -21.553\n",
      "No. Observations:                  14   AIC:                             51.11\n",
      "Df Residuals:                      10   BIC:                             53.66\n",
      "Df Model:                           3                                         \n",
      "Covariance Type:            nonrobust                                         \n",
      "==================================================================================\n",
      "                     coef    std err          t      P>|t|      [0.025      0.975]\n",
      "----------------------------------------------------------------------------------\n",
      "Intercept        234.9577     41.606      5.647      0.000     142.253     327.663\n",
      "CPI               -6.9990      2.170     -3.225      0.009     -11.835      -2.163\n",
      "EX_IM              2.1568      0.746      2.891      0.016       0.495       3.819\n",
      "cost_of_living    -0.0212      0.027     -0.778      0.455      -0.082       0.040\n",
      "==============================================================================\n",
      "Omnibus:                        0.770   Durbin-Watson:                   1.536\n",
      "Prob(Omnibus):                  0.680   Jarque-Bera (JB):                0.703\n",
      "Skew:                           0.440   Prob(JB):                        0.703\n",
      "Kurtosis:                       2.342   Cond. No.                     1.77e+05\n",
      "==============================================================================\n",
      "\n",
      "Warnings:\n",
      "[1] Standard Errors assume that the covariance matrix of the errors is correctly specified.\n",
      "[2] The condition number is large, 1.77e+05. This might indicate that there are\n",
      "strong multicollinearity or other numerical problems.\n"
     ]
    }
   ],
   "source": [
    "#predict for meat\n",
    "outcome_m, predictors_m = patsy.dmatrices('meat ~ CPI + EX_IM + cost_of_living', df_training)\n",
    "mod_m = sm.OLS(outcome_m, predictors_m)\n",
    "res_m = mod_m.fit()\n",
    "print(res_m.summary())"
   ]
  },
  {
   "cell_type": "markdown",
   "metadata": {},
   "source": [
    "From here, we can see that CPI has the largest effect towards meat. Holding export-import and cost of living constant, 1% change in CPI leads to 6.9990 change to meat"
   ]
  },
  {
   "cell_type": "markdown",
   "metadata": {},
   "source": [
    "meat linear regression equation\n",
    "meat = 234.9577 + (-6.9990) * (CPI) + 2.1568 * (EX_IM) + (-0.0212) * (cost_of_living)"
   ]
  },
  {
   "cell_type": "code",
   "execution_count": 34,
   "metadata": {},
   "outputs": [
    {
     "data": {
      "text/plain": [
       "<seaborn.axisgrid.PairGrid at 0x7f8c2b14c908>"
      ]
     },
     "execution_count": 34,
     "metadata": {},
     "output_type": "execute_result"
    },
    {
     "data": {
      "image/png": "[encoded data removed]",
      "text/plain": [
       "<Figure size 1058.4x504 with 3 Axes>"
      ]
     },
     "metadata": {
      "needs_background": "light"
     },
     "output_type": "display_data"
    }
   ],
   "source": [
    "#vizualizing linear squared lines\n",
    "sns.pairplot(df, x_vars=['CPI','cost_of_living','EX_IM'], y_vars='meat', size=7, aspect=0.7, kind='reg')"
   ]
  },
  {
   "cell_type": "markdown",
   "metadata": {},
   "source": [
    "From the graph above, we can see that for CPI, cost of living, and Export-Import has a lot of variance that implies high bias"
   ]
  },
  {
   "cell_type": "code",
   "execution_count": 35,
   "metadata": {},
   "outputs": [
    {
     "data": {
      "text/html": [
       "<div>\n",
       "<style scoped>\n",
       "    .dataframe tbody tr th:only-of-type {\n",
       "        vertical-align: middle;\n",
       "    }\n",
       "\n",
       "    .dataframe tbody tr th {\n",
       "        vertical-align: top;\n",
       "    }\n",
       "\n",
       "    .dataframe thead th {\n",
       "        text-align: right;\n",
       "    }\n",
       "</style>\n",
       "<table border=\"1\" class=\"dataframe\">\n",
       "  <thead>\n",
       "    <tr style=\"text-align: right;\">\n",
       "      <th></th>\n",
       "      <th>CPI</th>\n",
       "      <th>EX_IM</th>\n",
       "      <th>breakfast</th>\n",
       "      <th>meat</th>\n",
       "      <th>dairy</th>\n",
       "      <th>fruits</th>\n",
       "      <th>cost_of_living</th>\n",
       "    </tr>\n",
       "  </thead>\n",
       "  <tbody>\n",
       "    <tr>\n",
       "      <th>14</th>\n",
       "      <td>-0.1</td>\n",
       "      <td>-1.00</td>\n",
       "      <td>250.260</td>\n",
       "      <td>208.171</td>\n",
       "      <td>197.947</td>\n",
       "      <td>271.907</td>\n",
       "      <td>1539.938</td>\n",
       "    </tr>\n",
       "    <tr>\n",
       "      <th>15</th>\n",
       "      <td>0.3</td>\n",
       "      <td>-0.05</td>\n",
       "      <td>250.172</td>\n",
       "      <td>208.989</td>\n",
       "      <td>198.991</td>\n",
       "      <td>265.967</td>\n",
       "      <td>1539.782</td>\n",
       "    </tr>\n",
       "    <tr>\n",
       "      <th>16</th>\n",
       "      <td>0.3</td>\n",
       "      <td>0.70</td>\n",
       "      <td>249.736</td>\n",
       "      <td>208.854</td>\n",
       "      <td>198.712</td>\n",
       "      <td>265.914</td>\n",
       "      <td>1543.369</td>\n",
       "    </tr>\n",
       "  </tbody>\n",
       "</table>\n",
       "</div>"
      ],
      "text/plain": [
       "    CPI  EX_IM  breakfast     meat    dairy   fruits  cost_of_living\n",
       "14 -0.1  -1.00    250.260  208.171  197.947  271.907        1539.938\n",
       "15  0.3  -0.05    250.172  208.989  198.991  265.967        1539.782\n",
       "16  0.3   0.70    249.736  208.854  198.712  265.914        1543.369"
      ]
     },
     "execution_count": 35,
     "metadata": {},
     "output_type": "execute_result"
    }
   ],
   "source": [
    "df_test"
   ]
  },
  {
   "cell_type": "code",
   "execution_count": 36,
   "metadata": {},
   "outputs": [
    {
     "data": {
      "text/plain": [
       "14    200.854114\n",
       "15    200.106782\n",
       "16    201.648337\n",
       "dtype: float64"
      ]
     },
     "execution_count": 36,
     "metadata": {},
     "output_type": "execute_result"
    }
   ],
   "source": [
    "#test model with test dataset (the rest 20% of h1n1 data)\n",
    "meat = 234.9577 + (-6.9990)*df_test['CPI'] + 2.1568*df_test['EX_IM'] + (-0.0212)*df_test['cost_of_living']\n",
    "meat"
   ]
  },
  {
   "cell_type": "code",
   "execution_count": 37,
   "metadata": {},
   "outputs": [
    {
     "data": {
      "text/plain": [
       "14    96.357114\n",
       "15    95.561261\n",
       "16    96.426619\n",
       "dtype: float64"
      ]
     },
     "execution_count": 37,
     "metadata": {},
     "output_type": "execute_result"
    }
   ],
   "source": [
    "#model % error\n",
    "meat_err = abs((meat - df_test['meat']))/ meat \n",
    "meat_err = meat_err * 100\n",
    "meat_err\n",
    "\n",
    "#model % accuracy\n",
    "meat_acc = 100 - meat_err\n",
    "meat_acc"
   ]
  },
  {
   "cell_type": "code",
   "execution_count": 38,
   "metadata": {},
   "outputs": [
    {
     "name": "stdout",
     "output_type": "stream",
     "text": [
      "                            OLS Regression Results                            \n",
      "==============================================================================\n",
      "Dep. Variable:                  dairy   R-squared:                       0.345\n",
      "Model:                            OLS   Adj. R-squared:                  0.149\n",
      "Method:                 Least Squares   F-statistic:                     1.760\n",
      "Date:                Wed, 10 Jun 2020   Prob (F-statistic):              0.218\n",
      "Time:                        23:45:23   Log-Likelihood:                -27.804\n",
      "No. Observations:                  14   AIC:                             63.61\n",
      "Df Residuals:                      10   BIC:                             66.17\n",
      "Df Model:                           3                                         \n",
      "Covariance Type:            nonrobust                                         \n",
      "==================================================================================\n",
      "                     coef    std err          t      P>|t|      [0.025      0.975]\n",
      "----------------------------------------------------------------------------------\n",
      "Intercept        114.3215     65.027      1.758      0.109     -30.567     259.210\n",
      "CPI               -4.7300      3.392     -1.394      0.193     -12.288       2.828\n",
      "EX_IM              1.7494      1.166      1.501      0.164      -0.848       4.347\n",
      "cost_of_living     0.0535      0.043      1.255      0.238      -0.042       0.149\n",
      "==============================================================================\n",
      "Omnibus:                        1.807   Durbin-Watson:                   1.414\n",
      "Prob(Omnibus):                  0.405   Jarque-Bera (JB):                0.897\n",
      "Skew:                           0.086   Prob(JB):                        0.639\n",
      "Kurtosis:                       1.772   Cond. No.                     1.77e+05\n",
      "==============================================================================\n",
      "\n",
      "Warnings:\n",
      "[1] Standard Errors assume that the covariance matrix of the errors is correctly specified.\n",
      "[2] The condition number is large, 1.77e+05. This might indicate that there are\n",
      "strong multicollinearity or other numerical problems.\n"
     ]
    }
   ],
   "source": [
    "#predict for dairy\n",
    "outcome_d, predictors_d = patsy.dmatrices('dairy ~ CPI + EX_IM + cost_of_living', df_training)\n",
    "mod_d = sm.OLS(outcome_d, predictors_d)\n",
    "res_d = mod_d.fit()\n",
    "print(res_d.summary())"
   ]
  },
  {
   "cell_type": "markdown",
   "metadata": {},
   "source": [
    "From here, we can see that CPI has the largest effect towards dairy. Holding export-import and cost of living constant, 1% change in CPI leads to 4.7300 change to dairy"
   ]
  },
  {
   "cell_type": "markdown",
   "metadata": {},
   "source": [
    "dairy linear regression equation\n",
    "dairy = 114.3215 + (-4.7300) * (CPI) + 1.7494 * (EX_IM) + (0.0535) * (cost_of_living)"
   ]
  },
  {
   "cell_type": "code",
   "execution_count": 39,
   "metadata": {},
   "outputs": [
    {
     "data": {
      "text/plain": [
       "<seaborn.axisgrid.PairGrid at 0x7f8c29436fd0>"
      ]
     },
     "execution_count": 39,
     "metadata": {},
     "output_type": "execute_result"
    },
    {
     "data": {
      "image/png": "[encoded data removed]",
      "text/plain": [
       "<Figure size 1058.4x504 with 3 Axes>"
      ]
     },
     "metadata": {
      "needs_background": "light"
     },
     "output_type": "display_data"
    }
   ],
   "source": [
    "#vizualizing linear squared lines\n",
    "sns.pairplot(df, x_vars=['CPI','cost_of_living','EX_IM'], y_vars='dairy', size=7, aspect=0.7, kind='reg')"
   ]
  },
  {
   "cell_type": "markdown",
   "metadata": {},
   "source": [
    "From the graph above, we can see that for CPI, cost of living, and Export-Import has a lot of variance that implies high bias"
   ]
  },
  {
   "cell_type": "code",
   "execution_count": 40,
   "metadata": {},
   "outputs": [
    {
     "data": {
      "text/html": [
       "<div>\n",
       "<style scoped>\n",
       "    .dataframe tbody tr th:only-of-type {\n",
       "        vertical-align: middle;\n",
       "    }\n",
       "\n",
       "    .dataframe tbody tr th {\n",
       "        vertical-align: top;\n",
       "    }\n",
       "\n",
       "    .dataframe thead th {\n",
       "        text-align: right;\n",
       "    }\n",
       "</style>\n",
       "<table border=\"1\" class=\"dataframe\">\n",
       "  <thead>\n",
       "    <tr style=\"text-align: right;\">\n",
       "      <th></th>\n",
       "      <th>CPI</th>\n",
       "      <th>EX_IM</th>\n",
       "      <th>breakfast</th>\n",
       "      <th>meat</th>\n",
       "      <th>dairy</th>\n",
       "      <th>fruits</th>\n",
       "      <th>cost_of_living</th>\n",
       "    </tr>\n",
       "  </thead>\n",
       "  <tbody>\n",
       "    <tr>\n",
       "      <th>14</th>\n",
       "      <td>-0.1</td>\n",
       "      <td>-1.00</td>\n",
       "      <td>250.260</td>\n",
       "      <td>208.171</td>\n",
       "      <td>197.947</td>\n",
       "      <td>271.907</td>\n",
       "      <td>1539.938</td>\n",
       "    </tr>\n",
       "    <tr>\n",
       "      <th>15</th>\n",
       "      <td>0.3</td>\n",
       "      <td>-0.05</td>\n",
       "      <td>250.172</td>\n",
       "      <td>208.989</td>\n",
       "      <td>198.991</td>\n",
       "      <td>265.967</td>\n",
       "      <td>1539.782</td>\n",
       "    </tr>\n",
       "    <tr>\n",
       "      <th>16</th>\n",
       "      <td>0.3</td>\n",
       "      <td>0.70</td>\n",
       "      <td>249.736</td>\n",
       "      <td>208.854</td>\n",
       "      <td>198.712</td>\n",
       "      <td>265.914</td>\n",
       "      <td>1543.369</td>\n",
       "    </tr>\n",
       "  </tbody>\n",
       "</table>\n",
       "</div>"
      ],
      "text/plain": [
       "    CPI  EX_IM  breakfast     meat    dairy   fruits  cost_of_living\n",
       "14 -0.1  -1.00    250.260  208.171  197.947  271.907        1539.938\n",
       "15  0.3  -0.05    250.172  208.989  198.991  265.967        1539.782\n",
       "16  0.3   0.70    249.736  208.854  198.712  265.914        1543.369"
      ]
     },
     "execution_count": 40,
     "metadata": {},
     "output_type": "execute_result"
    }
   ],
   "source": [
    "df_test"
   ]
  },
  {
   "cell_type": "code",
   "execution_count": 41,
   "metadata": {},
   "outputs": [
    {
     "data": {
      "text/plain": [
       "14    195.431783\n",
       "15    195.193367\n",
       "16    196.697321\n",
       "dtype: float64"
      ]
     },
     "execution_count": 41,
     "metadata": {},
     "output_type": "execute_result"
    }
   ],
   "source": [
    "#test model with test dataset (the rest 20% of h1n1 data)\n",
    "dairy = 114.3215 + (-4.7300)*df_test['CPI'] + 1.7494*df_test['EX_IM'] + (0.0535)*df_test['cost_of_living']\n",
    "dairy"
   ]
  },
  {
   "cell_type": "code",
   "execution_count": 42,
   "metadata": {},
   "outputs": [
    {
     "data": {
      "text/plain": [
       "14    98.712995\n",
       "15    98.054425\n",
       "16    98.975747\n",
       "dtype: float64"
      ]
     },
     "execution_count": 42,
     "metadata": {},
     "output_type": "execute_result"
    }
   ],
   "source": [
    "#model % error\n",
    "dairy_err = abs((dairy - df_test['dairy']))/ dairy \n",
    "dairy_err = dairy_err * 100\n",
    "dairy_err\n",
    "\n",
    "#model % accuracy\n",
    "dairy_acc = 100 - dairy_err\n",
    "dairy_acc"
   ]
  },
  {
   "cell_type": "code",
   "execution_count": 43,
   "metadata": {},
   "outputs": [
    {
     "name": "stdout",
     "output_type": "stream",
     "text": [
      "                            OLS Regression Results                            \n",
      "==============================================================================\n",
      "Dep. Variable:                 fruits   R-squared:                       0.643\n",
      "Model:                            OLS   Adj. R-squared:                  0.535\n",
      "Method:                 Least Squares   F-statistic:                     5.995\n",
      "Date:                Wed, 10 Jun 2020   Prob (F-statistic):             0.0132\n",
      "Time:                        23:45:26   Log-Likelihood:                -32.701\n",
      "No. Observations:                  14   AIC:                             73.40\n",
      "Df Residuals:                      10   BIC:                             75.96\n",
      "Df Model:                           3                                         \n",
      "Covariance Type:            nonrobust                                         \n",
      "==================================================================================\n",
      "                     coef    std err          t      P>|t|      [0.025      0.975]\n",
      "----------------------------------------------------------------------------------\n",
      "Intercept        102.5107     92.256      1.111      0.293    -103.048     308.069\n",
      "CPI              -14.6505      4.812     -3.044      0.012     -25.373      -3.928\n",
      "EX_IM              4.2719      1.654      2.583      0.027       0.587       7.957\n",
      "cost_of_living     0.1123      0.061      1.855      0.093      -0.023       0.247\n",
      "==============================================================================\n",
      "Omnibus:                        1.026   Durbin-Watson:                   1.524\n",
      "Prob(Omnibus):                  0.599   Jarque-Bera (JB):                0.772\n",
      "Skew:                           0.243   Prob(JB):                        0.680\n",
      "Kurtosis:                       1.957   Cond. No.                     1.77e+05\n",
      "==============================================================================\n",
      "\n",
      "Warnings:\n",
      "[1] Standard Errors assume that the covariance matrix of the errors is correctly specified.\n",
      "[2] The condition number is large, 1.77e+05. This might indicate that there are\n",
      "strong multicollinearity or other numerical problems.\n"
     ]
    }
   ],
   "source": [
    "#predict for fruits\n",
    "outcome_f, predictors_f = patsy.dmatrices('fruits ~ CPI + EX_IM + cost_of_living', df_training)\n",
    "mod_f = sm.OLS(outcome_f, predictors_f)\n",
    "res_f = mod_f.fit()\n",
    "print(res_f.summary())"
   ]
  },
  {
   "cell_type": "markdown",
   "metadata": {},
   "source": [
    "From here, we can see that CPI has the largest effect towards fruits. Holding export-import and cost of living constant, 1% change in CPI leads to 14.6505 change to fruits"
   ]
  },
  {
   "cell_type": "markdown",
   "metadata": {},
   "source": [
    "fruits linear regression equation\n",
    "fruits = 102.5107 + (-14.6505) * (CPI) + 4.2719 * (EX_IM) + 0.1123 * (cost_of_living)"
   ]
  },
  {
   "cell_type": "code",
   "execution_count": 44,
   "metadata": {},
   "outputs": [
    {
     "data": {
      "text/plain": [
       "<seaborn.axisgrid.PairGrid at 0x7f8c29374358>"
      ]
     },
     "execution_count": 44,
     "metadata": {},
     "output_type": "execute_result"
    },
    {
     "data": {
      "image/png": "[encoded data removed]",
      "text/plain": [
       "<Figure size 1058.4x504 with 3 Axes>"
      ]
     },
     "metadata": {
      "needs_background": "light"
     },
     "output_type": "display_data"
    }
   ],
   "source": [
    "#vizualizing linear squared lines\n",
    "sns.pairplot(df, x_vars=['CPI','cost_of_living','EX_IM'], y_vars='fruits', size=7, aspect=0.7, kind='reg')"
   ]
  },
  {
   "cell_type": "markdown",
   "metadata": {},
   "source": [
    "From the graph above, we can see that for CPI, cost of living, and Export-Import has a lot of variance that implies high bias"
   ]
  },
  {
   "cell_type": "code",
   "execution_count": 45,
   "metadata": {},
   "outputs": [
    {
     "data": {
      "text/html": [
       "<div>\n",
       "<style scoped>\n",
       "    .dataframe tbody tr th:only-of-type {\n",
       "        vertical-align: middle;\n",
       "    }\n",
       "\n",
       "    .dataframe tbody tr th {\n",
       "        vertical-align: top;\n",
       "    }\n",
       "\n",
       "    .dataframe thead th {\n",
       "        text-align: right;\n",
       "    }\n",
       "</style>\n",
       "<table border=\"1\" class=\"dataframe\">\n",
       "  <thead>\n",
       "    <tr style=\"text-align: right;\">\n",
       "      <th></th>\n",
       "      <th>CPI</th>\n",
       "      <th>EX_IM</th>\n",
       "      <th>breakfast</th>\n",
       "      <th>meat</th>\n",
       "      <th>dairy</th>\n",
       "      <th>fruits</th>\n",
       "      <th>cost_of_living</th>\n",
       "    </tr>\n",
       "  </thead>\n",
       "  <tbody>\n",
       "    <tr>\n",
       "      <th>14</th>\n",
       "      <td>-0.1</td>\n",
       "      <td>-1.00</td>\n",
       "      <td>250.260</td>\n",
       "      <td>208.171</td>\n",
       "      <td>197.947</td>\n",
       "      <td>271.907</td>\n",
       "      <td>1539.938</td>\n",
       "    </tr>\n",
       "    <tr>\n",
       "      <th>15</th>\n",
       "      <td>0.3</td>\n",
       "      <td>-0.05</td>\n",
       "      <td>250.172</td>\n",
       "      <td>208.989</td>\n",
       "      <td>198.991</td>\n",
       "      <td>265.967</td>\n",
       "      <td>1539.782</td>\n",
       "    </tr>\n",
       "    <tr>\n",
       "      <th>16</th>\n",
       "      <td>0.3</td>\n",
       "      <td>0.70</td>\n",
       "      <td>249.736</td>\n",
       "      <td>208.854</td>\n",
       "      <td>198.712</td>\n",
       "      <td>265.914</td>\n",
       "      <td>1543.369</td>\n",
       "    </tr>\n",
       "  </tbody>\n",
       "</table>\n",
       "</div>"
      ],
      "text/plain": [
       "    CPI  EX_IM  breakfast     meat    dairy   fruits  cost_of_living\n",
       "14 -0.1  -1.00    250.260  208.171  197.947  271.907        1539.938\n",
       "15  0.3  -0.05    250.172  208.989  198.991  265.967        1539.782\n",
       "16  0.3   0.70    249.736  208.854  198.712  265.914        1543.369"
      ]
     },
     "execution_count": 45,
     "metadata": {},
     "output_type": "execute_result"
    }
   ],
   "source": [
    "df_test"
   ]
  },
  {
   "cell_type": "code",
   "execution_count": 46,
   "metadata": {},
   "outputs": [
    {
     "data": {
      "text/plain": [
       "14    272.638887\n",
       "15    270.819474\n",
       "16    274.426219\n",
       "dtype: float64"
      ]
     },
     "execution_count": 46,
     "metadata": {},
     "output_type": "execute_result"
    }
   ],
   "source": [
    "#test model with test dataset (the rest 20% of h1n1 data)\n",
    "fruits = 102.5107 + (-14.6505)*df_test['CPI'] + 4.2719*df_test['EX_IM'] + 0.1123*df_test['cost_of_living']\n",
    "fruits"
   ]
  },
  {
   "cell_type": "code",
   "execution_count": 47,
   "metadata": {},
   "outputs": [
    {
     "data": {
      "text/plain": [
       "14    99.731554\n",
       "15    98.208226\n",
       "16    96.898176\n",
       "dtype: float64"
      ]
     },
     "execution_count": 47,
     "metadata": {},
     "output_type": "execute_result"
    }
   ],
   "source": [
    "#model % error\n",
    "fruits_err = abs((fruits - df_test['fruits']))/ fruits\n",
    "fruits_err = fruits_err * 100\n",
    "fruits_err\n",
    "\n",
    "#model % accuracy\n",
    "fruits_acc = 100 - fruits_err\n",
    "fruits_acc"
   ]
  },
  {
   "cell_type": "markdown",
   "metadata": {},
   "source": [
    "## Prediction with linear regression"
   ]
  },
  {
   "cell_type": "code",
   "execution_count": 48,
   "metadata": {},
   "outputs": [
    {
     "data": {
      "text/html": [
       "<div>\n",
       "<style scoped>\n",
       "    .dataframe tbody tr th:only-of-type {\n",
       "        vertical-align: middle;\n",
       "    }\n",
       "\n",
       "    .dataframe tbody tr th {\n",
       "        vertical-align: top;\n",
       "    }\n",
       "\n",
       "    .dataframe thead th {\n",
       "        text-align: right;\n",
       "    }\n",
       "</style>\n",
       "<table border=\"1\" class=\"dataframe\">\n",
       "  <thead>\n",
       "    <tr style=\"text-align: right;\">\n",
       "      <th>Item and Group</th>\n",
       "      <th>index</th>\n",
       "      <th>All items</th>\n",
       "      <th>Food and beverages</th>\n",
       "      <th>Cereals and bakery products</th>\n",
       "      <th>Meats, poultry, fish, and eggs</th>\n",
       "      <th>Dairy and related products</th>\n",
       "      <th>Fruits and vegetables</th>\n",
       "      <th>Housing</th>\n",
       "      <th>Apparel</th>\n",
       "      <th>Transportation</th>\n",
       "      <th>Medical care</th>\n",
       "      <th>Recreation</th>\n",
       "      <th>Education and communication</th>\n",
       "      <th>Other goods and services</th>\n",
       "    </tr>\n",
       "  </thead>\n",
       "  <tbody>\n",
       "    <tr>\n",
       "      <th>0</th>\n",
       "      <td>IDX-DEC-2019</td>\n",
       "      <td>275.553</td>\n",
       "      <td>267.623</td>\n",
       "      <td>271.514</td>\n",
       "      <td>281.643</td>\n",
       "      <td>253.042</td>\n",
       "      <td>342.395</td>\n",
       "      <td>319.257</td>\n",
       "      <td>106.453</td>\n",
       "      <td>213.991</td>\n",
       "      <td>485.696</td>\n",
       "      <td>105.912</td>\n",
       "      <td>149.031</td>\n",
       "      <td>447.306</td>\n",
       "    </tr>\n",
       "    <tr>\n",
       "      <th>1</th>\n",
       "      <td>IDX-JAN-2020</td>\n",
       "      <td>277.755</td>\n",
       "      <td>271.402</td>\n",
       "      <td>273.713</td>\n",
       "      <td>283.279</td>\n",
       "      <td>255.915</td>\n",
       "      <td>346.423</td>\n",
       "      <td>320.216</td>\n",
       "      <td>112.147</td>\n",
       "      <td>214.517</td>\n",
       "      <td>498.270</td>\n",
       "      <td>107.744</td>\n",
       "      <td>149.118</td>\n",
       "      <td>449.830</td>\n",
       "    </tr>\n",
       "    <tr>\n",
       "      <th>2</th>\n",
       "      <td>IDX-FEB-2020</td>\n",
       "      <td>278.657</td>\n",
       "      <td>272.546</td>\n",
       "      <td>276.386</td>\n",
       "      <td>279.993</td>\n",
       "      <td>254.288</td>\n",
       "      <td>352.276</td>\n",
       "      <td>321.211</td>\n",
       "      <td>114.583</td>\n",
       "      <td>214.885</td>\n",
       "      <td>499.208</td>\n",
       "      <td>108.757</td>\n",
       "      <td>149.002</td>\n",
       "      <td>446.751</td>\n",
       "    </tr>\n",
       "    <tr>\n",
       "      <th>3</th>\n",
       "      <td>IDX-MAR-2020</td>\n",
       "      <td>276.589</td>\n",
       "      <td>271.669</td>\n",
       "      <td>271.720</td>\n",
       "      <td>283.766</td>\n",
       "      <td>250.076</td>\n",
       "      <td>348.884</td>\n",
       "      <td>321.162</td>\n",
       "      <td>109.624</td>\n",
       "      <td>206.780</td>\n",
       "      <td>500.341</td>\n",
       "      <td>107.776</td>\n",
       "      <td>148.729</td>\n",
       "      <td>445.003</td>\n",
       "    </tr>\n",
       "    <tr>\n",
       "      <th>4</th>\n",
       "      <td>IDX-APR-2020</td>\n",
       "      <td>275.853</td>\n",
       "      <td>276.101</td>\n",
       "      <td>284.534</td>\n",
       "      <td>288.203</td>\n",
       "      <td>260.443</td>\n",
       "      <td>348.901</td>\n",
       "      <td>322.624</td>\n",
       "      <td>103.359</td>\n",
       "      <td>196.441</td>\n",
       "      <td>499.720</td>\n",
       "      <td>108.317</td>\n",
       "      <td>149.159</td>\n",
       "      <td>450.417</td>\n",
       "    </tr>\n",
       "  </tbody>\n",
       "</table>\n",
       "</div>"
      ],
      "text/plain": [
       "Item and Group         index  All items  Food and beverages  \\\n",
       "0               IDX-DEC-2019    275.553             267.623   \n",
       "1               IDX-JAN-2020    277.755             271.402   \n",
       "2               IDX-FEB-2020    278.657             272.546   \n",
       "3               IDX-MAR-2020    276.589             271.669   \n",
       "4               IDX-APR-2020    275.853             276.101   \n",
       "\n",
       "Item and Group  Cereals and bakery products  Meats, poultry, fish, and eggs  \\\n",
       "0                                   271.514                         281.643   \n",
       "1                                   273.713                         283.279   \n",
       "2                                   276.386                         279.993   \n",
       "3                                   271.720                         283.766   \n",
       "4                                   284.534                         288.203   \n",
       "\n",
       "Item and Group  Dairy and related products  Fruits and vegetables  Housing  \\\n",
       "0                                  253.042                342.395  319.257   \n",
       "1                                  255.915                346.423  320.216   \n",
       "2                                  254.288                352.276  321.211   \n",
       "3                                  250.076                348.884  321.162   \n",
       "4                                  260.443                348.901  322.624   \n",
       "\n",
       "Item and Group  Apparel  Transportation  Medical care  Recreation  \\\n",
       "0               106.453         213.991       485.696     105.912   \n",
       "1               112.147         214.517       498.270     107.744   \n",
       "2               114.583         214.885       499.208     108.757   \n",
       "3               109.624         206.780       500.341     107.776   \n",
       "4               103.359         196.441       499.720     108.317   \n",
       "\n",
       "Item and Group  Education and communication  Other goods and services  \n",
       "0                                   149.031                   447.306  \n",
       "1                                   149.118                   449.830  \n",
       "2                                   149.002                   446.751  \n",
       "3                                   148.729                   445.003  \n",
       "4                                   149.159                   450.417  "
      ]
     },
     "execution_count": 48,
     "metadata": {},
     "output_type": "execute_result"
    }
   ],
   "source": [
    "#La dataframe\n",
    "LA_df = dfLATrans.reset_index()\n",
    "LA_df"
   ]
  },
  {
   "cell_type": "code",
   "execution_count": 49,
   "metadata": {},
   "outputs": [
    {
     "data": {
      "text/html": [
       "<div>\n",
       "<style scoped>\n",
       "    .dataframe tbody tr th:only-of-type {\n",
       "        vertical-align: middle;\n",
       "    }\n",
       "\n",
       "    .dataframe tbody tr th {\n",
       "        vertical-align: top;\n",
       "    }\n",
       "\n",
       "    .dataframe thead th {\n",
       "        text-align: right;\n",
       "    }\n",
       "</style>\n",
       "<table border=\"1\" class=\"dataframe\">\n",
       "  <thead>\n",
       "    <tr style=\"text-align: right;\">\n",
       "      <th>Item and Group</th>\n",
       "      <th>index</th>\n",
       "      <th>All items</th>\n",
       "      <th>Food and beverages</th>\n",
       "      <th>Cereals and bakery products</th>\n",
       "      <th>Meats, poultry, fish, and eggs</th>\n",
       "      <th>Dairy and related products</th>\n",
       "      <th>Fruits and vegetables</th>\n",
       "      <th>Housing</th>\n",
       "      <th>Apparel</th>\n",
       "      <th>Transportation</th>\n",
       "      <th>Medical care</th>\n",
       "      <th>Recreation</th>\n",
       "      <th>Education and communication</th>\n",
       "      <th>Other goods and services</th>\n",
       "      <th>CPI</th>\n",
       "      <th>EX_IM</th>\n",
       "    </tr>\n",
       "  </thead>\n",
       "  <tbody>\n",
       "    <tr>\n",
       "      <th>0</th>\n",
       "      <td>IDX-DEC-2019</td>\n",
       "      <td>275.553</td>\n",
       "      <td>267.623</td>\n",
       "      <td>271.514</td>\n",
       "      <td>281.643</td>\n",
       "      <td>253.042</td>\n",
       "      <td>342.395</td>\n",
       "      <td>319.257</td>\n",
       "      <td>106.453</td>\n",
       "      <td>213.991</td>\n",
       "      <td>485.696</td>\n",
       "      <td>105.912</td>\n",
       "      <td>149.031</td>\n",
       "      <td>447.306</td>\n",
       "      <td>1.1</td>\n",
       "      <td>0.00</td>\n",
       "    </tr>\n",
       "    <tr>\n",
       "      <th>1</th>\n",
       "      <td>IDX-JAN-2020</td>\n",
       "      <td>277.755</td>\n",
       "      <td>271.402</td>\n",
       "      <td>273.713</td>\n",
       "      <td>283.279</td>\n",
       "      <td>255.915</td>\n",
       "      <td>346.423</td>\n",
       "      <td>320.216</td>\n",
       "      <td>112.147</td>\n",
       "      <td>214.517</td>\n",
       "      <td>498.270</td>\n",
       "      <td>107.744</td>\n",
       "      <td>149.118</td>\n",
       "      <td>449.830</td>\n",
       "      <td>0.3</td>\n",
       "      <td>0.40</td>\n",
       "    </tr>\n",
       "    <tr>\n",
       "      <th>2</th>\n",
       "      <td>IDX-FEB-2020</td>\n",
       "      <td>278.657</td>\n",
       "      <td>272.546</td>\n",
       "      <td>276.386</td>\n",
       "      <td>279.993</td>\n",
       "      <td>254.288</td>\n",
       "      <td>352.276</td>\n",
       "      <td>321.211</td>\n",
       "      <td>114.583</td>\n",
       "      <td>214.885</td>\n",
       "      <td>499.208</td>\n",
       "      <td>108.757</td>\n",
       "      <td>149.002</td>\n",
       "      <td>446.751</td>\n",
       "      <td>-1.0</td>\n",
       "      <td>-0.95</td>\n",
       "    </tr>\n",
       "    <tr>\n",
       "      <th>3</th>\n",
       "      <td>IDX-MAR-2020</td>\n",
       "      <td>276.589</td>\n",
       "      <td>271.669</td>\n",
       "      <td>271.720</td>\n",
       "      <td>283.766</td>\n",
       "      <td>250.076</td>\n",
       "      <td>348.884</td>\n",
       "      <td>321.162</td>\n",
       "      <td>109.624</td>\n",
       "      <td>206.780</td>\n",
       "      <td>500.341</td>\n",
       "      <td>107.776</td>\n",
       "      <td>148.729</td>\n",
       "      <td>445.003</td>\n",
       "      <td>-0.3</td>\n",
       "      <td>-2.05</td>\n",
       "    </tr>\n",
       "    <tr>\n",
       "      <th>4</th>\n",
       "      <td>IDX-APR-2020</td>\n",
       "      <td>275.853</td>\n",
       "      <td>276.101</td>\n",
       "      <td>284.534</td>\n",
       "      <td>288.203</td>\n",
       "      <td>260.443</td>\n",
       "      <td>348.901</td>\n",
       "      <td>322.624</td>\n",
       "      <td>103.359</td>\n",
       "      <td>196.441</td>\n",
       "      <td>499.720</td>\n",
       "      <td>108.317</td>\n",
       "      <td>149.159</td>\n",
       "      <td>450.417</td>\n",
       "      <td>0.7</td>\n",
       "      <td>-2.95</td>\n",
       "    </tr>\n",
       "  </tbody>\n",
       "</table>\n",
       "</div>"
      ],
      "text/plain": [
       "Item and Group         index  All items  Food and beverages  \\\n",
       "0               IDX-DEC-2019    275.553             267.623   \n",
       "1               IDX-JAN-2020    277.755             271.402   \n",
       "2               IDX-FEB-2020    278.657             272.546   \n",
       "3               IDX-MAR-2020    276.589             271.669   \n",
       "4               IDX-APR-2020    275.853             276.101   \n",
       "\n",
       "Item and Group  Cereals and bakery products  Meats, poultry, fish, and eggs  \\\n",
       "0                                   271.514                         281.643   \n",
       "1                                   273.713                         283.279   \n",
       "2                                   276.386                         279.993   \n",
       "3                                   271.720                         283.766   \n",
       "4                                   284.534                         288.203   \n",
       "\n",
       "Item and Group  Dairy and related products  Fruits and vegetables  Housing  \\\n",
       "0                                  253.042                342.395  319.257   \n",
       "1                                  255.915                346.423  320.216   \n",
       "2                                  254.288                352.276  321.211   \n",
       "3                                  250.076                348.884  321.162   \n",
       "4                                  260.443                348.901  322.624   \n",
       "\n",
       "Item and Group  Apparel  Transportation  Medical care  Recreation  \\\n",
       "0               106.453         213.991       485.696     105.912   \n",
       "1               112.147         214.517       498.270     107.744   \n",
       "2               114.583         214.885       499.208     108.757   \n",
       "3               109.624         206.780       500.341     107.776   \n",
       "4               103.359         196.441       499.720     108.317   \n",
       "\n",
       "Item and Group  Education and communication  Other goods and services  CPI  \\\n",
       "0                                   149.031                   447.306  1.1   \n",
       "1                                   149.118                   449.830  0.3   \n",
       "2                                   149.002                   446.751 -1.0   \n",
       "3                                   148.729                   445.003 -0.3   \n",
       "4                                   149.159                   450.417  0.7   \n",
       "\n",
       "Item and Group  EX_IM  \n",
       "0                0.00  \n",
       "1                0.40  \n",
       "2               -0.95  \n",
       "3               -2.05  \n",
       "4               -2.95  "
      ]
     },
     "execution_count": 49,
     "metadata": {},
     "output_type": "execute_result"
    }
   ],
   "source": [
    "#Cut index number 5 row\n",
    "LA_df = LA_df.loc[0:4, :]\n",
    "#Add CPI of each months\n",
    "LA_df['CPI'] = [1.1, 0.3, -1.0, -0.3, 0.7]\n",
    "#Add export-import\n",
    "LA_df['EX_IM'] = [0, 0.4,-0.95, -2.05, -2.95 ]\n",
    "LA_df"
   ]
  },
  {
   "cell_type": "code",
   "execution_count": 50,
   "metadata": {},
   "outputs": [
    {
     "data": {
      "text/plain": [
       "0    324.667580\n",
       "1    324.459882\n",
       "2    324.760136\n",
       "3    325.130584\n",
       "4    325.368479\n",
       "dtype: float64"
      ]
     },
     "execution_count": 50,
     "metadata": {},
     "output_type": "execute_result"
    }
   ],
   "source": [
    "#predict LA cereal and bakery product price\n",
    "LA_breakfast = 340.8113 + (-0.0217)*LA_df['CPI'] + (-0.2406)*LA_df['EX_IM'] + (-0.0585)*LA_df['All items']\n",
    "LA_breakfast"
   ]
  },
  {
   "cell_type": "code",
   "execution_count": 51,
   "metadata": {},
   "outputs": [
    {
     "data": {
      "text/plain": [
       "(270.8584505105814, 280.2883494894187)"
      ]
     },
     "execution_count": 51,
     "metadata": {},
     "output_type": "execute_result"
    }
   ],
   "source": [
    "#see confidence interval\n",
    "n_LA = len(LA_df)\n",
    "LA_x_bar_bfast = LA_df['Cereals and bakery products'].mean()\n",
    "LA_sigma_bfast = LA_df['Cereals and bakery products'].std()\n",
    "\n",
    "LA_z_bfast = stats.norm.ppf(q=0.975)\n",
    "\n",
    "LA_ste_bfast = LA_sigma_bfast / math.sqrt(n_LA)\n",
    "\n",
    "LA_low_CI_bfast = LA_x_bar_bfast - LA_z_bfast * LA_ste_bfast\n",
    "LA_high_CI_bfast = LA_x_bar_bfast + LA_z_bfast * LA_ste_bfast\n",
    "\n",
    "LA_low_CI_bfast, LA_high_CI_bfast "
   ]
  },
  {
   "cell_type": "markdown",
   "metadata": {},
   "source": [
    "From the data above, we can see the Confidence Intervals for LA Cereals and bakery products.\n",
    "If the prediction falls in between the CI, then we will accepts the null hypothesis, else we will reject the null hypothesis and accepts alternative hypothesis."
   ]
  },
  {
   "cell_type": "code",
   "execution_count": 52,
   "metadata": {
    "scrolled": true
   },
   "outputs": [
    {
     "name": "stdout",
     "output_type": "stream",
     "text": [
      "reject null hypothesis\n",
      "reject null hypothesis\n",
      "reject null hypothesis\n",
      "reject null hypothesis\n",
      "reject null hypothesis\n"
     ]
    }
   ],
   "source": [
    "for i in LA_breakfast:\n",
    "    if (i < LA_low_CI_bfast) | (i > LA_high_CI_bfast):\n",
    "        print ('reject null hypothesis')\n",
    "    else:\n",
    "        print ('accept null hypothesis')"
   ]
  },
  {
   "cell_type": "code",
   "execution_count": 53,
   "metadata": {},
   "outputs": [
    {
     "data": {
      "text/plain": [
       "0    221.417076\n",
       "1    227.832314\n",
       "2    234.000212\n",
       "3    226.772273\n",
       "4    217.847756\n",
       "dtype: float64"
      ]
     },
     "execution_count": 53,
     "metadata": {},
     "output_type": "execute_result"
    }
   ],
   "source": [
    "#predict LA meat price\n",
    "LA_meat = 234.9577 + (-6.9990)*LA_df['CPI'] + 2.1568*LA_df['EX_IM'] + (-0.0212)*LA_df['All items']\n",
    "LA_meat"
   ]
  },
  {
   "cell_type": "code",
   "execution_count": 54,
   "metadata": {},
   "outputs": [
    {
     "data": {
      "text/plain": [
       "(280.6783981749571, 286.0752018250429)"
      ]
     },
     "execution_count": 54,
     "metadata": {},
     "output_type": "execute_result"
    }
   ],
   "source": [
    "#see confidence interval\n",
    "LA_x_bar_meat = LA_df['Meats, poultry, fish, and eggs'].mean()\n",
    "LA_sigma_meat = LA_df['Meats, poultry, fish, and eggs'].std()\n",
    "\n",
    "LA_z_meat = stats.norm.ppf(q=0.975)\n",
    "\n",
    "LA_ste_meat = LA_sigma_meat / math.sqrt(n_LA)\n",
    "\n",
    "LA_low_CI_meat = LA_x_bar_meat - LA_z_meat * LA_ste_meat\n",
    "LA_high_CI_meat = LA_x_bar_meat + LA_z_meat * LA_ste_meat\n",
    "\n",
    "LA_low_CI_meat, LA_high_CI_meat "
   ]
  },
  {
   "cell_type": "markdown",
   "metadata": {},
   "source": [
    "From the data above, we can see the Confidence Intervals for LA Meats, poultry, fish, and eggs.\n",
    "If the prediction falls in between the CI, then we will accepts the null hypothesis, else we will reject the null hypothesis and accepts alternative hypothesis."
   ]
  },
  {
   "cell_type": "code",
   "execution_count": 55,
   "metadata": {},
   "outputs": [
    {
     "name": "stdout",
     "output_type": "stream",
     "text": [
      "reject null hypothesis\n",
      "reject null hypothesis\n",
      "reject null hypothesis\n",
      "reject null hypothesis\n",
      "reject null hypothesis\n"
     ]
    }
   ],
   "source": [
    "for i in LA_meat:\n",
    "    if (i < LA_low_CI_meat) | (i > LA_high_CI_meat):\n",
    "        print ('reject null hypothesis')\n",
    "\n",
    "    else:\n",
    "        print ('accept null hypothesis')"
   ]
  },
  {
   "cell_type": "code",
   "execution_count": 56,
   "metadata": {},
   "outputs": [
    {
     "data": {
      "text/plain": [
       "0    123.860585\n",
       "1    128.462153\n",
       "2    132.297719\n",
       "3    126.951741\n",
       "4    120.607906\n",
       "dtype: float64"
      ]
     },
     "execution_count": 56,
     "metadata": {},
     "output_type": "execute_result"
    }
   ],
   "source": [
    "#predict LA dairy price\n",
    "LA_dairy = 114.3215 + (-4.7300)*LA_df['CPI'] + 1.7494*LA_df['EX_IM'] + (0.0535)*LA_df['All items']\n",
    "LA_dairy"
   ]
  },
  {
   "cell_type": "code",
   "execution_count": 57,
   "metadata": {},
   "outputs": [
    {
     "data": {
      "text/plain": [
       "(251.393750537981, 258.1118494620191)"
      ]
     },
     "execution_count": 57,
     "metadata": {},
     "output_type": "execute_result"
    }
   ],
   "source": [
    "#see confidence interval\n",
    "LA_x_bar_dairy = LA_df['Dairy and related products'].mean()\n",
    "LA_sigma_dairy = LA_df['Dairy and related products'].std()\n",
    "\n",
    "LA_z_dairy = stats.norm.ppf(q=0.975)\n",
    "\n",
    "LA_ste_dairy = LA_sigma_dairy / math.sqrt(n_LA)\n",
    "\n",
    "LA_low_CI_dairy = LA_x_bar_dairy - LA_z_dairy * LA_ste_dairy\n",
    "LA_high_CI_dairy = LA_x_bar_dairy + LA_z_dairy * LA_ste_dairy\n",
    "\n",
    "LA_low_CI_dairy, LA_high_CI_dairy"
   ]
  },
  {
   "cell_type": "markdown",
   "metadata": {},
   "source": [
    "From the data above, we can see the Confidence Intervals for LA Dairy and related products. If the prediction falls in between the CI, then we will accepts the null hypothesis, else we will reject the null hypothesis and accepts alternative hypothesis."
   ]
  },
  {
   "cell_type": "code",
   "execution_count": 58,
   "metadata": {},
   "outputs": [
    {
     "name": "stdout",
     "output_type": "stream",
     "text": [
      "reject null hypothesis\n",
      "reject null hypothesis\n",
      "reject null hypothesis\n",
      "reject null hypothesis\n",
      "reject null hypothesis\n"
     ]
    }
   ],
   "source": [
    "for i in LA_dairy:\n",
    "    if (i < LA_low_CI_dairy) | (i > LA_high_CI_dairy):\n",
    "        print ('reject null hypothesis')\n",
    "\n",
    "    else:\n",
    "        print ('accept null hypothesis')"
   ]
  },
  {
   "cell_type": "code",
   "execution_count": 59,
   "metadata": {},
   "outputs": [
    {
     "data": {
      "text/plain": [
       "0    117.339752\n",
       "1    131.016197\n",
       "2    144.396076\n",
       "3    129.209400\n",
       "4    110.631537\n",
       "dtype: float64"
      ]
     },
     "execution_count": 59,
     "metadata": {},
     "output_type": "execute_result"
    }
   ],
   "source": [
    "#Predict LA fruits and vegetable price\n",
    "LA_fruits = 102.5107 + (-14.6505)*LA_df['CPI'] + 4.2719*LA_df['EX_IM'] + 0.1123*LA_df['All items']\n",
    "LA_fruits"
   ]
  },
  {
   "cell_type": "code",
   "execution_count": 60,
   "metadata": {},
   "outputs": [
    {
     "data": {
      "text/plain": [
       "(344.5693247148098, 350.9822752851902)"
      ]
     },
     "execution_count": 60,
     "metadata": {},
     "output_type": "execute_result"
    }
   ],
   "source": [
    "#see confidence interval\n",
    "LA_x_bar_fruits = LA_df['Fruits and vegetables'].mean()\n",
    "LA_sigma_fruits = LA_df['Fruits and vegetables'].std()\n",
    "\n",
    "LA_z_fruits = stats.norm.ppf(q=0.975)\n",
    "\n",
    "LA_ste_fruits = LA_sigma_fruits / math.sqrt(n_LA)\n",
    "\n",
    "LA_low_CI_fruits = LA_x_bar_fruits - LA_z_fruits * LA_ste_fruits\n",
    "LA_high_CI_fruits = LA_x_bar_fruits + LA_z_fruits * LA_ste_fruits\n",
    "\n",
    "LA_low_CI_fruits, LA_high_CI_fruits"
   ]
  },
  {
   "cell_type": "markdown",
   "metadata": {},
   "source": [
    "From the data above, we can see the Confidence Intervals for LA Fruits and vegetables. If the prediction falls in between the CI, then we will accepts the null hypothesis, else we will reject the null hypothesis and accepts alternative hypothesis."
   ]
  },
  {
   "cell_type": "code",
   "execution_count": 61,
   "metadata": {},
   "outputs": [
    {
     "name": "stdout",
     "output_type": "stream",
     "text": [
      "reject null hypothesis\n",
      "reject null hypothesis\n",
      "reject null hypothesis\n",
      "reject null hypothesis\n",
      "reject null hypothesis\n"
     ]
    }
   ],
   "source": [
    "for i in LA_fruits:\n",
    "    if (i < LA_low_CI_fruits) | (i > LA_high_CI_fruits):\n",
    "        print ('reject null hypothesis')\n",
    "\n",
    "    else:\n",
    "        print ('accept null hypothesis')"
   ]
  },
  {
   "cell_type": "code",
   "execution_count": 62,
   "metadata": {},
   "outputs": [
    {
     "data": {
      "text/html": [
       "<div>\n",
       "<style scoped>\n",
       "    .dataframe tbody tr th:only-of-type {\n",
       "        vertical-align: middle;\n",
       "    }\n",
       "\n",
       "    .dataframe tbody tr th {\n",
       "        vertical-align: top;\n",
       "    }\n",
       "\n",
       "    .dataframe thead th {\n",
       "        text-align: right;\n",
       "    }\n",
       "</style>\n",
       "<table border=\"1\" class=\"dataframe\">\n",
       "  <thead>\n",
       "    <tr style=\"text-align: right;\">\n",
       "      <th>Item and Group</th>\n",
       "      <th>index</th>\n",
       "      <th>All items</th>\n",
       "      <th>Food and beverages</th>\n",
       "      <th>Cereals and bakery products</th>\n",
       "      <th>Meats, poultry, fish, and eggs</th>\n",
       "      <th>Dairy and related products</th>\n",
       "      <th>Fruits and vegetables</th>\n",
       "      <th>Housing</th>\n",
       "      <th>Apparel</th>\n",
       "      <th>Transportation</th>\n",
       "      <th>Medical care</th>\n",
       "      <th>Recreation</th>\n",
       "      <th>Education and communication</th>\n",
       "      <th>Other goods and services</th>\n",
       "    </tr>\n",
       "  </thead>\n",
       "  <tbody>\n",
       "    <tr>\n",
       "      <th>0</th>\n",
       "      <td>IDX-OCT-2019</td>\n",
       "      <td>298.443</td>\n",
       "      <td>292.658</td>\n",
       "      <td>264.788</td>\n",
       "      <td>254.853</td>\n",
       "      <td>273.959</td>\n",
       "      <td>347.437</td>\n",
       "      <td>350.894</td>\n",
       "      <td>112.876</td>\n",
       "      <td>216.519</td>\n",
       "      <td>551.902</td>\n",
       "      <td>118.162</td>\n",
       "      <td>150.244</td>\n",
       "      <td>506.865</td>\n",
       "    </tr>\n",
       "    <tr>\n",
       "      <th>1</th>\n",
       "      <td>IDX-DEC-2019</td>\n",
       "      <td>297.007</td>\n",
       "      <td>291.161</td>\n",
       "      <td>261.685</td>\n",
       "      <td>257.727</td>\n",
       "      <td>272.909</td>\n",
       "      <td>339.390</td>\n",
       "      <td>352.601</td>\n",
       "      <td>105.638</td>\n",
       "      <td>205.815</td>\n",
       "      <td>554.645</td>\n",
       "      <td>120.285</td>\n",
       "      <td>150.738</td>\n",
       "      <td>502.634</td>\n",
       "    </tr>\n",
       "    <tr>\n",
       "      <th>2</th>\n",
       "      <td>IDX-FEB-2020</td>\n",
       "      <td>299.690</td>\n",
       "      <td>294.897</td>\n",
       "      <td>260.713</td>\n",
       "      <td>259.584</td>\n",
       "      <td>276.983</td>\n",
       "      <td>337.537</td>\n",
       "      <td>355.875</td>\n",
       "      <td>118.319</td>\n",
       "      <td>207.576</td>\n",
       "      <td>545.970</td>\n",
       "      <td>119.462</td>\n",
       "      <td>150.916</td>\n",
       "      <td>506.920</td>\n",
       "    </tr>\n",
       "    <tr>\n",
       "      <th>3</th>\n",
       "      <td>IDX-APR-2020</td>\n",
       "      <td>298.074</td>\n",
       "      <td>299.485</td>\n",
       "      <td>271.507</td>\n",
       "      <td>286.649</td>\n",
       "      <td>286.772</td>\n",
       "      <td>350.323</td>\n",
       "      <td>356.770</td>\n",
       "      <td>103.168</td>\n",
       "      <td>194.267</td>\n",
       "      <td>548.136</td>\n",
       "      <td>119.902</td>\n",
       "      <td>151.603</td>\n",
       "      <td>511.625</td>\n",
       "    </tr>\n",
       "  </tbody>\n",
       "</table>\n",
       "</div>"
      ],
      "text/plain": [
       "Item and Group         index  All items  Food and beverages  \\\n",
       "0               IDX-OCT-2019    298.443             292.658   \n",
       "1               IDX-DEC-2019    297.007             291.161   \n",
       "2               IDX-FEB-2020    299.690             294.897   \n",
       "3               IDX-APR-2020    298.074             299.485   \n",
       "\n",
       "Item and Group  Cereals and bakery products  Meats, poultry, fish, and eggs  \\\n",
       "0                                   264.788                         254.853   \n",
       "1                                   261.685                         257.727   \n",
       "2                                   260.713                         259.584   \n",
       "3                                   271.507                         286.649   \n",
       "\n",
       "Item and Group  Dairy and related products  Fruits and vegetables  Housing  \\\n",
       "0                                  273.959                347.437  350.894   \n",
       "1                                  272.909                339.390  352.601   \n",
       "2                                  276.983                337.537  355.875   \n",
       "3                                  286.772                350.323  356.770   \n",
       "\n",
       "Item and Group  Apparel  Transportation  Medical care  Recreation  \\\n",
       "0               112.876         216.519       551.902     118.162   \n",
       "1               105.638         205.815       554.645     120.285   \n",
       "2               118.319         207.576       545.970     119.462   \n",
       "3               103.168         194.267       548.136     119.902   \n",
       "\n",
       "Item and Group  Education and communication  Other goods and services  \n",
       "0                                   150.244                   506.865  \n",
       "1                                   150.738                   502.634  \n",
       "2                                   150.916                   506.920  \n",
       "3                                   151.603                   511.625  "
      ]
     },
     "execution_count": 62,
     "metadata": {},
     "output_type": "execute_result"
    }
   ],
   "source": [
    "#San Francisco dataframe\n",
    "SF_df = dfSFTrans.reset_index()\n",
    "SF_df"
   ]
  },
  {
   "cell_type": "code",
   "execution_count": 63,
   "metadata": {},
   "outputs": [
    {
     "data": {
      "text/html": [
       "<div>\n",
       "<style scoped>\n",
       "    .dataframe tbody tr th:only-of-type {\n",
       "        vertical-align: middle;\n",
       "    }\n",
       "\n",
       "    .dataframe tbody tr th {\n",
       "        vertical-align: top;\n",
       "    }\n",
       "\n",
       "    .dataframe thead th {\n",
       "        text-align: right;\n",
       "    }\n",
       "</style>\n",
       "<table border=\"1\" class=\"dataframe\">\n",
       "  <thead>\n",
       "    <tr style=\"text-align: right;\">\n",
       "      <th>Item and Group</th>\n",
       "      <th>index</th>\n",
       "      <th>All items</th>\n",
       "      <th>Food and beverages</th>\n",
       "      <th>Cereals and bakery products</th>\n",
       "      <th>Meats, poultry, fish, and eggs</th>\n",
       "      <th>Dairy and related products</th>\n",
       "      <th>Fruits and vegetables</th>\n",
       "      <th>Housing</th>\n",
       "      <th>Apparel</th>\n",
       "      <th>Transportation</th>\n",
       "      <th>Medical care</th>\n",
       "      <th>Recreation</th>\n",
       "      <th>Education and communication</th>\n",
       "      <th>Other goods and services</th>\n",
       "      <th>CPI</th>\n",
       "      <th>EX_IM</th>\n",
       "    </tr>\n",
       "  </thead>\n",
       "  <tbody>\n",
       "    <tr>\n",
       "      <th>0</th>\n",
       "      <td>IDX-OCT-2019</td>\n",
       "      <td>298.443</td>\n",
       "      <td>292.658</td>\n",
       "      <td>264.788</td>\n",
       "      <td>254.853</td>\n",
       "      <td>273.959</td>\n",
       "      <td>347.437</td>\n",
       "      <td>350.894</td>\n",
       "      <td>112.876</td>\n",
       "      <td>216.519</td>\n",
       "      <td>551.902</td>\n",
       "      <td>118.162</td>\n",
       "      <td>150.244</td>\n",
       "      <td>506.865</td>\n",
       "      <td>-0.5</td>\n",
       "      <td>-0.20</td>\n",
       "    </tr>\n",
       "    <tr>\n",
       "      <th>1</th>\n",
       "      <td>IDX-DEC-2019</td>\n",
       "      <td>297.007</td>\n",
       "      <td>291.161</td>\n",
       "      <td>261.685</td>\n",
       "      <td>257.727</td>\n",
       "      <td>272.909</td>\n",
       "      <td>339.390</td>\n",
       "      <td>352.601</td>\n",
       "      <td>105.638</td>\n",
       "      <td>205.815</td>\n",
       "      <td>554.645</td>\n",
       "      <td>120.285</td>\n",
       "      <td>150.738</td>\n",
       "      <td>502.634</td>\n",
       "      <td>2.5</td>\n",
       "      <td>0.00</td>\n",
       "    </tr>\n",
       "    <tr>\n",
       "      <th>2</th>\n",
       "      <td>IDX-FEB-2020</td>\n",
       "      <td>299.690</td>\n",
       "      <td>294.897</td>\n",
       "      <td>260.713</td>\n",
       "      <td>259.584</td>\n",
       "      <td>276.983</td>\n",
       "      <td>337.537</td>\n",
       "      <td>355.875</td>\n",
       "      <td>118.319</td>\n",
       "      <td>207.576</td>\n",
       "      <td>545.970</td>\n",
       "      <td>119.462</td>\n",
       "      <td>150.916</td>\n",
       "      <td>506.920</td>\n",
       "      <td>-0.5</td>\n",
       "      <td>-0.95</td>\n",
       "    </tr>\n",
       "    <tr>\n",
       "      <th>3</th>\n",
       "      <td>IDX-APR-2020</td>\n",
       "      <td>298.074</td>\n",
       "      <td>299.485</td>\n",
       "      <td>271.507</td>\n",
       "      <td>286.649</td>\n",
       "      <td>286.772</td>\n",
       "      <td>350.323</td>\n",
       "      <td>356.770</td>\n",
       "      <td>103.168</td>\n",
       "      <td>194.267</td>\n",
       "      <td>548.136</td>\n",
       "      <td>119.902</td>\n",
       "      <td>151.603</td>\n",
       "      <td>511.625</td>\n",
       "      <td>1.1</td>\n",
       "      <td>-2.95</td>\n",
       "    </tr>\n",
       "  </tbody>\n",
       "</table>\n",
       "</div>"
      ],
      "text/plain": [
       "Item and Group         index  All items  Food and beverages  \\\n",
       "0               IDX-OCT-2019    298.443             292.658   \n",
       "1               IDX-DEC-2019    297.007             291.161   \n",
       "2               IDX-FEB-2020    299.690             294.897   \n",
       "3               IDX-APR-2020    298.074             299.485   \n",
       "\n",
       "Item and Group  Cereals and bakery products  Meats, poultry, fish, and eggs  \\\n",
       "0                                   264.788                         254.853   \n",
       "1                                   261.685                         257.727   \n",
       "2                                   260.713                         259.584   \n",
       "3                                   271.507                         286.649   \n",
       "\n",
       "Item and Group  Dairy and related products  Fruits and vegetables  Housing  \\\n",
       "0                                  273.959                347.437  350.894   \n",
       "1                                  272.909                339.390  352.601   \n",
       "2                                  276.983                337.537  355.875   \n",
       "3                                  286.772                350.323  356.770   \n",
       "\n",
       "Item and Group  Apparel  Transportation  Medical care  Recreation  \\\n",
       "0               112.876         216.519       551.902     118.162   \n",
       "1               105.638         205.815       554.645     120.285   \n",
       "2               118.319         207.576       545.970     119.462   \n",
       "3               103.168         194.267       548.136     119.902   \n",
       "\n",
       "Item and Group  Education and communication  Other goods and services  CPI  \\\n",
       "0                                   150.244                   506.865 -0.5   \n",
       "1                                   150.738                   502.634  2.5   \n",
       "2                                   150.916                   506.920 -0.5   \n",
       "3                                   151.603                   511.625  1.1   \n",
       "\n",
       "Item and Group  EX_IM  \n",
       "0               -0.20  \n",
       "1                0.00  \n",
       "2               -0.95  \n",
       "3               -2.95  "
      ]
     },
     "execution_count": 63,
     "metadata": {},
     "output_type": "execute_result"
    }
   ],
   "source": [
    "#Cut index number 4 row\n",
    "SF_df = SF_df.loc[0:3, :]\n",
    "#Add CPI of each months\n",
    "SF_df['CPI'] = [-0.5 ,2.5 ,-0.5 ,1.1]\n",
    "#Add export-import\n",
    "SF_df['EX_IM'] = [-0.2, 0, -0.95, -2.95]\n",
    "SF_df"
   ]
  },
  {
   "cell_type": "code",
   "execution_count": 64,
   "metadata": {},
   "outputs": [
    {
     "data": {
      "text/plain": [
       "0    323.411355\n",
       "1    323.382140\n",
       "2    323.518855\n",
       "3    324.059871\n",
       "dtype: float64"
      ]
     },
     "execution_count": 64,
     "metadata": {},
     "output_type": "execute_result"
    }
   ],
   "source": [
    "#predict SF cereal and bakery product price\n",
    "SF_breakfast = 340.8113 + (-0.0217)*SF_df['CPI'] + (-0.2406)*SF_df['EX_IM'] + (-0.0585)*SF_df['All items']\n",
    "SF_breakfast"
   ]
  },
  {
   "cell_type": "code",
   "execution_count": 65,
   "metadata": {},
   "outputs": [
    {
     "data": {
      "text/plain": [
       "(259.8948445158597, 269.4516554841403)"
      ]
     },
     "execution_count": 65,
     "metadata": {},
     "output_type": "execute_result"
    }
   ],
   "source": [
    "#see confidence interval\n",
    "n_SF = len(SF_df)\n",
    "SF_x_bar_bfast = SF_df['Cereals and bakery products'].mean()\n",
    "SF_sigma_bfast = SF_df['Cereals and bakery products'].std()\n",
    "\n",
    "SF_z_bfast = stats.norm.ppf(q=0.975)\n",
    "\n",
    "SF_ste_bfast = SF_sigma_bfast / math.sqrt(n_SF)\n",
    "\n",
    "SF_low_CI_bfast = SF_x_bar_bfast - SF_z_bfast * SF_ste_bfast\n",
    "SF_high_CI_bfast = SF_x_bar_bfast + SF_z_bfast * SF_ste_bfast\n",
    "\n",
    "SF_low_CI_bfast, SF_high_CI_bfast "
   ]
  },
  {
   "cell_type": "markdown",
   "metadata": {},
   "source": [
    "From the data above, we can see the Confidence Intervals for SF Cereals and bakery products. If the prediction falls in between the CI, then we will accepts the null hypothesis, else we will reject the null hypothesis and accepts alternative hypothesis."
   ]
  },
  {
   "cell_type": "code",
   "execution_count": 66,
   "metadata": {},
   "outputs": [
    {
     "name": "stdout",
     "output_type": "stream",
     "text": [
      "reject null hypothesis\n",
      "reject null hypothesis\n",
      "reject null hypothesis\n",
      "reject null hypothesis\n"
     ]
    }
   ],
   "source": [
    "for i in SF_breakfast:\n",
    "    if (i < SF_low_CI_bfast) | (i > SF_high_CI_bfast):\n",
    "        print ('reject null hypothesis')\n",
    "    else:\n",
    "        print ('accept null hypothesis')"
   ]
  },
  {
   "cell_type": "code",
   "execution_count": 67,
   "metadata": {},
   "outputs": [
    {
     "data": {
      "text/plain": [
       "0    231.698848\n",
       "1    211.163652\n",
       "2    230.054812\n",
       "3    214.577071\n",
       "dtype: float64"
      ]
     },
     "execution_count": 67,
     "metadata": {},
     "output_type": "execute_result"
    }
   ],
   "source": [
    "#predict SF meat price\n",
    "SF_meat = 234.9577 + (-6.9990)*SF_df['CPI'] + 2.1568*SF_df['EX_IM'] + (-0.0212)*SF_df['All items']\n",
    "SF_meat"
   ]
  },
  {
   "cell_type": "code",
   "execution_count": 68,
   "metadata": {},
   "outputs": [
    {
     "data": {
      "text/plain": [
       "(250.23932051903134, 279.1671794809687)"
      ]
     },
     "execution_count": 68,
     "metadata": {},
     "output_type": "execute_result"
    }
   ],
   "source": [
    "#see confidence interval\n",
    "SF_x_bar_meat = SF_df['Meats, poultry, fish, and eggs'].mean()\n",
    "SF_sigma_meat = SF_df['Meats, poultry, fish, and eggs'].std()\n",
    "\n",
    "SF_z_meat = stats.norm.ppf(q=0.975)\n",
    "\n",
    "SF_ste_meat = SF_sigma_meat / math.sqrt(n_SF)\n",
    "\n",
    "SF_low_CI_meat = SF_x_bar_meat - SF_z_meat * SF_ste_meat\n",
    "SF_high_CI_meat = SF_x_bar_meat + SF_z_meat * SF_ste_meat\n",
    "\n",
    "SF_low_CI_meat, SF_high_CI_meat "
   ]
  },
  {
   "cell_type": "markdown",
   "metadata": {},
   "source": [
    "From the data above, we can see the Confidence Intervals for SF Meats, poultry, fish, and eggs. If the prediction falls in between the CI, then we will accepts the null hypothesis, else we will reject the null hypothesis and accepts alternative hypothesis."
   ]
  },
  {
   "cell_type": "code",
   "execution_count": 69,
   "metadata": {},
   "outputs": [
    {
     "name": "stdout",
     "output_type": "stream",
     "text": [
      "reject null hypothesis\n",
      "reject null hypothesis\n",
      "reject null hypothesis\n",
      "reject null hypothesis\n"
     ]
    }
   ],
   "source": [
    "for i in SF_meat:\n",
    "    if (i < SF_low_CI_meat) | (i > SF_high_CI_meat):\n",
    "        print ('reject null hypothesis')\n",
    "\n",
    "    else:\n",
    "        print ('accept null hypothesis')"
   ]
  },
  {
   "cell_type": "code",
   "execution_count": 70,
   "metadata": {},
   "outputs": [
    {
     "data": {
      "text/plain": [
       "0    132.303320\n",
       "1    118.386375\n",
       "2    131.057985\n",
       "3    119.904729\n",
       "dtype: float64"
      ]
     },
     "execution_count": 70,
     "metadata": {},
     "output_type": "execute_result"
    }
   ],
   "source": [
    "#predict SF dairy price\n",
    "SF_dairy = 114.3215 + (-4.7300)*SF_df['CPI'] + 1.7494*SF_df['EX_IM'] + (0.0535)*SF_df['All items']\n",
    "SF_dairy"
   ]
  },
  {
   "cell_type": "code",
   "execution_count": 71,
   "metadata": {},
   "outputs": [
    {
     "data": {
      "text/plain": [
       "(271.4640988915393, 283.8474011084606)"
      ]
     },
     "execution_count": 71,
     "metadata": {},
     "output_type": "execute_result"
    }
   ],
   "source": [
    "#see confidence interval\n",
    "SF_x_bar_dairy = SF_df['Dairy and related products'].mean()\n",
    "SF_sigma_dairy = SF_df['Dairy and related products'].std()\n",
    "\n",
    "SF_z_dairy = stats.norm.ppf(q=0.975)\n",
    "\n",
    "SF_ste_dairy = SF_sigma_dairy / math.sqrt(n_SF)\n",
    "\n",
    "SF_low_CI_dairy = SF_x_bar_dairy - SF_z_dairy * SF_ste_dairy\n",
    "SF_high_CI_dairy = SF_x_bar_dairy + SF_z_dairy * SF_ste_dairy\n",
    "\n",
    "SF_low_CI_dairy, SF_high_CI_dairy"
   ]
  },
  {
   "cell_type": "markdown",
   "metadata": {},
   "source": [
    "From the data above, we can see the Confidence Intervals for SF Dairy and related products. If the prediction falls in between the CI, then we will accepts the null hypothesis, else we will reject the null hypothesis and accepts alternative hypothesis."
   ]
  },
  {
   "cell_type": "code",
   "execution_count": 72,
   "metadata": {},
   "outputs": [
    {
     "name": "stdout",
     "output_type": "stream",
     "text": [
      "reject null hypothesis\n",
      "reject null hypothesis\n",
      "reject null hypothesis\n",
      "reject null hypothesis\n"
     ]
    }
   ],
   "source": [
    "for i in SF_dairy:\n",
    "    if (i < SF_low_CI_dairy) | (i > SF_high_CI_dairy):\n",
    "        print ('reject null hypothesis')\n",
    "\n",
    "    else:\n",
    "        print ('accept null hypothesis')"
   ]
  },
  {
   "cell_type": "code",
   "execution_count": 73,
   "metadata": {},
   "outputs": [
    {
     "data": {
      "text/plain": [
       "0    142.496719\n",
       "1     99.238336\n",
       "2    139.432832\n",
       "3    107.266755\n",
       "dtype: float64"
      ]
     },
     "execution_count": 73,
     "metadata": {},
     "output_type": "execute_result"
    }
   ],
   "source": [
    "#Predict SF fruits and vegetable price\n",
    "SF_fruits = 102.5107 + (-14.6505)*SF_df['CPI'] + 4.2719*SF_df['EX_IM'] + 0.1123*SF_df['All items']\n",
    "SF_fruits"
   ]
  },
  {
   "cell_type": "code",
   "execution_count": 74,
   "metadata": {},
   "outputs": [
    {
     "data": {
      "text/plain": [
       "(337.62054900407844, 349.7229509959215)"
      ]
     },
     "execution_count": 74,
     "metadata": {},
     "output_type": "execute_result"
    }
   ],
   "source": [
    "#see confidence interval\n",
    "SF_x_bar_fruits = SF_df['Fruits and vegetables'].mean()\n",
    "SF_sigma_fruits = SF_df['Fruits and vegetables'].std()\n",
    "\n",
    "SF_z_fruits = stats.norm.ppf(q=0.975)\n",
    "\n",
    "SF_ste_fruits = SF_sigma_fruits / math.sqrt(n_SF)\n",
    "\n",
    "SF_low_CI_fruits = SF_x_bar_fruits - SF_z_fruits * SF_ste_fruits\n",
    "SF_high_CI_fruits = SF_x_bar_fruits + SF_z_fruits * SF_ste_fruits\n",
    "\n",
    "SF_low_CI_fruits, SF_high_CI_fruits"
   ]
  },
  {
   "cell_type": "markdown",
   "metadata": {},
   "source": [
    "From the data above, we can see the Confidence Intervals for SF Fruits and vegetables. If the prediction falls in between the CI, then we will accepts the null hypothesis, else we will reject the null hypothesis and accepts alternative hypothesis."
   ]
  },
  {
   "cell_type": "code",
   "execution_count": 75,
   "metadata": {},
   "outputs": [
    {
     "name": "stdout",
     "output_type": "stream",
     "text": [
      "reject null hypothesis\n",
      "reject null hypothesis\n",
      "reject null hypothesis\n",
      "reject null hypothesis\n"
     ]
    }
   ],
   "source": [
    "for i in SF_fruits:\n",
    "    if (i < SF_low_CI_fruits) | (i > SF_high_CI_fruits):\n",
    "        print ('reject null hypothesis')\n",
    "\n",
    "    else:\n",
    "        print ('accept null hypothesis')"
   ]
  },
  {
   "cell_type": "code",
   "execution_count": 76,
   "metadata": {},
   "outputs": [
    {
     "data": {
      "text/html": [
       "<div>\n",
       "<style scoped>\n",
       "    .dataframe tbody tr th:only-of-type {\n",
       "        vertical-align: middle;\n",
       "    }\n",
       "\n",
       "    .dataframe tbody tr th {\n",
       "        vertical-align: top;\n",
       "    }\n",
       "\n",
       "    .dataframe thead th {\n",
       "        text-align: right;\n",
       "    }\n",
       "</style>\n",
       "<table border=\"1\" class=\"dataframe\">\n",
       "  <thead>\n",
       "    <tr style=\"text-align: right;\">\n",
       "      <th>Item and Group</th>\n",
       "      <th>index</th>\n",
       "      <th>All items</th>\n",
       "      <th>Food and beverages</th>\n",
       "      <th>Cereals and bakery products</th>\n",
       "      <th>Meats, poultry, fish, and eggs</th>\n",
       "      <th>Dairy and related products</th>\n",
       "      <th>Fruits and vegetables</th>\n",
       "      <th>Housing</th>\n",
       "      <th>Apparel</th>\n",
       "      <th>Transportation</th>\n",
       "      <th>Medical care</th>\n",
       "      <th>Recreation</th>\n",
       "      <th>Education and communication</th>\n",
       "      <th>Other goods and services</th>\n",
       "    </tr>\n",
       "  </thead>\n",
       "  <tbody>\n",
       "    <tr>\n",
       "      <th>0</th>\n",
       "      <td>IDX-SEP-2019</td>\n",
       "      <td>106.412</td>\n",
       "      <td>104.565</td>\n",
       "      <td>104.417</td>\n",
       "      <td>101.027</td>\n",
       "      <td>100.287</td>\n",
       "      <td>101.854</td>\n",
       "      <td>107.048</td>\n",
       "      <td>106.510</td>\n",
       "      <td>108.799</td>\n",
       "      <td>104.586</td>\n",
       "      <td>101.354</td>\n",
       "      <td>105.604</td>\n",
       "      <td>105.500</td>\n",
       "    </tr>\n",
       "    <tr>\n",
       "      <th>1</th>\n",
       "      <td>IDX-NOV-2019</td>\n",
       "      <td>106.573</td>\n",
       "      <td>103.959</td>\n",
       "      <td>104.712</td>\n",
       "      <td>100.074</td>\n",
       "      <td>105.255</td>\n",
       "      <td>100.967</td>\n",
       "      <td>107.678</td>\n",
       "      <td>89.989</td>\n",
       "      <td>111.540</td>\n",
       "      <td>104.906</td>\n",
       "      <td>101.749</td>\n",
       "      <td>104.536</td>\n",
       "      <td>106.336</td>\n",
       "    </tr>\n",
       "    <tr>\n",
       "      <th>2</th>\n",
       "      <td>IDX-JAN-2020</td>\n",
       "      <td>107.143</td>\n",
       "      <td>106.468</td>\n",
       "      <td>104.874</td>\n",
       "      <td>101.213</td>\n",
       "      <td>105.764</td>\n",
       "      <td>104.337</td>\n",
       "      <td>109.886</td>\n",
       "      <td>93.442</td>\n",
       "      <td>106.672</td>\n",
       "      <td>105.768</td>\n",
       "      <td>99.300</td>\n",
       "      <td>104.746</td>\n",
       "      <td>107.738</td>\n",
       "    </tr>\n",
       "    <tr>\n",
       "      <th>3</th>\n",
       "      <td>IDX-MAR-2020</td>\n",
       "      <td>107.162</td>\n",
       "      <td>106.700</td>\n",
       "      <td>106.098</td>\n",
       "      <td>103.272</td>\n",
       "      <td>105.285</td>\n",
       "      <td>104.932</td>\n",
       "      <td>109.955</td>\n",
       "      <td>97.442</td>\n",
       "      <td>103.961</td>\n",
       "      <td>107.539</td>\n",
       "      <td>101.545</td>\n",
       "      <td>105.182</td>\n",
       "      <td>108.452</td>\n",
       "    </tr>\n",
       "  </tbody>\n",
       "</table>\n",
       "</div>"
      ],
      "text/plain": [
       "Item and Group         index  All items  Food and beverages  \\\n",
       "0               IDX-SEP-2019    106.412             104.565   \n",
       "1               IDX-NOV-2019    106.573             103.959   \n",
       "2               IDX-JAN-2020    107.143             106.468   \n",
       "3               IDX-MAR-2020    107.162             106.700   \n",
       "\n",
       "Item and Group  Cereals and bakery products  Meats, poultry, fish, and eggs  \\\n",
       "0                                   104.417                         101.027   \n",
       "1                                   104.712                         100.074   \n",
       "2                                   104.874                         101.213   \n",
       "3                                   106.098                         103.272   \n",
       "\n",
       "Item and Group  Dairy and related products  Fruits and vegetables  Housing  \\\n",
       "0                                  100.287                101.854  107.048   \n",
       "1                                  105.255                100.967  107.678   \n",
       "2                                  105.764                104.337  109.886   \n",
       "3                                  105.285                104.932  109.955   \n",
       "\n",
       "Item and Group  Apparel  Transportation  Medical care  Recreation  \\\n",
       "0               106.510         108.799       104.586     101.354   \n",
       "1                89.989         111.540       104.906     101.749   \n",
       "2                93.442         106.672       105.768      99.300   \n",
       "3                97.442         103.961       107.539     101.545   \n",
       "\n",
       "Item and Group  Education and communication  Other goods and services  \n",
       "0                                   105.604                   105.500  \n",
       "1                                   104.536                   106.336  \n",
       "2                                   104.746                   107.738  \n",
       "3                                   105.182                   108.452  "
      ]
     },
     "execution_count": 76,
     "metadata": {},
     "output_type": "execute_result"
    }
   ],
   "source": [
    "#Riverside dataframe\n",
    "RS_df = dfRSTrans.reset_index()\n",
    "RS_df"
   ]
  },
  {
   "cell_type": "code",
   "execution_count": 77,
   "metadata": {},
   "outputs": [
    {
     "data": {
      "text/html": [
       "<div>\n",
       "<style scoped>\n",
       "    .dataframe tbody tr th:only-of-type {\n",
       "        vertical-align: middle;\n",
       "    }\n",
       "\n",
       "    .dataframe tbody tr th {\n",
       "        vertical-align: top;\n",
       "    }\n",
       "\n",
       "    .dataframe thead th {\n",
       "        text-align: right;\n",
       "    }\n",
       "</style>\n",
       "<table border=\"1\" class=\"dataframe\">\n",
       "  <thead>\n",
       "    <tr style=\"text-align: right;\">\n",
       "      <th>Item and Group</th>\n",
       "      <th>index</th>\n",
       "      <th>All items</th>\n",
       "      <th>Food and beverages</th>\n",
       "      <th>Cereals and bakery products</th>\n",
       "      <th>Meats, poultry, fish, and eggs</th>\n",
       "      <th>Dairy and related products</th>\n",
       "      <th>Fruits and vegetables</th>\n",
       "      <th>Housing</th>\n",
       "      <th>Apparel</th>\n",
       "      <th>Transportation</th>\n",
       "      <th>Medical care</th>\n",
       "      <th>Recreation</th>\n",
       "      <th>Education and communication</th>\n",
       "      <th>Other goods and services</th>\n",
       "      <th>CPI</th>\n",
       "      <th>EX_IM</th>\n",
       "    </tr>\n",
       "  </thead>\n",
       "  <tbody>\n",
       "    <tr>\n",
       "      <th>0</th>\n",
       "      <td>IDX-SEP-2019</td>\n",
       "      <td>106.412</td>\n",
       "      <td>104.565</td>\n",
       "      <td>104.417</td>\n",
       "      <td>101.027</td>\n",
       "      <td>100.287</td>\n",
       "      <td>101.854</td>\n",
       "      <td>107.048</td>\n",
       "      <td>106.510</td>\n",
       "      <td>108.799</td>\n",
       "      <td>104.586</td>\n",
       "      <td>101.354</td>\n",
       "      <td>105.604</td>\n",
       "      <td>105.500</td>\n",
       "      <td>NA</td>\n",
       "      <td>-0.10</td>\n",
       "    </tr>\n",
       "    <tr>\n",
       "      <th>1</th>\n",
       "      <td>IDX-NOV-2019</td>\n",
       "      <td>106.573</td>\n",
       "      <td>103.959</td>\n",
       "      <td>104.712</td>\n",
       "      <td>100.074</td>\n",
       "      <td>105.255</td>\n",
       "      <td>100.967</td>\n",
       "      <td>107.678</td>\n",
       "      <td>89.989</td>\n",
       "      <td>111.540</td>\n",
       "      <td>104.906</td>\n",
       "      <td>101.749</td>\n",
       "      <td>104.536</td>\n",
       "      <td>106.336</td>\n",
       "      <td>NA</td>\n",
       "      <td>0.15</td>\n",
       "    </tr>\n",
       "    <tr>\n",
       "      <th>2</th>\n",
       "      <td>IDX-JAN-2020</td>\n",
       "      <td>107.143</td>\n",
       "      <td>106.468</td>\n",
       "      <td>104.874</td>\n",
       "      <td>101.213</td>\n",
       "      <td>105.764</td>\n",
       "      <td>104.337</td>\n",
       "      <td>109.886</td>\n",
       "      <td>93.442</td>\n",
       "      <td>106.672</td>\n",
       "      <td>105.768</td>\n",
       "      <td>99.300</td>\n",
       "      <td>104.746</td>\n",
       "      <td>107.738</td>\n",
       "      <td>0</td>\n",
       "      <td>0.40</td>\n",
       "    </tr>\n",
       "    <tr>\n",
       "      <th>3</th>\n",
       "      <td>IDX-MAR-2020</td>\n",
       "      <td>107.162</td>\n",
       "      <td>106.700</td>\n",
       "      <td>106.098</td>\n",
       "      <td>103.272</td>\n",
       "      <td>105.285</td>\n",
       "      <td>104.932</td>\n",
       "      <td>109.955</td>\n",
       "      <td>97.442</td>\n",
       "      <td>103.961</td>\n",
       "      <td>107.539</td>\n",
       "      <td>101.545</td>\n",
       "      <td>105.182</td>\n",
       "      <td>108.452</td>\n",
       "      <td>NA</td>\n",
       "      <td>-2.05</td>\n",
       "    </tr>\n",
       "  </tbody>\n",
       "</table>\n",
       "</div>"
      ],
      "text/plain": [
       "Item and Group         index  All items  Food and beverages  \\\n",
       "0               IDX-SEP-2019    106.412             104.565   \n",
       "1               IDX-NOV-2019    106.573             103.959   \n",
       "2               IDX-JAN-2020    107.143             106.468   \n",
       "3               IDX-MAR-2020    107.162             106.700   \n",
       "\n",
       "Item and Group  Cereals and bakery products  Meats, poultry, fish, and eggs  \\\n",
       "0                                   104.417                         101.027   \n",
       "1                                   104.712                         100.074   \n",
       "2                                   104.874                         101.213   \n",
       "3                                   106.098                         103.272   \n",
       "\n",
       "Item and Group  Dairy and related products  Fruits and vegetables  Housing  \\\n",
       "0                                  100.287                101.854  107.048   \n",
       "1                                  105.255                100.967  107.678   \n",
       "2                                  105.764                104.337  109.886   \n",
       "3                                  105.285                104.932  109.955   \n",
       "\n",
       "Item and Group  Apparel  Transportation  Medical care  Recreation  \\\n",
       "0               106.510         108.799       104.586     101.354   \n",
       "1                89.989         111.540       104.906     101.749   \n",
       "2                93.442         106.672       105.768      99.300   \n",
       "3                97.442         103.961       107.539     101.545   \n",
       "\n",
       "Item and Group  Education and communication  Other goods and services CPI  \\\n",
       "0                                   105.604                   105.500  NA   \n",
       "1                                   104.536                   106.336  NA   \n",
       "2                                   104.746                   107.738   0   \n",
       "3                                   105.182                   108.452  NA   \n",
       "\n",
       "Item and Group  EX_IM  \n",
       "0               -0.10  \n",
       "1                0.15  \n",
       "2                0.40  \n",
       "3               -2.05  "
      ]
     },
     "execution_count": 77,
     "metadata": {},
     "output_type": "execute_result"
    }
   ],
   "source": [
    "#Cut index number 4 row\n",
    "RS_df = RS_df.loc[0:3, :]\n",
    "#Add CPI of each months\n",
    "RS_df['CPI'] = ['NA', 'NA',0.0 ,'NA']\n",
    "#Add export-import\n",
    "RS_df['EX_IM'] = [-0.1, 0.15, 0.4, -2.05]\n",
    "RS_df"
   ]
  },
  {
   "cell_type": "markdown",
   "metadata": {},
   "source": [
    "Model failed to predict the prices in Riverside due to lack of data in CPI for September, November, March"
   ]
  },
  {
   "cell_type": "code",
   "execution_count": 78,
   "metadata": {},
   "outputs": [
    {
     "data": {
      "text/html": [
       "<div>\n",
       "<style scoped>\n",
       "    .dataframe tbody tr th:only-of-type {\n",
       "        vertical-align: middle;\n",
       "    }\n",
       "\n",
       "    .dataframe tbody tr th {\n",
       "        vertical-align: top;\n",
       "    }\n",
       "\n",
       "    .dataframe thead th {\n",
       "        text-align: right;\n",
       "    }\n",
       "</style>\n",
       "<table border=\"1\" class=\"dataframe\">\n",
       "  <thead>\n",
       "    <tr style=\"text-align: right;\">\n",
       "      <th>Item and Group</th>\n",
       "      <th>index</th>\n",
       "      <th>All items</th>\n",
       "      <th>Food and beverages</th>\n",
       "      <th>Cereals and bakery products</th>\n",
       "      <th>Meats, poultry, fish, and eggs</th>\n",
       "      <th>Dairy and related products</th>\n",
       "      <th>Fruits and vegetables</th>\n",
       "      <th>Housing</th>\n",
       "      <th>Apparel</th>\n",
       "      <th>Transportation</th>\n",
       "      <th>Medical care</th>\n",
       "      <th>Recreation</th>\n",
       "      <th>Education and communication</th>\n",
       "      <th>Other goods and services</th>\n",
       "    </tr>\n",
       "  </thead>\n",
       "  <tbody>\n",
       "    <tr>\n",
       "      <th>0</th>\n",
       "      <td>IDX-SEP-2019</td>\n",
       "      <td>301.033</td>\n",
       "      <td>261.023</td>\n",
       "      <td>260.394</td>\n",
       "      <td>237.007</td>\n",
       "      <td>190.050</td>\n",
       "      <td>269.633</td>\n",
       "      <td>357.699</td>\n",
       "      <td>171.134</td>\n",
       "      <td>234.106</td>\n",
       "      <td>494.789</td>\n",
       "      <td>156.400</td>\n",
       "      <td>130.136</td>\n",
       "      <td>405.354</td>\n",
       "    </tr>\n",
       "    <tr>\n",
       "      <th>1</th>\n",
       "      <td>IDX-NOV-2019</td>\n",
       "      <td>301.520</td>\n",
       "      <td>263.074</td>\n",
       "      <td>264.756</td>\n",
       "      <td>240.881</td>\n",
       "      <td>193.319</td>\n",
       "      <td>268.477</td>\n",
       "      <td>357.465</td>\n",
       "      <td>161.566</td>\n",
       "      <td>235.748</td>\n",
       "      <td>496.264</td>\n",
       "      <td>158.427</td>\n",
       "      <td>130.967</td>\n",
       "      <td>410.688</td>\n",
       "    </tr>\n",
       "    <tr>\n",
       "      <th>2</th>\n",
       "      <td>IDX-JAN-2020</td>\n",
       "      <td>302.564</td>\n",
       "      <td>262.528</td>\n",
       "      <td>260.540</td>\n",
       "      <td>239.904</td>\n",
       "      <td>193.408</td>\n",
       "      <td>260.880</td>\n",
       "      <td>361.568</td>\n",
       "      <td>161.111</td>\n",
       "      <td>231.819</td>\n",
       "      <td>498.962</td>\n",
       "      <td>159.728</td>\n",
       "      <td>130.384</td>\n",
       "      <td>411.720</td>\n",
       "    </tr>\n",
       "    <tr>\n",
       "      <th>3</th>\n",
       "      <td>IDX-MAR-2020</td>\n",
       "      <td>302.589</td>\n",
       "      <td>265.155</td>\n",
       "      <td>256.531</td>\n",
       "      <td>240.900</td>\n",
       "      <td>194.576</td>\n",
       "      <td>264.063</td>\n",
       "      <td>363.301</td>\n",
       "      <td>157.971</td>\n",
       "      <td>223.714</td>\n",
       "      <td>507.904</td>\n",
       "      <td>161.577</td>\n",
       "      <td>129.186</td>\n",
       "      <td>414.683</td>\n",
       "    </tr>\n",
       "  </tbody>\n",
       "</table>\n",
       "</div>"
      ],
      "text/plain": [
       "Item and Group         index  All items  Food and beverages  \\\n",
       "0               IDX-SEP-2019    301.033             261.023   \n",
       "1               IDX-NOV-2019    301.520             263.074   \n",
       "2               IDX-JAN-2020    302.564             262.528   \n",
       "3               IDX-MAR-2020    302.589             265.155   \n",
       "\n",
       "Item and Group  Cereals and bakery products  Meats, poultry, fish, and eggs  \\\n",
       "0                                   260.394                         237.007   \n",
       "1                                   264.756                         240.881   \n",
       "2                                   260.540                         239.904   \n",
       "3                                   256.531                         240.900   \n",
       "\n",
       "Item and Group  Dairy and related products  Fruits and vegetables  Housing  \\\n",
       "0                                  190.050                269.633  357.699   \n",
       "1                                  193.319                268.477  357.465   \n",
       "2                                  193.408                260.880  361.568   \n",
       "3                                  194.576                264.063  363.301   \n",
       "\n",
       "Item and Group  Apparel  Transportation  Medical care  Recreation  \\\n",
       "0               171.134         234.106       494.789     156.400   \n",
       "1               161.566         235.748       496.264     158.427   \n",
       "2               161.111         231.819       498.962     159.728   \n",
       "3               157.971         223.714       507.904     161.577   \n",
       "\n",
       "Item and Group  Education and communication  Other goods and services  \n",
       "0                                   130.136                   405.354  \n",
       "1                                   130.967                   410.688  \n",
       "2                                   130.384                   411.720  \n",
       "3                                   129.186                   414.683  "
      ]
     },
     "execution_count": 78,
     "metadata": {},
     "output_type": "execute_result"
    }
   ],
   "source": [
    "#San Diego daframe\n",
    "SD_df = dfSDTrans.reset_index()\n",
    "SD_df"
   ]
  },
  {
   "cell_type": "code",
   "execution_count": 79,
   "metadata": {},
   "outputs": [
    {
     "data": {
      "text/html": [
       "<div>\n",
       "<style scoped>\n",
       "    .dataframe tbody tr th:only-of-type {\n",
       "        vertical-align: middle;\n",
       "    }\n",
       "\n",
       "    .dataframe tbody tr th {\n",
       "        vertical-align: top;\n",
       "    }\n",
       "\n",
       "    .dataframe thead th {\n",
       "        text-align: right;\n",
       "    }\n",
       "</style>\n",
       "<table border=\"1\" class=\"dataframe\">\n",
       "  <thead>\n",
       "    <tr style=\"text-align: right;\">\n",
       "      <th>Item and Group</th>\n",
       "      <th>index</th>\n",
       "      <th>All items</th>\n",
       "      <th>Food and beverages</th>\n",
       "      <th>Cereals and bakery products</th>\n",
       "      <th>Meats, poultry, fish, and eggs</th>\n",
       "      <th>Dairy and related products</th>\n",
       "      <th>Fruits and vegetables</th>\n",
       "      <th>Housing</th>\n",
       "      <th>Apparel</th>\n",
       "      <th>Transportation</th>\n",
       "      <th>Medical care</th>\n",
       "      <th>Recreation</th>\n",
       "      <th>Education and communication</th>\n",
       "      <th>Other goods and services</th>\n",
       "      <th>CPI</th>\n",
       "      <th>EX_IM</th>\n",
       "    </tr>\n",
       "  </thead>\n",
       "  <tbody>\n",
       "    <tr>\n",
       "      <th>0</th>\n",
       "      <td>IDX-SEP-2019</td>\n",
       "      <td>301.033</td>\n",
       "      <td>261.023</td>\n",
       "      <td>260.394</td>\n",
       "      <td>237.007</td>\n",
       "      <td>190.050</td>\n",
       "      <td>269.633</td>\n",
       "      <td>357.699</td>\n",
       "      <td>171.134</td>\n",
       "      <td>234.106</td>\n",
       "      <td>494.789</td>\n",
       "      <td>156.400</td>\n",
       "      <td>130.136</td>\n",
       "      <td>405.354</td>\n",
       "      <td>0.2</td>\n",
       "      <td>-0.10</td>\n",
       "    </tr>\n",
       "    <tr>\n",
       "      <th>1</th>\n",
       "      <td>IDX-NOV-2019</td>\n",
       "      <td>301.520</td>\n",
       "      <td>263.074</td>\n",
       "      <td>264.756</td>\n",
       "      <td>240.881</td>\n",
       "      <td>193.319</td>\n",
       "      <td>268.477</td>\n",
       "      <td>357.465</td>\n",
       "      <td>161.566</td>\n",
       "      <td>235.748</td>\n",
       "      <td>496.264</td>\n",
       "      <td>158.427</td>\n",
       "      <td>130.967</td>\n",
       "      <td>410.688</td>\n",
       "      <td>0.3</td>\n",
       "      <td>0.15</td>\n",
       "    </tr>\n",
       "    <tr>\n",
       "      <th>2</th>\n",
       "      <td>IDX-JAN-2020</td>\n",
       "      <td>302.564</td>\n",
       "      <td>262.528</td>\n",
       "      <td>260.540</td>\n",
       "      <td>239.904</td>\n",
       "      <td>193.408</td>\n",
       "      <td>260.880</td>\n",
       "      <td>361.568</td>\n",
       "      <td>161.111</td>\n",
       "      <td>231.819</td>\n",
       "      <td>498.962</td>\n",
       "      <td>159.728</td>\n",
       "      <td>130.384</td>\n",
       "      <td>411.720</td>\n",
       "      <td>0.0</td>\n",
       "      <td>0.40</td>\n",
       "    </tr>\n",
       "    <tr>\n",
       "      <th>3</th>\n",
       "      <td>IDX-MAR-2020</td>\n",
       "      <td>302.589</td>\n",
       "      <td>265.155</td>\n",
       "      <td>256.531</td>\n",
       "      <td>240.900</td>\n",
       "      <td>194.576</td>\n",
       "      <td>264.063</td>\n",
       "      <td>363.301</td>\n",
       "      <td>157.971</td>\n",
       "      <td>223.714</td>\n",
       "      <td>507.904</td>\n",
       "      <td>161.577</td>\n",
       "      <td>129.186</td>\n",
       "      <td>414.683</td>\n",
       "      <td>1.8</td>\n",
       "      <td>-2.05</td>\n",
       "    </tr>\n",
       "  </tbody>\n",
       "</table>\n",
       "</div>"
      ],
      "text/plain": [
       "Item and Group         index  All items  Food and beverages  \\\n",
       "0               IDX-SEP-2019    301.033             261.023   \n",
       "1               IDX-NOV-2019    301.520             263.074   \n",
       "2               IDX-JAN-2020    302.564             262.528   \n",
       "3               IDX-MAR-2020    302.589             265.155   \n",
       "\n",
       "Item and Group  Cereals and bakery products  Meats, poultry, fish, and eggs  \\\n",
       "0                                   260.394                         237.007   \n",
       "1                                   264.756                         240.881   \n",
       "2                                   260.540                         239.904   \n",
       "3                                   256.531                         240.900   \n",
       "\n",
       "Item and Group  Dairy and related products  Fruits and vegetables  Housing  \\\n",
       "0                                  190.050                269.633  357.699   \n",
       "1                                  193.319                268.477  357.465   \n",
       "2                                  193.408                260.880  361.568   \n",
       "3                                  194.576                264.063  363.301   \n",
       "\n",
       "Item and Group  Apparel  Transportation  Medical care  Recreation  \\\n",
       "0               171.134         234.106       494.789     156.400   \n",
       "1               161.566         235.748       496.264     158.427   \n",
       "2               161.111         231.819       498.962     159.728   \n",
       "3               157.971         223.714       507.904     161.577   \n",
       "\n",
       "Item and Group  Education and communication  Other goods and services  CPI  \\\n",
       "0                                   130.136                   405.354  0.2   \n",
       "1                                   130.967                   410.688  0.3   \n",
       "2                                   130.384                   411.720  0.0   \n",
       "3                                   129.186                   414.683  1.8   \n",
       "\n",
       "Item and Group  EX_IM  \n",
       "0               -0.10  \n",
       "1                0.15  \n",
       "2                0.40  \n",
       "3               -2.05  "
      ]
     },
     "execution_count": 79,
     "metadata": {},
     "output_type": "execute_result"
    }
   ],
   "source": [
    "#Cut index number 4 row\n",
    "SD_df = SD_df.loc[0:3, :]\n",
    "#Add CPI of each months\n",
    "SD_df['CPI'] = [0.2, 0.3, 0.0 , 1.8]\n",
    "#Add export-import\n",
    "SD_df['EX_IM'] = [-0.1, 0.15, 0.4, -2.05]\n",
    "SD_df"
   ]
  },
  {
   "cell_type": "code",
   "execution_count": 80,
   "metadata": {},
   "outputs": [
    {
     "data": {
      "text/plain": [
       "0    323.220590\n",
       "1    323.129780\n",
       "2    323.015066\n",
       "3    323.564013\n",
       "dtype: float64"
      ]
     },
     "execution_count": 80,
     "metadata": {},
     "output_type": "execute_result"
    }
   ],
   "source": [
    "#predict SD cereal and bakery product price\n",
    "SD_breakfast = 340.8113 + (-0.0217)*SD_df['CPI'] + (-0.2406)*SD_df['EX_IM'] + (-0.0585)*SD_df['All items']\n",
    "SD_breakfast"
   ]
  },
  {
   "cell_type": "code",
   "execution_count": 81,
   "metadata": {},
   "outputs": [
    {
     "data": {
      "text/plain": [
       "(257.2625920384701, 263.8479079615299)"
      ]
     },
     "execution_count": 81,
     "metadata": {},
     "output_type": "execute_result"
    }
   ],
   "source": [
    "#see confidence interval\n",
    "n_SD = len(SD_df)\n",
    "SD_x_bar_bfast = SD_df['Cereals and bakery products'].mean()\n",
    "SD_sigma_bfast = SD_df['Cereals and bakery products'].std()\n",
    "\n",
    "SD_z_bfast = stats.norm.ppf(q=0.975)\n",
    "\n",
    "SD_ste_bfast = SD_sigma_bfast / math.sqrt(n_SD)\n",
    "\n",
    "SD_low_CI_bfast = SD_x_bar_bfast - SD_z_bfast * SD_ste_bfast\n",
    "SD_high_CI_bfast = SD_x_bar_bfast + SD_z_bfast * SD_ste_bfast\n",
    "\n",
    "SD_low_CI_bfast, SD_high_CI_bfast "
   ]
  },
  {
   "cell_type": "markdown",
   "metadata": {},
   "source": [
    "From the data above, we can see the Confidence Intervals for SD Cereals and bakery products. If the prediction falls in between the CI, then we will accepts the null hypothesis, else we will reject the null hypothesis and accepts alternative hypothesis."
   ]
  },
  {
   "cell_type": "code",
   "execution_count": 82,
   "metadata": {},
   "outputs": [
    {
     "name": "stdout",
     "output_type": "stream",
     "text": [
      "reject null hypothesis\n",
      "reject null hypothesis\n",
      "reject null hypothesis\n",
      "reject null hypothesis\n"
     ]
    }
   ],
   "source": [
    "for i in SD_breakfast:\n",
    "    if (i < SD_low_CI_bfast) | (i > SD_high_CI_bfast):\n",
    "        print ('reject null hypothesis')\n",
    "    else:\n",
    "        print ('accept null hypothesis')"
   ]
  },
  {
   "cell_type": "code",
   "execution_count": 83,
   "metadata": {},
   "outputs": [
    {
     "data": {
      "text/plain": [
       "0    226.960320\n",
       "1    226.789296\n",
       "2    229.406063\n",
       "3    211.523173\n",
       "dtype: float64"
      ]
     },
     "execution_count": 83,
     "metadata": {},
     "output_type": "execute_result"
    }
   ],
   "source": [
    "#predict SD meat price\n",
    "SD_meat = 234.9577 + (-6.9990)*SD_df['CPI'] + 2.1568*SD_df['EX_IM'] + (-0.0212)*SD_df['All items']\n",
    "SD_meat"
   ]
  },
  {
   "cell_type": "code",
   "execution_count": 84,
   "metadata": {},
   "outputs": [
    {
     "data": {
      "text/plain": [
       "(237.87259499937537, 241.47340500062464)"
      ]
     },
     "execution_count": 84,
     "metadata": {},
     "output_type": "execute_result"
    }
   ],
   "source": [
    "#see confidence interval\n",
    "SD_x_bar_meat = SD_df['Meats, poultry, fish, and eggs'].mean()\n",
    "SD_sigma_meat = SD_df['Meats, poultry, fish, and eggs'].std()\n",
    "\n",
    "SD_z_meat = stats.norm.ppf(q=0.975)\n",
    "\n",
    "SD_ste_meat = SD_sigma_meat / math.sqrt(n_SD)\n",
    "\n",
    "SD_low_CI_meat = SD_x_bar_meat - SD_z_meat * SD_ste_meat\n",
    "SD_high_CI_meat = SD_x_bar_meat + SD_z_meat * SD_ste_meat\n",
    "\n",
    "SD_low_CI_meat, SD_high_CI_meat "
   ]
  },
  {
   "cell_type": "markdown",
   "metadata": {},
   "source": [
    "From the data above, we can see the Confidence Intervals for SD Meats, poultry, fish, and eggs. If the prediction falls in between the CI, then we will accepts the null hypothesis, else we will reject the null hypothesis and accepts alternative hypothesis."
   ]
  },
  {
   "cell_type": "code",
   "execution_count": 85,
   "metadata": {},
   "outputs": [
    {
     "name": "stdout",
     "output_type": "stream",
     "text": [
      "reject null hypothesis\n",
      "reject null hypothesis\n",
      "reject null hypothesis\n",
      "reject null hypothesis\n"
     ]
    }
   ],
   "source": [
    "for i in SD_meat:\n",
    "    if (i < SD_low_CI_meat) | (i > SD_high_CI_meat):\n",
    "        print ('reject null hypothesis')\n",
    "\n",
    "    else:\n",
    "        print ('accept null hypothesis')"
   ]
  },
  {
   "cell_type": "code",
   "execution_count": 86,
   "metadata": {},
   "outputs": [
    {
     "data": {
      "text/plain": [
       "0    129.305825\n",
       "1    129.296230\n",
       "2    131.208434\n",
       "3    118.409742\n",
       "dtype: float64"
      ]
     },
     "execution_count": 86,
     "metadata": {},
     "output_type": "execute_result"
    }
   ],
   "source": [
    "#predict SD dairy price\n",
    "SD_dairy = 114.3215 + (-4.7300)*SD_df['CPI'] + 1.7494*SD_df['EX_IM'] + (0.0535)*SD_df['All items']\n",
    "SD_dairy"
   ]
  },
  {
   "cell_type": "code",
   "execution_count": 87,
   "metadata": {},
   "outputs": [
    {
     "data": {
      "text/plain": [
       "(190.9321200509009, 194.74437994909914)"
      ]
     },
     "execution_count": 87,
     "metadata": {},
     "output_type": "execute_result"
    }
   ],
   "source": [
    "#see confidence interval\n",
    "SD_x_bar_dairy = SD_df['Dairy and related products'].mean()\n",
    "SD_sigma_dairy = SD_df['Dairy and related products'].std()\n",
    "\n",
    "SD_z_dairy = stats.norm.ppf(q=0.975)\n",
    "\n",
    "SD_ste_dairy = SD_sigma_dairy / math.sqrt(n_SD)\n",
    "\n",
    "SD_low_CI_dairy = SD_x_bar_dairy - SD_z_dairy * SD_ste_dairy\n",
    "SD_high_CI_dairy = SD_x_bar_dairy + SD_z_dairy * SD_ste_dairy\n",
    "\n",
    "SD_low_CI_dairy, SD_high_CI_dairy"
   ]
  },
  {
   "cell_type": "markdown",
   "metadata": {},
   "source": [
    "From the data above, we can see the Confidence Intervals for SD Dairy and related products. If the prediction falls in between the CI, then we will accepts the null hypothesis, else we will reject the null hypothesis and accepts alternative hypothesis."
   ]
  },
  {
   "cell_type": "code",
   "execution_count": 88,
   "metadata": {},
   "outputs": [
    {
     "name": "stdout",
     "output_type": "stream",
     "text": [
      "reject null hypothesis\n",
      "reject null hypothesis\n",
      "reject null hypothesis\n",
      "reject null hypothesis\n"
     ]
    }
   ],
   "source": [
    "for i in SD_dairy:\n",
    "    if (i < SD_low_CI_dairy) | (i > SD_high_CI_dairy):\n",
    "        print ('reject null hypothesis')\n",
    "\n",
    "    else:\n",
    "        print ('accept null hypothesis')"
   ]
  },
  {
   "cell_type": "code",
   "execution_count": 89,
   "metadata": {},
   "outputs": [
    {
     "data": {
      "text/plain": [
       "0    132.959416\n",
       "1    132.617031\n",
       "2    138.197397\n",
       "3    101.363150\n",
       "dtype: float64"
      ]
     },
     "execution_count": 89,
     "metadata": {},
     "output_type": "execute_result"
    }
   ],
   "source": [
    "#Predict SD fruits and vegetable price\n",
    "SD_fruits = 102.5107 + (-14.6505)*SD_df['CPI'] + 4.2719*SD_df['EX_IM'] + 0.1123*SD_df['All items']\n",
    "SD_fruits"
   ]
  },
  {
   "cell_type": "code",
   "execution_count": 90,
   "metadata": {},
   "outputs": [
    {
     "data": {
      "text/plain": [
       "(261.799614136662, 269.72688586333794)"
      ]
     },
     "execution_count": 90,
     "metadata": {},
     "output_type": "execute_result"
    }
   ],
   "source": [
    "#see confidence interval\n",
    "SD_x_bar_fruits = SD_df['Fruits and vegetables'].mean()\n",
    "SD_sigma_fruits = SD_df['Fruits and vegetables'].std()\n",
    "\n",
    "SD_z_fruits = stats.norm.ppf(q=0.975)\n",
    "\n",
    "SD_ste_fruits = SD_sigma_fruits / math.sqrt(n_SD)\n",
    "\n",
    "SD_low_CI_fruits = SD_x_bar_fruits - SD_z_fruits * SD_ste_fruits\n",
    "SD_high_CI_fruits = SD_x_bar_fruits + SD_z_fruits * SD_ste_fruits\n",
    "\n",
    "SD_low_CI_fruits, SD_high_CI_fruits"
   ]
  },
  {
   "cell_type": "markdown",
   "metadata": {},
   "source": [
    "From the data above, we can see the Confidence Intervals for SD Fruits and vegetables. If the prediction falls in between the CI, then we will accepts the null hypothesis, else we will reject the null hypothesis and accepts alternative hypothesis."
   ]
  },
  {
   "cell_type": "code",
   "execution_count": 91,
   "metadata": {},
   "outputs": [
    {
     "name": "stdout",
     "output_type": "stream",
     "text": [
      "reject null hypothesis\n",
      "reject null hypothesis\n",
      "reject null hypothesis\n",
      "reject null hypothesis\n"
     ]
    }
   ],
   "source": [
    "for i in SD_fruits:\n",
    "    if (i < SD_low_CI_fruits) | (i > SD_high_CI_fruits):\n",
    "        print ('reject null hypothesis')\n",
    "\n",
    "    else:\n",
    "        print ('accept null hypothesis')"
   ]
  },
  {
   "cell_type": "markdown",
   "metadata": {},
   "source": [
    "## Create model using Scikit-learn linear regression"
   ]
  },
  {
   "cell_type": "code",
   "execution_count": 92,
   "metadata": {},
   "outputs": [
    {
     "data": {
      "text/html": [
       "<div>\n",
       "<style scoped>\n",
       "    .dataframe tbody tr th:only-of-type {\n",
       "        vertical-align: middle;\n",
       "    }\n",
       "\n",
       "    .dataframe tbody tr th {\n",
       "        vertical-align: top;\n",
       "    }\n",
       "\n",
       "    .dataframe thead th {\n",
       "        text-align: right;\n",
       "    }\n",
       "</style>\n",
       "<table border=\"1\" class=\"dataframe\">\n",
       "  <thead>\n",
       "    <tr style=\"text-align: right;\">\n",
       "      <th></th>\n",
       "      <th>CPI</th>\n",
       "      <th>EX_IM</th>\n",
       "      <th>breakfast</th>\n",
       "      <th>meat</th>\n",
       "      <th>dairy</th>\n",
       "      <th>fruits</th>\n",
       "      <th>cost_of_living</th>\n",
       "    </tr>\n",
       "  </thead>\n",
       "  <tbody>\n",
       "    <tr>\n",
       "      <th>0</th>\n",
       "      <td>0.222222</td>\n",
       "      <td>0.631579</td>\n",
       "      <td>0.813406</td>\n",
       "      <td>0.607960</td>\n",
       "      <td>0.717549</td>\n",
       "      <td>0.577461</td>\n",
       "      <td>0.000000</td>\n",
       "    </tr>\n",
       "    <tr>\n",
       "      <th>1</th>\n",
       "      <td>0.333333</td>\n",
       "      <td>0.719298</td>\n",
       "      <td>0.814774</td>\n",
       "      <td>0.380362</td>\n",
       "      <td>0.555825</td>\n",
       "      <td>0.557415</td>\n",
       "      <td>0.052497</td>\n",
       "    </tr>\n",
       "    <tr>\n",
       "      <th>2</th>\n",
       "      <td>1.000000</td>\n",
       "      <td>1.000000</td>\n",
       "      <td>0.895212</td>\n",
       "      <td>0.409199</td>\n",
       "      <td>0.728593</td>\n",
       "      <td>0.461115</td>\n",
       "      <td>0.208489</td>\n",
       "    </tr>\n",
       "    <tr>\n",
       "      <th>3</th>\n",
       "      <td>0.222222</td>\n",
       "      <td>0.192982</td>\n",
       "      <td>1.000000</td>\n",
       "      <td>0.136559</td>\n",
       "      <td>0.111498</td>\n",
       "      <td>0.346215</td>\n",
       "      <td>0.191167</td>\n",
       "    </tr>\n",
       "    <tr>\n",
       "      <th>4</th>\n",
       "      <td>0.666667</td>\n",
       "      <td>0.719298</td>\n",
       "      <td>0.723940</td>\n",
       "      <td>0.275739</td>\n",
       "      <td>0.000000</td>\n",
       "      <td>0.096094</td>\n",
       "      <td>0.296800</td>\n",
       "    </tr>\n",
       "    <tr>\n",
       "      <th>5</th>\n",
       "      <td>0.444444</td>\n",
       "      <td>0.350877</td>\n",
       "      <td>0.409029</td>\n",
       "      <td>0.137989</td>\n",
       "      <td>0.147050</td>\n",
       "      <td>0.116760</td>\n",
       "      <td>0.467250</td>\n",
       "    </tr>\n",
       "    <tr>\n",
       "      <th>6</th>\n",
       "      <td>0.555556</td>\n",
       "      <td>0.508772</td>\n",
       "      <td>0.461012</td>\n",
       "      <td>0.000000</td>\n",
       "      <td>0.450681</td>\n",
       "      <td>0.244748</td>\n",
       "      <td>0.556662</td>\n",
       "    </tr>\n",
       "    <tr>\n",
       "      <th>7</th>\n",
       "      <td>0.666667</td>\n",
       "      <td>0.789474</td>\n",
       "      <td>0.236389</td>\n",
       "      <td>0.072092</td>\n",
       "      <td>0.231921</td>\n",
       "      <td>0.269890</td>\n",
       "      <td>0.612840</td>\n",
       "    </tr>\n",
       "    <tr>\n",
       "      <th>8</th>\n",
       "      <td>0.333333</td>\n",
       "      <td>0.456140</td>\n",
       "      <td>0.351026</td>\n",
       "      <td>0.048379</td>\n",
       "      <td>0.364750</td>\n",
       "      <td>0.501137</td>\n",
       "      <td>0.532111</td>\n",
       "    </tr>\n",
       "    <tr>\n",
       "      <th>9</th>\n",
       "      <td>0.444444</td>\n",
       "      <td>0.701754</td>\n",
       "      <td>0.270588</td>\n",
       "      <td>0.151692</td>\n",
       "      <td>0.993646</td>\n",
       "      <td>0.909623</td>\n",
       "      <td>0.613611</td>\n",
       "    </tr>\n",
       "    <tr>\n",
       "      <th>10</th>\n",
       "      <td>0.222222</td>\n",
       "      <td>0.280702</td>\n",
       "      <td>0.444596</td>\n",
       "      <td>0.208055</td>\n",
       "      <td>0.971104</td>\n",
       "      <td>0.623338</td>\n",
       "      <td>0.719377</td>\n",
       "    </tr>\n",
       "    <tr>\n",
       "      <th>11</th>\n",
       "      <td>0.333333</td>\n",
       "      <td>0.543860</td>\n",
       "      <td>0.326676</td>\n",
       "      <td>0.263942</td>\n",
       "      <td>0.973222</td>\n",
       "      <td>1.000000</td>\n",
       "      <td>0.898224</td>\n",
       "    </tr>\n",
       "    <tr>\n",
       "      <th>12</th>\n",
       "      <td>0.111111</td>\n",
       "      <td>0.736842</td>\n",
       "      <td>0.188509</td>\n",
       "      <td>0.545877</td>\n",
       "      <td>0.745386</td>\n",
       "      <td>0.920163</td>\n",
       "      <td>0.962644</td>\n",
       "    </tr>\n",
       "    <tr>\n",
       "      <th>13</th>\n",
       "      <td>0.000000</td>\n",
       "      <td>0.333333</td>\n",
       "      <td>0.419425</td>\n",
       "      <td>0.605577</td>\n",
       "      <td>0.812103</td>\n",
       "      <td>0.824757</td>\n",
       "      <td>0.973751</td>\n",
       "    </tr>\n",
       "    <tr>\n",
       "      <th>14</th>\n",
       "      <td>0.111111</td>\n",
       "      <td>0.000000</td>\n",
       "      <td>0.143365</td>\n",
       "      <td>0.902526</td>\n",
       "      <td>0.842057</td>\n",
       "      <td>0.412826</td>\n",
       "      <td>0.924384</td>\n",
       "    </tr>\n",
       "    <tr>\n",
       "      <th>15</th>\n",
       "      <td>0.555556</td>\n",
       "      <td>0.333333</td>\n",
       "      <td>0.119289</td>\n",
       "      <td>1.000000</td>\n",
       "      <td>1.000000</td>\n",
       "      <td>0.003651</td>\n",
       "      <td>0.920946</td>\n",
       "    </tr>\n",
       "    <tr>\n",
       "      <th>16</th>\n",
       "      <td>0.555556</td>\n",
       "      <td>0.596491</td>\n",
       "      <td>0.000000</td>\n",
       "      <td>0.983913</td>\n",
       "      <td>0.957791</td>\n",
       "      <td>0.000000</td>\n",
       "      <td>1.000000</td>\n",
       "    </tr>\n",
       "  </tbody>\n",
       "</table>\n",
       "</div>"
      ],
      "text/plain": [
       "         CPI     EX_IM  breakfast      meat     dairy    fruits  \\\n",
       "0   0.222222  0.631579   0.813406  0.607960  0.717549  0.577461   \n",
       "1   0.333333  0.719298   0.814774  0.380362  0.555825  0.557415   \n",
       "2   1.000000  1.000000   0.895212  0.409199  0.728593  0.461115   \n",
       "3   0.222222  0.192982   1.000000  0.136559  0.111498  0.346215   \n",
       "4   0.666667  0.719298   0.723940  0.275739  0.000000  0.096094   \n",
       "5   0.444444  0.350877   0.409029  0.137989  0.147050  0.116760   \n",
       "6   0.555556  0.508772   0.461012  0.000000  0.450681  0.244748   \n",
       "7   0.666667  0.789474   0.236389  0.072092  0.231921  0.269890   \n",
       "8   0.333333  0.456140   0.351026  0.048379  0.364750  0.501137   \n",
       "9   0.444444  0.701754   0.270588  0.151692  0.993646  0.909623   \n",
       "10  0.222222  0.280702   0.444596  0.208055  0.971104  0.623338   \n",
       "11  0.333333  0.543860   0.326676  0.263942  0.973222  1.000000   \n",
       "12  0.111111  0.736842   0.188509  0.545877  0.745386  0.920163   \n",
       "13  0.000000  0.333333   0.419425  0.605577  0.812103  0.824757   \n",
       "14  0.111111  0.000000   0.143365  0.902526  0.842057  0.412826   \n",
       "15  0.555556  0.333333   0.119289  1.000000  1.000000  0.003651   \n",
       "16  0.555556  0.596491   0.000000  0.983913  0.957791  0.000000   \n",
       "\n",
       "    cost_of_living  \n",
       "0         0.000000  \n",
       "1         0.052497  \n",
       "2         0.208489  \n",
       "3         0.191167  \n",
       "4         0.296800  \n",
       "5         0.467250  \n",
       "6         0.556662  \n",
       "7         0.612840  \n",
       "8         0.532111  \n",
       "9         0.613611  \n",
       "10        0.719377  \n",
       "11        0.898224  \n",
       "12        0.962644  \n",
       "13        0.973751  \n",
       "14        0.924384  \n",
       "15        0.920946  \n",
       "16        1.000000  "
      ]
     },
     "execution_count": 92,
     "metadata": {},
     "output_type": "execute_result"
    }
   ],
   "source": [
    "#First we will normalize the data to avoid underfitting or overfitting\n",
    "\n",
    "#normalize the data\n",
    "normalize = preprocessing.MinMaxScaler()\n",
    "df_norm = normalize.fit_transform(df)\n",
    "\n",
    "#convert into dataframe\n",
    "df_norm = pd.DataFrame(df_norm, columns=df.columns)\n",
    "df_norm"
   ]
  },
  {
   "cell_type": "code",
   "execution_count": 93,
   "metadata": {},
   "outputs": [
    {
     "data": {
      "text/html": [
       "<div>\n",
       "<style scoped>\n",
       "    .dataframe tbody tr th:only-of-type {\n",
       "        vertical-align: middle;\n",
       "    }\n",
       "\n",
       "    .dataframe tbody tr th {\n",
       "        vertical-align: top;\n",
       "    }\n",
       "\n",
       "    .dataframe thead th {\n",
       "        text-align: right;\n",
       "    }\n",
       "</style>\n",
       "<table border=\"1\" class=\"dataframe\">\n",
       "  <thead>\n",
       "    <tr style=\"text-align: right;\">\n",
       "      <th></th>\n",
       "      <th>CPI</th>\n",
       "      <th>EX_IM</th>\n",
       "      <th>breakfast</th>\n",
       "      <th>meat</th>\n",
       "      <th>dairy</th>\n",
       "      <th>fruits</th>\n",
       "      <th>cost_of_living</th>\n",
       "    </tr>\n",
       "  </thead>\n",
       "  <tbody>\n",
       "    <tr>\n",
       "      <th>count</th>\n",
       "      <td>17.000000</td>\n",
       "      <td>17.000000</td>\n",
       "      <td>17.000000</td>\n",
       "      <td>17.000000</td>\n",
       "      <td>17.000000</td>\n",
       "      <td>17.000000</td>\n",
       "      <td>17.000000</td>\n",
       "    </tr>\n",
       "    <tr>\n",
       "      <th>mean</th>\n",
       "      <td>0.398693</td>\n",
       "      <td>0.523220</td>\n",
       "      <td>0.448073</td>\n",
       "      <td>0.395874</td>\n",
       "      <td>0.623716</td>\n",
       "      <td>0.462658</td>\n",
       "      <td>0.584162</td>\n",
       "    </tr>\n",
       "    <tr>\n",
       "      <th>std</th>\n",
       "      <td>0.251719</td>\n",
       "      <td>0.252278</td>\n",
       "      <td>0.297980</td>\n",
       "      <td>0.328074</td>\n",
       "      <td>0.343180</td>\n",
       "      <td>0.321893</td>\n",
       "      <td>0.338649</td>\n",
       "    </tr>\n",
       "    <tr>\n",
       "      <th>min</th>\n",
       "      <td>0.000000</td>\n",
       "      <td>0.000000</td>\n",
       "      <td>0.000000</td>\n",
       "      <td>0.000000</td>\n",
       "      <td>0.000000</td>\n",
       "      <td>0.000000</td>\n",
       "      <td>0.000000</td>\n",
       "    </tr>\n",
       "    <tr>\n",
       "      <th>25%</th>\n",
       "      <td>0.222222</td>\n",
       "      <td>0.333333</td>\n",
       "      <td>0.236389</td>\n",
       "      <td>0.137989</td>\n",
       "      <td>0.364750</td>\n",
       "      <td>0.244748</td>\n",
       "      <td>0.296800</td>\n",
       "    </tr>\n",
       "    <tr>\n",
       "      <th>50%</th>\n",
       "      <td>0.333333</td>\n",
       "      <td>0.543860</td>\n",
       "      <td>0.409029</td>\n",
       "      <td>0.275739</td>\n",
       "      <td>0.728593</td>\n",
       "      <td>0.461115</td>\n",
       "      <td>0.612840</td>\n",
       "    </tr>\n",
       "    <tr>\n",
       "      <th>75%</th>\n",
       "      <td>0.555556</td>\n",
       "      <td>0.719298</td>\n",
       "      <td>0.723940</td>\n",
       "      <td>0.605577</td>\n",
       "      <td>0.957791</td>\n",
       "      <td>0.623338</td>\n",
       "      <td>0.920946</td>\n",
       "    </tr>\n",
       "    <tr>\n",
       "      <th>max</th>\n",
       "      <td>1.000000</td>\n",
       "      <td>1.000000</td>\n",
       "      <td>1.000000</td>\n",
       "      <td>1.000000</td>\n",
       "      <td>1.000000</td>\n",
       "      <td>1.000000</td>\n",
       "      <td>1.000000</td>\n",
       "    </tr>\n",
       "  </tbody>\n",
       "</table>\n",
       "</div>"
      ],
      "text/plain": [
       "             CPI      EX_IM  breakfast       meat      dairy     fruits  \\\n",
       "count  17.000000  17.000000  17.000000  17.000000  17.000000  17.000000   \n",
       "mean    0.398693   0.523220   0.448073   0.395874   0.623716   0.462658   \n",
       "std     0.251719   0.252278   0.297980   0.328074   0.343180   0.321893   \n",
       "min     0.000000   0.000000   0.000000   0.000000   0.000000   0.000000   \n",
       "25%     0.222222   0.333333   0.236389   0.137989   0.364750   0.244748   \n",
       "50%     0.333333   0.543860   0.409029   0.275739   0.728593   0.461115   \n",
       "75%     0.555556   0.719298   0.723940   0.605577   0.957791   0.623338   \n",
       "max     1.000000   1.000000   1.000000   1.000000   1.000000   1.000000   \n",
       "\n",
       "       cost_of_living  \n",
       "count       17.000000  \n",
       "mean         0.584162  \n",
       "std          0.338649  \n",
       "min          0.000000  \n",
       "25%          0.296800  \n",
       "50%          0.612840  \n",
       "75%          0.920946  \n",
       "max          1.000000  "
      ]
     },
     "execution_count": 93,
     "metadata": {},
     "output_type": "execute_result"
    }
   ],
   "source": [
    "#to see the undrlying statistics\n",
    "df_norm.describe()"
   ]
  },
  {
   "cell_type": "code",
   "execution_count": 94,
   "metadata": {},
   "outputs": [
    {
     "data": {
      "text/html": [
       "<div>\n",
       "<style scoped>\n",
       "    .dataframe tbody tr th:only-of-type {\n",
       "        vertical-align: middle;\n",
       "    }\n",
       "\n",
       "    .dataframe tbody tr th {\n",
       "        vertical-align: top;\n",
       "    }\n",
       "\n",
       "    .dataframe thead th {\n",
       "        text-align: right;\n",
       "    }\n",
       "</style>\n",
       "<table border=\"1\" class=\"dataframe\">\n",
       "  <thead>\n",
       "    <tr style=\"text-align: right;\">\n",
       "      <th></th>\n",
       "      <th>CPI</th>\n",
       "      <th>EX_IM</th>\n",
       "      <th>Breakfast</th>\n",
       "      <th>Meat</th>\n",
       "      <th>Dairy</th>\n",
       "      <th>Fruits</th>\n",
       "      <th>Cost_of_living</th>\n",
       "    </tr>\n",
       "  </thead>\n",
       "  <tbody>\n",
       "    <tr>\n",
       "      <th>0</th>\n",
       "      <td>1.000000</td>\n",
       "      <td>0.880597</td>\n",
       "      <td>0.000000</td>\n",
       "      <td>0.200974</td>\n",
       "      <td>0.286100</td>\n",
       "      <td>0.000000</td>\n",
       "      <td>0.000000</td>\n",
       "    </tr>\n",
       "    <tr>\n",
       "      <th>1</th>\n",
       "      <td>0.619048</td>\n",
       "      <td>1.000000</td>\n",
       "      <td>0.168894</td>\n",
       "      <td>0.400244</td>\n",
       "      <td>0.563229</td>\n",
       "      <td>0.407651</td>\n",
       "      <td>0.841123</td>\n",
       "    </tr>\n",
       "    <tr>\n",
       "      <th>2</th>\n",
       "      <td>0.000000</td>\n",
       "      <td>0.597015</td>\n",
       "      <td>0.374194</td>\n",
       "      <td>0.000000</td>\n",
       "      <td>0.406289</td>\n",
       "      <td>1.000000</td>\n",
       "      <td>1.000000</td>\n",
       "    </tr>\n",
       "    <tr>\n",
       "      <th>3</th>\n",
       "      <td>0.333333</td>\n",
       "      <td>0.268657</td>\n",
       "      <td>0.015822</td>\n",
       "      <td>0.459562</td>\n",
       "      <td>0.000000</td>\n",
       "      <td>0.656715</td>\n",
       "      <td>0.470786</td>\n",
       "    </tr>\n",
       "    <tr>\n",
       "      <th>4</th>\n",
       "      <td>0.809524</td>\n",
       "      <td>0.000000</td>\n",
       "      <td>1.000000</td>\n",
       "      <td>1.000000</td>\n",
       "      <td>1.000000</td>\n",
       "      <td>0.658435</td>\n",
       "      <td>0.963779</td>\n",
       "    </tr>\n",
       "  </tbody>\n",
       "</table>\n",
       "</div>"
      ],
      "text/plain": [
       "        CPI     EX_IM  Breakfast      Meat     Dairy    Fruits  Cost_of_living\n",
       "0  1.000000  0.880597   0.000000  0.200974  0.286100  0.000000        0.000000\n",
       "1  0.619048  1.000000   0.168894  0.400244  0.563229  0.407651        0.841123\n",
       "2  0.000000  0.597015   0.374194  0.000000  0.406289  1.000000        1.000000\n",
       "3  0.333333  0.268657   0.015822  0.459562  0.000000  0.656715        0.470786\n",
       "4  0.809524  0.000000   1.000000  1.000000  1.000000  0.658435        0.963779"
      ]
     },
     "execution_count": 94,
     "metadata": {},
     "output_type": "execute_result"
    }
   ],
   "source": [
    "#upload validation data\n",
    "df_validate = pd.read_csv(\"./CPI_Clean/NEW_ML.csv\")\n",
    "df_validate\n",
    "\n",
    "#normalize the data\n",
    "normalize = preprocessing.MinMaxScaler()\n",
    "df_v_norm = normalize.fit_transform(df_validate)\n",
    "\n",
    "#convert to dataframe\n",
    "df_v_norm = pd.DataFrame(df_v_norm, columns=df_validate.columns)\n",
    "df_v_norm"
   ]
  },
  {
   "cell_type": "code",
   "execution_count": 95,
   "metadata": {},
   "outputs": [
    {
     "data": {
      "text/plain": [
       "array([ 0.2022002 ,  0.02960342,  0.6685629 , -0.06533042])"
      ]
     },
     "execution_count": 95,
     "metadata": {},
     "output_type": "execute_result"
    }
   ],
   "source": [
    "#set x predictors and y outcome: breakfast\n",
    "x_predictors_1 = df_norm.drop(labels=['breakfast', 'meat', 'dairy', 'fruits'], axis=1)\n",
    "y_outcome_1 = df_norm.breakfast\n",
    "\n",
    "x_validation_1 = df_v_norm.drop(labels=['Breakfast', 'Meat', 'Dairy', 'Fruits'], axis=1)\n",
    "y_validation_1 = df_v_norm.Breakfast\n",
    "\n",
    "#divide training and testing data: breakfast\n",
    "x_train_1, x_test_1, y_train_1, y_test_1 = train_test_split(x_predictors_1, y_outcome_1, test_size=0.20)\n",
    "\n",
    "#input machine learning model for breakfast\n",
    "model_1 = LinearRegression()\n",
    "model_1.fit(x_train_1, y_train_1)\n",
    "\n",
    "results_1 = model_1.predict(x_test_1)\n",
    "results_1"
   ]
  },
  {
   "cell_type": "code",
   "execution_count": 96,
   "metadata": {},
   "outputs": [
    {
     "data": {
      "text/plain": [
       "array([0.29055735, 0.25427107, 0.33886427, 0.25892347])"
      ]
     },
     "execution_count": 96,
     "metadata": {},
     "output_type": "execute_result"
    }
   ],
   "source": [
    "#set x predictors and y outcome: meat\n",
    "x_predictors_2 = df_norm.drop(labels=['breakfast', 'meat', 'dairy', 'fruits'], axis=1)\n",
    "y_outcome_2 = df_norm.meat\n",
    "\n",
    "x_validation_2 = df_v_norm.drop(labels=['Breakfast', 'Meat', 'Dairy', 'Fruits'], axis=1)\n",
    "y_validation_2 = df_v_norm.Meat\n",
    "\n",
    "#divide training and testing data: meat\n",
    "x_train_2, x_test_2, y_train_2, y_test_2 = train_test_split(x_predictors_2, y_outcome_2, test_size=0.20)\n",
    "\n",
    "#input machine learning model for meat\n",
    "model_2 = LinearRegression()\n",
    "model_2.fit(x_train_2, y_train_2)\n",
    "\n",
    "results_2 = model_2.predict(x_test_2)\n",
    "results_2"
   ]
  },
  {
   "cell_type": "code",
   "execution_count": 97,
   "metadata": {},
   "outputs": [
    {
     "data": {
      "text/plain": [
       "array([0.21095993, 0.23019817, 0.87082189, 0.61871116])"
      ]
     },
     "execution_count": 97,
     "metadata": {},
     "output_type": "execute_result"
    }
   ],
   "source": [
    "#set x predictors and y outcome: dairy\n",
    "x_predictors_3 = df_norm.drop(labels=['breakfast', 'meat', 'dairy', 'fruits'], axis=1)\n",
    "y_outcome_3 = df_norm.dairy\n",
    "\n",
    "x_validation_3 = df_v_norm.drop(labels=['Breakfast', 'Meat', 'Dairy', 'Fruits'], axis=1)\n",
    "y_validation_3 = df_v_norm.Dairy\n",
    "\n",
    "#divide training and testing data: dairy\n",
    "x_train_3, x_test_3, y_train_3, y_test_3 = train_test_split(x_predictors_3, y_outcome_3, test_size=0.20)\n",
    "\n",
    "#input machine learning model for dairy\n",
    "model_3 = LinearRegression()\n",
    "model_3.fit(x_train_3, y_train_3)\n",
    "\n",
    "results_3 = model_3.predict(x_test_3)\n",
    "results_3"
   ]
  },
  {
   "cell_type": "code",
   "execution_count": 98,
   "metadata": {},
   "outputs": [
    {
     "data": {
      "text/plain": [
       "array([-0.06694624,  0.80857595,  0.44212884,  0.51706526])"
      ]
     },
     "execution_count": 98,
     "metadata": {},
     "output_type": "execute_result"
    }
   ],
   "source": [
    "#set x predictors and y outcome: fruits\n",
    "x_predictors_4 = df_norm.drop(labels=['breakfast', 'meat', 'dairy', 'fruits'], axis=1)\n",
    "y_outcome_4 = df_norm.fruits\n",
    "\n",
    "x_validation_4 = df_v_norm.drop(labels=['Breakfast', 'Meat', 'Dairy', 'Fruits'], axis=1)\n",
    "y_validation_4 = df_v_norm.Fruits\n",
    "\n",
    "#divide training and testing data: fruits\n",
    "x_train_4, x_test_4, y_train_4, y_test_4 = train_test_split(x_predictors_4, y_outcome_4, test_size=0.20)\n",
    "\n",
    "#input machine learning model for fruits\n",
    "model_4 = LinearRegression()\n",
    "model_4.fit(x_train_4, y_train_4)\n",
    "\n",
    "results_4 = model_4.predict(x_test_4)\n",
    "results_4"
   ]
  },
  {
   "cell_type": "code",
   "execution_count": 99,
   "metadata": {},
   "outputs": [
    {
     "data": {
      "text/html": [
       "<div>\n",
       "<style scoped>\n",
       "    .dataframe tbody tr th:only-of-type {\n",
       "        vertical-align: middle;\n",
       "    }\n",
       "\n",
       "    .dataframe tbody tr th {\n",
       "        vertical-align: top;\n",
       "    }\n",
       "\n",
       "    .dataframe thead th {\n",
       "        text-align: right;\n",
       "    }\n",
       "</style>\n",
       "<table border=\"1\" class=\"dataframe\">\n",
       "  <thead>\n",
       "    <tr style=\"text-align: right;\">\n",
       "      <th></th>\n",
       "      <th>actual result</th>\n",
       "      <th>predicted result</th>\n",
       "    </tr>\n",
       "  </thead>\n",
       "  <tbody>\n",
       "    <tr>\n",
       "      <th>14</th>\n",
       "      <td>0.143365</td>\n",
       "      <td>0.202200</td>\n",
       "    </tr>\n",
       "    <tr>\n",
       "      <th>13</th>\n",
       "      <td>0.419425</td>\n",
       "      <td>0.029603</td>\n",
       "    </tr>\n",
       "    <tr>\n",
       "      <th>4</th>\n",
       "      <td>0.723940</td>\n",
       "      <td>0.668563</td>\n",
       "    </tr>\n",
       "    <tr>\n",
       "      <th>12</th>\n",
       "      <td>0.188509</td>\n",
       "      <td>-0.065330</td>\n",
       "    </tr>\n",
       "  </tbody>\n",
       "</table>\n",
       "</div>"
      ],
      "text/plain": [
       "    actual result  predicted result\n",
       "14       0.143365          0.202200\n",
       "13       0.419425          0.029603\n",
       "4        0.723940          0.668563\n",
       "12       0.188509         -0.065330"
      ]
     },
     "execution_count": 99,
     "metadata": {},
     "output_type": "execute_result"
    }
   ],
   "source": [
    "#make graph from y_test and result of x,y training\n",
    "graph = pd.DataFrame({'actual result': y_test_1, 'predicted result': results_1})\n",
    "graph"
   ]
  },
  {
   "cell_type": "code",
   "execution_count": 100,
   "metadata": {},
   "outputs": [
    {
     "data": {
      "text/html": [
       "<div>\n",
       "<style scoped>\n",
       "    .dataframe tbody tr th:only-of-type {\n",
       "        vertical-align: middle;\n",
       "    }\n",
       "\n",
       "    .dataframe tbody tr th {\n",
       "        vertical-align: top;\n",
       "    }\n",
       "\n",
       "    .dataframe thead th {\n",
       "        text-align: right;\n",
       "    }\n",
       "</style>\n",
       "<table border=\"1\" class=\"dataframe\">\n",
       "  <thead>\n",
       "    <tr style=\"text-align: right;\">\n",
       "      <th></th>\n",
       "      <th>actual result</th>\n",
       "      <th>predicted result</th>\n",
       "    </tr>\n",
       "  </thead>\n",
       "  <tbody>\n",
       "    <tr>\n",
       "      <th>16</th>\n",
       "      <td>0.983913</td>\n",
       "      <td>0.290557</td>\n",
       "    </tr>\n",
       "    <tr>\n",
       "      <th>6</th>\n",
       "      <td>0.000000</td>\n",
       "      <td>0.254271</td>\n",
       "    </tr>\n",
       "    <tr>\n",
       "      <th>1</th>\n",
       "      <td>0.380362</td>\n",
       "      <td>0.338864</td>\n",
       "    </tr>\n",
       "    <tr>\n",
       "      <th>15</th>\n",
       "      <td>1.000000</td>\n",
       "      <td>0.258923</td>\n",
       "    </tr>\n",
       "  </tbody>\n",
       "</table>\n",
       "</div>"
      ],
      "text/plain": [
       "    actual result  predicted result\n",
       "16       0.983913          0.290557\n",
       "6        0.000000          0.254271\n",
       "1        0.380362          0.338864\n",
       "15       1.000000          0.258923"
      ]
     },
     "execution_count": 100,
     "metadata": {},
     "output_type": "execute_result"
    }
   ],
   "source": [
    "#make graph from y_test and result of x,y training\n",
    "graph = pd.DataFrame({'actual result': y_test_2, 'predicted result': results_2})\n",
    "graph"
   ]
  },
  {
   "cell_type": "code",
   "execution_count": 101,
   "metadata": {},
   "outputs": [
    {
     "data": {
      "text/html": [
       "<div>\n",
       "<style scoped>\n",
       "    .dataframe tbody tr th:only-of-type {\n",
       "        vertical-align: middle;\n",
       "    }\n",
       "\n",
       "    .dataframe tbody tr th {\n",
       "        vertical-align: top;\n",
       "    }\n",
       "\n",
       "    .dataframe thead th {\n",
       "        text-align: right;\n",
       "    }\n",
       "</style>\n",
       "<table border=\"1\" class=\"dataframe\">\n",
       "  <thead>\n",
       "    <tr style=\"text-align: right;\">\n",
       "      <th></th>\n",
       "      <th>actual result</th>\n",
       "      <th>predicted result</th>\n",
       "    </tr>\n",
       "  </thead>\n",
       "  <tbody>\n",
       "    <tr>\n",
       "      <th>0</th>\n",
       "      <td>0.717549</td>\n",
       "      <td>0.210960</td>\n",
       "    </tr>\n",
       "    <tr>\n",
       "      <th>3</th>\n",
       "      <td>0.111498</td>\n",
       "      <td>0.230198</td>\n",
       "    </tr>\n",
       "    <tr>\n",
       "      <th>16</th>\n",
       "      <td>0.957791</td>\n",
       "      <td>0.870822</td>\n",
       "    </tr>\n",
       "    <tr>\n",
       "      <th>10</th>\n",
       "      <td>0.971104</td>\n",
       "      <td>0.618711</td>\n",
       "    </tr>\n",
       "  </tbody>\n",
       "</table>\n",
       "</div>"
      ],
      "text/plain": [
       "    actual result  predicted result\n",
       "0        0.717549          0.210960\n",
       "3        0.111498          0.230198\n",
       "16       0.957791          0.870822\n",
       "10       0.971104          0.618711"
      ]
     },
     "execution_count": 101,
     "metadata": {},
     "output_type": "execute_result"
    }
   ],
   "source": [
    "#make graph from y_test and result of x,y training\n",
    "graph = pd.DataFrame({'actual result': y_test_3, 'predicted result': results_3})\n",
    "graph"
   ]
  },
  {
   "cell_type": "code",
   "execution_count": 102,
   "metadata": {},
   "outputs": [
    {
     "data": {
      "text/html": [
       "<div>\n",
       "<style scoped>\n",
       "    .dataframe tbody tr th:only-of-type {\n",
       "        vertical-align: middle;\n",
       "    }\n",
       "\n",
       "    .dataframe tbody tr th {\n",
       "        vertical-align: top;\n",
       "    }\n",
       "\n",
       "    .dataframe thead th {\n",
       "        text-align: right;\n",
       "    }\n",
       "</style>\n",
       "<table border=\"1\" class=\"dataframe\">\n",
       "  <thead>\n",
       "    <tr style=\"text-align: right;\">\n",
       "      <th></th>\n",
       "      <th>actual result</th>\n",
       "      <th>predicted result</th>\n",
       "    </tr>\n",
       "  </thead>\n",
       "  <tbody>\n",
       "    <tr>\n",
       "      <th>2</th>\n",
       "      <td>0.461115</td>\n",
       "      <td>-0.066946</td>\n",
       "    </tr>\n",
       "    <tr>\n",
       "      <th>13</th>\n",
       "      <td>0.824757</td>\n",
       "      <td>0.808576</td>\n",
       "    </tr>\n",
       "    <tr>\n",
       "      <th>10</th>\n",
       "      <td>0.623338</td>\n",
       "      <td>0.442129</td>\n",
       "    </tr>\n",
       "    <tr>\n",
       "      <th>11</th>\n",
       "      <td>1.000000</td>\n",
       "      <td>0.517065</td>\n",
       "    </tr>\n",
       "  </tbody>\n",
       "</table>\n",
       "</div>"
      ],
      "text/plain": [
       "    actual result  predicted result\n",
       "2        0.461115         -0.066946\n",
       "13       0.824757          0.808576\n",
       "10       0.623338          0.442129\n",
       "11       1.000000          0.517065"
      ]
     },
     "execution_count": 102,
     "metadata": {},
     "output_type": "execute_result"
    }
   ],
   "source": [
    "#make graph from y_test and result of x,y training\n",
    "graph = pd.DataFrame({'actual result': y_test_4, 'predicted result': results_4})\n",
    "graph"
   ]
  },
  {
   "cell_type": "markdown",
   "metadata": {},
   "source": [
    "From the train and test dataframe, we have the model. From there we can see how close the predicted result to the actual result."
   ]
  },
  {
   "cell_type": "code",
   "execution_count": 103,
   "metadata": {},
   "outputs": [
    {
     "data": {
      "image/png": "[encoded data removed]",
      "text/plain": [
       "<Figure size 432x288 with 1 Axes>"
      ]
     },
     "metadata": {
      "needs_background": "light"
     },
     "output_type": "display_data"
    }
   ],
   "source": [
    "graph.plot(kind='bar')\n",
    "plt.grid(which='major', linestyle='-', linewidth='0.5', color='green')\n",
    "plt.grid(which='minor', linestyle=':', linewidth='0.5', color='black')\n",
    "plt.show()"
   ]
  },
  {
   "cell_type": "markdown",
   "metadata": {},
   "source": [
    "From here we can see that the predicted results is quite good."
   ]
  },
  {
   "cell_type": "code",
   "execution_count": 104,
   "metadata": {},
   "outputs": [
    {
     "name": "stdout",
     "output_type": "stream",
     "text": [
      "Mean Absolute Error: 0.1894682966160045\n",
      "Mean Squared Error: 0.05573093923201218\n",
      "Root Mean Squared Error: 0.2360740121911181\n"
     ]
    }
   ],
   "source": [
    "print('Mean Absolute Error:', metrics.mean_absolute_error(y_test_1, results_1))  \n",
    "print('Mean Squared Error:', metrics.mean_squared_error(y_test_1, results_1))  \n",
    "print('Root Mean Squared Error:', np.sqrt(metrics.mean_squared_error(y_test_1, results_1)))"
   ]
  },
  {
   "cell_type": "markdown",
   "metadata": {},
   "source": [
    "Our root mean square error is 0.115 which is lower than the mean value : 0.448073. Since mean square is pretty low, it indicates that we have a pretty good model to predict breakfast."
   ]
  },
  {
   "cell_type": "code",
   "execution_count": 105,
   "metadata": {},
   "outputs": [
    {
     "name": "stdout",
     "output_type": "stream",
     "text": [
      "Mean Absolute Error: 0.43255037123172596\n",
      "Mean Squared Error: 0.2740781733326929\n",
      "Root Mean Squared Error: 0.5235247590445871\n"
     ]
    }
   ],
   "source": [
    "print('Mean Absolute Error:', metrics.mean_absolute_error(y_test_2, results_2))  \n",
    "print('Mean Squared Error:', metrics.mean_squared_error(y_test_2, results_2))  \n",
    "print('Root Mean Squared Error:', np.sqrt(metrics.mean_squared_error(y_test_2, results_2)))"
   ]
  },
  {
   "cell_type": "markdown",
   "metadata": {},
   "source": [
    "Our root mean square error is 0.373 which is higher than the mean value : 0.395874. Since mean square is a little bit higher, it indicates that we do not have a good model to predict meat."
   ]
  },
  {
   "cell_type": "code",
   "execution_count": 106,
   "metadata": {},
   "outputs": [
    {
     "name": "stdout",
     "output_type": "stream",
     "text": [
      "Mean Absolute Error: 0.2661630599015309\n",
      "Mean Squared Error: 0.10061677605543691\n",
      "Root Mean Squared Error: 0.31720147549378913\n"
     ]
    }
   ],
   "source": [
    "print('Mean Absolute Error:', metrics.mean_absolute_error(y_test_3, results_3))  \n",
    "print('Mean Squared Error:', metrics.mean_squared_error(y_test_3, results_3))  \n",
    "print('Root Mean Squared Error:', np.sqrt(metrics.mean_squared_error(y_test_3, results_3)))"
   ]
  },
  {
   "cell_type": "markdown",
   "metadata": {},
   "source": [
    "Our root mean square error is  0.391  which is lower than the mean value : 0.623716. Since mean square is pretty low, it indicates that we have a pretty good model to predict dairy."
   ]
  },
  {
   "cell_type": "code",
   "execution_count": 107,
   "metadata": {},
   "outputs": [
    {
     "name": "stdout",
     "output_type": "stream",
     "text": [
      "Mean Absolute Error: 0.3020965212195005\n",
      "Mean Squared Error: 0.136293203240084\n",
      "Root Mean Squared Error: 0.3691790937202214\n"
     ]
    }
   ],
   "source": [
    "print('Mean Absolute Error:', metrics.mean_absolute_error(y_test_4, results_4))  \n",
    "print('Mean Squared Error:', metrics.mean_squared_error(y_test_4, results_4))  \n",
    "print('Root Mean Squared Error:', np.sqrt(metrics.mean_squared_error(y_test_4, results_4)))"
   ]
  },
  {
   "cell_type": "markdown",
   "metadata": {},
   "source": [
    "Our root mean square error is  0.171  which is lower than the mean value : 0.462658. Since mean square is pretty low, it indicates that we have a pretty good model to predict fruits."
   ]
  },
  {
   "cell_type": "markdown",
   "metadata": {},
   "source": [
    "# Ethics & Privacy"
   ]
  },
  {
   "cell_type": "markdown",
   "metadata": {},
   "source": [
    "The data we are planning on using will be provided to us by the US Bureau of Labor Statistics (https://www.bls.gov/). It is a government website provided for free to the public to use so we have permission to use this data in our final project. The data is stripped of any private information and considering the ethicality of the data, there should be no problem because our data doesn’t even reveal any private information on any individual since it relates to grocery pricing and average consumer price indexes so all safe harbor requirements were met in our data. \n",
    "\n",
    "There is potential for human bias in regards to measuring the living costs of certain areas that we selected. We focused strongly on bigger and more well known cities in California which could be too generalized. These cities provide a good view, but not necessarily representative of the entire population of California. We have to specify which areas we are more heavily focusing our representation on in our data because we could be possibly excluding areas of lower cost.\n",
    "\n",
    "From our analysis the results can lead to biases towards certain areas of higher consumer prices indices, such that people or house buyers could look more favorable towards living in a location of higher cost of living. This can harm locations that become less favorable and lower the demand for housing in these areas and in effect reducing the house values in the area. Residents in California can benefit from this analysis because the CPI measures inflation and monitoring inflation is important because it affects the economy. \n",
    "\n",
    "Despite these issues, we have created an ethical project that attempts to answer if there is a correlation between the cost of living in California’s major cities with the change in grocery prices during COVID-19. \n"
   ]
  },
  {
   "cell_type": "markdown",
   "metadata": {},
   "source": [
    "# Conclusion & Discussion"
   ]
  },
  {
   "cell_type": "markdown",
   "metadata": {},
   "source": [
    "Although there are many factors currently impacted in the current global situation with COVID-19 we felt that CPI, Cost of living, and Export-Import were some of the stronger indicators of changes in grocery prices. Because of this we used these factors to determine a relationship between the two groups and then try to predict into the future.\n",
    "\n",
    "Based on the analysis that we carried on CPI data for multiple cities over a time spanning from September 2019 to April 2020, it provides sufficient evidence to reject the null hypothesis and accept the alternative hypothesis. This was done using linear regression to compare different grocery CPI values to cost of living, export-import, and CPI to determing the relation. Accepting the alternative hypothesis means that as cost of living, export-import, and CPI increased during COVID-19, it leads to higher grocery prices in California during COVID-19. \n",
    "\n",
    "Moreover, using CPI data from the time period 2009-2010 of the earlier H1N1 outbreak in the United States, we established a model to predict the grocery prices during the COVID-19 outbreak. With this model, we can help California residents to get an approximation for the grocery prices in the upcoming months during covid-19.\n",
    "\n",
    "With the information regarding COVID-19 changing almost daily it definitely proved difficult to find complete data and try to predict into the future. Unfortunately, we failed to check the prediction for Riverside due to there are some missing values in CPI for some months, which is crutial input for the model. Eventhough San Francisco has the same result in the end, we created the San Francisco prediction with a different model due to lack of the data for the exact period of January and March 2020 which were present for the other cities. We tackled this problem by taking other data from different months that still similarlly represent the same data like the other cities, this being using San Fransisco's data for Febuary and April 2020 for January and March. Additionally if we had more data for intermediate months in our bimonthly data we could have strengthened our analysis and model.\n",
    "\n",
    "Eventhough we had some limitation of doing this project, overall we successfully carried on the analysis and built a model that can be used to help California citizen in these upcoming months. In the end, we concluded that grocery prices increased as cost of living, export-import, and CPI increased during COVID-19."
   ]
  },
  {
   "cell_type": "markdown",
   "metadata": {},
   "source": [
    "# Team Contributions"
   ]
  },
  {
   "cell_type": "markdown",
   "metadata": {},
   "source": [
    "Dorine: Wrote the Overview, Hypothesis, EDA, Conclusion & Discussion; Analyzed the data using linear regression model and machine learning; Validate the prediction\n",
    "\n",
    "Evan: Wrote Background, Research Question, and Conclusion & Discussion; Proofreader; Organized Data Collection and Cleaning; Plotted line graph for CPI (Cost of Living) for each city in 2019-2020;  \n",
    "\n",
    "Jay: Wrote Dataset Section; Drew CPI Sectioned Histogram chart for groceries in each city; Cleaned LA CPI data.\n",
    "\n",
    "Ramin: Wrote the ethics & privacy section; Contributed in data collection and data cleaning; Worked on the City CPI line graph.  \n",
    "\n",
    "Wenqiang: Wrote Dataset Section; Cleaned Data for US during H1N1 (2009-2010), assisted group members for preparing dataset, finished graph plotting, Established Research Question"
   ]
  }
 ],
 "metadata": {
  "kernelspec": {
   "display_name": "Python 3",
   "language": "python",
   "name": "python3"
  },
  "language_info": {
   "codemirror_mode": {
    "name": "ipython",
    "version": 3
   },
   "file_extension": ".py",
   "mimetype": "text/x-python",
   "name": "python",
   "nbconvert_exporter": "python",
   "pygments_lexer": "ipython3",
   "version": "3.7.0"
  }
 },
 "nbformat": 4,
 "nbformat_minor": 2
}
